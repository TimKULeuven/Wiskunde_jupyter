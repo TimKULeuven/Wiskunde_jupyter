{
 "cells": [
  {
   "cell_type": "code",
   "execution_count": 90,
   "metadata": {},
   "outputs": [],
   "source": [
    "# Voer dit blok code uit door met de cursor in het blok te klikken, en vervolgens SHIFT+ENTER in te drukken.\n",
    "\n",
    "import numpy as np\n",
    "from matplotlib import pyplot as plt\n",
    "from scipy.integrate import odeint\n",
    "\n",
    "from IPython.display import HTML\n",
    "from ipywidgets.widgets import interact, IntSlider, FloatSlider, Layout\n",
    "\n",
    "%matplotlib inline\n",
    "\n",
    "style = {'description_width': '150px'}\n",
    "slider_layout = Layout(width='50%')"
   ]
  },
  {
   "cell_type": "markdown",
   "metadata": {},
   "source": [
    "# Hoofdstuk 1- Farmacokinetiek"
   ]
  },
  {
   "cell_type": "markdown",
   "metadata": {},
   "source": [
    "## 1.1- IV Bolus"
   ]
  },
  {
   "cell_type": "markdown",
   "metadata": {},
   "source": [
    "### Introductie"
   ]
  },
  {
   "cell_type": "markdown",
   "metadata": {},
   "source": [
    "Wanneer men een geneesmiddel toedient, is het belangrijk te weten hoe de concentratie van dit geneesmiddel in het lichaam zal evolueren doorheen de tijd, zodat de concentratie voldoende lang hoog kan zijn, om een therapeutisch effect te kunnen veroorzaken, zonder de minimale toxische concentratie te overschrijden. De farmacokinetiek beantwoordt deze vraagstellingen, door gebruik te maken van experimentele data en wiskundige modellen. Hierbij probeert men vaak de plasmaconcentratie van het geneesmiddel, $c_p\\,\\left[\\text{mol}\\,\\text{l}^{-1}\\right]$ of $\\left[\\text{g}\\,\\text{l}^{-1}\\right]$, doorheen de tijd te voorspellen, in de onderstelling dat deze een goede afspiegeling is voor de concentratie van het geneesmiddel in andere lichaamsvloeistoffen en weefsels waar men minder gemakkelijk metingen kan doen."
   ]
  },
  {
   "cell_type": "markdown",
   "metadata": {},
   "source": [
    "<img src=\"figs/Meropenem.png\" width=300 />"
   ]
  },
  {
   "cell_type": "markdown",
   "metadata": {},
   "source": [
    "Het breedspectrum antibioticum meropenem kan via IV bolus-injectie toegediend worden om een variëteit aan bacteriële infecties, zoals meningitis of pneumonie, te behandelen. Net als met andere $\\beta$-lactamantibiotica, is het behangrijk dat meropenem voldoende lang de minimale inhiberende concentratie (De minimale concentratie waarmee een bepaalde stof aanwezig moet zijn opdat ze de groei van bepaalde bacteriën zou stoppen) overschrijdt, terwijl hoge doseringen anderzijds de kans op beroertes vergroten. Om een correcte dosis te bepalen, kan men het concentratieverloop van meropenem in de patiënt voorspellen door middel van volgend eenvoudig model, gegeven door een [exponentiële functie](./T1-Functies/T1-Functies.ipynb):\n",
    "\n",
    "$$\n",
    "\t\tc_p = \\dfrac{D}{V_d} e^{-k t},\n",
    "$$\n",
    "\t\t\n",
    "met $c_p\\,\\left[\\text{mg}\\,\\text{l}^{-1}\\right]$ de plasmaconcentratie, $D\\,\\left[\\text{mg}\\right]$ de dosis, $V_d\\,\\left[\\text{l}\\right]$ het distributievolume (een fictief volume, dat een maat is voor de verdeling van het geneesmiddel over de weefsels),  $k\\,\\left[\\text{h}^{-1}\\right]$ de eliminatieconstante (een maat voor de snelheid waarmee het geneesmiddel in het lichaam wordt afgebroken), en $t\\,\\left[\\text{h}\\right]$ de tijd.\n",
    "\t\t\n",
    "Op basis van experimentele data heeft men vastgesteld dat voor meropenem $V_d = 21$ en $k=0.7$ geldt. Laten we even onderstellen dat een dosis $D = 500$ wordt toegediend.\n",
    "        "
   ]
  },
  {
   "cell_type": "code",
   "execution_count": 54,
   "metadata": {},
   "outputs": [
    {
     "name": "stdout",
     "output_type": "stream",
     "text": [
      "11.82345961408118\n"
     ]
    }
   ],
   "source": [
    "# Hier volgt een blokje code, geschreven in de programmeertaal Python, dat ons toelaat de door dit model te evalueren\n",
    "# voor gegeven waarden D, Vd, k en t.\n",
    "\n",
    "# Wanneer een regel code voorafgegaan wordt door een hekje, wordt deze code niet door de computer uitgevoerd. Hierdoor\n",
    "# krijgen we de kans commentaar bij de code toe te voegen, zonder dat deze de computer beïnvloedt.\n",
    "\n",
    "# Laten we bovenstaand model omzetten naar Python-code. We willen een Python-functie, die voor een gegeven t de\n",
    "# corresponderende voorspelling cp geeft.\n",
    "\n",
    "# Eerst laten we de computer weten welke waarden voor D, Vd en k gebruikt mogen worden:\n",
    "\n",
    "D=500\n",
    "Vd=21\n",
    "k=0.7\n",
    "\n",
    "# Nu definiëren we een Python-functie, die een waarde voor t ontvangt, \n",
    "\n",
    "def cp(t):\n",
    "    \n",
    "    # en eisen we dat deze functie, via de bewerking D/Vd*e^(-kt) dewaarde voor cp berekent,\n",
    "    cp=D/Vd*np.exp(-k*t)\n",
    "    \n",
    "    #en de resulterende waarde voor cp terug geeft (return)\n",
    "    return cp\n",
    "\n",
    "\n",
    "\n",
    "# Laten we de functie eens testen door ze te evalueren bij t=1, en vervolgens uit te printen naar het scherm:\n",
    "\n",
    "print(cp(1))\n",
    "\n",
    "# Voer dit blok code uit door met de cursor in het blok te klikken, en vervolgens SHIFT+ENTER in te drukken.\n"
   ]
  },
  {
   "cell_type": "markdown",
   "metadata": {},
   "source": [
    "Je zou nu met de rekenmachine kunnen nagaan dat inderdaad\n",
    "\n",
    "$$\n",
    "\\dfrac{500}{21} e^{-0.7 \\times 1} = 11.823.\n",
    "$$\n",
    "\n",
    "We kunnen de functie natuurlijk ook bij $t=2$ evalueren. Welk resultaat bekom je bij $t=2.4$?"
   ]
  },
  {
   "cell_type": "code",
   "execution_count": 55,
   "metadata": {},
   "outputs": [
    {
     "name": "stdout",
     "output_type": "stream",
     "text": [
      "5.871356284323964\n"
     ]
    }
   ],
   "source": [
    "print(cp(2))"
   ]
  },
  {
   "cell_type": "code",
   "execution_count": 56,
   "metadata": {},
   "outputs": [
    {
     "name": "stdout",
     "output_type": "stream",
     "text": [
      "[0. 1. 2. 3. 4. 5.]\n"
     ]
    }
   ],
   "source": [
    "# Het zou nu interessant zijn de functie op een hele hoop tijdstippen te evalueren, en de resulterende waarden voor cp tegen de\n",
    "# tijd uit te zetten, om een figuur voor cp in functie van de tijd te bekomen.\n",
    "\n",
    "# De ingebouwde Python-functie np.linspace(start,eind,aantal) laat ons toe een vector met een \"aantal\" waarden te maken\n",
    "# die begint bij \"start\", en eindigt bij \"eind\".\n",
    "\n",
    "# Laten we met behulp van deze ingebouwde functie 6 tijdstippen verzamelen, startend bij 0, en eindigend bij 5. Deze vector\n",
    "# slaan we dan op in t.\n",
    "\n",
    "tijdstippen= np.linspace(0,5,6)\n",
    "\n",
    "print(tijdstippen)"
   ]
  },
  {
   "cell_type": "code",
   "execution_count": 57,
   "metadata": {},
   "outputs": [
    {
     "name": "stdout",
     "output_type": "stream",
     "text": [
      "[23.80952381 11.82345961  5.87135628  2.91562924  1.44785863  0.71898532]\n"
     ]
    }
   ],
   "source": [
    "# We kunnen nu onze Python-functie cp(t) eenvoudigweg op deze tijdstippen toepassen met behulp van\n",
    "\n",
    "cpwaarden = cp(tijdstippen)\n",
    "\n",
    "print(cpwaarden)\n",
    "\n",
    "# Herken je de waarden voor t=1 en t=2 uit voorgaande opgaves?"
   ]
  },
  {
   "cell_type": "code",
   "execution_count": 58,
   "metadata": {},
   "outputs": [
    {
     "data": {
      "image/png": "[encoded data removed]",
      "text/plain": [
       "<Figure size 432x288 with 1 Axes>"
      ]
     },
     "metadata": {
      "needs_background": "light"
     },
     "output_type": "display_data"
    }
   ],
   "source": [
    "# Met behulp van de ingebouwde Python-functie plt.plot(x,y) kunnen we een vector met waarden \"x\" uitzetten tegen\n",
    "# een vector met waarden \"y\". Laten we deze functie gebruiken om de \"tijdstippen\" tegen de \"cpwaarden\" uit te zetten.\n",
    "\n",
    "plt.plot(tijdstippen,cpwaarden)\n",
    "\n",
    "# Vervolgens tonen (Show) we de resulterende figuur, zodat hij naar het scherm wordt geprint.\n",
    "\n",
    "plt.show()\n",
    "\n",
    "# Stel vast dat plt.plot(x,y) de ruimte tussen de punten automatisch met een blauwe lijn verbindt."
   ]
  },
  {
   "cell_type": "code",
   "execution_count": 59,
   "metadata": {},
   "outputs": [
    {
     "data": {
      "image/png": "[encoded data removed]",
      "text/plain": [
       "<Figure size 432x288 with 1 Axes>"
      ]
     },
     "metadata": {
      "needs_background": "light"
     },
     "output_type": "display_data"
    }
   ],
   "source": [
    "# Onze figuur ziet er nog wat hoekig uit. Laten we dit verhelpen door onze Python-functie cp(t) op meer tijdstippen te\n",
    "# evalueren. We nemen nu 100 waarden in het interval [0,5],\n",
    "\n",
    "\n",
    "tijdstippen= np.linspace(0,5,100)\n",
    "\n",
    "# en laten er onze functie op los.\n",
    "\n",
    "cpwaarden = cp(tijdstippen)\n",
    "\n",
    "# We zetten de resulterende waarden tegen elkaar uit,\n",
    "\n",
    "plt.plot(tijdstippen,cpwaarden)\n",
    "\n",
    "# voegen een x- en y-label toe\n",
    "\n",
    "plt.xlabel('t [h]')\n",
    "plt.ylabel('$c_p$ [mg/l]')\n",
    "\n",
    "# en printen de figuur naar het scherm. \n",
    "\n",
    "plt.show()"
   ]
  },
  {
   "cell_type": "markdown",
   "metadata": {},
   "source": [
    "* Hoe krijgen we een figuur die tot tijdstip $t=10$ loopt?"
   ]
  },
  {
   "cell_type": "code",
   "execution_count": 60,
   "metadata": {},
   "outputs": [
    {
     "data": {
      "image/png": "[encoded data removed]",
      "text/plain": [
       "<Figure size 432x288 with 1 Axes>"
      ]
     },
     "metadata": {
      "needs_background": "light"
     },
     "output_type": "display_data"
    }
   ],
   "source": [
    "# We nemen nu 100 waarden in het interval [0,10],\n",
    "\n",
    "\n",
    "tijdstippen= np.linspace(0,10,100)\n",
    "\n",
    "# en laten er onze functie op los.\n",
    "\n",
    "cpwaarden = cp(tijdstippen)\n",
    "\n",
    "# We zetten de resulterende waarden tegen elkaar uit,\n",
    "\n",
    "plt.plot(tijdstippen,cpwaarden)\n",
    "\n",
    "# voegen een x- en y-label toe\n",
    "\n",
    "plt.xlabel('t [h]')\n",
    "plt.ylabel('$c_p$ [mg/l]')\n",
    "\n",
    "# en printen de figuur naar het scherm. \n",
    "\n",
    "plt.show()"
   ]
  },
  {
   "cell_type": "markdown",
   "metadata": {},
   "source": [
    "* Hoe krijgen we een figuur bij $D=700$?"
   ]
  },
  {
   "cell_type": "code",
   "execution_count": 72,
   "metadata": {},
   "outputs": [
    {
     "data": {
      "image/png": "[encoded data removed]",
      "text/plain": [
       "<Figure size 432x288 with 1 Axes>"
      ]
     },
     "metadata": {
      "needs_background": "light"
     },
     "output_type": "display_data"
    }
   ],
   "source": [
    "# Een tijd geleden hebben we D=500 gedefinieerd in de code. Deze waarde voor D werd vervolgens in onze Python-functie\n",
    "# cp(t) gebruikt. Schrijven we nu\n",
    "\n",
    "D=700\n",
    "\n",
    "# dan wordt overal in dit document de waarde voor D vervangen door 700, ook in de eerder gedefinieerde Python-functie cp(t),\n",
    "# waardoor\n",
    "\n",
    "cpwaarden = cp(tijdstippen)\n",
    "\n",
    "# dus waarden levert bij D=700.\n",
    "\n",
    "plt.plot(tijdstippen,cpwaarden)\n",
    "plt.xlabel('t [h]')\n",
    "plt.ylabel('$c_p$ [mg/l]')\n",
    "plt.show()"
   ]
  },
  {
   "cell_type": "markdown",
   "metadata": {},
   "source": [
    "### Verkennend rekenwerk"
   ]
  },
  {
   "cell_type": "markdown",
   "metadata": {},
   "source": [
    "Wanneer we een IV bolus toedienen met een ander geneesmiddel dan meropenem, kunnen we vaak ook het model\n",
    "\n",
    "$$\n",
    "  c_p= \\dfrac{D}{V_d} e^{-k t},\n",
    "$$\n",
    "\n",
    "gebruiken om de plasmaconcentratie in kaart te brengen. Vaak dienen we dan wel andere waarden voor $k$ en $V_d$ te hanteren. Waar bijvoorbeeld uit experimentele data bleek dat voor meropenem $k=0.7$ en $V_d=21$ geldt, vindt men voor het breedspectrum antibioticum doxycycline $k=0.03$ en $V_d=40$."
   ]
  },
  {
   "cell_type": "markdown",
   "metadata": {},
   "source": [
    "We maken nu een interactieve afbeelding, waar we met behulp van sliders parameterwaarden kunnen aanpassen. Dit helpt ons om de invloed van de parameterwaarden op de modelvoorspelling te bestuderen, om na te gaan of een aanpassing van de parameterwaarden inderdaad strookt met wat we in de realiteit verwachten. Specifiek in deze context willen we begrijpen hoe de geneesmiddel-specifieke waarden voor $k$ en $V_d$ het plasmaconcentratieverloop van het geneesmiddel beïnvloedt."
   ]
  },
  {
   "cell_type": "code",
   "execution_count": 80,
   "metadata": {},
   "outputs": [
    {
     "data": {
      "application/vnd.jupyter.widget-view+json": {
       "model_id": "c9d17fc70f55471083c83fece212cd6a",
       "version_major": 2,
       "version_minor": 0
      },
      "text/plain": [
       "interactive(children=(FloatSlider(value=500.0, description='$D$', layout=Layout(width='50%'), max=700.0, min=2…"
      ]
     },
     "metadata": {},
     "output_type": "display_data"
    }
   ],
   "source": [
    "# We maken een interactieve afbeelding. Het is niet erg belangrijk om onderstaande code volledig te begrijpen.\n",
    "\n",
    "\n",
    "# We definiëren een nieuwe Python-functie, die bepaalde waarden voor D, Vd en k binnenkrijgt,\n",
    "\n",
    "def animatie(D,Vd,k):\n",
    "    \n",
    "    \n",
    "    # en vervolgens de functie cp(t) herdefinieert bij deze waarden voor D, Vd en k.\n",
    "    def cp(t):\n",
    "        return D/Vd*np.exp(-k*t)\n",
    "  \n",
    "    # Om daarna cp(t) te evalueren bij de eerder gekozen tijdstippen, en het resultaat in een figuur te gieten.\n",
    "    \n",
    "    plt.plot(tijdstippen,cp(tijdstippen))\n",
    "    \n",
    "    # We laten bovendien ook weten dat de y-as steeds van 0 to 30 moet lopen. Omdat het model voor verschillende \n",
    "    # D, Vd en k steeds waarden van een andere grootte zal voorspellen, en de ingebouwde Python-functie plt.plot\n",
    "    # er automatisch voor zorgt dat de y-as precies loopt tot de grootste te plotten waarde, is het hier handig om\n",
    "    # te stellen dat de y-as steeds tussen vaste waarden moet lopen, opdat de y-as niet steeds van schaal zou veranderen\n",
    "    # wanneer we andere waarden voor D, Vd en k kiezen.\n",
    "    # De ingebouwde Python-functie plt.ylim(a,b) laat ons toe de y-as te limiteren van \"a\" tot \"b\".\n",
    "    plt.ylim(0,30)\n",
    "    \n",
    "    plt.xlabel('t [h]')\n",
    "    plt.ylabel('$c_p$ [mg/l]')\n",
    "    plt.show()\n",
    "    \n",
    "    \n",
    "# We gebruiken nu de ingebouwde Python-functie interact, die ons toelaat te interageren met onze functie \"animatie\", door\n",
    "# door sliders aan te maken.\n",
    "    \n",
    "interact(animatie,D=FloatSlider(min=200, max=700, step=100, value=500, description='$D$', layout=slider_layout)\n",
    "        , Vd=FloatSlider(min=10, max=40,step=5, value=20, description='$V_d$', layout=slider_layout)\n",
    "        , k=FloatSlider(min=0.1, max=1.5,step=0.1, value=0.5, description='$k$', layout=slider_layout));"
   ]
  },
  {
   "cell_type": "markdown",
   "metadata": {},
   "source": [
    "* Maak gebruik van bovenstaande interactieve figuur om de invloed van $D$, $V_d$ en $k$ op het verloop van $c_p= \\dfrac{D}{V_d} e^{-k t}$ na te gaan. Welke invloed heeft een aanpassing van de dosis, $D\\,\\left[\\text{mg}\\right]$, het distributievolume, $V_d\\,\\left[\\text{l}\\right]$, of de eliminatieconstante, $k\\,\\left[\\text{h}^{-1}\\right]$, op de modelvoorspelling voor de plasmaconcentratie van een geneesmiddel, $c_p\\,\\left[\\text{mg}\\,\\text{l}^{-1}\\right]$? Strookt dit met je intuïtie, met wat je in de realiteit verwacht?\n",
    "\n",
    "* Wordt een dosis doxycycline sneller of trager uit het lichaam gezet dan eenzelfde dosis meropenem?\n",
    "\n",
    "* Welke parameters beïnvloeden de plasmaconcentratie op tijdstip nul, $c_p(0)$? Strookt dit met je intuïtie? Tracht aan de hand van het model, $c_p= \\dfrac{D}{V_d} e^{-k t}$, een uitdrukking te vinden voor $c_p(0)$."
   ]
  },
  {
   "cell_type": "markdown",
   "metadata": {},
   "source": [
    "Om een uitdrukking voor de waarde van $c_p(0)$ te vinden, vullen we in het model $t=0$ in. We krijgen:\n",
    "\n",
    "$$\n",
    "c_p(0)= \\dfrac{D}{V_d} e^{-k \\times 0} = \\dfrac{D}{V_d} e^{ 0}  = \\dfrac{D}{V_d} \\times 1 = \\dfrac{D}{V_d},\n",
    "$$\n",
    "\n",
    "en stellen inderdaad vast dat $k$ geen invloed heeft op $c_p(0)$."
   ]
  },
  {
   "cell_type": "markdown",
   "metadata": {},
   "source": [
    "### De plasmaconcentratie na zeer lange tijd"
   ]
  },
  {
   "cell_type": "markdown",
   "metadata": {},
   "source": [
    "We wensen na te gaan hoe de plasmaconcentratie aan meropenem er, zeer lang nadat een dosis $D=500$ van het geneesmiddel werd toegediend, uit ziet. Laten we daarom een nieuwe figuur maken, waarbij de de parameters $k=0.7$ en $V_d=21$ die voor meropenem gelden, invullen, en laten we daarop de plasmaconcentratie tot 100 uur na toediening uitzetten."
   ]
  },
  {
   "cell_type": "code",
   "execution_count": 81,
   "metadata": {},
   "outputs": [
    {
     "data": {
      "image/png": "[encoded data removed]",
      "text/plain": [
       "<Figure size 432x288 with 1 Axes>"
      ]
     },
     "metadata": {
      "needs_background": "light"
     },
     "output_type": "display_data"
    }
   ],
   "source": [
    "# We geven de parameterwaarden in\n",
    "\n",
    "D=500\n",
    "Vd=21\n",
    "k=0.7\n",
    "\n",
    "# We nemen 200 waarden in het tijdsinterval [0,100]\n",
    "\n",
    "tijdstippen= np.linspace(0,100,200)\n",
    "\n",
    "# We evalueren onze Python-functie cp(t) bij deze tijdstippen, en zetten het resultaat in een figuur.\n",
    "\n",
    "plt.plot(tijdstippen,cp(tijdstippen))\n",
    "plt.xlabel('t [h]')\n",
    "plt.ylabel('$c_p$ [mg/l]')\n",
    "plt.show()"
   ]
  },
  {
   "cell_type": "markdown",
   "metadata": {},
   "source": [
    "Het lijkt er op dat de plasmaconcentratie steeds dichter naar nul neigt. Laten we een beter kijkje nemen door dezelfde modelvoorspellingen te plotten, maar ondertussen de de y-as tussen 0 en 1 te beperken."
   ]
  },
  {
   "cell_type": "code",
   "execution_count": 89,
   "metadata": {},
   "outputs": [
    {
     "data": {
      "image/png": "[encoded data removed]",
      "text/plain": [
       "<Figure size 432x288 with 1 Axes>"
      ]
     },
     "metadata": {
      "needs_background": "light"
     },
     "output_type": "display_data"
    }
   ],
   "source": [
    "plt.plot(tijdstippen,cp(tijdstippen))\n",
    "\n",
    "# De ingebouwde Python-functie plt.ylim(a,b) laat ons toe de y-as te limiteren tussen \"a\" en \"b\".\n",
    "plt.ylim(0,1)\n",
    "plt.xlabel('t [h]')\n",
    "plt.ylabel('$c_p$ [mg/l]')\n",
    "plt.show()"
   ]
  },
  {
   "cell_type": "markdown",
   "metadata": {},
   "source": [
    "Ons vermoeden wordt bevestigd. Niets houdt je bovendien tegen om bovenstaande figuur aan te passen, zodat de y-as bijvoorbeeld tussen 0 en 0.01 loopt.\n",
    "\n",
    "* Strookt ons vermoeden met je verwachting?\n",
    "\n",
    "* Kan je ons vermoeden hard maken aan de hand van de uitdrukking van het model, $c_p= \\dfrac{D}{V_d} e^{-k t}$?"
   ]
  },
  {
   "cell_type": "markdown",
   "metadata": {},
   "source": [
    "Indien we steeds grotere waarden voor $t$ invullen, wordt $e^{kt}$ met $k>0$ steeds groter, en $e^{-kt} = \\frac{1}{e^{kt}}$ dus steeds kleiner (Zie [exponentiële functies](./T1-Functies/T1-Functies.ipynb)). Hetzelfde lot moet dus ook $c_p= \\dfrac{D}{V_d} e^{-k t}$, met $D, V_d >0$, beschoren zijn voor steeds groter wordende $t$. Wiskundig maken we dit concreet door de  [limiet](./T2-Limieten/T2-Limieten.ipynb) te berekenen van $c_p= \\dfrac{D}{V_d} e^{-k t}$, voor $t\\rightarrow \\infty$. We schrijven dan\n",
    "\n",
    "$$\n",
    "\\begin{align}\n",
    "\\lim_{t\\rightarrow \\infty} c_p(t) &=\\lim_{t\\rightarrow \\infty} \\dfrac{D}{V_d} e^{-k t},\\\\\n",
    "&=\\dfrac{D}{V_d} \\times 0,\\\\\n",
    "&=0,\n",
    "\\end{align}\n",
    "$$\n",
    "\n",
    "wat ons vermoeden wiskundig bevestigt. Onafhankelijk van de waarden voor $k$ en $V_d$, onafhankelijk van $D$, gaat de plasmaconcentratie van geneesmiddelen die zich volgens het model $c_p= \\dfrac{D}{V_d} e^{-k t}$ gedragen, na lange tijd steeds naar nul."
   ]
  },
  {
   "cell_type": "markdown",
   "metadata": {},
   "source": [
    "### De halfwaardetijd"
   ]
  },
  {
   "cell_type": "markdown",
   "metadata": {},
   "source": [
    "De halfwaardetijd is de tijd waarna van de oorspronkelijke hoeveelheid geneesmiddel in het lichaam, nog precies de helft over is. Deze tijd vormt binnen de farmacokinetiek een belangrijke maat, die informeert over hoe snel het lichaam een bepaald geneesmiddel elimineert.\n",
    "\n",
    "Enkele paragrafen terug bepaalden we dat voor ons model $c_p(0)=\\frac{D}{V_d}$ geldt. De halfwaardetijd is dus de tijd die nodig is om de plasmaconcentratie van het originele $c_p(0)=\\frac{D}{V_d}$ naar $c_p=\\frac{1}{2}\\frac{D}{V_d}$ terug te brengen.\n",
    "\n",
    "Laten we de halfwaardetijd onderzoeken door een interactieve figuur te maken, waarop nu ook de helft van de initiële concentratie, $c_p=\\frac{1}{2}\\frac{D}{V_d}$, staat afgebeeld."
   ]
  },
  {
   "cell_type": "code",
   "execution_count": 105,
   "metadata": {},
   "outputs": [
    {
     "data": {
      "application/vnd.jupyter.widget-view+json": {
       "model_id": "85e87a667acd415c8f4c28cf0615b695",
       "version_major": 2,
       "version_minor": 0
      },
      "text/plain": [
       "interactive(children=(FloatSlider(value=500.0, description='$D$', layout=Layout(width='50%'), max=700.0, min=2…"
      ]
     },
     "metadata": {},
     "output_type": "display_data"
    }
   ],
   "source": [
    "tijdstippen= np.linspace(0,10,100)\n",
    "\n",
    "def animatie(D,Vd,k):\n",
    "\n",
    "    def cp(t):\n",
    "        return D/Vd*np.exp(-k*t)\n",
    "  \n",
    "    \n",
    "    # Zoals voorheen zetten we voor gegeven D, Vd en k de modelvoorspellingen uit tegen de tijdstippen. We voegen hier\n",
    "    # ook een label toe aan de lijn die we uitzetten, omdat we straks een tweede lijn plotten, en we geen verwarring\n",
    "    # willen zaaien.\n",
    "    plt.plot(tijdstippen,cp(tijdstippen),label='het model')\n",
    "    \n",
    "    \n",
    "    # We wensen ook een horizontale lijn te plotten, die de helft van de initiële plasmaconcentratie, gegeven\n",
    "    # door D/Vd/2, aangeeft. We gebruiken de gekende Python-functie plt.plot hiertoe op een slimme manier. We maken zelf\n",
    "    # een vector met begin- en eindtijdstip, [0,10], en zetten op elk van deze tijdstippen de waarde D/Vd/2 uit. De functie\n",
    "    # plt.plot zal deze twee punten nu tot een lijn verbinden.\n",
    "    plt.plot([0,10], [D/Vd/2,D/Vd/2], label='$\\dfrac{1}{2}\\dfrac{D}{V_d}$')\n",
    "    plt.ylim(0,30)\n",
    "    plt.xlabel('t [h]')\n",
    "    plt.ylabel('$c_p$ [mg/l]')\n",
    "    # Met de ingebouwde Python-functie plt.legend() vragen we python om op basis van meegeleverde labels een legende\n",
    "    # te maken.\n",
    "    plt.legend()\n",
    "    plt.show()\n",
    "    \n",
    "    \n",
    "    \n",
    "interact(animatie,D=FloatSlider(min=200, max=700, step=100, value=500, description='$D$', layout=slider_layout)\n",
    "        , Vd=FloatSlider(min=10, max=40,step=5, value=20, description='$V_d$', layout=slider_layout)\n",
    "        , k=FloatSlider(min=0.1, max=1.5,step=0.1, value=0.5, description='$k$', layout=slider_layout));"
   ]
  },
  {
   "cell_type": "markdown",
   "metadata": {},
   "source": [
    "* Hoe kunnen we de halfwaardetijd van een geneesmiddel aflezen op de figuur?\n",
    "* Welke parameters beïnvloeden de halfwaardetijd van een geneesmiddel?\n",
    "* Heeft doxycycline ($k=0.03$ en $V_d=40$) of meroprenem ($k=0.7$ en $V_d=21$) de hoogste halfwaardetijd?\n",
    "* Hoe kunnen we de halfwaardetijd van een geneesmiddel exact berekenen op basis van het model, $c_p= \\dfrac{D}{V_d} e^{-k t}$?\n",
    "\n",
    "Om de halfwaardetijd exact te berekenen, vragen we aan het model op welk tijdstip de plasmaconcentratie, $c_p$, precies gelijk is aan $\\frac{1}{2}\\frac{D}{V_d}$. We vinden\n",
    "\n",
    "$$\n",
    "\\begin{align}\n",
    "& & c_p = \\frac{1}{2}\\frac{D}{V_d} &= \\dfrac{D}{V_d} e^{-k t},\\\\\n",
    "& \\Leftrightarrow &\\frac{1}{2} &=e^{-k t},\\\\\n",
    "& \\Leftrightarrow &\\ln \\left( \\frac{1}{2}\\right) &=-k t,\\\\\n",
    "& \\Leftrightarrow &-\\frac{1}{k}\\ln \\left( \\frac{1}{2}\\right)  &=t,\\\\\n",
    "\\end{align}\n",
    "$$\n",
    "\n",
    "waar we gebruik maakten van het feit dat $\\ln (e^x) = x$ (Zie [exponentiële functies](./T1-Functies/T1-Functies.ipynb)).\n",
    "\n",
    "Zoals verwacht op basis van de studie van de interactieve figuur, blijkt dat de halfwaardetijd van een geneesmiddel dat door ons model beschreven kan worden, enkel afhankelijk is van $k$, en niet van $D$ of $V_d$. Bovendien levert een grotere $k$ een kleinere halfwaardetijd op.\n",
    "\n",
    "We kunnen nu bijvoorbeeld de halfwaardetijd voor meroprenem expliciet berekenen door $k=0.7$ in te vullen:\n",
    "\n",
    "$$\n",
    "t = -\\frac{1}{0.7}\\ln \\left( \\frac{1}{2}\\right) = 0.9902.\n",
    "$$\n",
    "\n",
    "Dit resultaat kunnen we bijvoorbeeld in Python berekenen:"
   ]
  },
  {
   "cell_type": "code",
   "execution_count": 107,
   "metadata": {},
   "outputs": [
    {
     "name": "stdout",
     "output_type": "stream",
     "text": [
      "0.990210257942779\n"
     ]
    }
   ],
   "source": [
    "print(-1/0.7*np.log(1/2)) \n",
    "# Merk op dat de ingebouwde Python-functie om het natuurlijk logaritme van x te berekenen, dus ln(x), gegeven wordt\n",
    "# door np.log(x)! Dit is verwarrend, omdat in onze regionen het natuurlijk logaritme als ln(x) genoteerd wordt, terwijl\n",
    "# het logaritme met grondtal 10 vaak als log(x). Houd hier dus rekening mee! (Het logarimtme met grondtal 10 berekenen we\n",
    "# in Python trouwens met behulp van de functie np.log10(x))"
   ]
  },
  {
   "cell_type": "markdown",
   "metadata": {},
   "source": [
    "* Bereken de halfwaardetijd van doxycycline ($k=0.03$ en $V_d=40$)."
   ]
  },
  {
   "cell_type": "markdown",
   "metadata": {},
   "source": [
    "### Het therapeutisch venster"
   ]
  },
  {
   "cell_type": "markdown",
   "metadata": {},
   "source": [
    "Om een therapeutisch effect te hebben, moet een geneesmiddel aan een bepaalde concentratie in het lichaam aanwezig zijn, de minimale effectieve concentratie (MEC), zonder de minimale toxische concentratie (MTC) te overschreiden. De verzameling concentraties die groter is dan de MEC, maar kleiner dan de MTC, wordt ook het therapeutisch venster genoemd.\n",
    "\n",
    "Bij meropenem bedraagt de MEC 1 $\\text{mg}\\,\\text{l}^{-1}$, terwijl de MTC 64 $\\text{mg}\\,\\text{l}^{-1}$ bedraagt. We kunnen nu een interactieve figuur van de plasmaconcentratie meropenem maken, waarop de MEC en MTC staan aangegeven, en waar we de toegediende dosis meropenem kunnen laten variëren."
   ]
  },
  {
   "cell_type": "code",
   "execution_count": 114,
   "metadata": {},
   "outputs": [
    {
     "data": {
      "application/vnd.jupyter.widget-view+json": {
       "model_id": "d7722f2d96ce4530a903293f4422b314",
       "version_major": 2,
       "version_minor": 0
      },
      "text/plain": [
       "interactive(children=(FloatSlider(value=500.0, description='$D$', layout=Layout(width='50%'), max=1000.0, min=…"
      ]
     },
     "metadata": {},
     "output_type": "display_data"
    }
   ],
   "source": [
    "# Even de parameterwaarden voor meropenem ingeven\n",
    "\n",
    "Vd=21\n",
    "k=0.7\n",
    "\n",
    "# Enkele tijdstippen genereren\n",
    "\n",
    "tijdstippen= np.linspace(0,10,100)\n",
    "\n",
    "# We willen enkel de dosis, D, laten variëren met een slider. De k en Vd zijn eigenschappen van meropenem, en leggen we\n",
    "# vast. Onze animatie Python-functie neemt dus slechts D als argument.\n",
    "\n",
    "def animatie(D):\n",
    "\n",
    "    def cp(t):\n",
    "        return D/Vd*np.exp(-k*t)\n",
    "  \n",
    "    \n",
    "    # De modelvoorspellingen voor cp tegen de tijdstippen uitzetten\n",
    "    plt.plot(tijdstippen,cp(tijdstippen),label='het model')\n",
    "    \n",
    "    \n",
    "    # Een horizontale lijn voor de MEC van 1 mg/l plotten\n",
    "    plt.plot([0,10], [1,1], label='MEC')\n",
    "    # Een horizontale lijn voor de MTC van 64 mg/l plotten\n",
    "    plt.plot([0,10], [64,64], label='MTC')\n",
    "    plt.xlabel('t [h]')\n",
    "    plt.ylabel('$c_p$ [mg/l]')\n",
    "    plt.legend()\n",
    "    plt.show()\n",
    "    \n",
    "    \n",
    "# We gebruiken nu de ingebouwde Python-functie interact, die ons toelaat te interageren met onze functie \"animatie\", door\n",
    "# door slides aan te maken.\n",
    "    \n",
    "interact(animatie,D=FloatSlider(min=200, max=1000, step=100, value=500, description='$D$', layout=slider_layout));"
   ]
  },
  {
   "cell_type": "markdown",
   "metadata": {},
   "source": [
    "* Welke impact heeft $D$ op de tijd waarin de plasmaconcentratie meropenem hoger is dan de MEC?\n",
    "\n",
    "* Vanaf welke dosis wordt de MTC overschreden?\n",
    "\n",
    "* Geen op basis van het model, $c_p= \\dfrac{D}{V_d} e^{-k t}$, een uitdrukking voor het tijdstip waarop de plasmaconcentratie meropenem gelijk wordt aan de MEC.\n",
    "\n",
    "\n",
    "De plasmaconcentratie is het hoogst op tijdstip nul, en we weten uit vorige opgaves dat de concentratie op tijdstip nul gegeven wordt door $c_p(0)= \\dfrac{D}{V_d} e^{-k \\times 0} = \\dfrac{D}{V_d}$. Voor meropenem ($V_d = 21$) wordt deze concentratie precies gelijk aan de MTC ($64 \\text{mg}\\,\\text{l}^{-1}$), wanneer\n",
    "$$\n",
    "\\dfrac{D}{21}  = 64 \\Leftrightarrow D = 1344.\n",
    "$$\n",
    "Wanneer we dus een dosis van $1344\\text{mg}$ toedienen, zal de concentratie op tijdstip nul precies gelijk zijn aan de MTC.\n",
    "\n",
    "Om de laatste vraag te beantwoorden, vragen we aan $c_p= \\dfrac{D}{V_d} e^{-k t}$ op welk tijdstip de plasmaconcentratie meropenem gelijk wordt aan de MEC ($1 \\text{mg}\\,\\text{l}^{-1}$). We vinden\n",
    "\n",
    "\n",
    "$$\n",
    "\\begin{align}\n",
    "& & c_p = 1 &= \\dfrac{D}{V_d} e^{-k t},\\\\\n",
    "& \\Leftrightarrow & 1 &= \\dfrac{D}{21} e^{-0.7 t},\\\\\n",
    "& \\Leftrightarrow & 1 \\times \\dfrac{21}{D} &=  e^{-0.7 t},\\\\\n",
    "& \\Leftrightarrow & \\ln  \\left( \\dfrac{21}{D} \\right) &=  -0.7 t,\\\\\n",
    "& \\Leftrightarrow & -\\dfrac{1}{0.7}\\ln  \\left( \\dfrac{21}{D} \\right) &=  t,\\\\\n",
    "\\end{align}\n",
    "$$\n",
    "\n",
    "Voor een dosis meropenem van $D=500\\text{mg}$ vinden we bijvoorbeeld:"
   ]
  },
  {
   "cell_type": "code",
   "execution_count": 115,
   "metadata": {},
   "outputs": [
    {
     "name": "stdout",
     "output_type": "stream",
     "text": [
      "4.528693800998242\n"
     ]
    }
   ],
   "source": [
    "print(-1/0.7*np.log(21/500))"
   ]
  },
  {
   "cell_type": "markdown",
   "metadata": {},
   "source": [
    "wat lijkt overeen te komen met wat we op de interactieve figuur kunnen afleiden. Na hoeveel uur wordt de plasmaconcentratie meropenem kleiner dan de MEC wanneer een dosis van $700\\text{mg}$ wordt toegediend?"
   ]
  },
  {
   "cell_type": "markdown",
   "metadata": {},
   "source": [
    "### Area Under the Curve"
   ]
  },
  {
   "cell_type": "markdown",
   "metadata": {},
   "source": [
    "In de farmacokinetiek is de AUC (Area Under the Curve) een belangrijke maat voor de blootstelling van de patiënt aan het geneesmiddel. De AUC wordt gedefinieerd als de oppervlakte onder de curve die we verkrijgen door de plasmaconcentratie, $c_p$, uit te zetten tegen de tijd. \n",
    "\n",
    "We hernemen de interactieve figuur uit een vorige opgave, waarbij we met behulp van sliders de impact van de eigenschappen van een geneesmiddel (zijnde $V_d$ en $k$), en de toegediende dosis (zijnde $D$), op de plasmaconcentratie konden bestuderen. Nu arceren we echter ook de oppervlakte onder deze curve, daar deze de AUC voorstelt."
   ]
  },
  {
   "cell_type": "code",
   "execution_count": 125,
   "metadata": {},
   "outputs": [
    {
     "data": {
      "application/vnd.jupyter.widget-view+json": {
       "model_id": "648de64ba9e042039c4c0ba808778916",
       "version_major": 2,
       "version_minor": 0
      },
      "text/plain": [
       "interactive(children=(FloatSlider(value=500.0, description='$D$', layout=Layout(width='50%'), max=700.0, min=2…"
      ]
     },
     "metadata": {},
     "output_type": "display_data"
    }
   ],
   "source": [
    "tijdstippen= np.linspace(0,10,100)\n",
    "\n",
    "def animatie(D,Vd,k):\n",
    "    \n",
    "\n",
    "    def cp(t):\n",
    "        return D/Vd*np.exp(-k*t)\n",
    "  \n",
    "    \n",
    "    # We plotten de voorspelde plasmaconcentratie op de tijdstippen, en vragen met color='red' om er een rode lijn van \n",
    "    # te maken\n",
    "    plt.plot(tijdstippen,cp(tijdstippen),color='red',label='model')\n",
    "    \n",
    "    \n",
    "    # Met behulp van de ingebouwde Python-functie plt.fill_between(t,a,b) kunnen we voor een vector aan tijdstippen \"t\",\n",
    "    # Alles inkleuren dat tussen de (vector aan) waarden \"a\" en \"b\" ligt. We vragen hier om alles tussen 0 en de\n",
    "    # modelvoorspelling cp in te kleuren.\n",
    "    plt.fill_between(tijdstippen, 0, cp(tijdstippen),facecolor='green',label='AUC')\n",
    "\n",
    "    plt.ylim(0,30)  \n",
    "    plt.xlabel('t [h]')\n",
    "    plt.ylabel('$c_p$ [mg/l]')\n",
    "    plt.legend()\n",
    "    plt.show()\n",
    "    \n",
    "\n",
    "    \n",
    "interact(animatie,D=FloatSlider(min=200, max=700, step=100, value=500, description='$D$', layout=slider_layout)\n",
    "        , Vd=FloatSlider(min=10, max=40,step=5, value=20, description='$V_d$', layout=slider_layout)\n",
    "        , k=FloatSlider(min=0.1, max=1.5,step=0.1, value=0.5, description='$k$', layout=slider_layout));"
   ]
  },
  {
   "cell_type": "markdown",
   "metadata": {},
   "source": [
    "* Welke impact hebben de parameters op de AUC voor een geneesmiddel?\n",
    "\n",
    "* Hoe zouden we de AUC voor een bepaalde dosis van een bepaald geneesmiddel exact kunnen berekenen, op basis van het model $c_p= \\dfrac{D}{V_d} e^{-k t}$?\n",
    "\n",
    "\n",
    "De oppervlakte onder een functie wordt gegeven door de [bepaalde integraal](./T4-Integralen/T4-Integralen.ipynb) van deze functie te nemen, tussen $t=0$ en $t=\\infty$. We vinden dan\n",
    "\n",
    "*(Opmerking: het idee integraal moet hier in het eerste hoofdstuk nog veel zachter/trager geïntroduceerd worden dan dit)*\n",
    "\n",
    "$$\n",
    "\\begin{align}\n",
    "\t\\text{AUC} &= \\int_{0}^{\\infty} \\dfrac{D}{V_d} e^{-k t} dt,\\\\\n",
    "\t&= \\dfrac{D}{V_d} \\int_{0}^{\\infty} e^{-k t} dt,\\\\\n",
    "\t&= \\dfrac{D}{V_d} \\left[-\\dfrac{1}{k}e^{-k t}\\right]_{0}^{\\infty},\\\\\n",
    "\t&= \\dfrac{D}{V_d} \\dfrac{1}{k}.\\\\\n",
    "\\end{align}\n",
    "$$\n",
    "\n",
    "Voor $D=500\\text{mg}$ meropenem ($V_d=21$ en $k=0.7$) wordt dit"
   ]
  },
  {
   "cell_type": "code",
   "execution_count": 126,
   "metadata": {},
   "outputs": [
    {
     "name": "stdout",
     "output_type": "stream",
     "text": [
      "34.013605442176875\n"
     ]
    }
   ],
   "source": [
    "print(500/21/0.7)"
   ]
  },
  {
   "cell_type": "markdown",
   "metadata": {},
   "source": [
    "* Welke AUC krijgen we indien $D=700\\text{mg}$ meropenem wordt toegediend?\n",
    "\n",
    "* Wat als we $D=500\\text{mg}$ doxycycline ($k=0.03$ en $V_d=40$) toedienen?"
   ]
  },
  {
   "cell_type": "markdown",
   "metadata": {},
   "source": [
    "### Het model"
   ]
  },
  {
   "cell_type": "markdown",
   "metadata": {},
   "source": [
    "\n",
    "*(Opmerking: het idee differentiaalvergelijking/model moet hier in het eerste hoofdstuk opnieuw nog veel zachter/trager geïntroduceerd worden dan dit)*\n",
    "\n",
    "De vraag stelt zich natuurlijk hoe we precies tot het model $c_p = \\dfrac{D}{V_d} e^{-k t}$ zijn gekomen. Het model werd verkregen door te [modelleren](./T6-Modellen/T6-Modellen.ipynb), een denkproces, waarbij men op basis van chemische en fysische principes de realiteit, dus bijvoorbeeld de verandering van de concentratie aan een geneesmiddel in het menselijk lichaam, probeert te vatten in een vereenvoudigende wiskundige uitdrukking. \n",
    "\n",
    "Om een farmacokinetisch model op te stellen, vereenvoudigt men het lichaam tot een perfect gemengd compartiment (of een samenstelling van perfect gemengde compartimenten), en bestudeert men vervolgens hoe de concentratie van een geneesmiddel in dit compartiment evolueert doorheen de tijd. "
   ]
  },
  {
   "cell_type": "markdown",
   "metadata": {},
   "source": [
    "<img src=\"figs/model_farmaco.png\" width=300 />"
   ]
  },
  {
   "cell_type": "markdown",
   "metadata": {},
   "source": [
    "Door middel van een IV bolus kan een geneesmiddel in het lichaam worden gebracht, waarna het metabolisme en renale excretie voor het afbreken en afvoeren van het geneesmiddel zorgen. Men gaat er van uit dat de snelheid van deze laatste twee processen kan samengevat worden in \\'e\\'en uitdrukking, die evenredig is met de hoeveelheid geneesmiddel in het lichaam, en met een snelheidsconstante $k\\,\\left[\\text{h}^{-1}\\right]$. Voorts komt het geneesmiddel na een IV bolus zo snel in de bloedsomloop terecht, dat men kan aannemen dat het geneesmiddel na injectie onmiddellijk volledig over het compartiment verspreid is.\n",
    "\n",
    "Men schrijft dan dat\n",
    "    \n",
    "$$\n",
    "    \\dfrac{D_B}{dt} = -k D_B \\text{  met  } D_B(0)=D,\n",
    "$$\n",
    "    \n",
    "waar $D_B\\,\\left[\\text{g}\\right]$ de massa geneesmiddel in het lichaam is, en de initiële conditie $D_B(0)$ gegeven wordt door de dosis die toegediend werd, $D\\,\\left[\\text{g}\\right]$.\n",
    "\n",
    "In praktijk is het onmogelijk om de hoeveelheid geneesmiddel in het volledige lichaam, $D_B$, te meten, waardoor men de voorspellingen van bovenstaand model nooit aan experimentele data zou kunnen af toetsen, wat het model praktisch waardeloos maakt. Het echter eenvoudig om de plasmaconcentratie, $c_p\\,\\left[\\text{g} \\text{l}^{-1}\\right]$ te meten, en deze kan aan $D_B$ gerelateerd worden via\n",
    "\t\n",
    "$$\n",
    "\tD_B = c_p V_d,\n",
    "$$\n",
    "\t\n",
    "met $V_d\\,\\left[\\text{l}\\right]$ het distributievolume, een parameter, eigen aan een geneesmiddel, die aangeeft aan welke ratio het geneesmiddel zich verdeelt over het hele lichaam ten opzichte van het plasma. Een eenvoudige manier om voor een bepaald geneesmiddel de $V_d$ te bepalen, bestaat eruit een dosis van een geneesmiddel toe te dienen, en onmiddellijk de plasmaconcentratie te meten. We krijgen dan:\n",
    "\t\n",
    "$$\n",
    "\tV_d = \\dfrac{D}{c_p(0)}.\n",
    "$$\n",
    "\n",
    "We kunnen deze parameter ook schatten door na injectie de plasmaconcentratie op verschillende tijdstippen te meten, en daarna een lineaire regressie door te voeren (Zie later).\n",
    "\n",
    "Invullen van de vergelijking voor $D_B$ in de vergelijking voor $\\dfrac{D_B}{dt}$ levert\n",
    "\t\n",
    "$$\n",
    "\\begin{align}\n",
    "\\dfrac{d \\left(c_p V_d\\right)}{dt} &= -k c_p V_d,\\\\\n",
    "V_d\\dfrac{d c_p}{dt} &= -k c_p V_d,\\\\\n",
    "\\dfrac{d c_p}{dt} &= -k c_p,\n",
    "\\end{align}\n",
    "$$\n",
    "\t\n",
    "waar we gebruik gemaakt hebben van het feit dat $V_d$ een constante is, eigen aan het geneesmiddel.\n",
    "\t"
   ]
  },
  {
   "cell_type": "markdown",
   "metadata": {},
   "source": [
    "### Het model oplossen"
   ]
  },
  {
   "cell_type": "markdown",
   "metadata": {},
   "source": [
    "\n",
    "*(Opmerking: opnieuw nog te snel etc)*\n",
    "\n",
    "Er zijn nu enkele [technieken](./T5-Differentiaalvergelijkingen/T5-Differentiaalvergelijkingen.ipynb) voorhanden om deze differentiaalvergelijking op te lossen. We maken hier gebruik van het scheiden van de veranderlijken:\n",
    "    \t\n",
    "$$\n",
    "\\begin{align}\n",
    "&& \\dfrac{d c_p}{dt} &= -k c_p,\\\\\n",
    "&&\\dfrac{d c_p}{C_p} &= -k dt,\\\\\n",
    "&&\\Rightarrow \\int \\dfrac{d c_p}{c_p} &= \\int -k dt,\\\\\n",
    "&&\\Leftrightarrow \\ln c_p &= -k t + c,\\\\\n",
    "&&\\Leftrightarrow c_p &= e^{-k t+c} = e^c e^{-k t} = C e^{-k t}\n",
    "\\end{align}\n",
    "$$\n",
    "    \t\n",
    "waar we de integratieconstante $C \\equiv e^c$ kunnen bepalen door de initiële conditie in te vullen,\n",
    "    \t\n",
    "$$\n",
    "\\begin{align}\n",
    "&& c_p(0) &= C e^{-k 0} ,\\\\\n",
    "&&\\Leftrightarrow \\dfrac{D}{V_d} &=C,\\\\\n",
    "\\end{align}\n",
    "$$\n",
    "    \t\n",
    "waardoor we aan\n",
    "\n",
    "$$\n",
    "\\begin{equation*}\n",
    "c_p  = \\dfrac{D}{V_d} e^{-k t},\n",
    "\\end{equation*}\n",
    "$$\n",
    "    \t\n",
    "komen, de uitdrukking waarmee we dit hoofdstuk gestart zijn. We hebben nu op basis van een abstractie van de realiteit, een eenvoudige wiskundige uitdrukking gevonden, waarvan we hopen dat deze de realiteit benadert. Dit moeten we na gaan op basis van experimentele data."
   ]
  },
  {
   "cell_type": "markdown",
   "metadata": {},
   "source": [
    "### Het model aftoetsen tegen de realiteit"
   ]
  },
  {
   "cell_type": "markdown",
   "metadata": {},
   "source": [
    "\n",
    "\n",
    "Om te kijken of het model aanleunt bij de waarheid, en om te bepalen welke waarden de parameters $V_d$ en $k$ aannemen voor een bepaald geneesmiddel, wordt een experiment opgezet. Een patiënt krijgt $1000\\,\\text{mg}$ meropenem toegediend, en de plasmaconcentratie wordt elk uur gemeten, gedurende vijf uur. De meetdata wordt gegeven in onderstaande tabel.\n",
    "\n",
    "| t [h] | $c_p$ [mg/l] |\n",
    "| --- | --- | \n",
    "| 1 | 23.57 |\n",
    "| 2 | 11.62 |\n",
    "| 3 | 5.83 |\n",
    "| 4 | 2.89 |\n",
    "| 5 | 1.43 |\n",
    "\n",
    "We kunnen nu de modelvoorspelling naast deze meetdata plotten, en op zoek gaan naar de waarden voor $V_d$ en $k$ die ervoor zorgen dat de modelvoorspelling zo dicht mogelijk bij de meetdata aanleunt. Vervolgens kunnen we beslissen of we tevreden zijn over de correspondentie tussen het model en de werkelijkheid. Laten we hiertoe een interactieve figuur maken."
   ]
  },
  {
   "cell_type": "code",
   "execution_count": 138,
   "metadata": {},
   "outputs": [
    {
     "data": {
      "application/vnd.jupyter.widget-view+json": {
       "model_id": "8ead25b9b37346babe65d6b09f3197c0",
       "version_major": 2,
       "version_minor": 0
      },
      "text/plain": [
       "interactive(children=(FloatSlider(value=20.0, description='$V_d$', layout=Layout(width='50%'), max=25.0, min=1…"
      ]
     },
     "metadata": {},
     "output_type": "display_data"
    }
   ],
   "source": [
    "# Een aantal tijdstippen genereren dat tot voorbij de laatste meting loopt\n",
    "\n",
    "tijdstippen= np.linspace(0,6,100)\n",
    "\n",
    "# We weten dat D=1000 tijdens het experiment, dus dat leggen we vast in de Python-code. Deze parameter hoeft niet gezocht\n",
    "# te worden\n",
    "\n",
    "D=1000\n",
    "\n",
    "# Geven we ook de meetdata mee:\n",
    "\n",
    "meettijdstippen=[1,2,3,4,5]\n",
    "gemetencpwaarden=[23.57,11.62,5.83,2.89,1.43]\n",
    "\n",
    "# We stellen een interactieve figuur op, die Vd en k als argument neemt, maar niet D, want die ligt al vast.\n",
    "\n",
    "def animatie(Vd,k):\n",
    "    \n",
    "\n",
    "    def cp(t):\n",
    "        return D/Vd*np.exp(-k*t)\n",
    "  \n",
    "\n",
    "    plt.plot(tijdstippen,cp(tijdstippen),color='red',label='model')\n",
    "    \n",
    "    \n",
    "    # We zetten ook de meetdata uit, en vragen met linestyle='none' om de datapunten niet door een lijn met elkaar te verbinden\n",
    "    # Voorts zorgt marker='*' ervoor dat elk datapunt met een ster wordt weergegeven.\n",
    "    plt.plot(meettijdstippen,gemetencpwaarden,marker='*',linestyle='none',color='black',label='data')\n",
    "\n",
    "    plt.ylim(0,30)  \n",
    "    plt.xlabel('t [h]')\n",
    "    plt.ylabel('$c_p$ [mg/l]')\n",
    "    plt.legend()\n",
    "    plt.show()\n",
    "    \n",
    "\n",
    "    \n",
    "interact(animatie,Vd=FloatSlider(min=15, max=25,step=1, value=20, description='$V_d$', layout=slider_layout)\n",
    "        , k=FloatSlider(min=0.1, max=1.5,step=0.1, value=0.5, description='$k$', layout=slider_layout));"
   ]
  },
  {
   "cell_type": "markdown",
   "metadata": {},
   "source": [
    "* Zoek met de interactieve figuur waarden voor $V_d$ en $k$ waarvoor het model goed aansluit bij de meetdata.\n",
    "\n",
    "We vinden met behulp van de figuur al een aardig resultaat, maar we kunnen dit beter hard maken aan de hand van wiskundige technieken. Hiertoe maken we gebruikt van de [lineaire regressie](./T7-Dataanalyse/T7-Dataanalyse.ipynb), een wiskundige methode die ons in staat stelt objectief die parameterwaarden te vinden waarvoor het model de meetdata optimaal benadert.\n",
    "\n",
    "We wensen de parameters $k$ en $V_d$ in het model, $c_p  = \\dfrac{D}{V_d} e^{-k t}$ te schatten met behulp van een lineaire regressie. Het zoeken van een lineaire relatie tussen (de meetdata voor) $t$ en $c_p$ zou echter tot weinig leiden, daar het model geen lineaire relatie, maar een exponentiële relatie geeft tussen $c_p$ en $t$. Om een lineaire regressie uit te kunnen voeren, moeten we het model omvormen om een lineaire relatie tussen de gemeten waarden voor $c_p$ en de tijd te vinden. Nemen we het natuurlijk logaritme van het model, dan bekomen we:\n",
    "\n",
    "$$\n",
    "\\begin{align}\n",
    "    \t&&c_p  &= \\dfrac{D}{V_d} e^{-k t},\\nonumber\\\\\n",
    "    \t&&\\Leftrightarrow \\ln c_p &= \\ln \\left(\\dfrac{D}{V_d} e^{-k t}\\right),\\nonumber\\\\\n",
    "    \t&&\\Leftrightarrow \\ln c_p &= \\ln \\left(\\dfrac{D}{V_d}\\right) +  \\ln \\left(e^{-k t}\\right),\\nonumber\\\\\n",
    "    \t&&\\Leftrightarrow \\ln c_p &= \\ln \\left(\\dfrac{D}{V_d}\\right) -k t,\n",
    "    \t\\end{align}\n",
    "$$\n",
    "\n",
    "wat een lineaire relatie tussen $\\ln c_p$ en $t$ geeft! Een lineaire regressie toepassen op het natuurlijk logaritme van de meetdata voor $c_p$ zou nu dus wel een bruikbaar resultaat kunnen opleveren.\n",
    "\n",
    "Zetten we eerst alle meetdata voor $c_p$ in bovenstaande tabel om naar de corresponderende $\\ln c_p$:"
   ]
  },
  {
   "cell_type": "code",
   "execution_count": 139,
   "metadata": {},
   "outputs": [
    {
     "name": "stdout",
     "output_type": "stream",
     "text": [
      "[3.15997472 2.45272775 1.763017   1.0612565  0.35767444]\n"
     ]
    }
   ],
   "source": [
    "print(np.log(gemetencpwaarden))"
   ]
  },
  {
   "cell_type": "markdown",
   "metadata": {},
   "source": [
    "*(Ik werk dit later verder af!)*\n",
    "\n",
    "*(extra: nog figuur maken met het verschil tussen model en de datapunten, benadering is natuurlijk niet perfect door meetruis en afwijkingen tussen realiteit en model)*"
   ]
  },
  {
   "cell_type": "code",
   "execution_count": null,
   "metadata": {},
   "outputs": [],
   "source": []
  }
 ],
 "metadata": {
  "kernelspec": {
   "display_name": "Python 3",
   "language": "python",
   "name": "python3"
  },
  "language_info": {
   "codemirror_mode": {
    "name": "ipython",
    "version": 3
   },
   "file_extension": ".py",
   "mimetype": "text/x-python",
   "name": "python",
   "nbconvert_exporter": "python",
   "pygments_lexer": "ipython3",
   "version": "3.7.4"
  }
 },
 "nbformat": 4,
 "nbformat_minor": 2
}
