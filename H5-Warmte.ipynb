{
 "cells": [
  {
   "cell_type": "code",
   "execution_count": 1,
   "metadata": {},
   "outputs": [],
   "source": [
    "# Voer dit blok code uit door met de cursor in het blok te klikken, en vervolgens SHIFT+ENTER in te drukken.\n",
    "\n",
    "import numpy as np\n",
    "from matplotlib import pyplot as plt\n",
    "from scipy.integrate import odeint\n",
    "\n",
    "from IPython.display import HTML\n",
    "from ipywidgets.widgets import interact, IntSlider, FloatSlider, Layout\n",
    "\n",
    "\n",
    "%matplotlib inline\n",
    "\n",
    "style = {'description_width': '200px'}\n",
    "slider_layout = Layout(width='50%')"
   ]
  },
  {
   "cell_type": "markdown",
   "metadata": {},
   "source": [
    "# Hoofdstuk 5- Warmte"
   ]
  },
  {
   "cell_type": "markdown",
   "metadata": {},
   "source": [
    "De temperatuur van een systeem kan veranderd worden door een hoeveelheid warmte, $Q\\,\\left[\\text{J}\\right]$, toe of af te voeren, of door warmte te produceren binnen het systeem, bijvoorbeeld door wrijving of het doorgaan van endo- of exotherme reacties. \n",
    "\n",
    "<img src=\"figs/model_warmte.png\" width=300 />\n",
    "\n",
    "\n",
    "De specifieke warmtecapaciteit, $c\\,\\left[\\text{J}\\text{kg}^{-1}\\text{K}^{-1}\\right]$, geeft aan hoeveel warmte men moet toevoegen om een kilogram van een bepaalde stof met één kelvin op te warmen. Men maakt, vooral bij gassen, ook een onderscheid tussen de hoeveelheid toe te voegen warmte wanneer een constant volume, $c_v$, wordt aangehouden, of wanneer een constante druk, $c_p$, bewaard blijft.\n",
    "\n",
    "Stel nu dat de hoeveelheid warmte die een systeem van $m\\,\\left[\\text{kg}\\right]$ met specifieke warmtecapaciteit $c_p\\,\\left[\\text{J}\\text{kg}^{-1}\\text{K}^{-1}\\right]$, bevat, wordt aangepast van waarde $Q_1\\,\\left[\\text{J}\\right]$ naar $Q_2\\,\\left[\\text{J}\\right]$, waar we $\\Delta Q \\equiv Q_2 - Q_1$ definiëren. Daar de specifieke warmtecapaciteit aangeeft hoeveel warmte we per kilogram van een stof moeten toevoegen opdat de temperatuur van deze stof met één kelvin zou stijgen, dan weten we dat deze warmteverandering de temperatuur van het voorwerp van $T_1$ naar $T_2$ brengt, en dat dit verschil, $\\Delta T = T_2 - T_1$, aan het verschil in warmte kan gerelateerd worden via:\n",
    "    \n",
    "$$\n",
    "    \\Delta Q = m c_p \\Delta T.\n",
    "$$\n",
    "    \n",
    "    \n",
    "Dit controleren we nog eens door vast te stellen dan de eenheden in linker- en rechterlid inderdaad overeenstemmen.\n",
    "    \n",
    "Stel nu dat per infinitesimaal kleine tijdseenheid, $dt$, de hoeveelheid warmte in het systeem met een infinitesimaal kleine hoeveelheid, $dQ$, verandert, dan kan dat aan een infinitesimaal kleine verandering in temperatuur per tijdseenheid gelinkt worden:\n",
    "    \n",
    "$$\n",
    "    \\dfrac{d Q}{d t} = m c_p \\dfrac{d T}{d t}.\n",
    "$$\n",
    "    \n",
    "We zien nu hoe een warmteverandering een differentiaalvergelijking voor de verandering van de temperatuur kan opleveren. Nu moeten we nog uitdrukkingen vinden die modelleren hoe warmte aan een systeem toegevoegd of onttrokken kan worden, of hoe er warmte binnen een systeem kan worden geproduceerd.\n",
    "\n",
    "We warme aan een systeem toevoegen, of warme uit het systeem afvoeren, door het in contact te brengen met een warmere of koudere omgeving. De afkoelwet van Newton vertelt ons de snelheid waarmee warmte een voorwerp verlaat door contact men een omgeving op een andere temperatuur. Volgens deze wet wordt de warmtetransfer, $q \\, \\left[\\text{W} \\equiv \\text{J}\\text{s}^{-1}\\right]$, van een voorwerp op temperatuur $T\\,\\left[\\text{K}\\right]$ naar een omgeving op temperatuur $T_\\text{om}\\,\\left[\\text{K}\\right]$ gegeven door\n",
    "    \n",
    "$$\n",
    "    q = h A \\left(T - T_\\text{om}\\right),\n",
    "$$\n",
    "    \n",
    "met $h \\, \\left[\\text{W}\\text{m}^{-2}\\text{K}^{-1}\\right]$ de warmtetransfercoëfficiënt en $A\\,\\left[\\text{m}^2\\right]$ de contactoppervlakte tussen het voorwerp en de omgeving. De warmtetransfercoëfficiënt is een eigenschap van het voorwerp, en vertelt ons hoe goed het materiaal waaruit dit voorwerp is opgebouwd warmte kan doorgeven. Hoe groter het contactoppervlakte tussen het voorwerp en de omgeving, hoe sneller er warmte kan worden doorgegeven.\n",
    "\n",
    "Ga na dat indien $T_\\text{om}<T$ er inderdaad een positieve warmtetransfer is van het voorwerp naar de omgeving, wat overeenstemt met de realiteit, terwijl indien $T_\\text{om}>T$ een negatieve warmtetransfer is van het voorwerp naar de omgeving, of dus een positieve warmtetransfer van omgeving naar voorwerp."
   ]
  },
  {
   "cell_type": "markdown",
   "metadata": {},
   "source": [
    "## 5.1- Een ovenschotel"
   ]
  },
  {
   "cell_type": "markdown",
   "metadata": {},
   "source": [
    "We zetten een ovenschotel op kamertemperatuur, $T_s(t=0)=293.15\\,\\text{K}$, in een voorverwarmde oven van $T_o = 513.15\\,\\text{K}$. We onderstellen dat de temperatuur en druk in de oven constant blijven wanneer de schotel in de oven wordt geplaatst, en opwarmt. Onderstel ook dat alle warmte die aan de schotel wordt toegevoegd, onmiddellijk uniform over de hele schotel verdeeld wordt, dus dat de oppervlaktes van de ovenschotel steeds even warm hebben als de kern (Als we deze assumptie niet maken, moeten we ook rekening houden met temperatuurverschillen in de ovenschotel, en wordt het vraagstuk veel moeilijker moeilijker).\n",
    "\n",
    "De ovenschotel heeft een specifieke warmtecapaciteit van $c_p = 3430 \\text{J}\\text{kg}^{-1}\\text{K}^{-1}$, een warmtetransfercoëfficiënt van $194\\,\\text{W}\\text{m}^{-2}\\text{K}^{-1}$, is een perfecte balk met dimensies $20 \\times 10 \\times 5 \\,\\text{cm}$, en weegt $2\\,\\text{kg}$.\n",
    "    \t\n",
    "Stel een warmtevergelijking op, die uitdrukt hoe de temperatuur van de schotel wijzigt doorheen de tijd.\n",
    "    \t\n",
    "    \t\n",
    "We beschouwen de ovenschotel als een systeem dat warmte ontvangt uit de warmere omgeving, maar waarin intern geen warmte wordt geproduceerd.\n",
    "    \t\n",
    "Via de vergelijkingen in bovenstaande sectie vinden we hoeveel warmte per seconde van de ovenschotel naar de omgeving gaat:\n",
    "    \t\n",
    "$$\n",
    "    \tq = h A \\left(T_\\text{s} - T_\\text{o}\\right),\n",
    "$$\n",
    "    \t\n",
    "of, equivalent, dat de hoeveelheid warmte die van de omgeving naar de ovenschotel gaat wordt gegeven door\n",
    "    \t\n",
    "$$\n",
    "    \t-q = h A \\left(T_\\text{o} - T_\\text{s}\\right).\n",
    "$$\n",
    "    \t\n",
    "Combineren we deze uitdrukking met $\\dfrac{d Q}{d t} = m c_p \\dfrac{d T}{d t}$, dan komen we tot\n",
    "\n",
    "$$\n",
    "    \t\\begin{align}\n",
    "    \t& & m c_p \\dfrac{d T_s}{d t} &= h A \\left(T_\\text{o} - T_\\text{s}\\right), \\\\\n",
    "    \t&\\Leftrightarrow& \\dfrac{d T_s}{d t} &= \\dfrac{h A}{m c_p} \\left(T_\\text{o} - T_\\text{s}\\right).\n",
    "    \t\\end{align}\n",
    "$$\n",
    "\n",
    "\n",
    "We controleren de redelijkheid van deze vergelijkingen door na te gaan of linker- en rechterlid dezelfde eenheden hebben, en door vast te stellen dat wanneer $T_o > T_s$, de temperatuur van de ovenschotel inderdaad stijgt, omdat $\\dfrac{d T_s}{d t}>0$.\n",
    "    \t\n",
    "We kunnen nu het temperatuurverloop van de ovenschotel te weten komen door deze vergelijking op te lossen:\n",
    "\n",
    "$$\n",
    "\\begin{align}\n",
    " &&   \t\\dfrac{d T_s}{d t} &= \\dfrac{h A}{m c_p} \\left(T_\\text{o} - T_\\text{s}\\right),\\\\\n",
    " &\\Leftrightarrow&    \t\\dfrac{1}{T_\\text{o} - T_\\text{s}} \\dfrac{d T_s}{d t} &= \\dfrac{h A}{m c_p},\\\\\n",
    "  &\\Leftrightarrow&   \t\\int_{T_s(0)}^{T_s(t)}\\dfrac{1}{T_\\text{o} - T_\\text{s}} d T_s &= \\int_{0}^{t} \\dfrac{h A}{m c_p} dt,\\\\\n",
    " &\\Leftrightarrow&    \t\\left[-\\ln \\left(T_\\text{o} - T_\\text{s}\\right)\\right]_{T_s(0)}^{T_s(t)} &= \\left[\\dfrac{h A}{m c_p}\\right]_{0}^{t},\\\\\n",
    " &\\Leftrightarrow&    \t\\left[-\\ln \\left(T_\\text{o} - T_s\\right)\\right] - \\left[-\\ln \\left(T_\\text{o} - T_s(0)\\right)\\right] &= \\dfrac{h A}{m c_p}t,\\\\\n",
    " &\\Leftrightarrow&    \t- \\ln \\left(T_\\text{o} - T_s\\right) &= \\dfrac{h A}{m c_p}t - \\ln \\left(T_\\text{o} - T_s(0)\\right),\\\\\n",
    "&\\Leftrightarrow&     \t\\ln \\left(T_\\text{o} - T_s\\right)&= - \\dfrac{h A}{m c_p}t + \\ln \\left(T_\\text{o} - T_s(0)\\right),\\\\\n",
    " &\\Leftrightarrow&    \tT_\\text{o} - T_s&= e^{-\\dfrac{h A}{m c_p}t + \\ln \\left(T_\\text{o} - T_s(0)\\right)},\\\\\n",
    " &\\Leftrightarrow&    \tT_\\text{o} - T_s&= \\left(T_\\text{o} - T_s(0)\\right) e^{-\\dfrac{h A}{m c_p}t},\\\\\n",
    " &\\Leftrightarrow&    \tT_s&= \\left(T_s(0) - T_\\text{o}\\right) e^{-\\dfrac{h A}{m c_p}t} + T_\\text{o}.\\\\\n",
    "    \t\\end{align}     \n",
    "$$\n",
    "        \n",
    "We gebruiken de gegevens $T_s(0) = 293.15$, $T_o = 513.15$, $h=194$, $c_p = 3430$, $m=2$ en $A = 2 \\times \\left(0.20\\times 0.10 + 0.20\\times0.05 + 0.10\\times0.05\\right) = 0.07$ (Opgelet: daar alle parameters in de opgestelde differentiaalvergelijking de lengte-eenheid meter gebruiken, dienen we ook de totale oppervlakte van de ovenschotel in vierkante meter om te zetten), en bovenstaande uitkomst om onderstaande figuur te bekomen."
   ]
  },
  {
   "cell_type": "code",
   "execution_count": 2,
   "metadata": {},
   "outputs": [
    {
     "data": {
      "image/png": "[encoded data removed]",
      "text/plain": [
       "<Figure size 432x288 with 1 Axes>"
      ]
     },
     "metadata": {
      "needs_background": "light"
     },
     "output_type": "display_data"
    }
   ],
   "source": [
    "tijdstippen= np.linspace(0,2000,100)\n",
    "\n",
    "Ts0=293.15\n",
    "To=513.15\n",
    "cp=3430\n",
    "m=2\n",
    "h=194\n",
    "A=0.07\n",
    "\n",
    "\n",
    "def Ts(t):\n",
    "    return (Ts0-To)*np.exp(-h*A/m/cp*t)+To\n",
    "    \n",
    "           \n",
    "plt.plot(tijdstippen, Ts(tijdstippen))\n",
    "plt.xlabel('t [s]')\n",
    "plt.ylabel('T [K]')\n",
    "plt.ylim([Ts0,To])\n",
    "plt.show()"
   ]
  },
  {
   "cell_type": "code",
   "execution_count": 3,
   "metadata": {},
   "outputs": [
    {
     "data": {
      "application/vnd.jupyter.widget-view+json": {
       "model_id": "fead1841d76042de828073438a3f4664",
       "version_major": 2,
       "version_minor": 0
      },
      "text/plain": [
       "interactive(children=(FloatSlider(value=0.07, description='$A$', max=0.1, min=0.01, step=0.01), FloatSlider(va…"
      ]
     },
     "metadata": {},
     "output_type": "display_data"
    }
   ],
   "source": [
    "tijdstippen= np.linspace(0,2000,100)\n",
    "\n",
    "Ts0=293.15\n",
    "To=513.15\n",
    "cp=3430\n",
    "m=2\n",
    "\n",
    "def animatie(A,h,m,cp):\n",
    "    \n",
    "    def Ts(t):\n",
    "        return (Ts0-To)*np.exp(-h*A/m/cp*t)+To\n",
    "    \n",
    "           \n",
    "    plt.plot(tijdstippen, Ts(tijdstippen))\n",
    "    plt.xlabel('t [s]')\n",
    "    plt.ylabel('T [K]')\n",
    "    plt.ylim([Ts0,To])\n",
    "  \n",
    "interact(animatie\n",
    "        ,A=FloatSlider(min=0.01, max=0.1, step=0.01, value=0.07, description='$A$')\n",
    "        ,h=FloatSlider(min=100, max=300, step=50, value=200, description='$h$')\n",
    "        ,m=FloatSlider(min=1, max=5, step=1, value=2, description='$m$')\n",
    "        ,cp=FloatSlider(min=1000, max=4000, step=500, value=3500, description='$cp$'));"
   ]
  },
  {
   "cell_type": "markdown",
   "metadata": {},
   "source": [
    "* Hoe kan het verloop van de curve intuïtief aan een verandering in de parameterwaarden gelinkt worden?\n",
    "\n",
    "Wanneer de massa, $m$, of de warmtecapaciteit, $c_p$, verkleinen, is er minder warmte nodig om dezelfde temperatuursverandering te veroorzaken. Terzelfdertijd hebben deze parameters geen invloed op de snelheid van de warmtetransfer, want $q = h A \\left(T_\\text{s} - T_\\text{o}\\right)$. Er wordt dus even snel warmte toegevoegd, maar deze verhoogt de temperatuur in de ovenschotel sneller.\n",
    "\n",
    "Wanneer de warmtetransfercoëfficiënt, $h$, of het contactoppervlak tussen ovenschotel en omgeving, $A$, groter wordt, kan de warmte sneller naar de ovenschotel worden overgedragen, want $q = h A \\left(T_\\text{s} - T_\\text{o}\\right)$."
   ]
  },
  {
   "cell_type": "markdown",
   "metadata": {},
   "source": [
    "## 5.2- Een chemische reactie"
   ]
  },
  {
   "cell_type": "markdown",
   "metadata": {},
   "source": [
    "Beschouwen we het acetylaceton uit [Hoofdstuk 2](./H2-Reactiekinetiek.ipynb), dat in waterige oplossing deels een reversibele reactie ondergaat, zodat het acetylaceton als een combinatie van ketonen en alcoholen aanwezig is. \n",
    "\n",
    "<img src=\"figs/tikz/activatieenergie/ketoenolreactie.png\" width=600 />\n",
    "\n",
    "Wanneer in een perfect gemengd recipiënt van volume $V\\,\\left[\\text{l}\\right]$, gevuld met zuiver water, $[K](0)$ mol acetylaceton, in de ketonvorm, wordt opgelost, leerde Hoofdstuk 2 ons dat de concentratie ketonvorm in oplossing gegeven wordt door \n",
    "\n",
    "$$\n",
    "\t\\dfrac{d \\left[K\\right]}{d t } = -k_1 \\left[K\\right] + k_2 \\left[A\\right],\n",
    "$$\n",
    "\n",
    "en concentratie van de alcoholvorm dan eenvoudig gevonden wordt via\n",
    "\n",
    "$$\n",
    "    \\left[A\\right] = [K](0) - \\left[K\\right].\n",
    "$$\n",
    "\n",
    "\n",
    "\n",
    "Wanneer een reactie doorgaat onder omstandigheden van constante temperatuur en druk, "
   ]
  },
  {
   "cell_type": "code",
   "execution_count": null,
   "metadata": {},
   "outputs": [],
   "source": []
  }
 ],
 "metadata": {
  "kernelspec": {
   "display_name": "Python 3",
   "language": "python",
   "name": "python3"
  },
  "language_info": {
   "codemirror_mode": {
    "name": "ipython",
    "version": 3
   },
   "file_extension": ".py",
   "mimetype": "text/x-python",
   "name": "python",
   "nbconvert_exporter": "python",
   "pygments_lexer": "ipython3",
   "version": "3.7.4"
  }
 },
 "nbformat": 4,
 "nbformat_minor": 2
}
