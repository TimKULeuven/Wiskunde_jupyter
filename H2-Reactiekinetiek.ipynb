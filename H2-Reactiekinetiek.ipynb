{
 "cells": [
  {
   "cell_type": "code",
   "execution_count": 28,
   "metadata": {},
   "outputs": [],
   "source": [
    "# Voer dit blok code uit door met de cursor in het blok te klikken, en vervolgens SHIFT+ENTER in te drukken.\n",
    "\n",
    "import numpy as np\n",
    "from matplotlib import pyplot as plt\n",
    "from scipy.integrate import odeint\n",
    "\n",
    "from IPython.display import HTML\n",
    "from ipywidgets.widgets import interact, IntSlider, FloatSlider, FloatLogSlider, Layout\n",
    "\n",
    "import sklearn.linear_model as lm\n",
    "\n",
    "\n",
    "%matplotlib inline\n",
    "plt.rcParams['figure.figsize'] = [12, 8] \n",
    "\n",
    "style = {'description_width': '150px'}\n",
    "slider_layout = Layout(width='50%')"
   ]
  },
  {
   "cell_type": "markdown",
   "metadata": {},
   "source": [
    "# Hoofdstuk 2- Reactiekinetiek"
   ]
  },
  {
   "cell_type": "markdown",
   "metadata": {},
   "source": [
    "## 2.1- De reactiesnelheid"
   ]
  },
  {
   "cell_type": "markdown",
   "metadata": {},
   "source": [
    "### 2.1.1- De reactiesnelheidsconstante"
   ]
  },
  {
   "cell_type": "markdown",
   "metadata": {},
   "source": [
    "$\n",
    "\\require{mhchem}\n",
    "$\n",
    "\n",
    "In dit hoofdstuk bestuderen we met behulp van wiskundige modellen de snelheid waarmee chemische reacties doorgaan, en reactieproducten ontstaan. Dit vormt het studiegebied van de *reactiekinetiek*, dat ons in staat stelt het concentratieverloop van chemicaliën in een recipiënt te voorspellen.\n",
    "\n",
    "Wanneer enkele molecules met elkaar reageren, vormen ze vaak samen eerst een *transitietoestand*, om vervolgens in reactieproducten uiteen te vallen, of terug de originele moleculen te worden. De transitietoestand is een erg onstabiele tussentoestand, waarin de molecules bepaalde posities ten opzichte van elkaar innemen, die ervoor zorgen dat de nodige reactiemechanismen om de reactieproducten te bekomen vlot kunnen doorgaan. Omdat de moleculen tijdens de transitietoestand dicht tegen elkaar aanwringen, is een hoeveelheid energie, de activeringsenergie $E_a$, vereist om ze voldoende dicht bij elkaar te brengen. \n",
    "\n",
    "Beschouw bijvoorbeeld acetylsalicylzuur (aspirine) in een waterige oplossing. Het is energetisch voordelig voor de acetylsalicylzuur molecule om met water te reageren, en in salicylzuur en azijnzuur uit elkaar te vallen. Dit wordt visueel weergegeven in onderstaande figuur, omdat de combinatie van salicylzuur en azijnzuur, rechts, op een lager energieniveau ligt dan de combinatie van acetylsalicylzuur en water, links. Om de reactie te bewerkstelligen, moet de acetylsalicylzuur molecule dicht in de buurt van een $\\ce{H2O}$ molecule worden gebracht, en in een geschikte transitietoestand terecht komen. Hiertoe moet de reactie dus een energieheuvel over, wiens hoogte gegeven wordt door de activeringsenergie. \n",
    "\n",
    "<img src=\"figs/tikz/activatieenergie/activatieenergie.png\" width=700 />\n",
    "\n",
    "Om de transitietoestand te kunnen bereiken, gebruiken moleculen kinetische energie. Wanneer ze met voldoende grote snelheid, en onder de juiste ruimtelijke oriëntatie, tegen elkaar aan botsen, zullen ze in de transitietoestand terecht komen om vervolgens eventueel reactieproducten te vormen. \n",
    "\n",
    "De *reactiesnelheidsconstante*, $k$, is gerelateerd aan de kans dat, wanneer moleculen met elkaar botsen, zij voldoende kinetische energie en de juiste ruimtelijke oriëntatie hebben om de transitietoestand te bereiken. Een expliciet verband tussen de reactiesnelheidsconstante en de activeringsenergie wordt gegeven door de vergelijking van Arrhenius:\n",
    "\n",
    "$$\n",
    "k = A e^{-\\dfrac{E_a}{RT}},\n",
    "$$\n",
    "\n",
    "met $E_a\\,[\\text{J}\\text{mol}^{-1}]$ de activeringsenergie, $T\\,\\,[\\text{K}]$ de temperatuur, $R=8.314\\,\\text{J}\\text{K}^{-1}\\text{mol}^{-1}$ de gasconstante en $A$ de pre-exponentiële factor. Hier is $RT$ een maat voor de kinetische energie van de moleculen, omdat bij hogere temperatuur de molecules gemiddeld sneller bewegen. We kunnen dus intuïtief begrijpen dat de verhouding $\\dfrac{E_a}{RT}$ informatie geeft over de kans dat botsende moleculen voldoende kinetische energie hebben om een transitietoestand te bereiken. De factor $A$ houdt rekening met de kans dat botsende molecules geschikte ruimtelijke oriëntaties ten opzichte van elkaar hebben.\n",
    "\n",
    "- Wordt de reactiesnelheidsconstante groter of kleiner wanneer de activeringsenergie groter wordt?\n",
    "- Wordt de reactiesnelheidsconstante groter of kleiner wanneer de temperatuur groter wordt?\n",
    "\n",
    "Test je antwoorden met behulp van onderstaande interactieve figuur, waar de Arrheniusvergelijking in functie van de temperatuur wordt uitgezet. We kunnen $E_a$ tussen $50$ en $90\\,\\text{kJ}$ variëren, en $A$ tussen $10000$ en $12000$, gangbare waarden voor de hydrolyse van een ester."
   ]
  },
  {
   "cell_type": "code",
   "execution_count": 36,
   "metadata": {},
   "outputs": [
    {
     "data": {
      "application/vnd.jupyter.widget-view+json": {
       "model_id": "3f09483c827e45408badc019420164a4",
       "version_major": 2,
       "version_minor": 0
      },
      "text/plain": [
       "interactive(children=(FloatSlider(value=11000.0, description='$A$', layout=Layout(width='50%'), max=12000.0, m…"
      ]
     },
     "metadata": {},
     "output_type": "display_data"
    }
   ],
   "source": [
    "# We maken een interactieve figuur, waarop k wordt uitgezet ten opzichte van T, en waar we de parameters A en E_a kunnen\n",
    "# aanpassen met behulp van sliders\n",
    "\n",
    "# We geven alvast de gasconstante mee\n",
    "\n",
    "R = 8.314 \n",
    "\n",
    "# En maken een vector met temperaturen waarbij we k telkens willen uittekenen. Laten we 100 waarden tussen 200 en 400\n",
    "# kelvin kiezen.\n",
    "\n",
    "temperaturen= np.linspace(50,400,100)\n",
    "\n",
    "\n",
    "# De animatie functie neemt A en Ea als argument\n",
    "\n",
    "def animatie(A,Ea):\n",
    "    \n",
    "    \n",
    "    # we steken de functie voor k in Python. Als argument neemt zij de temperatuur T.\n",
    "    def k(T):\n",
    "        return A*np.exp(-Ea/(R*T))\n",
    "  \n",
    "    # Evalueren we k(T) bij onze vector met temperaturen.\n",
    "    \n",
    "   \n",
    "    fig, (ax1, ax2) = plt.subplots(1, 2)\n",
    "    ax1.plot(temperaturen,k(temperaturen))\n",
    "    ax1.set_ylim(9000,12000)\n",
    "    ax1.set_xlabel('$T$ [K]')\n",
    "    ax1.set_ylabel('$k$')\n",
    "  \n",
    "\n",
    "    # Het is ook een goed idee om het natuurlijk logaritme van k te plotten tegen 1/T, het inverse van de temperatuur\n",
    "    def lnk(invT):\n",
    "        return np.log(A)-Ea/R*invT\n",
    "  \n",
    "    \n",
    "    ax2.plot(1/temperaturen,lnk(1/temperaturen))\n",
    "    ax2.set_ylim(np.log(9000),np.log(12000))\n",
    "    ax2.set_xlabel('$1/T$')\n",
    "    ax2.set_ylabel('$\\ln k$')\n",
    "\n",
    "    fig.tight_layout()\n",
    "    \n",
    "    \n",
    "# We gebruiken nu de ingebouwde Python-functie interact, die ons toelaat te interageren met onze functie \"animatie\", door\n",
    "# door sliders aan te maken.\n",
    "    \n",
    "interact(animatie,A=FloatSlider(min=10000, max=12000,step=500, value=11000, description='$A$', layout=slider_layout)\n",
    "        , Ea=FloatSlider(min=50, max=90,step=10, value=60, description='$E_a$ [kJ]', layout=slider_layout));"
   ]
  },
  {
   "cell_type": "markdown",
   "metadata": {},
   "source": [
    "In de rechterfiguur wordt $\\ln k$ uitgezet tegen $1/T$, in een zogenaamd *Arrheniusplot*. Deze manier om de Arrheniusvergelijking weer te geven is populair, omdat de lineaire relatie tussen $\\ln k$ en $1/T$ ons toelaat in veel omstandigheden eenvoudiger het effect van $E_a$ en $A$ te bestuderen. Nemen we namelijk het [natuurlijk logaritme](./T1-Functies.ipynb) van linker- en rechterlid in de Arrheniusvergelijking, dan krijgen we:\n",
    "\n",
    "$$\n",
    "\\begin{align}\n",
    "&&k &= A e^{-\\dfrac{E_a}{RT}},\\\\\n",
    "&\\Leftrightarrow & \\ln k &= \\ln \\left( A e^{-\\dfrac{E_a}{RT}}\\right),\\\\\n",
    "&\\Leftrightarrow & \\ln k &= \\ln A +  \\ln \\left(e^{-\\dfrac{E_a}{RT}}\\right),\\\\\n",
    "&\\Leftrightarrow & \\ln k &= \\ln A -\\dfrac{E_a}{R}\\dfrac{1}{T},\\\\\n",
    "\\end{align}\n",
    "$$\n",
    "\n",
    "waar we gebruik maakten van het feit dat $\\ln (ab)=\\ln(a)+\\ln(b)$ en $\\ln(e^x) = x$ (zie [rekenregels logaritmes](./T1-Functies.ipynb)). We stellen vast dat $E_a$ nu de richtingscoëfficiënt van de rechte bepaalt, en $A$ het intercept!"
   ]
  },
  {
   "cell_type": "markdown",
   "metadata": {},
   "source": [
    "### 2.1.2- De wet der massawerking"
   ]
  },
  {
   "cell_type": "markdown",
   "metadata": {},
   "source": [
    "In een chemisch systeem, zoals een proefbuis, chemische reactor, of biologische cel, zijn natuurlijk een hele boel molecules aanwezig. Intuïtief begrijpen we dat wanneer er meer molecules in een systeem aanwezig zijn, er meer botsingen per tijdseenheid plaats vinden, en dus ook meer reacties kunnen doorgaan. Een wiskundige beschrijving van de *reactiesnelheid*, die weergeeft hoe snel een chemische reactie doorgaat, zal dus zowel met de reactiesnelheidsconstante, als met de hoeveelheid molecules aanwezig in het systeem moeten rekening houden.\n",
    "\n",
    "Zoals onze intuïtie reeds voorspelde, heeft experimenteel onderzoek uitgewezen dat veel reactiesnelheden inderdaad evenredig zijn met de concentratie waarmee de verschillende deelnemende moleculen aanwezig zijn in de oplossing.\n",
    "\n",
    "Beschouwen we dan een reactie die doorgaat in oplossing,\n",
    "\n",
    "$$\n",
    "\t\\ce{a A + b B ->[k] c C + d D},\n",
    "$$\n",
    "\t\n",
    "waar $a$, $b$, $c$ en $d$ stoichiometrische coëfficiënten zijn, A, B, C en D moleculen, en $k$ de reactiesnelheidsconstante. In vele gevallen kan de reactiesnelheid, $r\\,\\left[\\text{mol} \\text{l}^{-1}\\text{s}^{-1}\\right]$, die uitdrukt hoeveel mol reacties er per seconde, per liter oplossing doorgaan, gegeven worden door:\n",
    "\n",
    "$$\n",
    "r = k [A]^a [B]^b,\n",
    "$$\n",
    "\n",
    "met $\\left[A\\right]$ en $\\left[B\\right]$ de concentraties aan moleculen A en B. De term $\\left[A\\right]^a \\left[B\\right]^b$ kunnen we losweg interpreteren als de frequentie waarmee $a$ moleculen A en $b$ moleculen B tegen elkaar botsen, terwijl de factor $k$ aangeeft hoe vaak een dergelijke botsing met de juiste oriëntatie, en met voldoende kinetische energie plaatsvindt om de activatie-energie te overwinnen, en effectief een reactie te veroorzaken. De som van de exponenten die in de uitdrukking voorkomen, in dit geval dus $a+b$, wordt de *orde van de reactie* genoemd.\n",
    "\n",
    "De onderstelling dat de reactiesnelheid evenredig is met het product van de concentraties van de relevante reactanten, wordt ook *de wet der massawerking* genoemd. Wanneer deze onderstelling geldig is voor een reactie, wordt deze reactie een *elementaire reactie* genoemd. Reacties waarvoor dit niet geldig is, worden *complexe reacties* genoemd. Echter, een complexe reactie is steeds opgebouwd uit een samenstelling van elementaire reacties, waardoor we in principe dus de reactiesnelheid van eender welke (complexe) reactie kunnen opdelen in een samenstelling van reactiesnelheden voor de elementaire reacties waaruit de complexe reactie bestaat.\n",
    "\n",
    "Op basis van de reactiesnelheid, die aangeeft hoeveel reacties er per seconde per liter doorgaan, kunnen we nagaan hoe de concentraties van de verschillende stoffen in oplossing veranderen. Beschouwen we namelijk een gesloten systeem, bijvoorbeeld een afgesloten proefbuis of chemische reactor, dan kan de hoeveelheid van een stof binnen het systeem slechts veranderen door chemische reacties, wat we [schematisch](./T6-Modellen.ipynb) als volgt weergeven.\n",
    "\n",
    "\n",
    "<img src=\"figs/model/model_chemieGesloten.png\" width=150 />\n",
    "\n",
    "\n",
    "\n",
    "We stellen vast dat per reactie $a$ moleculen A verdwijnen om in producten omgezet te worden, en, rekening houdend met het volume $V$ van het recipiënt, dat er $r V$ mol reacties per seconde doorgaan. Indien er geen stoffen worden toegevoegd of afgevoerd, wordt de verandering van het aantal mol moleculen $A$ aanwezig in het recipiënt doorheen de tijd gegeven door\n",
    "\t\n",
    "$$\n",
    "\t\\dfrac{d\\left(V \\left[A\\right] \\right) }{d t} = -a r V = -a k \\left[A\\right]^a \\left[B\\right]^b V,\n",
    "$$\n",
    "\t\n",
    "waar $V \\left[A\\right]$ de hoeveelheid mol aan $A$ in het recipiënt weergeeft, en waar we kunnen nagaan dat de eenheden in linker- en rechterlid inderdaad telkens $\\text{mol}\\text{l}^{-1}\\text{s}^{-1}$ zijn, wat alvast bevestigt dat we geen complete onzin hebben neergeschreven. Indien het volume $V$ constant blijft, kunnen we een vereenvoudiging doorvoeren, door de constante uit de afgeleide te halen (want $\\dfrac{d \\left(af(x)\\right)}{dx}=a\\dfrac{ d f(x)}{dx}$ indien $a$ constant is, zie [T3-Afgeleiden](./T3-Afgeleiden.ipynb)):\n",
    "\t\n",
    "$$\n",
    "\\begin{align}\n",
    "\\dfrac{d\\left(V \\left[A\\right] \\right) }{d t} &= -a k \\left[A\\right]^a \\left[B\\right]^b V,\\\\\n",
    "V \\dfrac{d\\left[A\\right]}{d t} &= -a k \\left[A\\right]^a \\left[B\\right]^b V,\\\\\n",
    "\\dfrac{d\\left[A\\right]}{d t} &= -a k \\left[A\\right]^a \\left[B\\right]^b.\n",
    "\\end{align}\n",
    "$$\n",
    "\t\n",
    "Daar er per reactie $b$ moleculen B verdwijnen, geldt via dezelfde redeneringen voor de verandering van $\\left[B\\right]$ doorheen de tijd\n",
    "\t\n",
    "$$\n",
    "\\dfrac{d \\left[B\\right]}{d t} = -b k \\left[A\\right]^a \\left[B\\right]^b,\n",
    "$$\n",
    "\t\n",
    "terwijl er $c$ molecules C en $d$ molecules D bijkomen per reactie, dus \n",
    "\t\n",
    "$$\n",
    "\\dfrac{d \\left[C\\right]}{d t} = c k \\left[A\\right]^a \\left[B\\right]^b,\n",
    "$$\n",
    "\t\n",
    "en\n",
    "\t\n",
    "$$\n",
    "\\dfrac{d \\left[D\\right]}{d t} = d k \\left[A\\right]^a \\left[B\\right]^b.\n",
    "$$\n",
    "\n",
    "Stel vast dat we nu ongeveer in staat zijn het concentratieverloop van de reagentia binnen een gesloten chemisch systeem te modelleren, zolang we weten welke chemische reacties er doorgaan, en of deze elementair zijn!"
   ]
  },
  {
   "cell_type": "markdown",
   "metadata": {},
   "source": [
    "### 2.1.3- Hydrolyse van aspirine"
   ]
  },
  {
   "cell_type": "markdown",
   "metadata": {},
   "source": [
    "Beschouwen we opnieuw acetylsalicylzuur (aspirine), dat in waterige omstandigheden hydrolyseert tot salicylzuur (een molecule die pijnstillend en koortswerend werkt) en azijnzuur,\n",
    "\n",
    "<img src=\"figs/tikz/asphydro/asphydro.png\" width=700 />\n",
    "\n",
    "\n",
    "met $k\\,\\left[\\text{l}\\text{mol}^{-1}\\text{s}^{-1}\\right]$ de reactiesnelheidsconstante. Om de concentratie salicylzuur in het lichaam goed te kunnen doseren, is het belangrijk de kinetiek van deze reactie te kennen.\n",
    "\t\n",
    "Beschouwen we een perfect gemengd recipiënt van volume $V\\,\\left[\\text{l}\\right]$, gevuld met zuiver water, waarin we $[A](0)$ mol acetylsalicylzuur oplossen. Hoe evolueert de concentratie salicylzuur in het recipiënt doorheen de tijd, indien we de hydrolyse als een elementaire reactie mogen beschouwen? Daar we geen water meer toevoegen of afvoeren aan het recipiënt, mag het volume $V$ als constant beschouwd worden.\n",
    "\t\n",
    "We passen de technieken uit vorige sectie toe op dit probleem. Daar de reactie elementair is, wordt de snelheid gegeven door $r=k \\left[A\\right]\\left[\\ce{H2O}\\right]$, waar $\\left[A\\right]$ de concentratie acetylsalicylzuur voorstelt, en $\\left[\\ce{H2O}\\right]$ de concentratie water. Daar in het recipiënt veel meer water aanwezig is dan acetylsalicylzuur, kunnen we onderstellen dat de concentratie water nauwelijks gaat veranderen naarmate de reactie doorgaat. We kunnen $\\left[\\ce{H2O}\\right]$ dus als constant beschouwen, en een nieuwe constante $k' \\equiv k \\left[\\ce{H2O}\\right] \\,\\left[\\text{s}^{-1}\\right] $ introduceren om de uitdrukking te vereenvoudigen.\n",
    "\t\n",
    "Per reactie wordt er één molecule acetylsalicylzuur omgezet, en er gaan $r=k' \\left[A\\right]$ reacties per seconde per liter door in het recipiënt. De verandering van het aantal mol acetylsalicylzuur in het recipiënt wordt dan beschreven door\n",
    "\n",
    "$$\n",
    "\t\\begin{align}\n",
    "\t& & \\dfrac{d \\left(V \\left[A\\right]\\right)}{d t } & = -k' \\left[A\\right] V ,\\\\\n",
    "\t& \\Leftrightarrow & \\dfrac{d \\left[A\\right]}{d t } & = -k' \\left[A\\right].\n",
    "\t\\end{align}\n",
    "$$\n",
    "\t\n",
    "\t\n",
    "Voorts wordt er per reactie één molecule salicylzuur gevormd, en dus\n",
    "\t\n",
    "$$\n",
    "\t\\begin{align}\n",
    "\t& & \\dfrac{d \\left(V \\left[S\\right]\\right)}{d t } & = k' \\left[A\\right] V ,\\\\\n",
    "\t& \\Leftrightarrow & \\dfrac{d \\left[S\\right]}{d t } & = k' \\left[A\\right],\n",
    "\t\\end{align}\n",
    "$$\n",
    "\t\n",
    "met $\\left[S\\right]$ de concentratie salicylzuur. Merk op dat $\\dfrac{d \\left[A\\right]}{d t } = - \\dfrac{d \\left[S\\right]}{d t }$, wat verwacht werd daar één molecule acetylsalicylzuur telkens wordt omgezet tot één molecule salicylzuur. Meer nog, daar elke molecule salicylzuur gevormd wordt door omzetting van één molecule acetylsalicylzuur, moet gelden dat $[S](t) = [A](0)-[A](t)$, met $\\left[A\\right](0)$ de initiële hoeveelheid acetylsalicylzuur.\n",
    "\t\n",
    "We weten nu hoe de concentraties veranderen doorheen de tijd, maar willen graag een uitdrukking voor de concentraties in functie van de tijd. Hiertoe kunnen we de differentiaalvergelijking [oplossen](./T5-Differentiaalvergelijkingen/T5-Differentiaalvergelijkingen.ipynb), door de veranderlijken te scheiden:\n",
    "\t\n",
    "    \n",
    "$$\n",
    "\t\\begin{align}\n",
    "    &&\t\\dfrac{d \\left[A\\right]}{d t } & = -k' \\left[A\\right],\\\\\n",
    "    &\\Leftrightarrow&\t\\dfrac{d \\left[A\\right]}{\\left[A\\right]} & = -k' d t,\\\\\n",
    "    &\\Rightarrow&\t\\int \\dfrac{d \\left[A\\right]}{\\left[A\\right]} & = \\int -k' d t,\\\\\n",
    "    &\\Leftrightarrow&\t\\ln \\left[A\\right] & =  -k' t+c,\\\\\n",
    "    &\\Leftrightarrow&\t\\left[A\\right] & =  e^{-k' t+c} = e^c  e^{-k' t}=C  e^{-k' t},\\\\\n",
    "\t\\end{align}\n",
    "$$\n",
    "\n",
    "waar we de integratieconstante $C \\equiv e^c$ kunnen bepalen door de initiële conditie in te vullen,\n",
    "    \t\n",
    "$$\n",
    "\\begin{align}\n",
    "&& \\left[A\\right](0) &= C  e^{-k' \\cdot 0} ,\\\\\n",
    "&&\\Leftrightarrow \\left[A\\right](0) &=C,\\\\\n",
    "\\end{align}\n",
    "$$\n",
    "    \t\n",
    "waardoor we aan\n",
    "\n",
    "$$\n",
    "\\begin{equation*}\n",
    "\\left[A\\right] =\\left[A\\right](0)  e^{-k' t},\n",
    "\\end{equation*}\n",
    "$$\n",
    "    \t\n",
    "komen, met $\\left[A\\right](0)$ de initiële conditie, de hoeveelheid acetylsalicylzuur die initieel aan het systeem wordt toegevoegd. De concentratie salicylzuur volgt onmiddellijk uit\n",
    "\n",
    "$$\n",
    "\t\\left[S\\right](t) = \\left[A\\right](0) - \\left[A\\right](t).\n",
    "$$\n",
    "\n",
    "We kunnen het gedrag van deze oplossing, en de impact van de hoeveelheid acetylsalicylzuur die initieel werd toegevoegd, onderzoeken met behulp van onderstaande figuur. \n",
    "\n",
    "<!---\n",
    "5 \\times 10^{-3} mol aanwezig\n",
    "-->"
   ]
  },
  {
   "cell_type": "code",
   "execution_count": 38,
   "metadata": {},
   "outputs": [
    {
     "data": {
      "application/vnd.jupyter.widget-view+json": {
       "model_id": "3ce6901bd4e04992b9a077812d7abb65",
       "version_major": 2,
       "version_minor": 0
      },
      "text/plain": [
       "interactive(children=(FloatSlider(value=0.005, description='$[A](0)$', max=0.01, step=0.001), Output()), _dom_…"
      ]
     },
     "metadata": {},
     "output_type": "display_data"
    }
   ],
   "source": [
    "# We maken een interactieve figuur, waarop [A] en [S] worden uitgezet ten opzichte van t, en waar we de initiële conditie\n",
    "# [A](0) kunnen aanpassen\n",
    "\n",
    "# Uit de literatuur weten we dat k' = 2.2*10^(-4) bij pH=7 en T=293K. Bemerk de vreemde notatie voor een macht in Python!\n",
    "# We schrijven niet ^, maar ** !\n",
    "\n",
    "kacc = 2.2*10**(-4)\n",
    "\n",
    "\n",
    "tijdstippen= np.linspace(0,200*60,100)\n",
    "\n",
    "\n",
    "# De animatie functie neemt [A](0) als argument\n",
    "\n",
    "def animatie(A0):\n",
    "    \n",
    "    \n",
    "    # we steken de functie voor [A] in Python. Als argument neemt zij t.\n",
    "    def A(t):\n",
    "        return A0*np.exp(-kacc*t)\n",
    "  \n",
    "    # Evalueren we [A](t) bij onze vector met tijdstippen.\n",
    "    \n",
    "    Aifvt=A(tijdstippen)\n",
    "        \n",
    "    # dan kunnen we ook [S](t) berekenen\n",
    "    \n",
    "    Sifvt=A0-Aifvt\n",
    "    \n",
    "\n",
    "       \n",
    "    plt.ylim(0,10**(-2))\n",
    "    plt.plot(tijdstippen,Aifvt,label='[A]')\n",
    "    plt.plot(tijdstippen,Sifvt,label='[S]')\n",
    "    plt.xlabel('$t$ [s]')\n",
    "    plt.ylabel('$[mol/l]$')\n",
    "    plt.legend(loc='upper right')\n",
    "    plt.show()\n",
    "    \n",
    "    \n",
    "# We gebruiken nu de ingebouwde Python-functie interact, die ons toelaat te interageren met onze functie \"animatie\",\n",
    "# door sliders aan te maken.\n",
    "    \n",
    "interact(animatie,A0=FloatSlider(min=0, max=10**(-2), step=10**(-3), value=5*10**(-3), description='$[A](0)$'));"
   ]
  },
  {
   "cell_type": "markdown",
   "metadata": {},
   "source": [
    "- Wat is de waarde van $[A]$ en $[S]$ na zeer lange tijd? \n",
    "\n",
    "Het model lijkt te voorspellen dat na lange tijd alle $[A]$ weg reageert, en dus volledig in $[S]$ wordt omgezet. We kunnen dit nagaan door de [limiet](./T2-Limieten.ipynb) te berekenen van $\\left[A\\right](t) = \\left[A\\right](0) e^{-k't}$, voor $t \\rightarrow \\infty$. Indien we $t$ steeds groter laten worden, wordt ook $e^{k't}$ met $k'>0$ steeds groter (zie [T1-Functies](./T1-Functies.ipynb)), terwijl $e^{-k't} = \\dfrac{1}{e^{k't}}$ steeds dichter bij nul komt te liggen. We noteren dit formeel als:\n",
    "\n",
    "$$\n",
    "\\begin{align}\n",
    "\\lim_{t\\rightarrow \\infty} \\left[A\\right](t) &=\\lim_{t\\rightarrow \\infty}\\left[A\\right](0) e^{-k't},\\\\\n",
    "&=\\left[A\\right](0) \\times 0,\\\\\n",
    "&=0.\n",
    "\\end{align}\n",
    "$$\n",
    "\n",
    "Onafhankelijk van de waarde voor $[A](0)$ gaat de concentratie acetylsalicylzuur volgens het model steeds naar nul. De bijhorende salicylzuurconcentratie verkrijgen we natuurlijk via:\n",
    "\n",
    "\n",
    "$$\n",
    "\\begin{align}\n",
    "\\lim_{t\\rightarrow \\infty} \\left[S\\right](t) &= \\lim_{t\\rightarrow \\infty} \\left( \\left[A\\right](0) - \\left[A\\right](t)\\right)\\\\\n",
    "&= \\lim_{t\\rightarrow \\infty} \\left( \\left[A\\right](0) \\right)- \\lim_{t\\rightarrow \\infty} \\left( \\left[A\\right](t)\\right)\\\\\n",
    "&=\\left[A\\right](0) - 0\\\\\n",
    "&= \\left[A\\right](0),\n",
    "\\end{align}\n",
    "$$\n",
    "\n",
    "waar we de [rekenregel](./T2-Limieten.ipynb) gebruiken die stelt dat de limiet van een verschil gelijk is aan het verschil van de limieten, zolang er geen onbepaaldheid opduikt. Inderdaad, na heel lang wachten is alle acetylsalicylzuur in salicylzuur omgezet."
   ]
  },
  {
   "cell_type": "markdown",
   "metadata": {},
   "source": [
    "## 2.2- Reversibele reacties"
   ]
  },
  {
   "cell_type": "markdown",
   "metadata": {},
   "source": [
    "### 2.2.1- De aflopende reactie"
   ]
  },
  {
   "cell_type": "markdown",
   "metadata": {},
   "source": [
    "Beschouwen we nog eens onderstaand energiediagram voor de hydrolyse van acetylsalicylzuur. We weten dat, onder de juiste oriëntatie, en met voldoende kinetische energie ter beschikking, de activeringsenergie overwonnen kan worden, en uit acetylsalicylzuur een transitietoestand kan ontstaan die in salicylzuur en azijnzuur uit elkaar kan vallen.\n",
    "\n",
    "<img src=\"figs/tikz/activatieenergie/activatieenergie.png\" width=700 />\n",
    "\n",
    "Maar zou de omgekeerde beweging niet ook mogelijk zijn? Zouden salicylzuur en azijnzuur niet erg hard tegen elkaar kunnen opbotsen, en de energieberg van de andere kant gaan beklimmen, om uiteindelijk mogelijks acetylsalicylzuur te gaan vormen? Inderdaad, er zitten in onze maatbeker, proefbuis, menselijk lichaam, na een tijd zo veel salicylzuur en azijnzuur moleculen, dat het mogelijk is dat er een paar aan uitzonderlijk hoge snelheid rondbewegen en tegen elkaar opbotsen om dezelfde transitietoestand te vormen. Daarna kunnen ze in principe, met kleine kans, samensmelten om acetylsalicylzuur te vormen, in plaats van opnieuw uiteen te vallen in het energetisch meer voordelige salicylzuur en azijnzuur. De energieberg die hiervoor moet overwonnen worden, is echter veel groter, en bovendien valt de transitietoestand liever uiteen in plaats van in acetylsalicylzuur samen te blijven, omdat dat energetisch veel voordeliger is. De omgekeerde reactie komt dus danig weinig voor vergeleken bij de voorwaartse reactie, dat we deze in praktijk kunnen verwaarlozen. We kunnen daarom met vertrouwen \n",
    "\n",
    "<img src=\"figs/tikz/asphydro/asphydro.png\" width=700 />\n",
    "\n",
    "schrijven, met een pijl die enkel van links naar rechts loopt. Een reactie die (na gerechtvaardigde verwaarlozingen) slechts in één richting loopt, noemen we een *aflopende* reactie."
   ]
  },
  {
   "cell_type": "markdown",
   "metadata": {},
   "source": [
    "### 2.2.2- De reversibele reactie"
   ]
  },
  {
   "cell_type": "markdown",
   "metadata": {},
   "source": [
    "Bij veel reacties is het energieverschil tussen reagentia en reactieproducten niet groot, waardoor de omgekeerde reactie ook aan relatief hoge snelheid blijft doorgaan, en dus niet verwaarloosd kan worden. De reactie is dan niet meer aflopend, maar *reversibel*. \n",
    "\n",
    "Acetylaceton is een belangrijke bouwsteen bij de chemische productie van actieve bestanddelen in geneesmiddelen. Wanneer zich acetylaceton (een keton) in oplossing bevindt, zal een deel van deze moleculen de vorm van een alcohol hebben aangenomen, via een reversibele reactie met zichzelf. Anders gesteld, kan men zich het volgende verbeelden: wanneer men één acetylacetonmolecule in het vizier zou houden, zou je vaststellen dat ze zich plots in een alcohol omzet, om later terug naar de ketonvorm terug te keren, en zo verder. Deze specifieke reversibele reactie noemen we de keto-enoltautemerisatie, en we kunnen ze begrijpen aan de hand van onderstaand energiediagram.\n",
    "\n",
    "<img src=\"figs/tikz/activatieenergie/activatieenergieketo.png\" width=700 />\n",
    "\n",
    "De ketonvorm, links, kan zich, na overwinning van de activeringsenergie, omzetten in de alcohol vorm. De activeringsenergie die deze alcoholvorm moet overwinnen om zich in het keton om te zetten, is van dezelfde grootteorde, en de omgekeerde beweging gaat dus ook aan een snelheid van dezelfde grootteorde door.\n",
    "\n",
    "Noch de voorwaartse, noch de achterwaartse reactie is te verwaarlozen, dus we noteren deze reversibele reactie als:\n",
    "\n",
    "<img src=\"figs/tikz/activatieenergie/ketoenolreactie.png\" width=600 />\n",
    "\n",
    "met $k_1 \\, \\left[ \\text{h}^{-1} \\right]$ de reactiesnelheidsconstante van de voorwaartse reactie, en $k_2 \\, \\left[ \\text{h}^{-1} \\right]$ de reactiesnelheidsconstante van de achterwaartse reactie. Het verschil in grootte tussen deze reactiesnelheidsconstanten is gerelateerd aan het verschil in activeringsenergie die elke reactie moet overwinnen, wat we begrijpen op basis van de eerste sectie uit dit hoofdstuk. Laten we met behulp van een model onderzoeken hoe het concentratieverloop van reversibele reacties er uit ziet.\n",
    "\n",
    "Beschouwen we een perfect gemengd recipiënt van volume $V\\,\\left[\\text{l}\\right]$, gevuld met zuiver water, waarin we $[K](0)$ mol acetylaceton, in de ketonvorm, oplossen. Zowel de voor- als de achterwaartse reactie volgt de wet der massawerking, en we mogen onderstellen dat het volume gedurende dit experiment constant blijft.\n",
    "\n",
    "De wet der massawerking stelt dat er $r_1 = k_1 \\left[ K \\right]$ mol voorwaartse reacties per seconde per liter doorgaan, met $\\left[ K \\right]$ de concentratie van de ketonvorm in oplossing. Het aantal mol achterwaartse reacties per seconde per liter wordt gegeven door $r_2 = k_2 \\left[ A \\right]$, met $\\left[ A \\right]$ de concentratie van de alcoholvorm. Op basis hiervan schrijven we nu een vergelijking neer die de verandering van de concentratie ketonen doorheen de tijd beschrijft, door vast te stellen dat per voorwaartse reactie één alcohol wordt gevormd ten koste van één keton, terwijl het omgekeerde geldt voor de achterwaartse reactie:\n",
    "\n",
    "\n",
    "\n",
    "$$\n",
    "\t\\dfrac{d \\left(V \\left[K\\right]\\right)}{d t } = -k_1 \\left[K\\right] V + k_2 \\left[A\\right] V.\n",
    "$$\n",
    "\n",
    "Het volume, $V$, blijft constant, en kan dus uit $\\dfrac{d \\left(V \\left[K\\right]\\right)}{d t }$ worden gehaald, en vervolgens worden geschrapt. We krijgen:\n",
    "\n",
    "$$\n",
    "\t\\dfrac{d \\left[K\\right]}{d t } = -k_1 \\left[K\\right] + k_2 \\left[A\\right].\n",
    "$$\n",
    "\n",
    "De concentratie van de alcoholvorm vinden we eenvoudig via\n",
    "\n",
    "$$\n",
    "    \\left[A\\right] = [K](0) - \\left[K\\right],\n",
    "$$\n",
    "\n",
    "omdat elk keton dat verdwijnt, in een alcohol wordt omgezet. De afhankelijkheid van $\\left[A\\right]$ kan dan uit bovenstaande differentiaalvergelijking weggewerkt worden:\n",
    "\n",
    "$$\n",
    "\\begin{align}\n",
    "\t\\dfrac{d \\left[K\\right]}{d t } &= -k_1 \\left[K\\right] + k_2 \\left( [K](0) - \\left[K\\right] \\right),\\\\\n",
    "    &= k_2 [K](0) - \\left( k_1 + k_2\\right) \\left[K\\right].\n",
    "\\end{align}\n",
    "$$\n",
    "\n",
    "Na het toepassen van enkele trucjes, waar we hier niet dieper op ingaan, vinden we een oplossing voor de differentiaalvergelijking:\n",
    "\n",
    "$$\n",
    "    \\left[K\\right] = \\dfrac{k_2 + k_1 e^{-(k_1+k_2)t}}{k_1+k_2} \\left[K\\right](0)\n",
    "$$\n",
    "\n",
    "We kunnen nagaan dat deze uitdrukking een [oplossing](./T5-Differentiaalvergelijkingen.ipynb) is, door ze in linker- en rechterlid in te vullen:\n",
    "\n",
    "$$\n",
    "\\begin{align}\n",
    "    && \\dfrac{d \\left[K\\right]}{d t } &= k_2 [K](0) - \\left( k_1 + k_2\\right) \\left[K\\right],\\\\\n",
    "    && \\dfrac{d}{d t}\\left( \\dfrac{k_2 + k_1 e^{-(k_1+k_2)t}}{k_1+k_2} \\left[K\\right](0) \\right) &= k_2 [K](0) - \\left( k_1 + k_2\\right) \\dfrac{k_2 + k_1 e^{-(k_1+k_2)t}}{k_1+k_2} \\left[K\\right](0),\\\\\n",
    "    && \\dfrac{d}{d t}\\left(\\dfrac{k_2}{k_1+k_2}\\left[K\\right](0) + \\dfrac{k_1 \\left[K\\right](0)}{k_1+k_2} e^{-(k_1+k_2)t} \\right) &= k_2 [K](0) - \\left( k_1 + k_2\\right) \\dfrac{k_2 + k_1 e^{-(k_1+k_2)t}}{k_1+k_2} \\left[K\\right](0),\\\\\n",
    "    && \\dfrac{d}{d t}\\left(\\dfrac{k_2}{k_1+k_2}\\left[K\\right](0)\\right) + \\dfrac{d}{d t}\\left(\\dfrac{k_1 \\left[K\\right](0)}{k_1+k_2} e^{-(k_1+k_2)t} \\right) &= k_2 [K](0) - \\left( k_1 + k_2\\right) \\dfrac{k_2 + k_1 e^{-(k_1+k_2)t}}{k_1+k_2} \\left[K\\right](0),\\\\\n",
    "    &&  \\dfrac{d}{d t}\\left(\\dfrac{k_1 \\left[K\\right](0)}{k_1+k_2} e^{-(k_1+k_2)t} \\right) &= k_2 [K](0) - \\left( k_1 + k_2\\right) \\dfrac{k_2 + k_1 e^{-(k_1+k_2)t}}{k_1+k_2} \\left[K\\right](0),\\\\\n",
    "    &&  \\dfrac{k_1 \\left[K\\right](0)}{k_1+k_2} \\dfrac{d}{d t}\\left( e^{-(k_1+k_2)t} \\right) &= k_2 [K](0) - \\left( k_1 + k_2\\right) \\dfrac{k_2 + k_1 e^{-(k_1+k_2)t}}{k_1+k_2} \\left[K\\right](0),\\\\\n",
    "    &&  -(k_1+k_2)\\dfrac{ k_1 \\left[K\\right](0)}{k_1+k_2} e^{-(k_1+k_2)t} &= k_2 [K](0) - \\left( k_1 + k_2\\right) \\dfrac{k_2 + k_1 e^{-(k_1+k_2)t}}{k_1+k_2} \\left[K\\right](0),\\\\\n",
    "    &&  -k_1 \\left[K\\right](0) e^{-(k_1+k_2)t} &= k_2 [K](0) - \\left( k_1 + k_2\\right) \\dfrac{k_2 + k_1 e^{-(k_1+k_2)t}}{k_1+k_2} \\left[K\\right](0),\\\\\n",
    "    &&  -k_1 \\left[K\\right](0) e^{-(k_1+k_2)t} &= k_2 [K](0) - \\left( k_2 + k_1 e^{-(k_1+k_2)t}\\right) \\left[K\\right](0),\\\\\n",
    "    &&  -k_1 \\left[K\\right](0) e^{-(k_1+k_2)t} &= k_2 [K](0) -  k_2 \\left[K\\right](0) + k_1 e^{-(k_1+k_2)t}\\left[K\\right](0)  ,\\\\\n",
    "    &&  -k_1 \\left[K\\right](0) e^{-(k_1+k_2)t} &=  k_1 e^{-(k_1+k_2)t}\\left[K\\right](0)  ,\\\\\n",
    "\\end{align}\n",
    "$$\n",
    "\n",
    "een gelijkheid die inderdaad opgaat! We gebruikten hier GEBRUIK $d e^{tx}$ staat eig niet bij rekenregels\n",
    "\n",
    "Op basis van experimentele data stelt men vast dat bij kamertemperatuur $k_1 = 0.0159$ en $k_2 = 0.0835$. Onderstaande figuur geeft het verloop van de concentraties weer onder deze omstandigheden, wanneer $[K](0) = 1$ mol per liter ketonvorm wordt toegevoegd aan een recipiënt van $V=1$ liter."
   ]
  },
  {
   "cell_type": "code",
   "execution_count": 4,
   "metadata": {},
   "outputs": [
    {
     "data": {
      "image/png": "[encoded data removed]",
      "text/plain": [
       "<Figure size 432x288 with 1 Axes>"
      ]
     },
     "metadata": {
      "needs_background": "light"
     },
     "output_type": "display_data"
    }
   ],
   "source": [
    "k1 = 0.0159\n",
    "k2 = 0.0835\n",
    "\n",
    "K0=1\n",
    "\n",
    "\n",
    "tijdstippen= np.linspace(0,100,100)\n",
    "\n",
    "\n",
    "    \n",
    "    \n",
    "# we steken de functie voor [K] in Python. Als argument neemt zij de tijd, t.\n",
    "def K(t):\n",
    "    return (k2+k1*np.exp(-(k1+k2)*t))/(k1+k2)*K0\n",
    "  \n",
    "# Evalueren we [K](t) bij onze vector met tijdstippen.\n",
    "    \n",
    "Kifvt=K(tijdstippen)\n",
    "        \n",
    "# dan kunnen we ook [A](t) berekenen\n",
    "    \n",
    "Aifvt=K0-Kifvt\n",
    "    \n",
    "\n",
    "       \n",
    "plt.ylim(0,1)\n",
    "plt.plot(tijdstippen,Kifvt,label='[K]')\n",
    "plt.plot(tijdstippen,Aifvt,label='[A]')\n",
    "plt.xlabel('$t$ [s]')\n",
    "plt.ylabel('$[mol/l]$')\n",
    "plt.legend()\n",
    "plt.show()\n"
   ]
  },
  {
   "cell_type": "markdown",
   "metadata": {},
   "source": [
    "We stellen vast dat zich na verloop van tijd een *chemisch evenwicht* instelt, waar zowel ketonen als alcoholen in oplossing aanwezig zijn. Bij de aflopende reactie hebben we gezien dat de concentratie van (minstens één van de) reactanten nul wordt, en dat deze volledig verbuikt wordt in de aflopende productie van reactieproduct. Bij de reversibele reactie is de situatie anders, omdat er, zelfs na lange tijd, nog steeds reacties in de tegengestelde richting doorgaan! \n",
    "\n",
    "Laten we met behulp van een [limiet](./T2-Limieten/T2-Limieten.ipynb) nagaan aan welke concentratie beide verbindingen na lange tijd in oplossing aanwezig zijn:\n",
    "\n",
    "$$\n",
    "    \\begin{align}\n",
    "    \\lim_{t \\rightarrow \\infty }\\left[K\\right] & = \\lim_{t \\rightarrow \\infty } \\dfrac{k_2 + k_1 e^{-(k_1+k_2)t}}{k_1+k_2} \\left[K\\right](0),\\\\ & = \\dfrac{k_2}{k_1+k_2} \\left[K\\right](0),\n",
    "    \\end{align}\n",
    "$$\n",
    "\n",
    "omdat $e^{(k_1+k_2)t}$, met $k_1+k_2>0$, oneindig groot wordt wanneer $t \\rightarrow \\infty $, en $e^{-(k_1+k_2)t}=\\dfrac{1}{e^{(k_1+k_2)t}}$ dus naar nul gaat wanneer $t \\rightarrow \\infty $. De concentratie alcoholen wordt gegeven door:\n",
    "\n",
    "$$\n",
    "\\begin{align}\n",
    "    \\lim_{t \\rightarrow \\infty }\\left[A\\right] &= \\lim_{t \\rightarrow \\infty } \\left( [K](0) - [K]\\right),\\\\\n",
    "    &= \\left( \\lim_{t \\rightarrow \\infty }  [K](0) - \\lim_{t \\rightarrow \\infty }  [K]\\right),\\\\\n",
    "    &=[K](0) - \\dfrac{k_2}{k_1+k_2} \\left[K\\right](0),\\\\\n",
    "    &=\\left( 1 - \\dfrac{k_2}{k_1+k_2}\\right) \\left[K\\right](0),\\\\\n",
    "    &=\\left( \\dfrac{k_1+k_2}{k_1+k_2} - \\dfrac{k_2}{k_1+k_2}\\right) \\left[K\\right](0),\\\\\n",
    "    &=\\dfrac{k_1}{k_1+k_2} \\left[K\\right](0).\n",
    "\\end{align}\n",
    "$$\n",
    "\n",
    "De verhouding $[A]/[K]$ wordt voor $t \\rightarrow \\infty$ (zie [rekenregels voor limiet van een quotiënt](./T2-Limieten/T2-Limieten.ipynb)):\n",
    "\n",
    "$$\n",
    "\\begin{align}\n",
    "    \\lim_{t \\rightarrow \\infty } \\dfrac{[A]}{[K]} &= \\dfrac{\\lim_{t \\rightarrow \\infty } [A]}{\\lim_{t \\rightarrow \\infty } [K]} ,\\\\\n",
    "    &= \\dfrac{\\dfrac{k_1}{k_1+k_2} \\left[K\\right](0)}{\\dfrac{k_2}{k_1+k_2} \\left[K\\right](0)} ,\\\\\n",
    "    &= \\dfrac{k_1}{k_2}.\\\\\n",
    "\\end{align}\n",
    "$$\n",
    "\n",
    "De verhouding van de finale concentraties aan reagentia en reactieproducten wordt dus gegeven door de verhouding van de reactiesnelheidsconstanten!\n",
    "\n",
    "Deze conclusies kunnen we ook trekken zonder de oplossing van de differentiaalvergelijking te kennen. We zoeken hiertoe naar de [evenwichtspunten](./T5-Differentiaalvergelijkingen/T5-Differentiaalvergelijkingen.ipynb) van de differentiaalvergelijking\n",
    "\n",
    "$$\n",
    "\t\\dfrac{d \\left[K\\right]}{d t } =k_2 [K](0) - \\left( k_1 + k_2\\right) \\left[K\\right].\n",
    "$$\n",
    "\n",
    "Bij het zoeken naar een evenwichtspunt, vragen we aan de vergelijking onder welke omstandigheden de concentraties niet meer veranderen, en dus onder welke omstandigheden zich een evenwicht heeft ingesteld. Wanneer de concentraties niet meer veranderen, moet dus $\\dfrac{d \\left[K\\right]}{d t }=0$ zijn. We vragen nu aan de vergelijking wanneer dit gebeurt:\n",
    "\n",
    "$$\n",
    "\\begin{align}\n",
    "&& \\dfrac{d \\left[K\\right]}{d t }=0 &=k_2 [K](0) - \\left( k_1 + k_2\\right) \\left[K\\right],\\\\\n",
    "&\\Leftrightarrow & \\left( k_1 + k_2\\right) \\left[K\\right] &=k_2 [K](0),\\\\\n",
    "&\\Leftrightarrow & \\left[K\\right] &=\\dfrac{k_2}{k_1 + k_2} [K](0),\\\\\n",
    "\\end{align}\n",
    "$$\n",
    "\n",
    "dezelfde conclusie die we trokken op basis van de limiet van de oplossing van deze differentiaalvergelijking. Wanneer de concentratie $\\left[K\\right]$ gelijk is aan $\\dfrac{k_2}{k_1 + k_2} [K](0)$, zal deze voor de rest van de tijd niet meer veranderen. In bovenstaande figuur stellen we inderdaad vast dat de concentratie naar deze waarde toe evolueert, en er niet meer weggaat."
   ]
  },
  {
   "cell_type": "markdown",
   "metadata": {},
   "source": [
    "## 2.3- De evenwichtsconstante, chemisch evenwicht, en de wet van le chatelier"
   ]
  },
  {
   "cell_type": "markdown",
   "metadata": {},
   "source": [
    "VERALGEMENEN VAN EVENWICHTSPUNT, EVENWICHTSCONSTANTE ETC"
   ]
  },
  {
   "cell_type": "markdown",
   "metadata": {},
   "source": [
    "## 2.4- Katalysatoren en enzymes"
   ]
  },
  {
   "cell_type": "markdown",
   "metadata": {},
   "source": [
    "Hoewel het energetisch voordelig kan zijn een bepaalde reactie te laten doorgaan, betekent dat niet dat deze reactie daarom ook aan hoge snelheid doorgaat. In het begin van dit hoofdstuk zagen we namelijk dat de reactiesnelheid afhankelijk is van de activeringsenergie. Wanneer men een reactie sneller wil laten doorgaan, bijvoorbeeld in de chemische industrie, of bijvoorbeeld bij de regeling van chemische processen in het menselijk lichaam, kan men gebruik maken van structuren die de activeringsenergie voor een bepaalde reactie verlagen. Dergelijke structuren worden katalysatoren genoemd, en enzymen zijn eiwitten die als biologische katalysator optreden.\n",
    "\n",
    "Enzymen hebben specifieke bindingssites, waar de relevante reagentia gemakkelijk plaats kunnen nemen. De reagentia worden vastgehouden, en danig geconformeerd dat de condities uitstekend zijn om bepaalde bindingen te verbreken en andere te maken, opdat de reactie snel kan doorgaan. Eens de reactieproducten gevormd zijn, laat het enzym deze los, en is ze klaar om nieuwe reagentia te ontvangen. Deze dynamiek wordt als volgt in een reactieschema gegoten:\n",
    "\n",
    "$$\n",
    "\\ce{E + S  <=>[k_1][k_2] ES ->[k_3] E + P},\n",
    "$$\n",
    "\n",
    "met E het enzym, S de reagentia, P het reactieproduct, en ES het complex dat tussen het enzym en de reagentia kan ontstaan. Merk op dat de vorming van dit complex meestal als reversibel kan worden beschouwd, terwijl de vorming van het reactieproduct uit dit complex aflopend is (hoewel andere situaties zeker kunnen voorkomen). De kracht van een enzym bestaat eruit dat de activeringsenergie die nodig is om het ES-complex te vormen, veel kleiner is dan de energie vereist om de klassieke transitietoestand tussen S en P te vormen, indien er geen enzym voorhanden is. Laten we dit illustreren aan de hand van een voorbeeld.\n",
    "\n",
    "Aan de meeste metabole processen in het lichaam komen enzymen te pas, om het proces te versnellen. Hetzelfde geldt voor de afbraak van geneesmiddelen. Lornoxicam wordt voorgeschreven als ontstekingsremmer en koortsverlagend middel. Uit studies blijkt dat de voornaamste metabole route in het lichaam start bij het enzyme CYP2C9, die de omzetting naar 5-hydroxy-lornoxicam katalyseert, een eerste stap in de afbraak van lornoxicam in het lichaam. \n",
    "\n",
    "Onderstaand energiediagram illustreert de reactie van lornoxicam tot 5-hydroxy-lornoxicam. Waar deze reactie normaal een grote activeringsenergie moet overwinnen, en dus slechts traag verloopt, zorgt de aanwezigheid van het enzym CYP2C9 voor een alternatief reactiepad, waar lornoxicam een kleinere hoeveelheid energie nodig heeft om met CYP2C9 te binden tot het complex genoteerd als ES, waaruit dan vervolgens reactieproduct gevormd kan worden.\n",
    "\n",
    "<img src=\"figs/tikz/activatieenergie/activatieenergieEnzymII.png\" width=800 />\n",
    "\n"
   ]
  },
  {
   "cell_type": "markdown",
   "metadata": {},
   "source": [
    "### 2.4.1- Reactiekinetiek met een enzym\n"
   ]
  },
  {
   "cell_type": "markdown",
   "metadata": {},
   "source": [
    "Laten we de invloed van een enzym op de reactiekinetiek bestuderen aan de hand van modellen.\n",
    "\n",
    "We beschouwen eerst een perfect gemengde maatbeker waarin lornoxicam zit opgelost in water, aan een concentratie $[S](0)$, maar waarin zich geen CYP2C9 bevindt. Daarin gaat volgende reactie door:\n",
    "\n",
    "<img src=\"figs/tikz/activatieenergie/LornoxicamReac.png\" width=600 />\n",
    "\n",
    "met $k\\,\\left[\\text{l}\\,\\text{µmol}^{-1}\\text{h}^{-1}\\right]$ een reactiesnelheidsconstante.\n",
    "\n",
    "We mogen onderstellen dat deze reactiekinetiek de wet der massawerking volgt. We bevinden ons dan in dezelfde situatie als met de aspirine eerder dit hoofdstuk, en vinden dat:\n",
    "\n",
    "$$\n",
    "\\dfrac{d \\left[S\\right]}{d t }  = -k' \\left[S\\right],\n",
    "$$\n",
    "\n",
    "waar we $k' \\equiv k \\left[\\ce{H2O}\\right]$ definieerden, wat verantwoord is omdat de hoeveelheid water die tijdens deze reactie verbruikt wordt verwaarloosbaar klein is vergeleken bij de hoeveelheid water die zich in de maatbeker bevindt. Alle lornoxicam die een reactie ondergaat, wordt omgezet tot 5-hydroxy-lornoxicam. De concentratie reactieproduct, $[P]$, wordt dus op elk tijdstip gevonden via:\n",
    "\n",
    "$$\n",
    "[P] = [S](0) - [S](t).\n",
    "$$\n",
    "\n",
    "Op dezelfde manier als voor de aspirine, vinden we een [oplossing](./T5-Differentiaalvergelijkingen.ipynb) voor deze differentiaalvergelijking. Omdat de activeringsenergie zeer groot is, zijn $k$ en $k'$ zeer klein. De reactie gaat traag door, wat in onderstaande figuur wordt geïllustreerd, door de oplossing tegen de tijd uit te zetten."
   ]
  },
  {
   "cell_type": "code",
   "execution_count": 5,
   "metadata": {},
   "outputs": [
    {
     "data": {
      "image/png": "[encoded data removed]",
      "text/plain": [
       "<Figure size 432x288 with 1 Axes>"
      ]
     },
     "metadata": {
      "needs_background": "light"
     },
     "output_type": "display_data"
    }
   ],
   "source": [
    "kacc = 5*10**(-5)\n",
    "S0 = 0.01 #[mol/l]\n",
    "\n",
    "\n",
    "tijdstippen= np.linspace(0,60*24*100,100)\n",
    "\n",
    "def S(t):\n",
    "    return S0*np.exp(-kacc*t)\n",
    "\n",
    "    \n",
    "Sifvt=S(tijdstippen)\n",
    "        \n",
    "Pifvt=S0-Sifvt\n",
    "    \n",
    "\n",
    "       \n",
    "plt.ylim(0,10**(-2))\n",
    "plt.plot(tijdstippen,Sifvt,label='S[t]')\n",
    "plt.plot(tijdstippen,Pifvt,label='P[t]')\n",
    "plt.xlabel('$t$ [s]')\n",
    "plt.ylabel('$mol/l$')\n",
    "plt.legend()\n",
    "plt.show()"
   ]
  },
  {
   "cell_type": "markdown",
   "metadata": {},
   "source": [
    "Beschouwen we nu een maatbeker met een waterige oplossing van lornoxicam, aan concentratie $[S]$, en enzym CYP2C9, aan concentratie $[E]$. Het reactieschema wordt nu iets ingewikkelder, en wordt gegeven door\n",
    "\n",
    "$$\n",
    "\\ce{E + S  <=>[k_1][k_2] ES ->[k_3] E + P},\n",
    "$$\n",
    "\n",
    "met $k_1\\,\\left[\\text{l}\\,\\text{µmol}^{-1}\\text{h}^{-1}\\right]$, $k_2\\,\\left[\\text{h}^{-1}\\right]$ en $k_3\\,\\left[\\text{h}^{-1}\\right]$ reactiesnelheidsconstanten. (Merk op dat we de concentratie water hier volledig achterwege hebben gelaten om het reactieschema te vereenvoudigen, wat opnieuw verantwoord is.)\n",
    "\n",
    "OPM: EERST MET MOL WERKEN DAN OVER GAAN OP CONCENTRATIES\n",
    "\n",
    "We wensen nu de concentraties van alle verbindingen in de maatbeker te modelleren, maar dit wordt heel wat complexer, omdat we naast $[S]\\,\\left[\\text{µmol}\\,\\text{l}^{-1} \\right]$ en $[P]\\,\\left[\\text{µmol}\\,\\text{l}^{-1} \\right]$ nu ook $[E]\\,\\left[\\text{µmol}\\,\\text{l}^{-1} \\right]$ en $[ES]\\,\\left[\\text{µmol}\\,\\text{l}^{-1} \\right]$ in de gaten moeten houden! Onze methode blijft echter precies dezelfde. We onderstellen dat de wet der massawerking opgaat, en beschouwen voor elke verbinding hoe, en aan welke snelheid, zij aangemaakt of afgebroken kan worden. Laten we beginnen met S, dat enerzijds met E kan combineren tot ES, en anderzijds uit ES uiteen kan vallen in E en S. Toepassen van de wet der massawerking op beide reacties, levert:\n",
    "\n",
    "$$\n",
    "\\dfrac{d [S]}{d t} = -k_1 [E][S] + k_2 [ES].\n",
    "$$\n",
    "\n",
    "De concentratie $[ES]$ vermindert wanneer het complex in E en S, of E en P uiteen valt, en vermeerdert wanneer uit E en S een ES-complex gevormd wordt. Op elk van deze drie reacties passen we de wet der massawerking toe:\n",
    "\n",
    "$$\n",
    "\\dfrac{d [ES]}{d t} = -k_2 [ES] - k_3 [ES]+k_1 [E][S].\n",
    "$$\n",
    "\n",
    "Er wordt slechts P gevormd wanneer ES op de juiste manier uiteen valt. Hier is onze opdracht dus eenvoudig:\n",
    "\n",
    "$$\n",
    "\\dfrac{d [P]}{d t} = k_3 [ES].\n",
    "$$\n",
    "\n",
    "Als laatste beschouwen we de mogelijke veranderingen voor $[E]$. Er verdwijnt E wanneer het ES-complex gevormd wordt, en er komt E vrij wanneer ES in ofwel E en S, of E en P uiteen valt:\n",
    "\n",
    "$$\n",
    "\\dfrac{d [E]}{d t} = -k_1 [E][S] + k_2 [ES] + k_3 [ES].\n",
    "$$\n",
    "\n",
    "Het verloop van alle concentraties in de maatbeker wordt gemodelleerd door bovenstaand stelsel van vier differentiaalvergelijkingen. Dit stelsel is te ingewikkeld om op papier op te lossen (hier gaan we in [Hoofdstuk 3](./H3-Populatiemodellen.ipynb) dieper op in)! Met behulp van de computer kunnen we gelukkig wel een oplossing vinden. Hieronder geven we de oplossing voor $[S](0)=0.01$, $[E](0)=10^{-6}$, en $[ES](0) = [P](0) = 0$:"
   ]
  },
  {
   "cell_type": "code",
   "execution_count": 6,
   "metadata": {},
   "outputs": [
    {
     "name": "stdout",
     "output_type": "stream",
     "text": [
      "27817777.777777776\n"
     ]
    },
    {
     "data": {
      "image/png": "[encoded data removed]",
      "text/plain": [
       "<Figure size 432x288 with 2 Axes>"
      ]
     },
     "metadata": {
      "needs_background": "light"
     },
     "output_type": "display_data"
    }
   ],
   "source": [
    "\n",
    "# ???????????????????\n",
    "\n",
    "# Het is voorlopig niet belangrijk om deze code te begrijpen\n",
    "\n",
    "S0 = 0.01\n",
    "E0 = 10**(-6)\n",
    "ES0 = 0\n",
    "P0 = 0\n",
    "init=[S0,E0,ES0,P0]\n",
    "\n",
    "k3=0.144*10**(6)\n",
    "\n",
    "k2=10**(8) #??????????????????????\n",
    "k1=(k3+k2)/(3.6)\n",
    "\n",
    "print(k1)\n",
    "\n",
    "\n",
    "tijdstippen = np.linspace(0,24*5,100)\n",
    "\n",
    "\n",
    "def dxdt(x,tijd):\n",
    "        S,E,ES,P = x\n",
    "        dxdt=[-k1*E*S+k2*ES,-k1*E*S+k2*ES+k3*ES,-k2*ES-k3*ES+k1*E*S,k3*ES]\n",
    "        return dxdt\n",
    "    \n",
    "\n",
    "oplossing = odeint(dxdt,init,tijdstippen)\n",
    "\n",
    "fig, (ax1, ax2) = plt.subplots(1, 2)\n",
    "ax1.plot(tijdstippen, oplossing[:,0],'g',label='S')\n",
    "ax1.plot(tijdstippen, oplossing[:,3],'k',label='P')\n",
    "ax2.plot(tijdstippen, oplossing[:,1],'r',label='E')\n",
    "ax2.plot(tijdstippen, oplossing[:,2],'b',label='ES')\n",
    "       \n",
    "ax1.set_ylim(0,S0)\n",
    "ax1.set_xlabel('$t$ [h]')\n",
    "ax1.set_ylabel('[mol/l]')\n",
    "ax1.legend(loc='upper left')\n",
    "\n",
    "ax2.set_ylim(0,E0)\n",
    "ax2.set_xlabel('$t$ [h]')\n",
    "ax2.set_ylabel('[mol/l]')\n",
    "ax2.legend(loc='upper left')\n",
    "    \n",
    "fig.tight_layout()"
   ]
  },
  {
   "cell_type": "markdown",
   "metadata": {},
   "source": [
    "### 2.4.2- Michaelis-Menten kinetiek"
   ]
  },
  {
   "cell_type": "markdown",
   "metadata": {},
   "source": [
    "MOEILIJK HIER AL TE BEGRIJPEN?\n",
    "\n",
    "Vaak wordt bovenstaand stelsel differentiaalvergelijkingen vereenvoudigd met behulp van de *quasi-steady-state* assumptie,\n",
    "\n",
    "$$\n",
    "\\dfrac{d [ES]}{d t} = 0 = -k_2 [ES] - k_3 [ES]+k_1 [E][S],\n",
    "$$\n",
    "\n",
    "waarin we bovendien $[E]$ substitueren met behulp van het feit dat elk enzym in de maatbeker nooit kan verdwijnen, en ofwel los bestaat, als E, of gebonden is in een ES-complex, dus $[E] = [E](0) - [ES]$. We krijgen\n",
    "\n",
    "$$\n",
    "\\begin{align}\n",
    "& & 0 & = -k_2 [ES] - k_3 [ES]+k_1 ([E](0) - [ES]) [S],\\\\\n",
    "& \\Leftrightarrow & 0 & = -( k_2 + k_3 ) [ES]+k_1 [E](0)[S] - k_1 [ES][S],\\\\\n",
    "& \\Leftrightarrow & 0 & = -( k_2 + k_3 + k_1 [S]) [ES]+k_1 [E](0)[S],\\\\\n",
    "& \\Leftrightarrow & ( k_2 + k_3 + k_1 [S]) [ES]  & = k_1 [E](0)[S],\\\\\n",
    "& \\Leftrightarrow & [ES] & = \\dfrac{k_1 [E](0)[S]}{k_2 + k_3 + k_1 [S]},\\\\\n",
    "& \\Leftrightarrow & [ES] & = \\dfrac{k_1 [E](0)[S]}{k_1 \\left(\\dfrac{k_2 + k_3}{k_1} +  [S]\\right)},\\\\\n",
    "& \\Leftrightarrow & [ES] & = \\dfrac{[E](0)[S]}{\\dfrac{k_2 + k_3}{k_1} +  [S]}.\n",
    "\\end{align}\n",
    "$$\n",
    "\n",
    "Dit resultaat substitueren we in $\\dfrac{d [P]}{d t} = k_3 [ES]$:\n",
    "\n",
    "$$\n",
    "\\dfrac{d [P]}{d t} = k_3 \\dfrac{[E](0)[S]}{\\dfrac{k_2 + k_3}{k_1} +  [S]},\n",
    "$$\n",
    "\n",
    "waar we de constanten $V_{\\text{max}} = k_3 [E](0)$ en $K_m = \\dfrac{k_2 + k_3}{k_1}$ definiëren, om tot\n",
    "\n",
    "$$\n",
    "\\dfrac{d [P]}{d t} = V_{\\text{max}} \\dfrac{[S]}{K_m +  [S]},\n",
    "$$\n",
    "\n",
    "te komen. Via dezelfde substituties kunnen we de differentiaalvergelijking voor $\\dfrac{d [S]}{d t}$ nu vereenvoudigen tot\n",
    "\n",
    "$$\n",
    "\\dfrac{d [S]}{d t} = -V_{\\text{max}} \\dfrac{[S]}{K_m +  [S]}.\n",
    "$$\n",
    "\n",
    "Stel vast dat $[E]$ en $[ES]$ uit onze vergelijkingen verdwenen zijn, en de maatbeker nu volledig beschreven wordt door twee differentiaalvergelijkingen. Deze vergelijking, die onder meer veel gebruikt wordt in de context van enzymkinetiek, wordt de Michaelis-Menten vergelijking genoemd, met $K_m\\,\\left[\\text{µmol}\\,\\text{l}^{-1}\\right]$ de Michaelisparameter en $V_{\\text{max}}\\,\\left[\\text{µmol}\\,\\text{l}^{-1}\\,\\text{h}^{-1}\\right]$ de maximale snelheid. \n"
   ]
  },
  {
   "cell_type": "code",
   "execution_count": 7,
   "metadata": {},
   "outputs": [
    {
     "data": {
      "application/vnd.jupyter.widget-view+json": {
       "model_id": "f0a45719eb424634b562b46fe38642f4",
       "version_major": 2,
       "version_minor": 0
      },
      "text/plain": [
       "interactive(children=(FloatSlider(value=0.5, description='$V_{max}$', layout=Layout(width='50%'), max=1.0, min…"
      ]
     },
     "metadata": {},
     "output_type": "display_data"
    }
   ],
   "source": [
    "\n",
    "swaarden = np.linspace(0,40,100)\n",
    "\n",
    "def animatie(Vmax,Km): \n",
    "\n",
    "    def V(S):   \n",
    "        return Vmax*S/(Km+S)\n",
    "\n",
    "\n",
    "    \n",
    "\n",
    "\n",
    "    \n",
    "    plt.plot(swaarden, V(swaarden),'k')\n",
    "    \n",
    "    plt.plot([0,40], [Vmax,Vmax],'k--')\n",
    "    plt.text(-6, Vmax, '$V_{max}$')\n",
    "    \n",
    "    plt.plot([Km,Km], [0,Vmax/2],'k--')\n",
    "    plt.plot([0,Km], [Vmax/2,Vmax/2],'k--')\n",
    "    plt.text(-7, Vmax/2, '$V_{max}/2$')\n",
    "    plt.text(Km-1, -0.05, '$K_m$')\n",
    "    \n",
    "    plt.ylim(0,1.1)\n",
    "    plt.xlabel('[S] [µmol/l]')\n",
    "    plt.ylabel('V [µmol/l/s]')\n",
    "    plt.show()\n",
    "\n",
    "    \n",
    "interact(animatie\n",
    "        , Vmax=FloatSlider(min=0.1, max=1, step=0.1, value=0.5, description='$V_{max}$', style=style, layout=slider_layout)\n",
    "        , Km=FloatSlider(min=1, max=10, step=1, value=3, description='$K_m$', style=style, layout=slider_layout));"
   ]
  },
  {
   "cell_type": "code",
   "execution_count": 8,
   "metadata": {},
   "outputs": [
    {
     "data": {
      "image/png": "[encoded data removed]",
      "text/plain": [
       "<Figure size 432x288 with 1 Axes>"
      ]
     },
     "metadata": {
      "needs_background": "light"
     },
     "output_type": "display_data"
    }
   ],
   "source": [
    "\n",
    "# ???????????????????\n",
    "#Km=3.6 µmol/h\n",
    "#Vmax=0.144*10**6 µmol/h/µmolE * E(0) µmolE/l\n",
    "\n",
    "# Het is voorlopig niet belangrijk om deze code te begrijpen\n",
    "\n",
    "S0 = 0.01\n",
    "E0 = 10**(-6)\n",
    "P0 = 0\n",
    "init=[S0,P0]\n",
    "\n",
    "k3=0.144*10**6\n",
    "\n",
    "Vmax=k3*E0\n",
    "Km=3.6\n",
    "\n",
    "\n",
    "tijdstippen = np.linspace(0,24*4,100)\n",
    "\n",
    "\n",
    "def dxdt(x,tijd):\n",
    "        S,P = x\n",
    "        dxdt=[-Vmax*S/(Km+S),Vmax*S/(Km+S)]\n",
    "        return dxdt\n",
    "    \n",
    "\n",
    "oplossing = odeint(dxdt,init,tijdstippen)\n",
    "\n",
    "plt.plot(tijdstippen, oplossing[:,0],'g',label='S')\n",
    "plt.plot(tijdstippen, oplossing[:,1],'k',label='P')\n",
    "       \n",
    "plt.ylim(0,S0)\n",
    "plt.xlabel('$t$ [h]')\n",
    "plt.ylabel('[µmol/l]')\n",
    "plt.legend()\n",
    "    \n",
    "plt.show()"
   ]
  },
  {
   "cell_type": "code",
   "execution_count": null,
   "metadata": {},
   "outputs": [],
   "source": []
  }
 ],
 "metadata": {
  "kernelspec": {
   "display_name": "Python 3",
   "language": "python",
   "name": "python3"
  },
  "language_info": {
   "codemirror_mode": {
    "name": "ipython",
    "version": 3
   },
   "file_extension": ".py",
   "mimetype": "text/x-python",
   "name": "python",
   "nbconvert_exporter": "python",
   "pygments_lexer": "ipython3",
   "version": "3.7.4"
  }
 },
 "nbformat": 4,
 "nbformat_minor": 2
}
