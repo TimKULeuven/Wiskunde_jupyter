{
 "cells": [
  {
   "cell_type": "code",
   "execution_count": 58,
   "metadata": {},
   "outputs": [],
   "source": [
    "# VOER BIJ HET OPENEN VAN EEN JUPYTER-NOTEBOOK TELKENS DIT EERSTE BLOKJE CODE UIT\n",
    "# Een blokje code voer je uit door met de cursor in het blok te klikken, en vervolgens SHIFT+ENTER in te drukken.\n",
    "\n",
    "import numpy as np\n",
    "from matplotlib import pyplot as plt\n",
    "from scipy.integrate import odeint\n",
    "\n",
    "from IPython.display import HTML\n",
    "from ipywidgets.widgets import interact, IntSlider, FloatSlider, Layout\n",
    "\n",
    "import sklearn.linear_model as lm\n",
    "\n",
    "%matplotlib inline\n",
    "plt.rcParams['figure.figsize'] = [12, 8] \n",
    "\n",
    "style = {'description_width': '150px'}\n",
    "slider_layout = Layout(width='50%')"
   ]
  },
  {
   "cell_type": "markdown",
   "metadata": {},
   "source": [
    "# Hoofdstuk 1- Farmacokinetiek"
   ]
  },
  {
   "cell_type": "markdown",
   "metadata": {},
   "source": [
    "*OPMERKING TIM: verkiezen we hier om de eenheden $D$ [mg] en $V_d$ [l] te hanteren, of $D$ [mg/kg lichaamsgewicht] en $V_d$ [l/kg lichaamsgewicht]? De tweede optie lijkt me algemener, omdat eenzelfde dosis geneesmiddel toch een kleinere plasmaconcentratie moet opleveren voor een groter persoon dan voor een kleiner persoon. In dit geval moeten er in dit hoofdstuk enkele omzettingen gebeuren*"
   ]
  },
  {
   "cell_type": "markdown",
   "metadata": {},
   "source": [
    "## 1.1- Introductie"
   ]
  },
  {
   "cell_type": "markdown",
   "metadata": {},
   "source": [
    "Wanneer men een geneesmiddel toedient, is het belangrijk te weten hoe de concentratie van dit geneesmiddel in het lichaam zal evolueren doorheen de tijd, zodat de concentratie voldoende lang hoog kan zijn, om een therapeutisch effect te kunnen veroorzaken, zonder de minimale toxische concentratie te overschrijden. De farmacokinetiek beantwoordt deze vraagstellingen, door gebruik te maken van experimentele data en wiskundige modellen. Hierbij probeert men vaak de plasmaconcentratie van het geneesmiddel, $c_p\\,\\left[\\text{mol}\\,\\text{l}^{-1}\\right]$ of $\\left[\\text{g}\\,\\text{l}^{-1}\\right]$, doorheen de tijd te voorspellen, in de onderstelling dat deze een goede afspiegeling is voor de concentratie van het geneesmiddel in andere lichaamsvloeistoffen en weefsels waar men minder gemakkelijk metingen kan doen."
   ]
  },
  {
   "cell_type": "markdown",
   "metadata": {},
   "source": [
    "<img src=\"figs/Meropenem.png\" width=300 />"
   ]
  },
  {
   "cell_type": "markdown",
   "metadata": {},
   "source": [
    "Het breedspectrum antibioticum meropenem kan via IV bolus-injectie toegediend worden om een variëteit aan bacteriële infecties, zoals meningitis of pneumonie, te behandelen. Net als bij andere $\\beta$-lactamantibiotica, is het behangrijk dat meropenem voldoende lang de minimale inhiberende concentratie (i.e. de minimale concentratie waarmee een stof aanwezig moet zijn opdat ze de groei van bepaalde bacteriën zou stoppen) overschrijdt, terwijl hoge doseringen anderzijds toxisch zijn, en de kans op beroertes vergroten. Om een correcte dosis te bepalen, kan men het concentratieverloop van meropenem in de patiënt voorspellen door middel van volgend eenvoudig model, gegeven door een [exponentiële functie](./T1-Functies.ipynb):\n",
    "\n",
    "$$\n",
    "\t\tc_p = \\dfrac{D}{V_d} e^{-k t},\n",
    "$$\n",
    "\t\t\n",
    "met \n",
    "\n",
    "* $c_p\\,\\left[\\text{mg}\\,\\text{l}^{-1}\\right]$ de plasmaconcentratie, \n",
    "* $D\\,\\left[\\text{mg}\\right]$ de dosis die aan de patiënt werd toegediend, \n",
    "* $V_d\\,\\left[\\text{l}\\right]$ het distributievolume, een fictief volume, dat een maat is voor de verdeling van het geneesmiddel over de weefsels ten opzichte van het bloedplasma: hoe hoger $V_d$, hoe liever het geneesmiddel zich in de weefsels bevindt in plaats van in het bloedplasma. Wanneer men dus aan eenzelfde patiënt eenzelfde dosis toedient van een geneesmiddel met lage $V_d$ en een geneesmiddel met hoge $V_d$, zal men het geneesmiddel met hoge $V_d$ voornamelijk in de weefsels terugvinden, en het geneesmiddel met lage $V_d$ voornamelijk in het bloedplasma.\n",
    "* $k\\,\\left[\\text{h}^{-1}\\right]$ de eliminatieconstante, een maat voor de snelheid waarmee het geneesmiddel in het lichaam wordt afgebroken: hoe groter $k$, hoe sneller het geneesmiddel uit het lichaam verwijderd wordt.\n",
    "* en $t\\,\\left[\\text{h}\\right]$ de tijd.\n",
    "\t\t\n",
    "Op basis van experimentele data heeft men vastgesteld dat voor meropenem $V_d = 21$ en $k=0.7$ geldt. Laten we even onderstellen dat een dosis $D = 500$ wordt toegediend.\n",
    "        "
   ]
  },
  {
   "cell_type": "code",
   "execution_count": 31,
   "metadata": {},
   "outputs": [
    {
     "name": "stdout",
     "output_type": "stream",
     "text": [
      "11.82345961408118\n"
     ]
    }
   ],
   "source": [
    "# Hier volgt een blokje code, geschreven in de programmeertaal Python, dat ons toelaat dit model te evalueren\n",
    "# voor gegeven waarden D, Vd, k en t.\n",
    "\n",
    "# Wanneer aan een regel code een hekje vooraf gaat, voert de computer deze code niet uit. Hierdoor\n",
    "# krijgen we de kans commentaar bij de code toe te voegen, zonder dat deze de computer beïnvloedt.\n",
    "\n",
    "# Laten we bovenstaand model omzetten naar Python-code. We willen een Python-functie, die voor een gegeven t de\n",
    "# corresponderende modelvoorspelling cp geeft.\n",
    "\n",
    "# Eerst laten we de computer weten welke waarden voor D, Vd en k gebruikt mogen worden:\n",
    "\n",
    "D = 500\n",
    "Vd = 21\n",
    "k = 0.7\n",
    "\n",
    "# Nu definiëren we een Python-functie, die een waarde voor t ontvangt, \n",
    "\n",
    "def cp(t):\n",
    "    \n",
    "    # en eisen we dat deze functie, via de bewerking D/Vd*e^(-kt), de corresponderende waarde voor cp berekent.\n",
    "    cp = D/Vd*np.exp(-k*t)\n",
    "    # merk op dat de ingebouwde Python functie np.exp(x) de exponentiële van \"x\" berekent.\n",
    "    \n",
    "    # Wanneer de functie cp op een waarde voor t wordt losgelaten, moet ze en de resulterende waarde voor cp \n",
    "    # terug geven (eng: to return)\n",
    "    return cp\n",
    "\n",
    "\n",
    "\n",
    "# Laten we de functie eens testen door ze los te laten op t=1, en het resultaat uit te printen naar het scherm:\n",
    "\n",
    "print(cp(1))\n",
    "\n",
    "# Voer dit blok code uit door met de cursor in het blok te klikken, en vervolgens SHIFT+ENTER in te drukken.\n"
   ]
  },
  {
   "cell_type": "markdown",
   "metadata": {},
   "source": [
    "Je zou nu met de rekenmachine kunnen nagaan dat inderdaad\n",
    "\n",
    "$$\n",
    "\\dfrac{500}{21} e^{-0.7 \\times 1} = 11.823.\n",
    "$$\n",
    "\n",
    "We kunnen de functie natuurlijk ook bij $t=2$ evalueren. Welk resultaat bekom je bij $t=2.4$?"
   ]
  },
  {
   "cell_type": "code",
   "execution_count": 32,
   "metadata": {},
   "outputs": [
    {
     "name": "stdout",
     "output_type": "stream",
     "text": [
      "5.871356284323964\n"
     ]
    }
   ],
   "source": [
    "print(cp(2))"
   ]
  },
  {
   "cell_type": "code",
   "execution_count": 33,
   "metadata": {},
   "outputs": [
    {
     "name": "stdout",
     "output_type": "stream",
     "text": [
      "[0. 1. 2. 3. 4. 5.]\n"
     ]
    }
   ],
   "source": [
    "# Het zou nu interessant zijn de functie op een hele hoop tijdstippen te evalueren, en de resulterende waarden voor cp tegen de\n",
    "# tijd uit te zetten, om een figuur voor cp in functie van de tijd te bekomen.\n",
    "\n",
    "# De ingebouwde Python-functie np.linspace(start,eind,aantal) laat ons toe een vector met een \"aantal\" waarden te maken\n",
    "# die begint bij \"start\", en eindigt bij \"eind\".\n",
    "\n",
    "# Laten we met behulp van deze ingebouwde functie 6 tijdstippen verzamelen, startend bij 0, en eindigend bij 5. Deze vector\n",
    "# slaan we dan op in \"tijdstippen\".\n",
    "\n",
    "tijdstippen = np.linspace(0,5,6)\n",
    "\n",
    "print(tijdstippen)"
   ]
  },
  {
   "cell_type": "code",
   "execution_count": 34,
   "metadata": {},
   "outputs": [
    {
     "name": "stdout",
     "output_type": "stream",
     "text": [
      "[23.80952381 11.82345961  5.87135628  2.91562924  1.44785863  0.71898532]\n"
     ]
    }
   ],
   "source": [
    "# We kunnen nu onze Python-functie cp(t) eenvoudigweg op deze tijdstippen toepassen met behulp van\n",
    "\n",
    "cp(tijdstippen)\n",
    "\n",
    "# Om het resultaat later te kunnen gebruiken, slaan we het op in \"cpwaarden\":\n",
    "\n",
    "cpwaarden = cp(tijdstippen)\n",
    "\n",
    "print(cpwaarden)\n",
    "\n",
    "# Herken je de waarden voor t=1 en t=2 uit voorgaande opgaves?"
   ]
  },
  {
   "cell_type": "code",
   "execution_count": 59,
   "metadata": {},
   "outputs": [
    {
     "data": {
      "image/png": "[encoded data removed]",
      "text/plain": [
       "<Figure size 864x576 with 1 Axes>"
      ]
     },
     "metadata": {
      "needs_background": "light"
     },
     "output_type": "display_data"
    }
   ],
   "source": [
    "# Met behulp van de ingebouwde Python-functie plt.plot(x,y) kunnen we een vector met waarden \"y\" uittekenen tegen\n",
    "# een vector met waarden \"x\". Laten we deze functie gebruiken om de \"cpwaarden\" tegen de \"tijdstippen\" uit te zetten.\n",
    "\n",
    "plt.plot(tijdstippen,cpwaarden)\n",
    "\n",
    "# Vervolgens tonen (eng: to show) we de resulterende figuur, zodat deze naar het scherm wordt geprint.\n",
    "\n",
    "plt.show()\n",
    "\n",
    "# Stel vast dat plt.plot(x,y) de ruimte tussen de punten automatisch met een blauwe lijn verbindt."
   ]
  },
  {
   "cell_type": "code",
   "execution_count": 60,
   "metadata": {},
   "outputs": [
    {
     "data": {
      "image/png": "[encoded data removed]",
      "text/plain": [
       "<Figure size 864x576 with 1 Axes>"
      ]
     },
     "metadata": {
      "needs_background": "light"
     },
     "output_type": "display_data"
    }
   ],
   "source": [
    "# Onze figuur ziet er nog wat hoekig uit. Laten we dit verhelpen door onze Python-functie cp(t) op meer tijdstippen te\n",
    "# evalueren. We verzamelen nu 100 tijdstippen, startend bij 0, en eindigend bij 5.\n",
    "\n",
    "\n",
    "tijdstippen= np.linspace(0,5,100)\n",
    "\n",
    "# en laten er onze functie op los.\n",
    "\n",
    "cpwaarden = cp(tijdstippen)\n",
    "\n",
    "# We zetten de resulterende cpwaarden tegen de tijdstippen uit,\n",
    "\n",
    "plt.plot(tijdstippen,cpwaarden)\n",
    "\n",
    "# voegen een x- en y-label toe\n",
    "\n",
    "plt.xlabel('t [h]')\n",
    "plt.ylabel('$c_p$ [mg/l]')\n",
    "\n",
    "# en printen de figuur naar het scherm. \n",
    "\n",
    "plt.show()"
   ]
  },
  {
   "cell_type": "markdown",
   "metadata": {},
   "source": [
    "* Hoe krijgen we een figuur die tot tijdstip $t=10$ loopt?"
   ]
  },
  {
   "cell_type": "code",
   "execution_count": 61,
   "metadata": {},
   "outputs": [
    {
     "data": {
      "image/png": "[encoded data removed]",
      "text/plain": [
       "<Figure size 864x576 with 1 Axes>"
      ]
     },
     "metadata": {
      "needs_background": "light"
     },
     "output_type": "display_data"
    }
   ],
   "source": [
    "# We nemen nu 100 waarden in het interval [0,10],\n",
    "\n",
    "\n",
    "tijdstippen= np.linspace(0,10,100)\n",
    "\n",
    "# en laten er onze functie op los.\n",
    "\n",
    "cpwaarden = cp(tijdstippen)\n",
    "\n",
    "# We zetten de resulterende cpwaarden tegen de tijdstippen uit,\n",
    "\n",
    "plt.plot(tijdstippen,cpwaarden)\n",
    "\n",
    "# voegen een x- en y-label toe\n",
    "\n",
    "plt.xlabel('t [h]')\n",
    "plt.ylabel('$c_p$ [mg/l]')\n",
    "\n",
    "# en printen de figuur naar het scherm. \n",
    "\n",
    "plt.show()"
   ]
  },
  {
   "cell_type": "markdown",
   "metadata": {},
   "source": [
    "* Hoe krijgen we een figuur bij $D=700$?"
   ]
  },
  {
   "cell_type": "code",
   "execution_count": 62,
   "metadata": {},
   "outputs": [
    {
     "data": {
      "image/png": "[encoded data removed]",
      "text/plain": [
       "<Figure size 864x576 with 1 Axes>"
      ]
     },
     "metadata": {
      "needs_background": "light"
     },
     "output_type": "display_data"
    }
   ],
   "source": [
    "# Een tijd geleden hebben we D=500 gedefinieerd in de code. Deze waarde voor D werd vervolgens in onze Python-functie\n",
    "# cp(t) gebruikt. Schrijven we nu\n",
    "\n",
    "D=700\n",
    "\n",
    "# dan wordt overal in dit document de waarde voor D vervangen door 700, ook in de eerder gedefinieerde Python-functie cp(t),\n",
    "# waardoor\n",
    "\n",
    "cpwaarden = cp(tijdstippen)\n",
    "\n",
    "# dus waarden levert bij D=700.\n",
    "\n",
    "plt.plot(tijdstippen,cpwaarden)\n",
    "plt.xlabel('t [h]')\n",
    "plt.ylabel('$c_p$ [mg/l]')\n",
    "plt.show()\n",
    "\n",
    "# Stel vast dat de plasmaconcentratie op tijdstip nul inderdaad hoger ligt, omdat we de patiënt een hogere dosis hebben\n",
    "# toegediend."
   ]
  },
  {
   "cell_type": "markdown",
   "metadata": {},
   "source": [
    "## 1.2- Verkennend rekenwerk"
   ]
  },
  {
   "cell_type": "markdown",
   "metadata": {},
   "source": [
    "Wanneer we een IV bolus toedienen met een ander geneesmiddel dan meropenem, kunnen we vaak ook het model\n",
    "\n",
    "$$\n",
    "  c_p= \\dfrac{D}{V_d} e^{-k t},\n",
    "$$\n",
    "\n",
    "gebruiken om de plasmaconcentratie in kaart te brengen. We dienen dan wel andere waarden voor $k$ en $V_d$ te hanteren, want deze zijn uniek voor elk geneesmiddel. Waar bijvoorbeeld uit experimentele data bleek dat voor meropenem $k=0.7$ en $V_d=21$ geldt, vindt men voor het breedspectrum antibioticum doxycycline $k=0.03$ en $V_d=40$."
   ]
  },
  {
   "cell_type": "markdown",
   "metadata": {},
   "source": [
    "We maken nu een interactieve afbeelding, waar we met behulp van sliders parameterwaarden kunnen aanpassen. Dit helpt ons om de invloed van de parameterwaarden op de modelvoorspelling te bestuderen, om zodoende na te gaan of een aanpassing van de parameterwaarden inderdaad strookt met wat we in de realiteit verwachten. Specifiek in deze context willen we begrijpen hoe de geneesmiddelspecifieke waarden voor $k$ en $V_d$ het plasmaconcentratieverloop van het geneesmiddel beïnvloeden."
   ]
  },
  {
   "cell_type": "code",
   "execution_count": 63,
   "metadata": {},
   "outputs": [
    {
     "data": {
      "application/vnd.jupyter.widget-view+json": {
       "model_id": "5c0cd14d7e0c41c3933fb5c4db249bb2",
       "version_major": 2,
       "version_minor": 0
      },
      "text/plain": [
       "interactive(children=(FloatSlider(value=500.0, description='$D$', layout=Layout(width='50%'), max=700.0, min=2…"
      ]
     },
     "metadata": {},
     "output_type": "display_data"
    }
   ],
   "source": [
    "# We maken een interactieve afbeelding. Het is niet erg belangrijk om onderstaande code volledig te begrijpen.\n",
    "\n",
    "tijdstippen= np.linspace(0,10,100)\n",
    "\n",
    "# We definiëren een nieuwe Python-functie, \"animatie\", die op basis van de waarden voor D, Vd en k die ze binnenkrijgt,\n",
    "# een figuur met de modelvoorspellingen bij deze parameterwaarden teruggeeft. Straks zullen we de ingebouwde Python-functie\n",
    "# \"interact\" gebruiken om een interactieve slider te maken, waarmee we de waarden voor D, Vd en k die onze \"animatie\"-functie\n",
    "# binnenkrijgt kunnen aanpassen.\n",
    "\n",
    "def animatie(D,Vd,k):\n",
    "    \n",
    "    # We wensen binnen de functie dus een figuur met modelvoorspellingen te maken voor gegeven D, Vd en k. Dit deden we\n",
    "    # al in voorgaande blokjes code.\n",
    "    \n",
    "    \n",
    "    # We definiëren het model voor de plasmaconcentratie bij de gegeven waarden voor D, Vd en k,\n",
    "    def cp(t):\n",
    "        return D/Vd*np.exp(-k*t)\n",
    "  \n",
    "    # om daarna cp(t) te evalueren bij de eerder gekozen tijdstippen, en het resultaat in een figuur te gieten.\n",
    "    \n",
    "    plt.plot(tijdstippen,cp(tijdstippen))\n",
    "    \n",
    "    # We laten bovendien ook weten dat de y-as steeds van 0 to 30 moet lopen. Omdat het model voor verschillende \n",
    "    # D, Vd en k steeds waarden van een andere grootte zal voorspellen, en de ingebouwde Python-functie plt.plot\n",
    "    # er automatisch voor zorgt dat de y-as precies loopt tot de grootste te plotten waarde, is het hier handig om\n",
    "    # te stellen dat de y-as steeds tussen vaste waarden moet lopen, opdat de y-as niet steeds van schaal zou veranderen\n",
    "    # wanneer we met de slider andere waarden voor D, Vd en k kiezen.\n",
    "    # De ingebouwde Python-functie plt.ylim(a,b) laat ons toe de y-as te limiteren van \"a\" tot \"b\".\n",
    "    plt.ylim(0,30)\n",
    "    \n",
    "    plt.xlabel('t [h]')\n",
    "    plt.ylabel('$c_p$ [mg/l]')\n",
    "    plt.show()\n",
    "    \n",
    "    \n",
    "# We gebruiken nu de ingebouwde Python-functie \"interact\", die ons toelaat te interageren met onze functie \"animatie\", door\n",
    "# sliders aan te maken.\n",
    "    \n",
    "interact(animatie,\n",
    "         # De slider voor D loopt van 200 tot 700 mg, in stappen van 100, en staat in het begin op 500\n",
    "         D=FloatSlider(min=200, max=700, step=100, value=500, description='$D$', layout=slider_layout)\n",
    "         # De slider voor Vd loopt van 10 tot 40 l, in stappen van 5, en staat in het begin op 20\n",
    "        , Vd=FloatSlider(min=10, max=40,step=5, value=20, description='$V_d$', layout=slider_layout)\n",
    "        , k=FloatSlider(min=0.1, max=1.5,step=0.1, value=0.5, description='$k$', layout=slider_layout));"
   ]
  },
  {
   "cell_type": "markdown",
   "metadata": {},
   "source": [
    "* Maak gebruik van bovenstaande interactieve figuur om de invloed van $D$, $V_d$ en $k$ op het verloop van $c_p= \\dfrac{D}{V_d} e^{-k t}$ na te gaan. Welke invloed heeft een aanpassing van de dosis, $D\\,\\left[\\text{mg}\\right]$, het distributievolume, $V_d\\,\\left[\\text{l}\\right]$, of de eliminatieconstante, $k\\,\\left[\\text{h}^{-1}\\right]$, op de modelvoorspelling voor de plasmaconcentratie van een geneesmiddel, $c_p\\,\\left[\\text{mg}\\,\\text{l}^{-1}\\right]$? Strookt dit met je intuïtie, met wat je in de realiteit verwacht?\n",
    "\n",
    "* Wordt een dosis doxycycline sneller of trager uit het lichaam gezet dan eenzelfde dosis meropenem?\n",
    "\n",
    "* Welke parameters beïnvloeden de plasmaconcentratie op tijdstip nul, $c_p(0)$? Strookt dit met je intuïtie? Tracht aan de hand van het model, $c_p= \\dfrac{D}{V_d} e^{-k t}$, een uitdrukking te vinden voor $c_p(0)$."
   ]
  },
  {
   "cell_type": "markdown",
   "metadata": {},
   "source": [
    "Wanneer we met een hogere dosis, $D$, beginnen, komt de volledige curve hoger te liggen. Hoewel de omstandigheden precies dezelfde zijn, duurt het langer om meer van hetzelfde geneesmiddel af te breken. Een hoger distributievolume, $V_d$, verlaagt de curve. Dit strookt met de definitie van het distributievolume, die stelt dat geneesmiddelen met een hoger distributievolume eerder in de weefsels zullen huizen dan in het bloedplasma. Een hogere eliminatieconstante, $k$, zorgt ervoor dat het geneesmiddel sneller wordt afgebroken, waardoor de curve sneller daalt. \n",
    "\n",
    "Voor doxycycline geldt $k=0.03$, terwijl voor meropenem $k=0.7$. Het doxycycline wordt dan ook veel trager uit het lichaam verwijderd.\n",
    "\n",
    "\n",
    "Om een uitdrukking voor de waarde van $c_p(0)$ te vinden, vullen we in het model $t=0$ in. We krijgen:\n",
    "$$\n",
    "c_p(0)= \\dfrac{D}{V_d} e^{-k \\times 0} = \\dfrac{D}{V_d} e^{ 0}  = \\dfrac{D}{V_d} \\times 1 = \\dfrac{D}{V_d},\n",
    "$$\n",
    "en stellen inderdaad vast dat $k$ geen invloed heeft op $c_p(0)$. Dit is logisch, omdat $k$ weergeeft hoe snel het geneesmiddel wordt afgebroken, terwijl de afbraakwerkzaamheden op tijdstip $t=0$, net na toediening van het geneesmiddel, nog niet, of nog maar heel kort, begonnen zijn. "
   ]
  },
  {
   "cell_type": "markdown",
   "metadata": {},
   "source": [
    "## 1.3- De plasmaconcentratie na zeer lange tijd"
   ]
  },
  {
   "cell_type": "markdown",
   "metadata": {},
   "source": [
    "We wensen na te gaan hoe de plasmaconcentratie aan meropenem er, zeer lang nadat een dosis $D=500$ van het geneesmiddel werd toegediend, uit ziet. Laten we daarom een nieuwe figuur maken, waarbij we de parameters $k=0.7$ en $V_d=21$ die voor meropenem gelden invullen, en laten we daarop de plasmaconcentratie tot 100 uur na toediening uitzetten."
   ]
  },
  {
   "cell_type": "code",
   "execution_count": 64,
   "metadata": {},
   "outputs": [
    {
     "data": {
      "image/png": "[encoded data removed]",
      "text/plain": [
       "<Figure size 864x576 with 1 Axes>"
      ]
     },
     "metadata": {
      "needs_background": "light"
     },
     "output_type": "display_data"
    }
   ],
   "source": [
    "# We geven de parameterwaarden in\n",
    "\n",
    "D=500\n",
    "Vd=21\n",
    "k=0.7\n",
    "\n",
    "# We nemen 200 waarden in het tijdsinterval [0,100]\n",
    "\n",
    "tijdstippen= np.linspace(0,100,200)\n",
    "\n",
    "# We evalueren onze Python-functie cp(t) bij deze tijdstippen, en zetten het resultaat in een figuur.\n",
    "\n",
    "plt.plot(tijdstippen,cp(tijdstippen))\n",
    "plt.xlabel('t [h]')\n",
    "plt.ylabel('$c_p$ [mg/l]')\n",
    "plt.show()"
   ]
  },
  {
   "cell_type": "markdown",
   "metadata": {},
   "source": [
    "Het lijkt er op dat de plasmaconcentratie steeds dichter naar nul neigt. Laten we een beter kijkje nemen door dezelfde modelvoorspellingen te plotten, maar ondertussen de de y-as tussen 0 en 1 te beperken."
   ]
  },
  {
   "cell_type": "code",
   "execution_count": 65,
   "metadata": {},
   "outputs": [
    {
     "data": {
      "image/png": "[encoded data removed]",
      "text/plain": [
       "<Figure size 864x576 with 1 Axes>"
      ]
     },
     "metadata": {
      "needs_background": "light"
     },
     "output_type": "display_data"
    }
   ],
   "source": [
    "plt.plot(tijdstippen,cp(tijdstippen))\n",
    "\n",
    "# De ingebouwde Python-functie plt.ylim(a,b) laat ons toe de y-as te limiteren tussen \"a\" en \"b\".\n",
    "plt.ylim(0,1)\n",
    "plt.xlabel('t [h]')\n",
    "plt.ylabel('$c_p$ [mg/l]')\n",
    "plt.show()"
   ]
  },
  {
   "cell_type": "markdown",
   "metadata": {},
   "source": [
    "Ons vermoeden wordt bevestigd. Niets houdt je bovendien tegen om bovenstaande figuur aan te passen, zodat de y-as bijvoorbeeld tussen 0 en 0.01 loopt.\n",
    "\n",
    "* Strookt ons vermoeden met je verwachting?\n",
    "\n",
    "* Kan je ons vermoeden hard maken aan de hand van de uitdrukking van het model, $c_p= \\dfrac{D}{V_d} e^{-k t}$?"
   ]
  },
  {
   "cell_type": "markdown",
   "metadata": {},
   "source": [
    "Hoe meer tijd er voorbijgaat, hoe meer geneesmiddel er reeds afgebroken is, en hoe lager de plasmaconcentratie. Het model gaat hiermee akkoord. Indien we steeds grotere waarden voor $t$ invullen, wordt $e^{kt}$ met $k>0$ steeds groter, en $e^{-kt} = \\dfrac{1}{e^{kt}}$ dus steeds kleiner (Zie [exponentiële functies](./T1-Functies.ipynb)). Hetzelfde lot moet dus ook $c_p= \\dfrac{D}{V_d} e^{-k t}$, met $D, V_d >0$, beschoren zijn voor steeds groter wordende $t$. Wiskundig maken we dit concreet door de [limiet](./T2-Limieten.ipynb) te berekenen van $c_p= \\dfrac{D}{V_d} e^{-k t}$, voor $t\\rightarrow \\infty$. Dit betekent dat we de onafhankelijke veranderlijke $t$ oneindig groot laten worden, en proberen te bedenken wat er in die situatie gebeurt. We noteren dit als\n",
    "\n",
    "$$\n",
    "\\lim_{t\\rightarrow \\infty} c_p(t) =\\lim_{t\\rightarrow \\infty} \\dfrac{D}{V_d} e^{-k t}.\n",
    "$$\n",
    "\n",
    "Uit bovenstaande redenering, waarin we $t$ steeds groter laten worden, weten we dat $\\dfrac{D}{V_d} e^{-k t}$ steeds kleiner wordt en dus steeds dichter naar nul moet neigen als $t$ groter wordt. We schrijven dan\n",
    "\n",
    "$$\n",
    "\\lim_{t\\rightarrow \\infty} c_p(t) =\\lim_{t\\rightarrow \\infty} \\dfrac{D}{V_d} e^{-k t}=0,\n",
    "$$\n",
    "\n",
    "wat we ook op basis van de [rekenregels voor limieten](./T2-Limieten.ipynb) bevestigd kunnen zien. Onafhankelijk van de waarden voor $k>0$ en $V_d>0$, onafhankelijk van $D>0$, gaat de plasmaconcentratie van geneesmiddelen die zich volgens het model $c_p= \\dfrac{D}{V_d} e^{-k t}$ gedragen, na lange tijd steeds naar nul."
   ]
  },
  {
   "cell_type": "markdown",
   "metadata": {},
   "source": [
    "## 1.4- De halfwaardetijd"
   ]
  },
  {
   "cell_type": "markdown",
   "metadata": {},
   "source": [
    "De halfwaardetijd is de tijd waarna van de oorspronkelijke hoeveelheid geneesmiddel in het lichaam nog precies de helft over is. Deze tijd vormt binnen de farmacokinetiek een belangrijke maat, die informeert over hoe snel het lichaam een bepaald geneesmiddel elimineert.\n",
    "\n",
    "Enkele paragrafen terug bepaalden we dat voor ons model $c_p(0)=\\dfrac{D}{V_d}$ geldt. De halfwaardetijd is dus de tijd die nodig is om de plasmaconcentratie van het originele $c_p(0)=\\dfrac{D}{V_d}$ naar $c_p=\\dfrac{1}{2}\\dfrac{D}{V_d}$ terug te brengen.\n",
    "\n",
    "Laten we de halfwaardetijd onderzoeken door een interactieve figuur te maken, waarop nu ook de helft van de initiële concentratie, $c_p=\\dfrac{1}{2}\\dfrac{D}{V_d}$, staat afgebeeld."
   ]
  },
  {
   "cell_type": "code",
   "execution_count": 71,
   "metadata": {},
   "outputs": [
    {
     "data": {
      "application/vnd.jupyter.widget-view+json": {
       "model_id": "6acbe226db7d4044883155bf5cb72c5b",
       "version_major": 2,
       "version_minor": 0
      },
      "text/plain": [
       "interactive(children=(FloatSlider(value=500.0, description='$D$', layout=Layout(width='50%'), max=700.0, min=2…"
      ]
     },
     "metadata": {},
     "output_type": "display_data"
    }
   ],
   "source": [
    "tijdstippen= np.linspace(0,10,100)\n",
    "\n",
    "def animatie(D,Vd,k):\n",
    "\n",
    "    def cp(t):\n",
    "        return D/Vd*np.exp(-k*t)\n",
    "  \n",
    "    \n",
    "    # Zoals voorheen zetten we voor gegeven D, Vd en k de modelvoorspellingen uit tegen de tijdstippen. We voegen hier\n",
    "    # ook een label toe aan de lijn die we uitzetten, omdat we straks een tweede lijn plotten, en we geen verwarring\n",
    "    # willen zaaien.\n",
    "    plt.plot(tijdstippen,cp(tijdstippen), label='het model')\n",
    "    \n",
    "    \n",
    "    # We wensen ook een horizontale lijn te plotten, die de helft van de initiële plasmaconcentratie, gegeven\n",
    "    # door D/Vd/2, aangeeft. We gebruiken hiertoe de ingebouwde Python-functie plt.axhline(y=hoogte), die een \n",
    "    # horizontale lijn uitzet ter hoogte van \"hoogte\":\n",
    "    \n",
    "    plt.axhline(y=D/Vd/2, color='green', label='$\\dfrac{1}{2}\\dfrac{D}{V_d}$')\n",
    "    # We hebben er hierboven voor gekozen de lijn een groene kleur te geven\n",
    "    plt.ylim(0,30)\n",
    "    plt.xlabel('t [h]')\n",
    "    plt.ylabel('$c_p$ [mg/l]')\n",
    "    # Met de ingebouwde Python-functie plt.legend() vragen we python om op basis van meegeleverde labels een legende\n",
    "    # te maken.\n",
    "    plt.legend()\n",
    "    plt.show()\n",
    "    \n",
    "    \n",
    "    \n",
    "interact(animatie, D=FloatSlider(min=200, max=700, step=100, value=500, description='$D$', layout=slider_layout)\n",
    "        , Vd=FloatSlider(min=10, max=40,step=5, value=20, description='$V_d$', layout=slider_layout)\n",
    "        , k=FloatSlider(min=0.1, max=1.5,step=0.1, value=0.5, description='$k$', layout=slider_layout));"
   ]
  },
  {
   "cell_type": "markdown",
   "metadata": {},
   "source": [
    "* Hoe kunnen we de halfwaardetijd van een geneesmiddel aflezen op de figuur?\n",
    "* Welke parameters beïnvloeden de halfwaardetijd van een geneesmiddel?\n",
    "* Heeft doxycycline ($k=0.03$ en $V_d=40$) of meroprenem ($k=0.7$ en $V_d=21$) de hoogste halfwaardetijd?\n",
    "* Hoe kunnen we de halfwaardetijd van een geneesmiddel exact berekenen op basis van het model, $c_p= \\dfrac{D}{V_d} e^{-k t}$?\n",
    "\n",
    "De halfwaardetijd wordt gegeven door het tijdstip waarop de helft van het geneesmiddel dat initieel in het lichaam aanwezig was, is afgebroken, of dus het tijdstip waarop de modelvoorspelling precies de helft van de initiële plasmaconcentratie aangeeft. We lezen dit af als het tijdstip waarop de groene en blauwe lijnen elkaar snijden. \n",
    "\n",
    "Het spreekt voor zich dat de eliminatieconstante, $k$, die aangeeft hoe snel een geneesmiddel wordt afgebroken, de halfwaardetijd beïnvloedt. Misschien is het verrassend dat $V_d$ en $D$ de halfwaardetijd niet beïnvloeden, maar ook dit is logisch te verklaren. Indien we de dosis vergroten, moet het lichaam evenredig meer geneesmiddel afbreken om de concentratie tot de helft van de initiële concentratie terug te brengen. Voorts heeft het distributievolume geen impact op de snelheid waarmee een geneesmiddel wordt afgebroken, het vertelt ons alleen de verhouding tussen de hoeveelheid geneesmiddel in de weefsels ten opzichte van in het plasma.\n",
    "\n",
    "\n",
    "Om de halfwaardetijd exact te berekenen, vragen we aan het model op welk tijdstip de plasmaconcentratie, $c_p$, precies gelijk is aan $\\dfrac{1}{2}\\dfrac{D}{V_d}$. We vinden\n",
    "\n",
    "$$\n",
    "\\begin{align}\n",
    "& & c_p = \\dfrac{D}{V_d} e^{-k t} &= \\frac{1}{2}\\frac{D}{V_d},\\\\\n",
    "& \\Leftrightarrow &e^{-k t}  &=\\frac{1}{2} ,\\\\\n",
    "& \\Leftrightarrow &\\ln \\left(e^{-k t}\\right)  &=\\ln \\left( \\frac{1}{2}\\right),\\\\\n",
    "& \\Leftrightarrow &-k t  &=\\ln \\left( \\frac{1}{2}\\right),\\\\\n",
    "& \\Leftrightarrow &t &=-\\frac{1}{k}\\ln \\left( \\frac{1}{2}\\right) ,\\\\\n",
    "\\end{align}\n",
    "$$\n",
    "\n",
    "waar we handig gebruik maakten van het feit dat $\\ln (e^x) = x$ door van linker- en rechterlid het natuurlijk logaritme te nemen (Zie [het logaritme](./T1-Functies.ipynb)).\n",
    "\n",
    "Zoals verwacht op basis van de studie van de interactieve figuur, blijkt dat de halfwaardetijd van een geneesmiddel dat door ons model beschreven kan worden, enkel afhankelijk is van $k$, en niet van $D$ of $V_d$. Bovendien levert een grotere $k$ een kleinere halfwaardetijd op.\n",
    "\n",
    "We kunnen nu bijvoorbeeld de halfwaardetijd voor meroprenem expliciet berekenen door $k=0.7$ in te vullen:\n",
    "\n",
    "$$\n",
    "t = -\\frac{1}{0.7}\\ln \\left( \\frac{1}{2}\\right) = 0.9902.\n",
    "$$\n",
    "\n",
    "Dit resultaat kunnen we natuurlijk ook in Python berekenen:"
   ]
  },
  {
   "cell_type": "code",
   "execution_count": 48,
   "metadata": {},
   "outputs": [
    {
     "name": "stdout",
     "output_type": "stream",
     "text": [
      "0.990210257942779\n"
     ]
    }
   ],
   "source": [
    "print(-1/0.7*np.log(1/2)) \n",
    "# Merk op dat de ingebouwde Python-functie om het natuurlijk logaritme van x te berekenen, dus ln(x), gegeven wordt\n",
    "# door np.log(x)! Dit is verwarrend, omdat in onze regionen het natuurlijk logaritme als ln(x) genoteerd wordt, terwijl\n",
    "# het logaritme met grondtal 10, het Briggse logaritme, vaak als log(x). Houd hier dus rekening mee!\n",
    "# (Het logarimtme met grondtal 10 berekenen we in Python trouwens met behulp van de functie np.log10(x))"
   ]
  },
  {
   "cell_type": "markdown",
   "metadata": {},
   "source": [
    "* Bereken de halfwaardetijd van doxycycline ($k=0.03$ en $V_d=40$)."
   ]
  },
  {
   "cell_type": "code",
   "execution_count": 49,
   "metadata": {},
   "outputs": [
    {
     "name": "stdout",
     "output_type": "stream",
     "text": [
      "23.104906018664845\n"
     ]
    }
   ],
   "source": [
    "print(-1/0.03*np.log(1/2)) "
   ]
  },
  {
   "cell_type": "markdown",
   "metadata": {},
   "source": [
    "$$\n",
    "t = -\\frac{1}{0.03}\\ln \\left( \\frac{1}{2}\\right) = 23.1049.\n",
    "$$"
   ]
  },
  {
   "cell_type": "markdown",
   "metadata": {},
   "source": [
    "## 1.5- Het therapeutisch venster"
   ]
  },
  {
   "cell_type": "markdown",
   "metadata": {},
   "source": [
    "Om een therapeutisch effect te hebben, moet een geneesmiddel aan een bepaalde concentratie in het lichaam aanwezig zijn, de minimale effectieve concentratie (MEC), zonder de minimale toxische concentratie (MTC) te overschreiden. De verzameling concentraties die groter is dan de MEC, maar kleiner dan de MTC, wordt ook het therapeutisch venster genoemd.\n",
    "\n",
    "Bij meropenem bedraagt de MEC 1 $\\text{mg}\\,\\text{l}^{-1}$, terwijl de MTC 64 $\\text{mg}\\,\\text{l}^{-1}$ bedraagt. We kunnen nu een interactieve figuur van de plasmaconcentratie meropenem maken, waarop de MEC en MTC staan aangegeven, en waar we de toegediende dosis meropenem kunnen laten variëren."
   ]
  },
  {
   "cell_type": "code",
   "execution_count": 72,
   "metadata": {},
   "outputs": [
    {
     "data": {
      "application/vnd.jupyter.widget-view+json": {
       "model_id": "b3b03c744ac64073951907257ddf87ee",
       "version_major": 2,
       "version_minor": 0
      },
      "text/plain": [
       "interactive(children=(FloatSlider(value=600.0, description='$D$', layout=Layout(width='50%'), max=1400.0, min=…"
      ]
     },
     "metadata": {},
     "output_type": "display_data"
    }
   ],
   "source": [
    "# Even de parameterwaarden voor meropenem ingeven\n",
    "\n",
    "Vd=21\n",
    "k=0.7\n",
    "\n",
    "# Enkele tijdstippen genereren\n",
    "\n",
    "tijdstippen= np.linspace(0,10,100)\n",
    "\n",
    "# We willen enkel de dosis, D, laten variëren met een slider. De k en Vd zijn eigenschappen van meropenem, en leggen we\n",
    "# vast. Onze animatie Python-functie neemt dus slechts D als argument.\n",
    "\n",
    "def animatie(D):\n",
    "\n",
    "    def cp(t):\n",
    "        return D/Vd*np.exp(-k*t)\n",
    "  \n",
    "    \n",
    "    # De modelvoorspellingen voor cp tegen de tijdstippen uitzetten\n",
    "    plt.plot(tijdstippen,cp(tijdstippen),label='het model')\n",
    "    \n",
    "    \n",
    "    # Een horizontale lijn voor de MEC van 1 mg/l plotten\n",
    "    plt.axhline(y=1, color='green', label='MEC')\n",
    "    # Een horizontale lijn voor de MTC van 64 mg/l plotten\n",
    "    plt.axhline(y=64, color='red', label='MTC')\n",
    "    plt.xlabel('t [h]')\n",
    "    plt.ylabel('$c_p$ [mg/l]')\n",
    "    plt.ylim(0,70)\n",
    "    plt.legend()\n",
    "    plt.show()\n",
    "    \n",
    "    \n",
    "# We gebruiken nu de ingebouwde Python-functie interact, die ons toelaat te interageren met onze functie \"animatie\", door\n",
    "# door slides aan te maken.\n",
    "    \n",
    "interact(animatie,D=FloatSlider(min=200, max=1400, step=200, value=600, description='$D$', layout=slider_layout));"
   ]
  },
  {
   "cell_type": "markdown",
   "metadata": {},
   "source": [
    "* Welke impact heeft $D$ op de tijd waarin de plasmaconcentratie meropenem hoger is dan de MEC?\n",
    "\n",
    "* Vanaf welke dosis wordt de MTC overschreden?\n",
    "\n",
    "* Geef op basis van het model, $c_p= \\dfrac{D}{V_d} e^{-k t}$, een uitdrukking voor het tijdstip waarop de plasmaconcentratie meropenem gelijk wordt aan de MEC.\n",
    "\n",
    "\n",
    "De plasmaconcentratie is het hoogst op tijdstip nul, en we weten uit vorige opgaves dat de concentratie op tijdstip nul gegeven wordt door $c_p(0)= \\dfrac{D}{V_d} e^{-k \\times 0} = \\dfrac{D}{V_d}$. Voor meropenem ($V_d = 21$) wordt deze concentratie precies gelijk aan de MTC ($64 \\text{mg}\\,\\text{l}^{-1}$), wanneer\n",
    "$$\n",
    "\\dfrac{D}{21}  = 64 \\Leftrightarrow D = 1344.\n",
    "$$\n",
    "Wanneer we dus een dosis van $1344\\text{mg}$ toedienen, zal de concentratie op tijdstip nul precies gelijk zijn aan de MTC.\n",
    "\n",
    "Om de laatste vraag te beantwoorden, vragen we aan $c_p= \\dfrac{D}{V_d} e^{-k t}$ op welk tijdstip de plasmaconcentratie meropenem gelijk wordt aan de MEC ($1 \\text{mg}\\,\\text{l}^{-1}$). We vinden\n",
    "\n",
    "\n",
    "$$\n",
    "\\begin{align}\n",
    "& & c_p = \\dfrac{D}{V_d} e^{-k t} &= 1,\\\\\n",
    "& \\Leftrightarrow & \\dfrac{D}{21} e^{-0.7 t} &= 1,\\\\\n",
    "& \\Leftrightarrow & e^{-0.7 t}  &= 1 \\times \\dfrac{21}{D} ,\\\\\n",
    "& \\Leftrightarrow & -0.7 t  &=  \\ln  \\left( \\dfrac{21}{D} \\right),\\\\\n",
    "& \\Leftrightarrow & t &=  -\\dfrac{1}{0.7}\\ln  \\left( \\dfrac{21}{D} \\right),\\\\\n",
    "\\end{align}\n",
    "$$\n",
    "\n",
    "Voor een dosis meropenem van $D=500\\text{mg}$ vinden we bijvoorbeeld:"
   ]
  },
  {
   "cell_type": "code",
   "execution_count": 16,
   "metadata": {},
   "outputs": [
    {
     "name": "stdout",
     "output_type": "stream",
     "text": [
      "4.528693800998242\n"
     ]
    }
   ],
   "source": [
    "print(-1/0.7*np.log(21/500))"
   ]
  },
  {
   "cell_type": "markdown",
   "metadata": {},
   "source": [
    "wat lijkt overeen te komen met wat we op de interactieve figuur kunnen afleiden. Na hoeveel uur wordt de plasmaconcentratie meropenem kleiner dan de MEC wanneer een dosis van $700\\text{mg}$ wordt toegediend? \n",
    "\n",
    "Stel vast dat deze uitdrukking ons antwoord op de eerste vraag bevestigt. Hoe groter de dosis, $D$, hoe kleiner $\\dfrac{21}{D}$, hoe sterker negatief $\\ln  \\left( \\dfrac{21}{D} \\right)$ (zie [logaritmische functies](./T1-Functies.ipynb), en de realisatie dat $0<\\dfrac{21}{D}<1$), en dus hoe groter $-\\dfrac{1}{0.7}\\ln  \\left( \\dfrac{21}{D} \\right)$, de tijd verstreken eerde plasmaconcentratie aande MEC gelijk wordt."
   ]
  },
  {
   "cell_type": "markdown",
   "metadata": {},
   "source": [
    "## 1.6- Area Under the Curve"
   ]
  },
  {
   "cell_type": "markdown",
   "metadata": {},
   "source": [
    "In de farmacokinetiek is de AUC (Area Under the Curve) een belangrijke maat voor de blootstelling van de patiënt aan het geneesmiddel. De AUC wordt gedefinieerd als de oppervlakte onder de curve die we verkrijgen door de plasmaconcentratie, $c_p$, uit te zetten tegen de tijd. \n",
    "\n",
    "We hernemen de interactieve figuur uit een vorige opgave, waarbij we met behulp van sliders de impact van de eigenschappen van een geneesmiddel (zijnde $V_d$ en $k$), en de toegediende dosis (zijnde $D$), op de plasmaconcentratie konden bestuderen. Nu arceren we echter ook de oppervlakte onder deze curve, daar deze de AUC voorstelt."
   ]
  },
  {
   "cell_type": "code",
   "execution_count": 74,
   "metadata": {},
   "outputs": [
    {
     "data": {
      "application/vnd.jupyter.widget-view+json": {
       "model_id": "8dbdfa3ae04345c587bb050eebf68967",
       "version_major": 2,
       "version_minor": 0
      },
      "text/plain": [
       "interactive(children=(FloatSlider(value=500.0, description='$D$', layout=Layout(width='50%'), max=700.0, min=2…"
      ]
     },
     "metadata": {},
     "output_type": "display_data"
    }
   ],
   "source": [
    "tijdstippen= np.linspace(0,10,100)\n",
    "\n",
    "def animatie(D,Vd,k):\n",
    "    \n",
    "\n",
    "    def cp(t):\n",
    "        return D/Vd*np.exp(-k*t)\n",
    "  \n",
    "    \n",
    "    # We plotten de voorspelde plasmaconcentratie op de tijdstippen, en vragen met color='red' om er een rode lijn van \n",
    "    # te maken\n",
    "    plt.plot(tijdstippen,cp(tijdstippen),color='red',label='model')\n",
    "    \n",
    "    \n",
    "    # Met behulp van de ingebouwde Python-functie plt.fill_between(t,a,b) kunnen we voor een vector aan tijdstippen \"t\",\n",
    "    # Alles inkleuren dat tussen de (vector aan) waarden \"a\" en \"b\" ligt. We vragen hier om alles tussen 0 en de\n",
    "    # modelvoorspelling cp in te kleuren.\n",
    "    plt.fill_between(tijdstippen, 0, cp(tijdstippen),facecolor='green',label='AUC')\n",
    "\n",
    "    plt.ylim(0,30)  \n",
    "    plt.xlabel('t [h]')\n",
    "    plt.ylabel('$c_p$ [mg/l]')\n",
    "    plt.legend()\n",
    "    plt.show()\n",
    "    \n",
    "\n",
    "    \n",
    "interact(animatie,D=FloatSlider(min=200, max=700, step=100, value=500, description='$D$', layout=slider_layout)\n",
    "        , Vd=FloatSlider(min=10, max=40,step=5, value=20, description='$V_d$', layout=slider_layout)\n",
    "        , k=FloatSlider(min=0.2, max=1.4,step=0.2, value=0.6, description='$k$', layout=slider_layout));"
   ]
  },
  {
   "cell_type": "markdown",
   "metadata": {},
   "source": [
    "* Welke impact hebben de parameters op de AUC voor een geneesmiddel?\n",
    "\n",
    "* Hoe zouden we de AUC voor een bepaalde dosis van een bepaald geneesmiddel exact kunnen berekenen, op basis van het model $c_p= \\dfrac{D}{V_d} e^{-k t}$?\n",
    "\n",
    "\n",
    "In [T4-Integralen](./T4-Integralen.ipynb) zien we dat de *bepaalde integraal* van een functie $f(x)$, genomen tussen de grenzen $x=a$ en $x=b$, per definitie gelijk is aan de oppervlakte tussen deze functie en de $x$-as, en de grenzen $x=a$ en $x=b$. Het nemen van de bepaalde integraal van de functie $c_p= \\dfrac{D}{V_d} e^{-k t}$, tussen de grenzen $t=0$ en $t=+\\infty$ zou dus per definitie de AUC moeten opleveren! Dit is handig, want de theorie rond integralen levert ons de nodige methodes om deze integralen uit te rekenen, en dus een waarde op de AUC te kleven.\n",
    "\n",
    "De bepaalde integraal van de functie $c_p= \\dfrac{D}{V_d} e^{-k t}$ tussen de grenzen $t=0$ en $t=+\\infty$ noteren we als:\n",
    "$$\n",
    "\\text{AUC} = \\int_{0}^{\\infty} \\dfrac{D}{V_d} e^{-k t} dt.\n",
    "$$\n",
    "\n",
    "[T4-Integralen](./T4-Integralen.ipynb) levert nu de nodige definities en technieken om deze integraal op te lossen. In kort bestek is het essentieel te weten dat \n",
    "\n",
    "$$\n",
    "\\int_a^b f(x)\\;dx = F(b)-F(a),\n",
    "$$\n",
    "\n",
    "met $F(x)$ een *primitieve functie* voor $f(x)$, wat dan weer betekent dat de [afgeleiden](./T3-Afgeleiden.ipynb) van $F(x)$ gelijk is aan $f(x)$, of dus $\\dfrac{d F(x)}{d x} = f(x)$. Het oplossen van de bepaalde integraal \n",
    "$$\n",
    "\\text{AUC} = \\int_{0}^{\\infty} \\dfrac{D}{V_d} e^{-k t} dt.\n",
    "$$\n",
    "komt dus neer op het vinden van een primitieve functie voor $\\dfrac{D}{V_d} e^{-k t}$, en deze dan te evalueren in $t=0$ en $t=+\\infty$ om de resultaten vervolgens van elkaar af te trekken. De rekenregels in [T4-Integralen](./T4-Integralen.ipynb) helpen ons op weg om te vinden dat $-\\dfrac{D}{V_d} \\dfrac{1}{k}e^{-k t}$ een primitieve functie is voor $\\dfrac{D}{V_d} e^{-k t}$, waardoor we dus kunnen schrijven:\n",
    "\n",
    "\n",
    "$$\n",
    "\\text{AUC} = \\int_{0}^{\\infty} \\dfrac{D}{V_d} e^{-k t} dt = -\\dfrac{D}{V_d} \\dfrac{1}{k}e^{-k \\cdot \\infty} + \\dfrac{D}{V_d} \\dfrac{1}{k}e^{-k \\cdot 0} = 0 + \\dfrac{D}{V_d} \\dfrac{1}{k}=\\dfrac{D}{V_d} \\dfrac{1}{k}.\n",
    "$$\n",
    "\n",
    "Indien men reeds met [T4-Integralen](./T4-Integralen.ipynb) bekend is, kan men misschien vaststellen dat we om de primitieve te vinden gebruik hebben gemaakt van de rekenregel $\\int a f(x)\\;dx     = a\\int f(x)\\;dx$, en van de basisintegraal voor een exponentiële functie, $\\int e^x \\; dx                     = e^x + c$:\n",
    "\n",
    "$$\n",
    "\\begin{align}\n",
    "\t\\text{AUC} &= \\int_{0}^{\\infty} \\dfrac{D}{V_d} e^{-k t} dt,\\\\\n",
    "\t&= \\dfrac{D}{V_d} \\int_{0}^{\\infty} e^{-k t} dt,\\\\\n",
    "\t&= \\dfrac{D}{V_d} \\left[-\\dfrac{1}{k}e^{-k t}\\right]_{0}^{\\infty},\\\\\n",
    "\t&= \\dfrac{D}{V_d} \\dfrac{1}{k}.\\\\\n",
    "\\end{align}\n",
    "$$\n",
    "\n",
    "We hebben dus nu een formule bekomen om de AUC eenvoudig te berekenen! Voor $D=500\\text{mg}$ meropenem ($V_d=21$ en $k=0.7$) wordt dit"
   ]
  },
  {
   "cell_type": "code",
   "execution_count": 18,
   "metadata": {},
   "outputs": [
    {
     "name": "stdout",
     "output_type": "stream",
     "text": [
      "34.013605442176875\n"
     ]
    }
   ],
   "source": [
    "print(500/21/0.7)"
   ]
  },
  {
   "cell_type": "markdown",
   "metadata": {},
   "source": [
    "* Welke AUC krijgen we indien $D=700\\text{mg}$ meropenem wordt toegediend?\n",
    "\n",
    "* Wat als we $D=500\\text{mg}$ doxycycline ($k=0.03$ en $V_d=40$) toedienen?"
   ]
  },
  {
   "cell_type": "markdown",
   "metadata": {},
   "source": [
    "## 1.7- Het model"
   ]
  },
  {
   "cell_type": "markdown",
   "metadata": {},
   "source": [
    "Dit hoofdstuk werd geopend met $c_p = \\dfrac{D}{V_d} e^{-k t}$, een wiskundige uitdrukking die claimt bij benadering de plasmaconcentratie van bepaalde geneesmiddelen na toediening te kunnen voorspellen. Uit voorgaande studie bleek dat deze uitdrukking inderdaad strookt met wat onze intuïtie over geneesmiddelen in het lichaam denkt, en later zullen we zien hoe experimentele data dit bevestigt. We stellen ons nu echter de vraag *hoe* we tot deze wiskundige uitdrukking gekomen zijn.\n",
    "\n",
    "Tijdens het [modelleren](./T6-Modellen.ipynb) tracht men op basis van biologische, chemische en fysische principes een deel van de realiteit te vatten in een eenvoudige wiskundige uitdrukking, ook wel een *model* genoemd. Men gaat hiertoe het beschouwde deel van de realiteit gaan vereenvoudigen met behulp van *assumpties*, en tracht vervolgens wiskundige uitdrukkingen te vinden die de vereenvoudigde realiteit beschrijven. Meer concreet wenst het modelleerproces vaak de verandering van een bepaalde kwantiteit in een bepaald afgebakend systeem uit te drukken. Men vereenvoudigt hiertoe de te modelleren situatie tot een afgesloten, homogene (ook wel: *goed gemengde*) doos, waar de kwantiteit in- of uitgetransporteerd kan worden, of geproduceerd of vernietigd (vernietiging wordt als het negatieve van productie genoteerd) kan worden. Schematisch geeft men dat zo weer:\n",
    "\n",
    "\n",
    "<img src=\"figs/model/model_algemeen.png\" width=300 />\n",
    "\n",
    "\n",
    "\n",
    "Voor elke transport- of productieterm tracht men dan op basis van biologische, chemische en fysische principes een wiskundige uitdrukking te vinden. Al deze uitdrukkingen telt men samen tot een [differentiaalvergelijking](./T5-Differentiaalvergelijkingen.ipynb), die ons vertelt hoe de kwantiteit verandert doorheen de tijd:\n",
    "\n",
    "$$\n",
    "\\dfrac{\\textit{verandering kwantiteit}}{\\textit{tijd}} = \\dfrac{\\textit{productie}}{\\textit{tijd}} + \\dfrac{\\textit{transport}}{\\textit{tijd}}.\n",
    "$$\n",
    "\n",
    "\n",
    "In farmacokinetische context vereenvoudigt men het lichaam vaak tot een perfect gemengde doos, ook wel een *compartiment* genoemd, en bestudeert men vervolgens hoe de concentratie van een geneesmiddel in dit compartiment evolueert doorheen de tijd. De concentratie van een bepaald geneesmiddel kan in het systeem gebracht worden door toediening, bijvoorbeeld via IV bolus, en uit het systeem gehaald worden door renale excretie. Daarnaast zorgt het metabolisme voor vernietiging. Dit wordt schematisch als volgt weergegeven:\n",
    "\n",
    "<img src=\"figs/model_farmaco.png\" width=400 />"
   ]
  },
  {
   "cell_type": "markdown",
   "metadata": {},
   "source": [
    "Onze taak bestaat er nu uit voor elk van deze processen wiskundige uitdrukkingen te vinden die weergeven hoeveel geneesmiddel elk proces per tijdseenheid aan het systeem toevoegt, eruit haalt, of vernietigt. Onderzoek leert dat de snelheid van de metabole afbraak en van renale excretie voor veel geneesmiddelen evenredig is met de hoeveelheid geneesmiddel in het lichaam. Inderdaad, als er twee keer zoveel meropenem in het lichaam zit, zal de lever per tijdseenheid twee keer zoveel meropenem afbreken, omdat er twee keer meer meropenem passeert. Indien we de hoeveelheid geneesmiddel in het lichaam noteren als $D_B\\,\\left[\\text{g}\\right]$, dan kan de snelheid van metabole afbraak dus geschreven worden als $k_1 D_B$, en de snelheid van renale excretie als $k_2 D_B$, met $k_1\\,\\left[\\text{h}^{-1}\\right]$ en $k_2\\,\\left[\\text{h}^{-1}\\right]$ constanten, die vertellen hoe snel de afbraak of excretie gaat als er een bepaalde hoeveelheid geneesmiddel in het lichaam zit.\n",
    "\n",
    "In tegenstelling tot een infuus, levert IV bolus plots een grote toestroom van geneesmiddel, om daarna weer stil te vallen. Voorts komt het geneesmiddel na een IV bolus zo snel in de bloedsomloop terecht, dat men kan aannemen dat het geneesmiddel na injectie onmiddellijk volledig over het compartiment verspreid is. Wanneer men een model opstelt voor de hoeveelheid geneesmiddel in een lichaam na toediening via IV bolus, onderstelt men dan gewoon dat op tijdstip $t=0$, net na toediening van het geneesmiddel, de hoeveelheid geneesmiddel precies gelijk is aan de toegediende dosis.\n",
    "\n",
    "Indien we nu al de wiskundige uitdrukkingen die we na weloverwogen redeneringen aan elk relevant proces in het compartiment hebben toegeschreven, samentellen, dan wordt de verandering van de hoeveelheid geneesmiddel in het lichaam doorheen de tijd, $\\dfrac{D_B}{dt}$ (zie [T3-Afgeleiden](./T3-Afgeleiden.ipynb)), gegeven door\n",
    "    \n",
    "$$\n",
    "    \\dfrac{D_B}{dt} = -k_1 D_B - k_2 D_B \\text{  met  } D_B(0)=D,\n",
    "$$\n",
    "    \n",
    "waar $D_B\\,\\left[\\text{g}\\right]$ de massa geneesmiddel in het lichaam is, en de initiële conditie $D_B(0)$ gegeven wordt door de dosis die toegediend werd, $D\\,\\left[\\text{g}\\right]$. Stel vast dat men een minteken voor de termen zet die metabole afbraak en renale excretie beschrijven, omdat deze de hoeveelheid geneesmiddel in het lichaam inderdaad doet afnemen. Voorts telt men het effect van deze twee processen vaak eenvoudigweg bij elkaar op, $k_1 D_B + k_2 D_B = k D_B$, met $k\\,\\left[\\text{h}^{-1}\\right]$ de eliminatieconstante, om tot\n",
    "\n",
    "$$\n",
    "    \\dfrac{D_B}{dt} = -k D_B \\text{  met  } D_B(0)=D,\n",
    "$$\n",
    "\n",
    "te komen.\n",
    "\n",
    "In praktijk is het onmogelijk om de hoeveelheid geneesmiddel in het volledige lichaam, $D_B$, te meten, waardoor men de voorspellingen van bovenstaand model nooit aan experimentele data zou kunnen aftoetsen, waardoor men dus nooit zou kunnen controleren of het model inderdaad de werkelijkheid min of meer juist weergeeft. Het is echter eenvoudig om de plasmaconcentratie, $c_p\\,\\left[\\text{g} \\text{l}^{-1}\\right]$ te meten, en deze kan aan $D_B$ gerelateerd worden via\n",
    "\t\n",
    "$$\n",
    "\tD_B = c_p V_d,\n",
    "$$\n",
    "\t\n",
    "met $V_d\\,\\left[\\text{l}\\right]$ het distributievolume. Deze parameter geeft aan hoeveel van het in het lichaam aanwezige geneesmiddel zich in het plasma bevindt. Sommige geneesmiddelen hebben namelijk de neiging in de weefsels te gaan huizen, terwijl andere liever in het plasma blijven. Eens de plasmaconcentratie en het distributievolume voor een geneesmiddel gekend zijn, kunnen we via bovenstaande uitdrukking dus de hoeveelheid geneesmiddel in het volledige lichaam berekenen. Een eenvoudige manier om voor een bepaald geneesmiddel de $V_d$ te bepalen, bestaat eruit een dosis van een geneesmiddel toe te dienen, en onmiddellijk de plasmaconcentratie te meten. We krijgen dan:\n",
    "\t\n",
    "$$\n",
    "\tV_d = \\dfrac{D}{c_p(0)},\n",
    "$$\n",
    "\n",
    "met $c_p(0)$ de plasmaconcentratie op tijdstip $t=0$. We kunnen deze parameter ook schatten door na injectie de plasmaconcentratie op verschillende tijdstippen te meten, en een lineaire regressie op de bekomen data door te voeren (zie later in dit hoofdstuk).\n",
    "\n",
    "Invullen van $D_B= c_p V_d$ in de vergelijking voor $\\dfrac{D_B}{dt}$ levert\n",
    "\t\n",
    "$$\n",
    "\\begin{align}\n",
    "\\dfrac{d \\left(c_p V_d\\right)}{dt} &= -k c_p V_d,\\\\\n",
    "V_d\\dfrac{d c_p}{dt} &= -k c_p V_d,\\\\\n",
    "\\dfrac{d c_p}{dt} &= -k c_p, \\text{  met  } c_p(0)=\\dfrac{D}{V_d}\n",
    "\\end{align}\n",
    "$$\n",
    "\t\n",
    "waar we gebruik gemaakt hebben van het feit dat $V_d$ een constante is, eigen aan het geneesmiddel, en we deze dus buiten de afgeleide mogen zetten (zie rekenregels voor [afgeleiden](./T3-Afgeleiden.ipynb))."
   ]
  },
  {
   "cell_type": "markdown",
   "metadata": {},
   "source": [
    "## 1.8- De oplossing"
   ]
  },
  {
   "cell_type": "markdown",
   "metadata": {},
   "source": [
    "*TIM OPMERKING: dit gaat hier nog te snel, omdat hoofdstuk differentiaalvergelijkingen nog niet geschreven is*\n",
    "\n",
    "We hebben nu een model dat zegt hoe de plasmaconcentratie verandert doorheen de tijd, maar wat we eigenlijk willen is een uitdrukking voor de plasmaconcentratie op elk tijdstip. Dit bewerkstelligen we door de differentiaalvergelijking op te lossen:\n",
    "\n",
    "\n",
    "$$\n",
    "\\dfrac{\\textit{verandering kwantiteit}}{\\textit{tijd}} \\rightarrow \\textit{kwantiteit}(t).\n",
    "$$\n",
    "\n",
    "\n",
    "\n",
    "Er zijn nu enkele [technieken](./T5-Differentiaalvergelijkingen/T5-Differentiaalvergelijkingen.ipynb) voorhanden om deze differentiaalvergelijking op te lossen. We maken hier gebruik van het scheiden van de veranderlijken:\n",
    "    \t\n",
    "$$\n",
    "\\begin{align}\n",
    "&& \\dfrac{d c_p}{dt} &= -k c_p,\\\\\n",
    "&&\\dfrac{d c_p}{c_p} &= -k dt,\\\\\n",
    "&\\Rightarrow& \\int \\dfrac{d c_p}{c_p} &= \\int -k dt,\\\\\n",
    "&\\Leftrightarrow &\\ln c_p &= -k t + c,\\\\\n",
    "&\\Leftrightarrow & c_p &= e^{-k t+c} = e^c e^{-k t} = C e^{-k t}\n",
    "\\end{align}\n",
    "$$\n",
    "    \t\n",
    "waar we de integratieconstante $C \\equiv e^c$ kunnen bepalen door de initiële conditie in te vullen,\n",
    "    \t\n",
    "$$\n",
    "\\begin{align}\n",
    "&& c_p(0) &= C e^{-k 0} ,\\\\\n",
    "&&\\Leftrightarrow \\dfrac{D}{V_d} &=C,\\\\\n",
    "\\end{align}\n",
    "$$\n",
    "    \t\n",
    "waardoor we aan\n",
    "\n",
    "$$\n",
    "\\begin{equation*}\n",
    "c_p  = \\dfrac{D}{V_d} e^{-k t},\n",
    "\\end{equation*}\n",
    "$$\n",
    "    \t\n",
    "komen, de uitdrukking waarmee we dit hoofdstuk gestart zijn. We hebben nu op basis van een abstractie van de realiteit een eenvoudige wiskundige uitdrukking gevonden, waarvan we hopen dat deze de realiteit benadert. Dit moeten we na gaan op basis van experimentele data."
   ]
  },
  {
   "cell_type": "markdown",
   "metadata": {},
   "source": [
    "## 1.9- Parameterschatting"
   ]
  },
  {
   "cell_type": "markdown",
   "metadata": {},
   "source": [
    "Een model bevat vaak een aantal parameters (hier $V_d$ en $k$), getallen die een bepaalde chemische, biologische of fysische betekenis voorstellen. De waarden van deze parameters vinden we soms in de literatuur, of moeten soms geschat worden. Om parameters te schatten, gaat men experimentele data verzamelen voor het beschouwde systeem. Vervolgens gaat men die parameterwaarden zoeken, waarvoor het model zo dicht mogelijk bij de experimentele data aanleunt. \n",
    "\n",
    "Om te bepalen welke waarden de parameters $V_d$ en $k$ aannemen voor het $\\beta$-lactamantibioticum phenoxymethylpenicilline (ook penicilline V genoemd), wordt een experiment opgezet. Een patiënt krijgt $500\\,\\text{mg}$ meropenem toegediend, en de plasmaconcentratie wordt elk uur gemeten, gedurende vijf uur. De meetdata wordt gegeven in onderstaande tabel.\n",
    "\n",
    "| t [h] | $c_p$ [mg/l] |\n",
    "| --- | --- | \n",
    "| 1 | 16.77 |\n",
    "| 2 | 6.32 |\n",
    "| 3 | 2.53 |\n",
    "| 4 | 1.29 |\n",
    "| 5 | 0.43 |\n",
    "\n",
    "We kunnen nu de modelvoorspelling naast deze meetdata plotten, en op zoek gaan naar de waarden voor $V_d$ en $k$ die ervoor zorgen dat de modelvoorspelling zo dicht mogelijk bij de meetdata aanleunt. Laten we hiertoe een interactieve figuur maken."
   ]
  },
  {
   "cell_type": "code",
   "execution_count": 129,
   "metadata": {},
   "outputs": [
    {
     "data": {
      "application/vnd.jupyter.widget-view+json": {
       "model_id": "cf204496c0ce4f5f89530d27f8713525",
       "version_major": 2,
       "version_minor": 0
      },
      "text/plain": [
       "interactive(children=(FloatSlider(value=14.0, description='$V_d$', layout=Layout(width='50%'), max=20.0, min=1…"
      ]
     },
     "metadata": {},
     "output_type": "display_data"
    }
   ],
   "source": [
    "# Een aantal tijdstippen genereren dat tot voorbij de laatste meting loopt\n",
    "\n",
    "tijdstippen= np.linspace(0,6,100)\n",
    "\n",
    "# We weten dat D=500 tijdens het experiment, dus dat leggen we vast in de Python-code. Deze parameter hoeft niet gezocht\n",
    "# te worden\n",
    "\n",
    "D=500\n",
    "\n",
    "# Geven we ook de meetdata mee, die we in een vector steken met behulp van de Python functie np.array():\n",
    "\n",
    "meettijdstippen=np.array([1,2,3,4,5])\n",
    "gemetencpwaarden=np.array([16.77,6.32,2.53,1.29,0.43])\n",
    "\n",
    "# We stellen een interactieve figuur op, die Vd en k als argument neemt, maar niet D, want die ligt al vast.\n",
    "\n",
    "def animatie(Vd,k):\n",
    "    \n",
    "\n",
    "    def cp(t):\n",
    "        return D/Vd*np.exp(-k*t)\n",
    "  \n",
    "\n",
    "    plt.plot(tijdstippen,cp(tijdstippen),color='red',label='model')\n",
    "    \n",
    "    \n",
    "    # We zetten ook de meetdata uit, en vragen met linestyle='none' om de datapunten niet door een lijn met elkaar te verbinden\n",
    "    # Voorts zorgt marker='*' ervoor dat elk datapunt met een ster wordt weergegeven.\n",
    "    plt.plot(meettijdstippen,gemetencpwaarden,marker='*',linestyle='none',color='black',label='data')\n",
    "\n",
    "    plt.ylim(0,30)  \n",
    "    plt.xlabel('t [h]')\n",
    "    plt.ylabel('$c_p$ [mg/l]')\n",
    "    plt.legend()\n",
    "    plt.show()\n",
    "    \n",
    "\n",
    "    \n",
    "interact(animatie,Vd=FloatSlider(min=10, max=20,step=2, value=14, description='$V_d$', layout=slider_layout)\n",
    "        , k=FloatSlider(min=0.1, max=1.5,step=0.2, value=0.5, description='$k$', layout=slider_layout));"
   ]
  },
  {
   "cell_type": "markdown",
   "metadata": {},
   "source": [
    "* Zoek met de interactieve figuur waarden voor $V_d$ en $k$ waarvoor het model goed aansluit bij de meetdata.\n",
    "\n",
    "We vinden met behulp van de figuur al een aardig resultaat, maar we kunnen dit beter hard maken aan de hand van wiskundige technieken. Hiertoe maken we gebruikt van de [lineaire regressie](./T7-LineaireRegressie.ipynb), een wiskundige methode die ons in staat stelt *de rechte* te vinden, die zo dicht mogelijk bij een set datapunten ligt. Zodoende vinden we op basis van experimentele data een lineaire relatie tussen een onafhankelijke veranderlijke en een afhankelijke veranderlijke.\n",
    "\n",
    "Het probleem hier is dat ons model een exponentiële relatie tussen $c_p$ en $t$ voorspelt, en geen lineaire! Het resultaat van onze lineaire regressie naast ons model leggen, zou dus appelen met peren vergelijken zijn. Gelukkig kunnen we een bewerking toepassen op ons model, zodat we wel een lineaire relatie bekomen tussen $t$, en een getransformeerde vorm van $c_p(t)$. Deze bewerking bestaat eruit het [natuurlijk logaritme](./T1-Functies.ipynb) te nemen van het model, want dan bekomen we:\n",
    "\n",
    "\n",
    "\n",
    "$$\n",
    "\\begin{align}\n",
    "    \t&&c_p  &= \\dfrac{D}{V_d} e^{-k t},\\nonumber\\\\\n",
    "    \t&&\\Leftrightarrow \\ln c_p &= \\ln \\left(\\dfrac{D}{V_d} e^{-k t}\\right),\\nonumber\\\\\n",
    "    \t&&\\Leftrightarrow \\ln c_p &= \\ln \\left(\\dfrac{D}{V_d}\\right) +  \\ln \\left(e^{-k t}\\right),\\nonumber\\\\\n",
    "    \t&&\\Leftrightarrow \\ln c_p &= \\ln \\left(\\dfrac{D}{V_d}\\right) -k t,\n",
    "    \t\\end{align}\n",
    "$$\n",
    "\n",
    "wat een lineaire relatie tussen $\\ln c_p$ en $t$ geeft, want we herkennen de vorm van een [lineaire functie](./T1-Functies.ipynb) $y=at+b$, met afhankelijke veranderlijke $y=\\ln c_p$, onafhankelijke veranderlijke $t$, richtingscoëfficiënt $a=-k$, en intercept $b=\\ln \\left(\\dfrac{D}{V_d}\\right)$. Indien we nu het natuurlijk logaritme van de meetdata nemen en dan de rechte vinden die best bij de resulterende data past, kunnen we op basis van richtingscoëfficiënt en intercept van deze rechte een schatting voor $V_d$ en $k$ verkrijgen.\n",
    "\n",
    "Zetten we eerst alle meetdata voor $c_p$ om naar de corresponderende $\\ln c_p$:"
   ]
  },
  {
   "cell_type": "code",
   "execution_count": 130,
   "metadata": {},
   "outputs": [
    {
     "name": "stdout",
     "output_type": "stream",
     "text": [
      "[ 2.81959158  1.84371921  0.9282193   0.25464222 -0.84397007]\n"
     ]
    }
   ],
   "source": [
    "print(np.log(gemetencpwaarden))"
   ]
  },
  {
   "cell_type": "markdown",
   "metadata": {},
   "source": [
    "dan kunnen we een figuur maken waaruit inderdaad blijkt dat de relatie tussen de tijdstippen, $t$, en bovenstaande vector aan waarden, $\\ln c_p$, inderdaad lineair zou kunnen zijn:"
   ]
  },
  {
   "cell_type": "code",
   "execution_count": 131,
   "metadata": {},
   "outputs": [
    {
     "data": {
      "image/png": "[encoded data removed]",
      "text/plain": [
       "<Figure size 864x576 with 1 Axes>"
      ]
     },
     "metadata": {
      "needs_background": "light"
     },
     "output_type": "display_data"
    }
   ],
   "source": [
    "plt.plot(meettijdstippen,np.log(gemetencpwaarden),marker='*',linestyle='none',color='black')\n",
    "\n",
    "plt.xlabel('t [h]')\n",
    "plt.ylabel('$\\ln c_p$')\n",
    "plt.show()"
   ]
  },
  {
   "cell_type": "markdown",
   "metadata": {},
   "source": [
    "Er bestaat natuurlijk een ingebouwde Python functie die bij een set datapunten de best passende rechte vindt. Deze gebruiken we als volgt:"
   ]
  },
  {
   "cell_type": "code",
   "execution_count": 132,
   "metadata": {},
   "outputs": [
    {
     "name": "stdout",
     "output_type": "stream",
     "text": [
      "[3.67530053]\n",
      "[[-0.89162003]]\n"
     ]
    }
   ],
   "source": [
    "meettijdstippen=np.array([1,2,3,4,5])\n",
    "gemetencpwaarden=np.array([16.77,6.32,2.53,1.29,0.43])\n",
    "\n",
    "# We maken gebruik van de ingebouwde python functie lm.LinearRegression().fit(onafh,afh), die we als argument alle waarden\n",
    "# van de onafhankelijke veranderlijke (\"onafh\") meegeven waarop data werd verzameld, samen met de corresponderende gemeten\n",
    "# waarden voor de afhankelijke veranderlijke (\"afh\").\n",
    "\n",
    "# De functie lm.LinearRegression().fit() wil de twee vectoren met waarden echter in een heel specifieke vorm ontvangen.\n",
    "# Hiertoe zetten we nog vector.reshape(-1,1) na elke \"vector\", maar wat dit precies doet hoef je niet te begrijpen.\n",
    "\n",
    "reg = lm.LinearRegression().fit(meettijdstippen.reshape(-1, 1),np.log(gemetencpwaarden).reshape(-1, 1))\n",
    "\n",
    "# Het resultaat van de lineaire regressie schreven we weg in \"res\". Hierin zit een hele hoop informatie. We halen er het\n",
    "# intercept en de richtingscoëfficiënt uit\n",
    "print(reg.intercept_)\n",
    "print(reg.coef_)"
   ]
  },
  {
   "cell_type": "markdown",
   "metadata": {},
   "source": [
    "We vinden dus \n",
    "\n",
    "$$\n",
    "\\ln c_p = -0.8916 t + 3.6753,\n",
    "$$\n",
    "\n",
    "en kunnen dit naast de data plotten om te controleren of deze lineaire regressie inderdaad dicht bij de data ligt:\n",
    "\n"
   ]
  },
  {
   "cell_type": "code",
   "execution_count": 133,
   "metadata": {},
   "outputs": [
    {
     "data": {
      "image/png": "[encoded data removed]",
      "text/plain": [
       "<Figure size 864x576 with 1 Axes>"
      ]
     },
     "metadata": {
      "needs_background": "light"
     },
     "output_type": "display_data"
    }
   ],
   "source": [
    "# Zetten we eerst het natuurlijk logaritme van de meetdata uit\n",
    "\n",
    "plt.plot(meettijdstippen,np.log(gemetencpwaarden),marker='*',linestyle='none',color='black',label='data')\n",
    "\n",
    "# en definiëren we vervolgens een functie die de best passende rechte voorstelt\n",
    "def linreg(t):\n",
    "    return -0.89162003*t + 3.67530053\n",
    "\n",
    "plt.plot(np.linspace(0,6,100),linreg(np.linspace(0,6,100)),label='Lineare regressie')\n",
    "\n",
    "plt.xlabel('t [h]')\n",
    "plt.ylabel('$\\ln c_p$')\n",
    "plt.legend()\n",
    "plt.show()"
   ]
  },
  {
   "cell_type": "markdown",
   "metadata": {},
   "source": [
    "We leggen deze rechte nu naast $\\ln c_p = \\ln \\left(\\dfrac{D}{V_d}\\right) -k t$, en vinden dat\n",
    "\n",
    "$$\n",
    "\\begin{cases}\n",
    "-k &=−0.8916 \\\\\n",
    "\\ln \\left(\\dfrac{D}{V_d}\\right) &= 3.6753\n",
    "\\end{cases} \n",
    "\\Leftrightarrow \n",
    "\\begin{cases}\n",
    "k &= 0.8916\\\\\n",
    "\\ln \\left(D\\right)-\\ln \\left(V_d\\right) &= 3.6753\n",
    "\\end{cases} \n",
    "\\Leftrightarrow \n",
    "\\begin{cases}\n",
    "k &= 0.8916\\\\\n",
    "V_d &= e^{-3.6753+\\ln \\left(500\\right)}.\n",
    "\\end{cases}  \n",
    "\\Leftrightarrow \n",
    "\\begin{cases}\n",
    "k &= 0.8916\\\\\n",
    "V_d &= 12.6709.\n",
    "\\end{cases}  \n",
    "$$\n",
    "\n",
    "\n",
    "We concluderen dus dat het lot van phenoxymethylpenicilline in het lichaam goed beschreven kan worden door het model $c_p  = \\dfrac{D}{V_d} e^{-k t}$, wanneer $k=0.8916 $ en $V_d = 12.6709$. Laten we dit model samen plotten met de meetdata voor $c_p$:"
   ]
  },
  {
   "cell_type": "code",
   "execution_count": 135,
   "metadata": {},
   "outputs": [
    {
     "data": {
      "image/png": "[encoded data removed]",
      "text/plain": [
       "<Figure size 864x576 with 1 Axes>"
      ]
     },
     "metadata": {
      "needs_background": "light"
     },
     "output_type": "display_data"
    }
   ],
   "source": [
    "plt.plot(meettijdstippen,gemetencpwaarden,marker='*',linestyle='none',color='black',label='data')\n",
    "\n",
    "\n",
    "def cp(t):\n",
    "    return 500/12.6709*np.exp(-0.8916*t)\n",
    "\n",
    "\n",
    "plt.plot(np.linspace(0,6,100),cp(np.linspace(0,6,100)),label='$c_p  = \\dfrac{D}{V_d} e^{-k t}$')\n",
    "\n",
    "plt.xlabel('t [h]')\n",
    "plt.ylabel('$c_p$ [mg/l]')\n",
    "plt.legend()\n",
    "plt.show()"
   ]
  },
  {
   "cell_type": "markdown",
   "metadata": {},
   "source": [
    "We stellen een goede overeenkomst met de experimentele data vast. De overeenkomst zal natuurlijk nooit perfect zijn, omdat het model slechts een benadering van de werkelijkheid is, en omdat er steeds meetfouten geassocieerd zijn met de data."
   ]
  },
  {
   "cell_type": "markdown",
   "metadata": {},
   "source": [
    "## 1.10- Modelvalidatie\n",
    "\n",
    "We hebben nu een model opgesteld en de parameters geschat. Bovenstaande figuur lijkt bemoedigend: het model leunt dicht aan bij de meetdata. Echter, we hebben de parameters geschat *opdat* ze de meetdata goed zouden benaderen, dus dit hoeft geen verrassing te zijn. Om na te gaan of het model inderdaad in staat is iets zinvol over de realiteit te vertellen, zullen we het met een nieuwe situatie confronteren. Tijdens de *modelvalidatie* voert men nieuwe experimenten uit, onder andere experimentele omstandigheden (bijvoorbeeld door een andere dosis toe te dienen). De hieruit resulterende data wordt vergeleken met wat het model voor deze experimentele omstandigheden voorspelt, om te onderzoeken hoe goed het model de realiteit beschrijft.\n",
    "\n",
    "Om het model te valideren, diende men 750 mg phenoxymethylpenicilline toe aan een patiënt, om drie uur lang elk half uur de plasmaconcentratie te meten. De resultaten van deze test worden hier gegeven:\n",
    "\n",
    "\n",
    "| t [h] | $c_p$ [mg/l] |\n",
    "| --- | --- | \n",
    "| 0.5 | 37.32 |\n",
    "| 1 | 25.06 |\n",
    "| 1.5 | 15.63 |\n",
    "| 2 | 9.64 |\n",
    "| 2.5 | 6.95 |\n",
    "| 3 | 3.89 |\n",
    "\n",
    "Laten we nu de modelvoorspelling onder deze omstandigheden uitzetten (een dosis phenoxymethylpenicilline van 750 mg) naast de experimentele data, om te kijken of de overeenkomst goed is."
   ]
  },
  {
   "cell_type": "code",
   "execution_count": 140,
   "metadata": {},
   "outputs": [
    {
     "data": {
      "image/png": "[encoded data removed]",
      "text/plain": [
       "<Figure size 864x576 with 1 Axes>"
      ]
     },
     "metadata": {
      "needs_background": "light"
     },
     "output_type": "display_data"
    }
   ],
   "source": [
    "meettijdstippen=np.array([0.5,1,1.5,2,2.5,3])\n",
    "gemetencpwaarden=np.array([37.32,25.06,15.63,9.64,6.95,3.89])\n",
    "\n",
    "# We zetten de experimentele data uit\n",
    "plt.plot(meettijdstippen,gemetencpwaarden,marker='*',linestyle='none',color='black',label='data')\n",
    "\n",
    "\n",
    "# We plotten de modelvoorspelling, cp = D/V_d * exp(-kt), met D=750, V_d=12.6709 en k=0.8916\n",
    "def cp(t):\n",
    "    return 750/12.6709*np.exp(-0.8916*t)\n",
    "\n",
    "\n",
    "plt.plot(np.linspace(0,3.5,100),cp(np.linspace(0,3.5,100)),label='$c_p  = \\dfrac{D}{V_d} e^{-k t}$')\n",
    "\n",
    "plt.xlabel('t [h]')\n",
    "plt.ylabel('$c_p$ [mg/l]')\n",
    "plt.legend()\n",
    "plt.show()"
   ]
  },
  {
   "cell_type": "markdown",
   "metadata": {},
   "source": [
    "De overeenkomst tussen deze nieuwe data en het model lijkt zeer goed te zijn. Echter, om dit objectief vast te stellen, zijn wiskundige technieken voorhanden. Deze liggen buiten het bestek van de cursus."
   ]
  },
  {
   "cell_type": "markdown",
   "metadata": {},
   "source": [
    "## 1.11 - Andere toedieningsmethoden\n",
    "\n",
    "*TIM OPMERKING: We kunnen alle geziene stof herhalen door een model op te stellen voor toediening via infuus, of zelfs meercompartimentsmodellen te beschouwen. Dit hoofdstuk is echter al (te) lang, dus misschien hoort dit in een eventuele oefeningenles thuis*"
   ]
  },
  {
   "cell_type": "markdown",
   "metadata": {},
   "source": [
    "### 1.11.1 - Infuus"
   ]
  },
  {
   "cell_type": "markdown",
   "metadata": {},
   "source": [
    "NOG UIT TE WERKEN ETC"
   ]
  },
  {
   "cell_type": "code",
   "execution_count": 141,
   "metadata": {},
   "outputs": [
    {
     "data": {
      "application/vnd.jupyter.widget-view+json": {
       "model_id": "b7b89bd804634b43997dd6c44cf3e5e0",
       "version_major": 2,
       "version_minor": 0
      },
      "text/plain": [
       "interactive(children=(FloatSlider(value=15.0, description='concentratie ampulle', layout=Layout(width='50%'), …"
      ]
     },
     "metadata": {},
     "output_type": "display_data"
    }
   ],
   "source": [
    "\n",
    "\n",
    "xmax20=48\n",
    "ymax20=0.03\n",
    "\n",
    "m20=75\n",
    "\n",
    "\n",
    "def oef20(conc,vol,t12,Vd,snel):\n",
    "    \n",
    "    # vol (ml)\n",
    "    # conc (mg/ml)\n",
    "    # snel (ml/h)\n",
    "    # Vd = 1.5 l/kg * 75 kg\n",
    "    \n",
    "    inftijd=vol/snel\n",
    "    uittijd=t12*4\n",
    "    k0=conc*snel\n",
    "    \n",
    "    t1 = np.linspace(0,inftijd-0.01,100)\n",
    "    t2 = np.linspace(0,uittijd,100)\n",
    "\n",
    "    def cp1(t):\n",
    "        return k0/(Vd*m20)/(0.693/t12)*(1-np.exp(-(0.693/t12)*t))\n",
    "\n",
    "    def cp2(t,init):\n",
    "        return init*np.exp(-(0.693/t12)*t)\n",
    "    \n",
    "    plt.subplot(111)\n",
    "    eerstegolf=cp1(t1)\n",
    "    tweedegolf=cp2(t2,eerstegolf[len(eerstegolf)-1])\n",
    "    plt.plot(np.concatenate((t1,t2+inftijd)),np.concatenate((eerstegolf,tweedegolf)), 'k')\n",
    "    \n",
    "#    plt.plot([0,xmax], [k0/(0.693/t12)/Vd,k0/(0.693/t12)/Vd], 'k--')\n",
    "#    plt.text(xmax-5,k0/(0.693/t12)/Vd+0.2,'$C_{ss,gewenst}$', fontsize=12)\n",
    "    \n",
    "    plt.plot([0,xmax20], [0.020,0.020], 'k--')\n",
    "    plt.text(xmax20-5,0.020+0.001,'$C_{ss,gewenst}$', fontsize=12)\n",
    "    \n",
    "    \n",
    "    plt.xlim(0,xmax20)\n",
    "    plt.ylim(0,ymax20)\n",
    "    plt.xlabel('t (h)')\n",
    "    plt.ylabel('$C_p$ (mg/L)')\n",
    "    plt.show()\n",
    "    \n",
    "\n",
    "interact(oef20,t12=FloatSlider(min=2, max=16, step=2, value=8, description='$t_{1/2}$', style=style, layout=slider_layout)\n",
    "     #   , Vd=FloatSlider(min=0.5, max=4,step=0.5, value=1.5, description='$V_d$', style=style, layout=slider_layout)\n",
    "        , Vd=FloatSlider(min=500, max=4000,step=500, value=1500, description='$V_d$', style=style, layout=slider_layout)\n",
    "        , conc=FloatSlider(min=5, max=30,step=5, value=15, description='concentratie ampulle', style=style, layout=slider_layout)\n",
    "        , vol=FloatSlider(min=10, max=50,step=5, value=30, description='volume ampulle', style=style, layout=slider_layout)\n",
    "        , snel=FloatSlider(min=5, max=15,step=1, value=10, description='infusiesnelheid', style=style, layout=slider_layout));"
   ]
  },
  {
   "cell_type": "markdown",
   "metadata": {},
   "source": [
    "### 1.11.2 - Herhaalde IV-bolus"
   ]
  },
  {
   "cell_type": "code",
   "execution_count": 142,
   "metadata": {},
   "outputs": [
    {
     "data": {
      "application/vnd.jupyter.widget-view+json": {
       "model_id": "f96c9bf3c4644c3f882f8daea95fe520",
       "version_major": 2,
       "version_minor": 0
      },
      "text/plain": [
       "interactive(children=(FloatSlider(value=400.0, description='$D$', layout=Layout(width='50%'), max=600.0, min=2…"
      ]
     },
     "metadata": {},
     "output_type": "display_data"
    }
   ],
   "source": [
    "n14=10\n",
    "tau14=12\n",
    "xmax14=120\n",
    "ymax14=80\n",
    "\n",
    "def oef14(D,t12,Vd,ladingsdosis):\n",
    "\n",
    "    \n",
    "\n",
    "    res=np.array([])\n",
    "    tijds=np.array([])\n",
    "    \n",
    "    Cl=0.693*Vd/t12\n",
    "\n",
    "    def cpvrij(t,n):\n",
    "        return (D/Vd)*(1-np.exp(-n*(Cl/Vd)*tau14))/(1-np.exp(-(Cl/Vd)*tau14))*np.exp(-(Cl/Vd)*(t-i*tau14))\n",
    "    \n",
    "    def cpss(t):\n",
    "        return (D/Vd)/(1-np.exp(-(Cl/Vd)*tau14))*np.exp(-(Cl/Vd)*(t))\n",
    "\n",
    "    def cpvrijloaded(t,n):\n",
    "        return (D/Vd)/(1-np.exp(-(Cl/Vd)*tau14))*np.exp(-(Cl/Vd)*(t-i*tau14))\n",
    "\n",
    "    for i in range(n14-1):\n",
    "        t = np.linspace(i*tau14,(i+1)*tau14-0.01,40)\n",
    "        tijds=np.concatenate((tijds,t))\n",
    "        if ladingsdosis==False:\n",
    "            res=np.concatenate((res,cpvrij(t,i+1)))\n",
    "        else:\n",
    "            res=np.concatenate((res,cpvrijloaded(t,i+1)))\n",
    "    \n",
    "    i=n14-1\n",
    "    t = np.linspace(i*tau14,(n14+4)*tau14-0.01,100)\n",
    "    tijds=np.concatenate((tijds,t))\n",
    "    if ladingsdosis==False:\n",
    "        res=np.concatenate((res,cpvrij(t,i+1)))\n",
    "    else:\n",
    "        res=np.concatenate((res,cpvrijloaded(t,i+1)))\n",
    "\n",
    "    plt.plot(tijds,res, 'k')\n",
    "    \n",
    "#    resss=cpss(tijds)\n",
    "#    plt.plot(tijds,resss, 'k--')\n",
    "    \n",
    "    plt.plot([0,xmax14], [D/Vd*1/(1-np.exp(-(Cl/Vd)*tau14)),D/Vd*1/(1-np.exp(-(Cl/Vd)*tau14))], 'k--')\n",
    "    plt.text(xmax14-15,D/Vd*1/(1-np.exp(-(Cl/Vd)*tau14))+2,'$C_{\\infty,max}$', fontsize=12)\n",
    "    plt.plot([0,xmax14], [D/Vd*1/(1-np.exp(-(Cl/Vd)*tau14))*np.exp(-(Cl/Vd)*tau14),D/Vd*1/(1-np.exp(-(Cl/Vd)*tau14))*np.exp(-(Cl/Vd)*tau14)], 'k--')\n",
    "    plt.text(xmax14-15,D/Vd*1/(1-np.exp(-(Cl/Vd)*tau14))*np.exp(-(Cl/Vd)*tau14)-4.5,'$C_{\\infty,min}$', fontsize=12)\n",
    "    \n",
    "    \n",
    "    plt.xlim(0,xmax14)\n",
    "    plt.ylim(0,ymax14)\n",
    "    plt.xlabel('t (h)')\n",
    "    plt.ylabel('$C_p$ (mg/L)')\n",
    "    \n",
    "    \n",
    "    plt.show()\n",
    "    \n",
    "    \n",
    "interact(oef14,ladingsdosis=False\n",
    "        , D=FloatSlider(min=200, max=600, step=50, value=400, description='$D$', style=style, layout=slider_layout)\n",
    "        , t12=IntSlider(min=3, max=15,step=3, value=6, description='$t_{1/2}$', style=style, layout=slider_layout)\n",
    "        , Vd=FloatSlider(min=10, max=30,step=2, value=20, description='$V_d$', style=style, layout=slider_layout));"
   ]
  },
  {
   "cell_type": "code",
   "execution_count": null,
   "metadata": {},
   "outputs": [],
   "source": []
  }
 ],
 "metadata": {
  "kernelspec": {
   "display_name": "Python 3",
   "language": "python",
   "name": "python3"
  },
  "language_info": {
   "codemirror_mode": {
    "name": "ipython",
    "version": 3
   },
   "file_extension": ".py",
   "mimetype": "text/x-python",
   "name": "python",
   "nbconvert_exporter": "python",
   "pygments_lexer": "ipython3",
   "version": "3.7.4"
  }
 },
 "nbformat": 4,
 "nbformat_minor": 2
}
