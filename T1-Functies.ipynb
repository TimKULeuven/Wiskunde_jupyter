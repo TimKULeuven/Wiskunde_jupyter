{
 "cells": [
  {
   "cell_type": "code",
   "execution_count": 132,
   "metadata": {},
   "outputs": [],
   "source": [
    "# Voer dit blok code uit door met de cursor in het blok te klikken, en vervolgens SHIFT+ENTER in te drukken.\n",
    "\n",
    "import numpy as np\n",
    "from matplotlib import pyplot as plt\n",
    "from scipy.integrate import odeint\n",
    "\n",
    "from IPython.display import HTML\n",
    "from ipywidgets.widgets import interact, IntSlider, FloatSlider, Layout\n",
    "\n",
    "from sympy.solvers import solve\n",
    "from sympy import Symbol\n",
    "\n",
    "import math\n",
    "\n",
    "%matplotlib inline\n",
    "\n",
    "style = {'description_width': '200px'}\n",
    "slider_layout = Layout(width='50%')"
   ]
  },
  {
   "cell_type": "markdown",
   "metadata": {},
   "source": [
    "# T1- Functies"
   ]
  },
  {
   "cell_type": "markdown",
   "metadata": {},
   "source": [
    "## T1.1- Introductie"
   ]
  },
  {
   "cell_type": "markdown",
   "metadata": {},
   "source": [
    "Een functie drukt een verband uit tussen een onafhankelijke variabele, die vaak de naam $x$ krijgt, en een afhankelijke variabele, die vaak als $y$ genoteerd wordt. Men schrijft bijvoorbeeld:\n",
    "\n",
    "$$\n",
    "y = x^2 + 2 x - 3.\n",
    "$$\n",
    "\n",
    "Wanneer men nu een waarde voor de onafhankelijke variabele invult, komt men te weten welke waarde voor de afhankelijke variabele daarmee correspondeert. Voor $x=3$ levert bovenstaande relatie bijvoorbeeld:\n",
    "\n",
    "\n",
    "$$\n",
    "y = 3^2 + 2 \\times 3 - 3= 9 + 6 - 3 = 12.\n",
    "$$\n",
    "\n",
    "Vaak geeft men de functie de naam $f$, en laat men weten van welke onafhankelijke variabele deze afhankelijk is door deze tussen haakjes mee te geven, $f(x)$. Bovenstaande relatie kan men dus even goed noteren als\n",
    "\n",
    "$$\n",
    "y=f(x),\\text{ met }f(x)=x^2 + 2 x - 3.\n",
    "$$\n",
    "\n",
    "Men kiest er vaak voor om een functie grafisch voor te stellen. Dat betekent dat we voor een verzameling waarden die de onafhankelijke variabele kan aannemen de corresponderende waarden voor de afhankelijke veranderlijke uitzetten op een grafiek. We zetten hieronder de relatie $y = x^2 + 2 x - 2$ uit met behulp van de programmeertaal Python. Stel vast dat bij $x=3$ inderdaad de waarde $y=12$ staat afgebeeld."
   ]
  },
  {
   "cell_type": "code",
   "execution_count": 38,
   "metadata": {},
   "outputs": [
    {
     "data": {
      "image/png": "[encoded data removed]",
      "text/plain": [
       "<Figure size 432x288 with 1 Axes>"
      ]
     },
     "metadata": {
      "needs_background": "light"
     },
     "output_type": "display_data"
    }
   ],
   "source": [
    "def f(x):\n",
    "    return x**2 + 2*x - 3\n",
    "    \n",
    "xwaarden=np.linspace(-4,4,100)\n",
    "\n",
    "plt.plot(xwaarden,f(xwaarden),label='$f(x)$')\n",
    "\n",
    "plt.xlabel('$x$')\n",
    "plt.ylabel('$y$')\n",
    "plt.axhline(y=0, linewidth=1, color='k')\n",
    "plt.axvline(x=0, linewidth=1, color='k')\n",
    "plt.grid()\n",
    "plt.legend()\n",
    "plt.show()"
   ]
  },
  {
   "cell_type": "markdown",
   "metadata": {},
   "source": [
    "De *nulpunten* van een functie zijn die $x$ waarden waarvoor $y=0$. Om de nulpunten van een functie te kennen, stellen we dus $f(x)=0$, en lossen we deze vergelijking op voor waarden van $x$. In bovenstaand voorbeeld moeten we dus, om de nulpunten te vinden, $f(x) = x^2 + 2 x - 3 = 0$ oplossen. Je herinnert je misschien nog dat dit kan met behulp van de discriminant. Hier laten we Python ons helpen:"
   ]
  },
  {
   "cell_type": "code",
   "execution_count": 39,
   "metadata": {},
   "outputs": [
    {
     "data": {
      "text/plain": [
       "[-3, 1]"
      ]
     },
     "execution_count": 39,
     "metadata": {},
     "output_type": "execute_result"
    }
   ],
   "source": [
    "x = Symbol('x')\n",
    "solve(x**2+2*x-3, x)"
   ]
  },
  {
   "cell_type": "markdown",
   "metadata": {},
   "source": [
    "In bovenstaande figuur stellen we inderdaad vast dat de functie nul wordt wanneer $x=-3$ of wanneer $x=1$. Ga dit ook na door deze oplossingen in te vullen in $y= f(x) = x^2 + 2 x - 3$."
   ]
  },
  {
   "cell_type": "markdown",
   "metadata": {},
   "source": [
    "Functies zijn bijzonder waardevol, omdat ze ons de mogelijkheid geven om relaties tussen verschillende grootheden, die we na observatie en experiment in de realiteit hebben vastgesteld, wiskundig weer te geven. Dit geeft ons dan weer de mogelijk wiskundige technieken los te laten op deze relaties, die ons nieuwe inzichten kunnen geven over de onderliggende realiteit.\n",
    "\n",
    "In dit hoofdstuk introduceren we enkele bijzondere functies, en geven we ook enkele voorbeelden uit de realiteit mee.\n"
   ]
  },
  {
   "cell_type": "markdown",
   "metadata": {},
   "source": [
    "## T1.2- Lineaire functies"
   ]
  },
  {
   "cell_type": "markdown",
   "metadata": {},
   "source": [
    "### T1.2.1 - De richtingscoëfficiënt en het intercept"
   ]
  },
  {
   "cell_type": "markdown",
   "metadata": {},
   "source": [
    "*Lineaire functies*, ook *eerstegraadsfuncties* genoemd, zijn functies van de vorm\n",
    "\n",
    "$$\n",
    "y = ax+b,\n",
    "$$\n",
    "\n",
    "met $a$ en $b$ constante waarden, die respectievelijk de *richtingscoëfficiënt* en het *intercept* genoemd worden. Men behulp van onderstaande interactieve figuur proberen we vertrouwd te raken met de betekenis van richtingscoëfficiënt en intercept."
   ]
  },
  {
   "cell_type": "code",
   "execution_count": 133,
   "metadata": {},
   "outputs": [
    {
     "data": {
      "application/vnd.jupyter.widget-view+json": {
       "model_id": "3a4f1dd816fe4490b62997a85923d13a",
       "version_major": 2,
       "version_minor": 0
      },
      "text/plain": [
       "interactive(children=(FloatSlider(value=1.0, description='$a$', max=2.0, min=-2.0, step=0.5), FloatSlider(valu…"
      ]
     },
     "metadata": {},
     "output_type": "display_data"
    }
   ],
   "source": [
    "xwaarden=np.linspace(-4,4,100)\n",
    "\n",
    "\n",
    "    \n",
    "def animatie(a,b):\n",
    "    \n",
    "    def f(x):\n",
    "        return a*x+b\n",
    "    \n",
    "    plt.plot(xwaarden,f(xwaarden),label=r'$f(x)={}x+{}$'.format(a,b))\n",
    "    plt.xlabel('$x$')\n",
    "    plt.ylabel('$y$')\n",
    "    plt.ylim([-4,4])\n",
    "    plt.legend(loc='upper left')\n",
    "    plt.axhline(y=0, linewidth=1, color='k')\n",
    "    plt.axvline(x=0, linewidth=1, color='k')\n",
    "    plt.grid()\n",
    "    plt.show()\n",
    "\n",
    "interact(animatie\n",
    "        ,a=FloatSlider(min=-2, max=2, step=0.5, value=1, description='$a$')\n",
    "        ,b=FloatSlider(min=-2, max=2, step=0.5, value=1, description='$b$'));"
   ]
  },
  {
   "cell_type": "markdown",
   "metadata": {},
   "source": [
    "* Functies van de vorm $y=f(x)=ax+b$ worden lineaire functies genoemd, hun grafiek is een rechte lijn.\n",
    "* Welke waarde neemt $y$ aan wanneer $x=0$?\n",
    "* Hoe verandert de waarde van de afhankelijke veranderlijke $y$, als we de waarde van de onafhankelijke veranderlijke $x$ met één eenheid vergroten?\n",
    "\n",
    "Op basis van de figuur stellen we vast dat wanneer $x=0$, $y$ de waarde van het intercept, $b$, aanneemt. Dit zien we ook in op basis van de uitdrukking van de functie die hier wordt afgebeeld. Wanneer we vragen welke waarde $y$ aanneemt wanneer $x=0$, substitueren we $x=0$ in $y=ax+b$, om inderdaad tot $y=a\\times0+b=b$ te komen.\n",
    "\n",
    "Na wat visueel onderzoek zien we dat, wanneer de waarde van $x$ met één wordt vergroot, de waarde van $y$ precies $a$ groter wordt. Een verandering van de waarde van de onafhankelijke veranderlijke kan een verandering van de waarde van de afhankelijke veranderlijke veroorzaken. De richtingscoëfficiënt is gedefinieerd als de verhouding van deze veranderingen. \n",
    "\n",
    "Laten we wiskundig nagaan dat de richtingscoëfficiënt voor onze lineaire functie $y=f(x)=ax+b$ inderdaad $a$ is. Wanneer we de waarde voor $y$ opvragen bij een waarde $x=x_1$, dan vinden we $f(x_1)=ax_1+b$. Laten we nu de waarde voor $y$ opvragen bij een waarde die $c$ eenheden verderop ligt, $x=x_1+c$, dan vinden we $f(x_1+c)=a(x_1+c)+b = a x_1 + a c + b$. We hebben nu gesteld dat de richtingscoëfficiënt gedefinieerd is als de verhouding tussen de verandering in afhankelijke veranderlijke, ten opzichte van de verandering in onafhankelijke veranderlijke. We vinden dan de waarde van de richtingscoëfficiënt via\n",
    "\n",
    "$$\n",
    "\\dfrac{f(x_1+c)-f(x_1)}{(x_1+c)-x_1}=\\dfrac{(a x_1 + a c + b)-(a x_1+b)}{(x_1+c)-x_1} = \\dfrac{a c}{c}=a,\n",
    "$$\n",
    "\n",
    "en stellen dus vast dat we $a$ in een lineaire functie inderdaad de richtingscoëfficiënt mogen noemen. Deze richtingscoëfficiënt is een maat voor de helling van de lineaire functie."
   ]
  },
  {
   "cell_type": "markdown",
   "metadata": {},
   "source": [
    "### T1.2.2 - Het nulpunt"
   ]
  },
  {
   "cell_type": "markdown",
   "metadata": {},
   "source": [
    "Het nulpunt van de lineaire functie vinden we door te vragen voor welke $x$-waarde $y=f(x)=ax+b=0$ opgaat. We vinden\n",
    "\n",
    "$$\n",
    "\\begin{align}\n",
    " && ax+b&=0,\\\\\n",
    " &\\Leftrightarrow & ax &= -b,\\\\\n",
    " &\\Leftrightarrow & x &= -\\dfrac{b}{a}.\\\\\n",
    "\\end{align}\n",
    "$$\n",
    "\n",
    "Ga op bovenstaande interactieve figuur na dat de waarde voor $y$ inderdaad nul wordt wanneer $x = -\\dfrac{b}{a}$."
   ]
  },
  {
   "cell_type": "markdown",
   "metadata": {},
   "source": [
    "### T1.2.3 - Enkele voorbeelden"
   ]
  },
  {
   "cell_type": "markdown",
   "metadata": {},
   "source": [
    "#### De temperatuurschalen"
   ]
  },
  {
   "cell_type": "markdown",
   "metadata": {},
   "source": [
    "Om de temperatuur uitgedrukt in graden Celcius om te zetten naar de schaal van kelvin, vermeerderen we deze met $273.15$ eenheden. De relatie tussen graden Celcius, genoteerd als $T_C$, en kelvin, genoteerd als $T_K$, wordt dan gegeven door:\n",
    "\n",
    "$$\n",
    "T_K = T_C + 273.15.\n",
    "$$\n",
    "\n",
    "Om de temperatuur uitgedrukt in graden Celcius naar graden Fahrenheit om te zetten, moet met de graden Celcius met $\\dfrac{9}{5}$ vermenigvuldigen, en het resultaat met $32$ vermeerderen. De relatie wordt dus gegeven door\n",
    "\n",
    "$$\n",
    "T_F = \\dfrac{9}{5} T_C + 32,\n",
    "$$\n",
    "\n",
    "met $T_F$ de temperatuur in graden Fahrenheit.\n",
    "\n",
    "* Welke variabelen zijn in bovenstaande twee uitdrukkingen de afhankelijke, en welke de onafhankelijke?\n",
    "\n",
    "De kelvin en fahrenheit schaal worden in functie van het aantal graden Celcius uitgezet in onderstaande figuur."
   ]
  },
  {
   "cell_type": "code",
   "execution_count": 42,
   "metadata": {},
   "outputs": [
    {
     "data": {
      "image/png": "[encoded data removed]",
      "text/plain": [
       "<Figure size 432x288 with 1 Axes>"
      ]
     },
     "metadata": {
      "needs_background": "light"
     },
     "output_type": "display_data"
    }
   ],
   "source": [
    "def TK(TC):\n",
    "    return TC + 273.15\n",
    "\n",
    "def TF(TC):\n",
    "    return 9/5*TC + 32\n",
    "    \n",
    "TCwaarden=np.linspace(-20,120,100)\n",
    "\n",
    "plt.plot(TCwaarden,TK(TCwaarden),label='$T_K$')\n",
    "plt.plot(TCwaarden,TF(TCwaarden),label='$T_F$')\n",
    "plt.xlabel('$T_C$')\n",
    "plt.axhline(y=0, linewidth=1, color='k')\n",
    "plt.axvline(x=0, linewidth=1, color='k')\n",
    "plt.grid()\n",
    "plt.legend()\n",
    "plt.show()"
   ]
  },
  {
   "cell_type": "markdown",
   "metadata": {},
   "source": [
    "* Bij hoeveel graden Celcius is het nul graden Fahrenheit?"
   ]
  },
  {
   "cell_type": "markdown",
   "metadata": {},
   "source": [
    "#### De fietser"
   ]
  },
  {
   "cell_type": "markdown",
   "metadata": {},
   "source": [
    "Een fietser vertrekt thuis, en nadat ze twee kilometer heeft afgelegd, houdt ze plots een constante snelheid, $v\\,\\left[\\text{km}\\,\\text{h}^{-1}\\right]$, aan. Laat $t\\,\\left[\\text{h}\\right]$ de tijd noteren die verstreken is sinds ze de constante snelheid begon aan te houden, geef dan een uitdrukking voor de totale afstand die de fietser sinds haar vertrek thuis heeft afgelegd, $a$, in functie van de tijd, $t$.\n",
    "\n",
    "De afgelegde afstand wordt gegeven door\n",
    "\n",
    "$$\n",
    "a = vt+2.\n",
    "$$\n",
    "\n",
    "Stel dat $v=20$, hoeveel afstand heeft de fietser dan afgelegd na $2$ uur?"
   ]
  },
  {
   "cell_type": "markdown",
   "metadata": {},
   "source": [
    "### T1.2.4 - Een rechte door twee punten"
   ]
  },
  {
   "cell_type": "markdown",
   "metadata": {},
   "source": [
    "Beschouw twee punten in een vlak, met respectievelijke coördinaten $(x_1,y_1)$ en $(x_2,y_2)$. Er is nu precies één rechte, met een vergelijking van de vorm $y=ax+b$, die door deze twee punten loopt. We wensen nu deze rechte te bepalen, door $a$ en $b$ te vinden.\n",
    "\n",
    "Omdat $(x_1,y_1)$ op de rechte ligt, moet  $y_1=ax_1+b$ waar zijn, en omdat $(x_2,y_2)$ op de rechte ligt, moet $y_2=ax_2+b$ waar zijn. Op basis van dit stelsel vinden we:\n",
    "\n",
    "$$\n",
    "\\begin{cases}\n",
    "      y_1&=ax_1+b \\\\\n",
    "      y_2&=ax_2+b\n",
    "\\end{cases} \\Leftrightarrow\n",
    "\\begin{cases}\n",
    "      y_1-ax_1&=b \\\\\n",
    "      y_2-ax_2&=b\n",
    "\\end{cases} \\Leftrightarrow\n",
    "\\begin{cases}\n",
    "      y_1-ax_1&=b \\\\\n",
    "      y_2-ax_2&=y_1-ax_1\n",
    "\\end{cases} \\Leftrightarrow\n",
    "\\begin{cases}\n",
    "      y_1-ax_1&=b \\\\\n",
    "      \\dfrac{y_2-y_1}{x_2-x_1}&=a\n",
    "\\end{cases} \\Leftrightarrow\n",
    "\\begin{cases}\n",
    "      y_1-\\dfrac{y_2-y_1}{x_2-x_1}x_1&=b \\\\\n",
    "      \\dfrac{y_2-y_1}{x_2-x_1}&=a\n",
    "\\end{cases} \n",
    "$$\n",
    "\n",
    "We hebben dus nu (eerder ingewikkelde) waarden voor de richtingscoëfficiënt en het intercept gevonden. Substitueren in $y=ax+b$ en vereenvoudigen levert een vorm op die je misschien herkent! \n",
    "\n",
    "Inderdaad, de vergelijking van een rechte die door de punten $(x_1,y_1)$ en $(x_2,y_2)$ loopt, wordt gegeven door \n",
    "\n",
    "$$\n",
    "y -y_1 = \\dfrac{y_2-y_1}{x_2-x_1} \\left( x - x_1 \\right) ,\n",
    "$$\n",
    "\n",
    "met $\\dfrac{y_2-y_1}{x_2-x_1}$ de richtingscoëfficiënt."
   ]
  },
  {
   "cell_type": "code",
   "execution_count": 136,
   "metadata": {
    "scrolled": true
   },
   "outputs": [
    {
     "data": {
      "application/vnd.jupyter.widget-view+json": {
       "model_id": "c375d75fc0ec4ad9a6d947a5aeef7c8a",
       "version_major": 2,
       "version_minor": 0
      },
      "text/plain": [
       "interactive(children=(FloatSlider(value=2.0, description='$x_1$', max=4.0, min=-4.0, step=1.0), FloatSlider(va…"
      ]
     },
     "metadata": {},
     "output_type": "display_data"
    }
   ],
   "source": [
    "xwaarden=np.linspace(-4,4,100)\n",
    "\n",
    "\n",
    "    \n",
    "def animatie(x1,x2,y1,y2):\n",
    "    \n",
    "    def f(x):\n",
    "        return (y2-y1)/(x2-x1)*(x-x1)+y1\n",
    "    \n",
    "    plt.plot(xwaarden,f(xwaarden),label=r'$y-{2}=\\dfrac{{{3}-{2}}}{{{1}-{0}}}(x-{0})$'.format(x1,x2,y1,y2))\n",
    "    plt.plot([x1], [y1], 'g',marker='o')\n",
    "    plt.plot([x2], [y2], 'g',marker='o')\n",
    "    plt.xlabel('$x$')\n",
    "    plt.ylabel('$y$')\n",
    "    plt.ylim([-4,4])\n",
    "    plt.legend(loc='upper left')\n",
    "    plt.axhline(y=0, linewidth=1, color='k')\n",
    "    plt.axvline(x=0, linewidth=1, color='k')\n",
    "    plt.grid()\n",
    "    plt.show()\n",
    "\n",
    "interact(animatie\n",
    "        ,x1=FloatSlider(min=-4, max=4, step=1, value=2, description='$x_1$')\n",
    "        ,y1=FloatSlider(min=-4, max=4, step=1, value=1, description='$y_1$')\n",
    "        ,x2=FloatSlider(min=-4, max=4, step=1, value=-1, description='$x_2$')\n",
    "        ,y2=FloatSlider(min=-4, max=4, step=1, value=-3, description='$y_2$'));"
   ]
  },
  {
   "cell_type": "markdown",
   "metadata": {},
   "source": [
    "## T1.3- Veeltermfuncties"
   ]
  },
  {
   "cell_type": "markdown",
   "metadata": {},
   "source": [
    "Naast eerstegraadsfuncties kunnen we ook *tweedegraads-*, *derdegraads-*, of *n-de graadsfuncties* bedenken, die respectievelijk als $y=a_2 x^2+a_1 x + a_0$, $y=a_3 x^3 + a_2 x^2+a_1 x + a_0$ en $y=a_n x^n + a_{n-1} x^{n-1} + \\dots + a_2 x^2+a_1 x + a_0$ kunnen worden genoteerd, met $a_1, a_2, \\dots, a_n$ constanten. Deze kunnen gebruikt worden wanneer de waarde van de afhankelijke veranderlijke, $y$, op een niet-lineaire manier gerelateerd is aan de waarde van de onafhankelijke veranderlijke, $x$.\n",
    "\n",
    "We kunnen dezelfde technieken als voor eerstegraadsfuncties toepassen om deze hogere graadsfuncties te bestuderen. We illustreren dit aan de hand van een aantal voorbeelden."
   ]
  },
  {
   "cell_type": "markdown",
   "metadata": {},
   "source": [
    "### T1.3.1- Enkele voorbeelden"
   ]
  },
  {
   "cell_type": "markdown",
   "metadata": {},
   "source": [
    "#### Vrije val"
   ]
  },
  {
   "cell_type": "markdown",
   "metadata": {},
   "source": [
    "We laten een voorwerp vallen vanop hoogte $x_0\\,\\left[\\text{m}\\right]$. We kunnen ons inbeelden dat het voorwerp aan lage snelheid begint te vallen, en steeds aan snelheid wint, en dus steeds sneller aan hoogte inboet. Inderdaad, in [Hoofdstuk 4](./H4-KlassiekeMechanica.ipynb) zien we dat de hoogte $x\\,\\left[\\text{m}\\right]$ van het vallend voorwerp in functie van de tijd, $t\\,\\left[\\text{s}\\right]$, gegeven wordt door\n",
    "\n",
    "$$\n",
    "x = x_0 - \\dfrac{g}{2}t^2,\n",
    "$$\n",
    "\n",
    "met $g = 9.81 \\,\\text{m}\\text{s}^{-2}$ de valversnelling. Wat is hier de onafhankelijke veranderlijke, en wat de afhankelijke?\n",
    "\n",
    "De hoogte van het voorwerp wordt in onderstaande figuur uitgezet tegen de tijd, als $x_0=30\\,\\text{m}$."
   ]
  },
  {
   "cell_type": "code",
   "execution_count": 46,
   "metadata": {},
   "outputs": [
    {
     "data": {
      "image/png": "[encoded data removed]",
      "text/plain": [
       "<Figure size 432x288 with 1 Axes>"
      ]
     },
     "metadata": {
      "needs_background": "light"
     },
     "output_type": "display_data"
    }
   ],
   "source": [
    "x0=30\n",
    "g=9.81\n",
    "\n",
    "twaarden=np.linspace(0,4,100)\n",
    "\n",
    "def x(t):\n",
    "    return x0-g/2*t**2\n",
    "    \n",
    "plt.plot(twaarden,x(twaarden))\n",
    "\n",
    "plt.xlabel('$t$ [s]')\n",
    "plt.ylabel('$x$ [m]')\n",
    "plt.ylim([0,35])\n",
    "plt.grid()\n",
    "plt.show()"
   ]
  },
  {
   "cell_type": "markdown",
   "metadata": {},
   "source": [
    "* Op welke hoogte bevindt het voorwerp zich na 2 seconden?\n",
    "* Op welk tijdstip wordt de hoogte gelijk aan nul?\n",
    "\n",
    "We vinden de hoogte door $t=2$ te substitueren in de relatie $x  = x_0 - \\dfrac{g}{2}t^2$:\n",
    "\n",
    "$$\n",
    "x  = x_0 - \\dfrac{g}{2}t^2 = 30 - \\dfrac{9.81}{2}2^2,\n",
    "$$\n",
    "\n",
    "wat we door Python kunnen laten uitrekenen:"
   ]
  },
  {
   "cell_type": "code",
   "execution_count": 47,
   "metadata": {},
   "outputs": [
    {
     "data": {
      "text/plain": [
       "10.379999999999999"
      ]
     },
     "execution_count": 47,
     "metadata": {},
     "output_type": "execute_result"
    }
   ],
   "source": [
    "30-9.81/2*2**2"
   ]
  },
  {
   "cell_type": "markdown",
   "metadata": {},
   "source": [
    "Ga na of dit inderdaad overeenkomt met bovenstaande figuur.\n",
    "\n",
    "In de tweede vraag wordt gevraagd op welk tijdstip de hoogte gelijk aan nul wordt. We moeten dus die $t$ vinden, waarvoor\n",
    "\n",
    "$$\n",
    "x  = x_0 - \\dfrac{g}{2}t^2 = 30 - \\dfrac{9.81}{2} t^2= 0\n",
    "$$\n",
    "\n",
    "geldt. Merk op dat dit hetzelfde is als het nulpunt berekenen voor deze functie. Met Python vinden we:"
   ]
  },
  {
   "cell_type": "code",
   "execution_count": 48,
   "metadata": {},
   "outputs": [
    {
     "data": {
      "text/plain": [
       "[-2.47309683414749, 2.47309683414749]"
      ]
     },
     "execution_count": 48,
     "metadata": {},
     "output_type": "execute_result"
    }
   ],
   "source": [
    "t = Symbol('t')\n",
    "solve(30-9.81/2*t**2, t)"
   ]
  },
  {
   "cell_type": "markdown",
   "metadata": {},
   "source": [
    "De vergelijking heeft twee oplossingen, waarvan er maar één een positieve tijd voorstelt, en dus zinvol is. Het voorwerp heeft hoogte nul op tijdstip $t = 2.473$."
   ]
  },
  {
   "cell_type": "markdown",
   "metadata": {},
   "source": [
    "#### Volume van een bol"
   ]
  },
  {
   "cell_type": "markdown",
   "metadata": {},
   "source": [
    "Het volume, $V\\,\\left[\\text{m}^3\\right]$ van een bol wordt gegeven door\n",
    "\n",
    "$$\n",
    "V = \\dfrac{4}{3}\\pi r^3,\n",
    "$$\n",
    "\n",
    "met $r\\,\\left[\\text{m}\\right]$ de straal. Bovenstaande functie geeft dus de relatie weer tussen het volume en de straal van een bol."
   ]
  },
  {
   "cell_type": "code",
   "execution_count": 50,
   "metadata": {},
   "outputs": [
    {
     "data": {
      "image/png": "[encoded data removed]",
      "text/plain": [
       "<Figure size 432x288 with 1 Axes>"
      ]
     },
     "metadata": {
      "needs_background": "light"
     },
     "output_type": "display_data"
    }
   ],
   "source": [
    "rwaarden=np.linspace(0,2.5,100)\n",
    "\n",
    "def V(r):\n",
    "    return 4/3*np.pi*r**3\n",
    "    \n",
    "plt.plot(rwaarden,V(rwaarden))\n",
    "\n",
    "plt.xlabel('$r$ [m]')\n",
    "plt.ylabel('$V$ [m$^3$]')\n",
    "plt.ylim([0,35])\n",
    "plt.grid()\n",
    "plt.show()"
   ]
  },
  {
   "cell_type": "markdown",
   "metadata": {},
   "source": [
    "* Welke straal heeft een bol van volume $V=15$?\n",
    "\n",
    "We vragen voor welke waarde van $r$ de vergelijking\n",
    "\n",
    "$$\n",
    "V = \\dfrac{4}{3}\\pi r^3 = 15\n",
    "$$\n",
    "\n",
    "opgaat. Daar\n",
    "\n",
    "$$\n",
    "\\begin{align}\n",
    "&& \\dfrac{4}{3}\\pi r^3 &= 15\\\\\n",
    "&\\Leftrightarrow \\dfrac{4}{3}\\pi r^3 -15 &= 0\n",
    "\\end{align}\n",
    "$$\n",
    "\n",
    "Dit is equivalent aan het nulpunt berekenen van de functie $f(r) = \\dfrac{4}{3}\\pi r^3 -15$"
   ]
  },
  {
   "cell_type": "code",
   "execution_count": 51,
   "metadata": {},
   "outputs": [
    {
     "data": {
      "text/plain": [
       "[1.52991587097293,\n",
       " -0.764957935486467 - 1.32494600991556*I,\n",
       " -0.764957935486467 + 1.32494600991556*I]"
      ]
     },
     "execution_count": 51,
     "metadata": {},
     "output_type": "execute_result"
    }
   ],
   "source": [
    "r = Symbol('r')\n",
    "solve(4/3*np.pi*r**3-15, r)"
   ]
  },
  {
   "cell_type": "markdown",
   "metadata": {},
   "source": [
    "We vinden drie oplossingen, waarvan er twee *imaginair* zijn. In een imaginair getal komt $i$ voor. We gaan in deze cursus niet in op de imaginaire getallen, het volstaat ons hier te realiseren dat deze imaginaire getallen geen stralen kunnen voorstellen, en deze oplossingen dus kunnen worden uitgesloten. Een bol van volume $V=15$ heeft een straal $r=1.530$."
   ]
  },
  {
   "cell_type": "markdown",
   "metadata": {},
   "source": [
    "## T1.4- Exponentiële functies"
   ]
  },
  {
   "cell_type": "markdown",
   "metadata": {},
   "source": [
    "Een exponentiële functie is een functie van de vorm\n",
    "\n",
    "$$\n",
    "y=a^x,\n",
    "$$\n",
    "\n",
    "met $a$ een constante die men het *grondtal* noemt, $y$ de afhankelijke veranderlijke, en $x$ de onafhankelijke veranderlijke. Merk het verschil op met de veeltermfuncties, waar onafhankelijke veranderlijke $x$ tot bepaalde constante machten verheven werd. Hier staat $x$ in de exponent!\n",
    "\n",
    "Van bijzonder belang is de exponentiële functie waar het grondtal $a=e$ met $e=2.71828 \\dots$ het getal van Euler,\n",
    "\n",
    "$$\n",
    "y=e^x\\equiv \\exp(x),\n",
    "$$\n",
    "\n",
    "waar $\\exp(x)$ een alternatieve notatie is. Deze functie is onder meer van bijzonder belang omdat ze voorkomt in de oplossingen van vele [differentiaalvergelijkingen](./T5-Differentiaalvergelijkingen/T5-Differentiaalvergelijkingen.ipynb).\n",
    "\n",
    "Laten we het verloop van de exponentiële functie onderzoeken, en ze eerst nog wat flexibeler maken een goed geplaatste constanten $c$ aan de exponent toe te voegen:\n",
    "\n",
    "$$\n",
    "y=e^{c x}\\equiv \\exp(c x).\n",
    "$$\n",
    "\n",
    "Deze functie wordt in onderstaande interactieve figuur weergegeven:"
   ]
  },
  {
   "cell_type": "code",
   "execution_count": 58,
   "metadata": {},
   "outputs": [
    {
     "data": {
      "application/vnd.jupyter.widget-view+json": {
       "model_id": "0e1f7c030d6546169cd74e6f9dc2e6ab",
       "version_major": 2,
       "version_minor": 0
      },
      "text/plain": [
       "interactive(children=(FloatSlider(value=1.0, description='$c$', max=2.0, min=-2.0, step=0.5), Output()), _dom_…"
      ]
     },
     "metadata": {},
     "output_type": "display_data"
    }
   ],
   "source": [
    "xwaarden=np.linspace(-4,4,100)\n",
    "\n",
    "\n",
    "    \n",
    "def animatie(c):\n",
    "    \n",
    "    def f(x):\n",
    "        return np.exp(c*x)\n",
    "    \n",
    "    plt.plot(xwaarden,f(xwaarden),label=r'$f(x)=\\exp ({}x)$'.format(c))\n",
    "    plt.xlabel('$x$')\n",
    "    plt.ylabel('$y$')\n",
    "    plt.ylim([0,10])\n",
    "    plt.legend(loc='upper left')\n",
    "    plt.axhline(y=0, linewidth=1, color='k')\n",
    "    plt.axvline(x=0, linewidth=1, color='k')\n",
    "    plt.grid()\n",
    "    plt.show()\n",
    "\n",
    "interact(animatie\n",
    "        ,c=FloatSlider(min=-2, max=2, step=0.5, value=1, description='$c$'));"
   ]
  },
  {
   "cell_type": "markdown",
   "metadata": {},
   "source": [
    "* Merk de sterk stijgende trend op wanneer $c>0$. Hoe verklaar je die? Waarom wordt afhankelijke veranderlijke klein wanneer $x$ sterk negatief wordt?\n",
    "* Precies het omgekeerde gebeurt wanneer $c>0$, hoe verklaar je dat?\n",
    "* Welke waarde heeft $f(x)$ in $x=0$?\n",
    "* Welke waarde heeft $f(x)$ wanneer $c=0$?\n",
    "* Heeft deze exponentiële functie nulpunten?"
   ]
  },
  {
   "cell_type": "markdown",
   "metadata": {},
   "source": [
    "### T1.4.1- Enkele voorbeelden"
   ]
  },
  {
   "cell_type": "markdown",
   "metadata": {},
   "source": [
    "#### IV Bolus"
   ]
  },
  {
   "cell_type": "markdown",
   "metadata": {},
   "source": [
    "In [Hoofdstuk 1](./H1-Farmacokinetiek.ipynb) zien we dat de plasmaconcentratie van een geneesmiddel, $c_p\\,\\left[\\text{mol}\\,\\text{l}^{-1}\\right]$, toegediend via IV bolus, gemodelleerd kan worden door\n",
    "\n",
    "$$\n",
    "\t\tc_p = \\dfrac{D}{V_d} e^{-k t},\n",
    "$$\n",
    "\t\t\n",
    "met $D\\,\\left[\\text{mg}\\right]$ de dosis, $V_d\\,\\left[\\text{l}\\right]$ het distributievolume,  $k\\,\\left[\\text{h}^{-1}\\right]$ de eliminatieconstante, en $t\\,\\left[\\text{h}\\right]$ de tijd na toediening van het geneesmiddel."
   ]
  },
  {
   "cell_type": "code",
   "execution_count": 109,
   "metadata": {},
   "outputs": [
    {
     "data": {
      "application/vnd.jupyter.widget-view+json": {
       "model_id": "c62b4dc12ac5498caf06e893c229ee41",
       "version_major": 2,
       "version_minor": 0
      },
      "text/plain": [
       "interactive(children=(FloatSlider(value=0.6, description='$k$', max=1.0, min=0.2, step=0.2), Output()), _dom_c…"
      ]
     },
     "metadata": {},
     "output_type": "display_data"
    }
   ],
   "source": [
    "twaarden=np.linspace(0,4,100)\n",
    "\n",
    "D=500\n",
    "Vd=21\n",
    "    \n",
    "def animatie(k):\n",
    "    \n",
    "    def cp(t):\n",
    "        return D/Vd*np.exp(-k*t)\n",
    "    \n",
    "    plt.plot(twaarden,cp(twaarden),label=r'$f(x)=D/V_d\\exp (-{}x)$'.format(k))\n",
    "    plt.xlabel('$t$ [h]')\n",
    "    plt.ylabel('$c_p$ [mol l$^{-1}$]')\n",
    "    plt.ylim([0,25])\n",
    "    plt.legend()\n",
    "    plt.axhline(y=0, linewidth=1, color='k')\n",
    "    plt.axvline(x=0, linewidth=1, color='k')\n",
    "    plt.grid()\n",
    "    plt.show()\n",
    "\n",
    "interact(animatie\n",
    "        ,k=FloatSlider(min=0.2, max=1, step=0.2, value=0.6, description='$k$'));"
   ]
  },
  {
   "cell_type": "markdown",
   "metadata": {},
   "source": [
    "* Hoeveel bedraagt de plasmaconcentratie net na toediening van het geneesmiddel?\n",
    "* Hoe lang duurt het eer al het geneesmiddel uit het plasma verwijderd is?"
   ]
  },
  {
   "cell_type": "markdown",
   "metadata": {},
   "source": [
    "#### Populatiemodel"
   ]
  },
  {
   "cell_type": "markdown",
   "metadata": {},
   "source": [
    "In [Hoofdstuk 3](./H3-Populatiemodellen.ipynb) zien we dat de evolutie van het aantal insecten, $N$, in een populatie kan evolueren volgens\n",
    "\n",
    "$$\n",
    "N = N(0)e^{rt},\n",
    "$$\n",
    "\n",
    "met $r\\,[\\text{d}^{-1}]$ de intrinsieke groeisnelheid en $N(0)$ het aantal insecten op tijdstip nul."
   ]
  },
  {
   "cell_type": "code",
   "execution_count": 112,
   "metadata": {},
   "outputs": [
    {
     "data": {
      "application/vnd.jupyter.widget-view+json": {
       "model_id": "336a7be86ec34c29b01411cbfd301685",
       "version_major": 2,
       "version_minor": 0
      },
      "text/plain": [
       "interactive(children=(FloatSlider(value=0.08, description='$r$', max=0.1, min=0.01, step=0.01), Output()), _do…"
      ]
     },
     "metadata": {},
     "output_type": "display_data"
    }
   ],
   "source": [
    "twaarden=np.linspace(0,35,100)\n",
    "\n",
    "N0=10\n",
    "    \n",
    "def animatie(r):\n",
    "    \n",
    "    def N(t):\n",
    "        return N0*np.exp(r*t)\n",
    "    \n",
    "    plt.plot(twaarden,N(twaarden),label=r'$f(x)=N_0 \\exp ({}x)$'.format(r))\n",
    "    plt.xlabel('$t$ [d]')\n",
    "    plt.ylabel('$N$')\n",
    "    plt.ylim([0,200])\n",
    "    plt.legend(loc='upper left')\n",
    "    plt.axhline(y=0, linewidth=1, color='k')\n",
    "    plt.axvline(x=0, linewidth=1, color='k')\n",
    "    plt.grid()\n",
    "    plt.show()\n",
    "\n",
    "interact(animatie\n",
    "        ,r=FloatSlider(min=0.01, max=0.1, step=0.01, value=0.08, description='$r$'));"
   ]
  },
  {
   "cell_type": "markdown",
   "metadata": {},
   "source": [
    "### Eigenschappen?"
   ]
  },
  {
   "cell_type": "markdown",
   "metadata": {},
   "source": [
    "## T1.5- Logaritmische functies"
   ]
  },
  {
   "cell_type": "markdown",
   "metadata": {},
   "source": [
    "### T1.5.1- De logaritme"
   ]
  },
  {
   "cell_type": "markdown",
   "metadata": {},
   "source": [
    "Zoals aftrekken het omgekeerde van optellen bewerkstelligt, en delen het omgekeerde van vermenigvuldigen, doet een logaritme het omgekeerde van een macht. \n",
    "\n",
    "Stel dat we ons, in het geval van delen en vermenigvuldigen, met een getal $a$ geconfronteerd zien, en we wensen te weten met welk getal we $a$ moeten vermenigvuldigen om het getal $b$ te bekomen. We vinden het antwoord op deze vraag via de bewerking\n",
    "\n",
    "$$\n",
    "\\dfrac{b}{a}.\n",
    "$$\n",
    "\n",
    "Inderdaad, stel dat de deling van $b$ door $a$ een getal $r$ oplevert, dan weten we dat de vermenigvuldiging van $a$ met $r$ in $b$ resulteert, en onze vraag is beantwoord:\n",
    "\n",
    "$$\n",
    "\\dfrac{b}{a} = r \\Leftrightarrow ar=b.\n",
    "$$\n",
    "\n",
    "Stel nu, in het geval van logaritmes en machten, dat we ons met een nieuw getal $a$ geconfronteerd zien, en we wensen te weten tot welke macht we $a$ moeten verheffen om een getal $b$ te bekomen. We vinden het antwoord door de bewerking\n",
    "\n",
    "$$\n",
    "\\log_{a} (b),\n",
    "$$\n",
    "\n",
    "en we zeggen dat we hier het logaritme met *grondtal* $a$ nemen van het getal $b$. Het logaritme is zo gedefinieerd dat\n",
    "\n",
    "$$\n",
    "\\log_{a} (b) = r \\Leftrightarrow a^r=b,\n",
    "$$\n",
    "\n",
    "of dus wanneer we $\\log_{a} (b)$ nemen, zoeken we die macht waartoe we $a$ moeten verheffen om $b$ te bekomen.\n",
    "\n",
    "Enkele illustraties:\n",
    "\n",
    "* $\\log_3 (9) = \\log_3 (3^2) =2$\n",
    "* $\\log_{10} (1000) = \\log_{10} (10^3) =3$\n",
    "* $\\log_4 \\left(\\dfrac{1}{4}\\right) = \\log_4 \\left(4^{-1}\\right) =-1$\n",
    "* $\\log_5 (1) = 0$"
   ]
  },
  {
   "cell_type": "markdown",
   "metadata": {},
   "source": [
    "### T1.5.2- Eigenschappen, rekenregels en bijzondere logaritmen"
   ]
  },
  {
   "cell_type": "markdown",
   "metadata": {},
   "source": [
    "Uit de definitie van de logaritme volgen:\n",
    "\n",
    "$$\n",
    "\\boxed{\\log_a \\left( a^x\\right) = x}\n",
    "$$\n",
    "\n",
    "en\n",
    "\n",
    "$$\n",
    "\\boxed{a^{\\log_a \\left( x\\right)} = x}\n",
    "$$\n",
    "\n",
    "Voorts geven we ook nog volgende rekenregels mee:\n",
    "\n",
    "* $$\n",
    "\\boxed{\\log_a \\left(x y \\right) = \\log_a \\left(x \\right)+ \\log_a \\left(y \\right)}\n",
    "$$\n",
    "\n",
    "* $$\n",
    "\\boxed{\\log_a \\left(\\dfrac{x}{y} \\right) = \\log_a \\left(x \\right)- \\log_a \\left(y \\right)}\n",
    "$$\n",
    "\n",
    "* $$\n",
    "\\boxed{\\log_a \\left(\\dfrac{1}{y} \\right) = - \\log_a \\left(y \\right)}\n",
    "$$\n",
    "\n",
    "* $$\n",
    "\\boxed{\\log_a \\left(x^s \\right) = s \\log_a \\left(x \\right)}\n",
    "$$\n",
    "\n",
    "Er zijn twee logaritmen die bijzonder veel gebruikt worden, en daarom hun eigen notatie verdienen:\n",
    "* Het logaritme met grondtal 10 wordt ook het *Briggse logaritme* genoemd, en wordt ook genoteerd als $\\log(x)$, dus zonder grondtal.\n",
    "* Het logaritme met $e$, het getal van Euler als grondtal, wordt het *natuurlijk logaritme* genoemd, genoteerd als $\\ln(x)$.\n"
   ]
  },
  {
   "cell_type": "markdown",
   "metadata": {},
   "source": [
    "### T1.5.3- De logaritmische functie"
   ]
  },
  {
   "cell_type": "markdown",
   "metadata": {},
   "source": [
    "We kunnen nu een logaritmische functie definiëren, \n",
    "\n",
    "$$\n",
    "y = \\log_a (x),\n",
    "$$\n",
    "\n",
    "waar afhankelijke veranderlijke $y$ telkens de macht is waartoe men constante $a$ moet verheffen om aan onafhankelijke veranderlijke $x$ te komen. In onderstaande figuur worden $\\ln (x) \\equiv \\log_e (x)$ en $\\log (x) \\equiv \\log_{10} (x)$ geïllustreerd."
   ]
  },
  {
   "cell_type": "code",
   "execution_count": 81,
   "metadata": {},
   "outputs": [
    {
     "data": {
      "image/png": "[encoded data removed]",
      "text/plain": [
       "<Figure size 432x288 with 1 Axes>"
      ]
     },
     "metadata": {
      "needs_background": "light"
     },
     "output_type": "display_data"
    }
   ],
   "source": [
    "xwaarden=np.linspace(0.01,5,200)\n",
    "\n",
    "\n",
    "# Merk op dat Python er helaas een andere conventie op nahoudt dan in onze regionen gewoonlijk is!\n",
    "# Met behulp van de Python functie np.log10(x) berekent men wat wij als log(x) noteren\n",
    "# Met behulp van de Python functie np.log(x) berekent men wat wij als ln(x) noteren\n",
    "plt.plot(xwaarden,np.log10(xwaarden),label='$\\log (x)$')\n",
    "plt.plot(xwaarden,np.log(xwaarden),label='$\\ln (x)$')\n",
    "plt.xlabel('$x$')\n",
    "plt.ylabel('$y$')\n",
    "plt.ylim([-2,2])\n",
    "plt.legend()\n",
    "plt.axhline(y=0, linewidth=1, color='k')\n",
    "plt.axvline(x=0, linewidth=1, color='k')\n",
    "plt.grid()\n",
    "plt.show()"
   ]
  },
  {
   "cell_type": "markdown",
   "metadata": {},
   "source": [
    "* Waarom neemt $\\ln(x)$ steeds grotere waarden aan dan $\\log(x)$ wanneer $x>1$, en kleinere wanneer $x<1$?\n",
    "* Wat gebeurt er wanneer $x$ naar nul toe gaat?\n",
    "* Waar ligt het nulpunt van deze functies?"
   ]
  },
  {
   "cell_type": "markdown",
   "metadata": {},
   "source": [
    "#### Exponentiële functies herschalen"
   ]
  },
  {
   "cell_type": "markdown",
   "metadata": {},
   "source": [
    "In de sectie over exponentiële functies, zagen we dat de evolutie van het aantal insecten, $N$, in een populatie kan evolueren volgens\n",
    "\n",
    "$$\n",
    "N = N(0)e^{rt},\n",
    "$$\n",
    "\n",
    "met $r\\,[\\text{d}^{-1}]$ de intrinsieke groeisnelheid en $N(0)$ het aantal insecten op tijdstip nul. We produceerden een figuur die de populatiegrootte uitzet tegen de tijd, en stelden vast dat de populatiegrootte, zoals het een exponentiële functie betaamt, plots grote proporties kan aannemen. Ook hier kan het interessant zijn gebruik te maken van logaritmen, om de grootte van de getallen in te tomen.\n",
    "\n",
    "Laten we de natuurlijke logaritme nemen van linker- en rechterlid in $N = N(0)e^{rt}$, en kijken wat er gebeurt:\n",
    "\n",
    "$$\n",
    "\\begin{align}\n",
    "&&  N &= N(0)e^{rt},\\\\\n",
    "&\\Leftrightarrow &  \\ln \\left( N \\right) &= \\ln \\left( N(0)e^{rt}\\right) ,\\\\\n",
    "&\\Leftrightarrow &  \\ln \\left( N \\right) &= \\ln \\left( N(0)\\right) + \\ln \\left( e^{rt}\\right) ,\\\\\n",
    "&\\Leftrightarrow &  \\ln \\left( N \\right) &= \\ln \\left( N(0)\\right) + rt ,\\\\\n",
    "\\end{align}\n",
    "$$\n",
    "\n",
    "waar we in de tweede stap gebruikt maakten van de rekenregel $\\log_a \\left(x y \\right) = \\log_a \\left(x \\right)+ \\log_a \\left(y \\right)$, en in de derde stap van $\\log_a \\left( a^x\\right) = x$.\n",
    "\n",
    "We stellen vast dat we door de natuurlijke logaritme te nemen van de uitdrukking $N = N(0)e^{rt}$, een lineair verband hebben gevonden tussen $\\ln \\left( N \\right)$ en de tijd! Deze wordt in onderstaande figuur uitgezet, met $N(0) = 10$."
   ]
  },
  {
   "cell_type": "code",
   "execution_count": 126,
   "metadata": {},
   "outputs": [
    {
     "data": {
      "application/vnd.jupyter.widget-view+json": {
       "model_id": "bbbefc88f707476295e764579304ef8f",
       "version_major": 2,
       "version_minor": 0
      },
      "text/plain": [
       "interactive(children=(FloatSlider(value=0.08, description='$r$', max=0.1, min=0.01, step=0.01), Output()), _do…"
      ]
     },
     "metadata": {},
     "output_type": "display_data"
    }
   ],
   "source": [
    "twaarden=np.linspace(0,70,100)\n",
    "\n",
    "N0=10\n",
    "    \n",
    "def animatie(r):\n",
    "    \n",
    "    def N(t):\n",
    "        return N0*np.exp(r*t)\n",
    "    \n",
    "    def lnN(t):\n",
    "        return np.log(N0)+r*t\n",
    "\n",
    "    \n",
    "    fig, (ax1, ax2) = plt.subplots(1, 2)\n",
    "    ax1.plot(twaarden,N(twaarden))\n",
    "    ax2.plot(twaarden,lnN(twaarden))\n",
    "       \n",
    "    ax1.set_ylim(0,1000)\n",
    "    ax1.grid()\n",
    "    ax1.set_xlabel('$t$ [d]')\n",
    "    ax1.set_ylabel('$N$')\n",
    "\n",
    "    ax2.set_ylim(0,np.log(1000))\n",
    "    ax2.grid()\n",
    "    ax2.set_xlabel('$t$ [d]')\n",
    "    ax2.set_ylabel('$\\ln (N)$')\n",
    "    \n",
    "    fig.tight_layout()\n",
    "\n",
    "interact(animatie\n",
    "        ,r=FloatSlider(min=0.01, max=0.1, step=0.01, value=0.08, description='$r$'));"
   ]
  },
  {
   "cell_type": "markdown",
   "metadata": {},
   "source": [
    "#### Logaritmische schaal"
   ]
  },
  {
   "cell_type": "code",
   "execution_count": 131,
   "metadata": {},
   "outputs": [
    {
     "data": {
      "application/vnd.jupyter.widget-view+json": {
       "model_id": "f1ba63cae10f46fa8ed0f1e09947c178",
       "version_major": 2,
       "version_minor": 0
      },
      "text/plain": [
       "interactive(children=(FloatSlider(value=0.08, description='$r$', max=0.1, min=0.01, step=0.01), Output()), _do…"
      ]
     },
     "metadata": {},
     "output_type": "display_data"
    }
   ],
   "source": [
    "twaarden=np.linspace(0,70,100)\n",
    "\n",
    "N0=10\n",
    "    \n",
    "def animatie(r):\n",
    "    \n",
    "    def N(t):\n",
    "        return N0*np.exp(r*t)\n",
    "\n",
    "    \n",
    "    fig, (ax1, ax2) = plt.subplots(1, 2)\n",
    "    ax1.plot(twaarden,N(twaarden))\n",
    "    ax2.plot(twaarden,N(twaarden))\n",
    "       \n",
    "    ax1.grid()\n",
    "    ax1.set_xlabel('$t$ [d]')\n",
    "    ax1.set_ylabel('$N$')\n",
    "\n",
    "    \n",
    "    ax2.grid()\n",
    "    ax2.set_yscale('log')\n",
    "    ax2.set_xlabel('$t$ [d]')\n",
    "    ax2.set_ylabel('$N$')\n",
    "    \n",
    "    fig.tight_layout()\n",
    "\n",
    "interact(animatie\n",
    "        ,r=FloatSlider(min=0.01, max=0.1, step=0.01, value=0.08, description='$r$'));\n",
    "\n"
   ]
  },
  {
   "cell_type": "code",
   "execution_count": 125,
   "metadata": {},
   "outputs": [
    {
     "data": {
      "image/png": "[encoded data removed]",
      "text/plain": [
       "<Figure size 432x288 with 1 Axes>"
      ]
     },
     "metadata": {
      "needs_background": "light"
     },
     "output_type": "display_data"
    }
   ],
   "source": [
    "twaarden=np.linspace(0,35,100)\n",
    "\n",
    "N0=10\n",
    "    \n",
    "r=0.08\n",
    "    \n",
    "def N(t):\n",
    "    return N0*np.exp(r*t)\n",
    "    \n",
    "plt.plot(twaarden,N(twaarden),label=r'$f(x)=N_0 \\exp ({}x)$'.format(r))\n",
    "plt.xlabel('$t$ [d]')\n",
    "plt.ylabel('$N$')\n",
    "plt.legend(loc='upper left')\n",
    "plt.yscale('log')\n",
    "plt.grid()\n",
    "plt.show()\n",
    "\n"
   ]
  },
  {
   "cell_type": "markdown",
   "metadata": {},
   "source": [
    "### T1.5.4- Enkele voorbeelden"
   ]
  },
  {
   "cell_type": "markdown",
   "metadata": {},
   "source": [
    "$$\n",
    "\\require{mhchem}\n",
    "$$\n",
    "De zuurtegraad van een waterige oplossing wordt bepaald door de concentratie hydroxonium-ionen, $\\left[\\ce{H3O+}\\right]\\,\\left[\\text{mol}\\text{l}^{-1}\\right]$, in de oplossing. Wanneer men een zuur aan zuiver water toevoegt, zal dit zuur namelijk geneigd zijn haar waterstofion, $\\ce{H+}$, aan het aanwezige water, $\\ce{H2O}$, af te staan, om $\\ce{H3O+}$ te vormen. Een base doet precies het tegenovergestelde, en zal geneigd zijn waterstofionen op te nemen. Wanneer we zuur, base, of een combinatie van beide aan water toevoegen, vertelt de concentratie $\\left[\\ce{H3O+}\\right]$ hoe zuur de resulterende waterige oplossing is. Indien de concentratie $\\left[\\ce{H3O+}\\right]$ hoog is, is de oplossing zuur, en wanneer ze laag is, is de oplossing basisch.\n",
    "\n",
    "In citroensap, dat kan opgevat worden als water waarin citroenzuur zit opgelost, is de concentratie $\\left[\\ce{H3O+}\\right] = 10^{-2}$, in zuiver water is dat $\\left[\\ce{H3O+}\\right] = 10^{-7}$, terwijl in huishoudammonia, een waterige oplossing van de base ammoniak ($\\ce{NH3}$) die als vetverwijderaar wordt ingezet, dat $\\left[\\ce{H3O+}\\right] = 10^{-11.5}$ is. Men stelt vast dat er zelfs tussen deze veel voorkomende huis-tuin-en-keukenmiddelen enorme verschillen bestaan: er zit een miljard keer meer $\\ce{H3O+}$ in citroensap dan in huishoudammonia!\n",
    "\n",
    "Omdat werken met dergelijke getallen niet handig is, kiest men er vaak voor gebruik te maken van de pH-schaal. Deze is ook gebaseerd op de concentratie $\\left[\\ce{H3O+}\\right]$, maar voegt er nog een logaritmische bewerking aan toe, om zodoende van de erg kleine getallen af te raken:\n",
    "\n",
    "$$\n",
    "\\text{pH} = -\\log(\\left[\\ce{H3O+}\\right]).\n",
    "$$\n",
    "\n",
    "We kunnen de pH van citroensap dus eenvoudig berekenen als:\n",
    "\n",
    "$$\n",
    "\\text{pH} = -\\log(10^{-2}) = 2,\n",
    "$$\n",
    "\n",
    "terwijl de pH van zuiver water en ammoniak respectievelijk gegeven wordt door $7$ en $11.5$. Merk wel op dat een lage pH op hoge $\\left[\\ce{H3O+}\\right]$ en dus een zure oplossing wijst! Onderstaande figuur geeft de pH weer in functie van $\\left[\\ce{H3O+}\\right]$."
   ]
  },
  {
   "cell_type": "code",
   "execution_count": 108,
   "metadata": {},
   "outputs": [
    {
     "data": {
      "image/png": "[encoded data removed]",
      "text/plain": [
       "<Figure size 432x288 with 1 Axes>"
      ]
     },
     "metadata": {
      "needs_background": "light"
     },
     "output_type": "display_data"
    }
   ],
   "source": [
    "concwaarden=10**np.linspace((-14),(-1),200)\n",
    "\n",
    "plt.plot(concwaarden,-np.log10(concwaarden))\n",
    "plt.xlabel('H$_3$O$^{+}$')\n",
    "plt.ylabel('pH')\n",
    "plt.axhline(y=0, linewidth=1, color='k')\n",
    "plt.axvline(x=0, linewidth=1, color='k')\n",
    "plt.grid()\n",
    "plt.show()"
   ]
  },
  {
   "cell_type": "markdown",
   "metadata": {},
   "source": [
    "* Hoe relateer je deze figuur aan die van $y=\\log(x)$ enkele paragrafen terug?\n",
    "* De figuur ziet er niet zo interessant uit; waar vinden we de $\\left[\\ce{H3O+}\\right]$ geassocieerd men citroensap, zuiver water, of huishoudammonia? \n",
    "\n",
    "Men voelt hier onmiddellijk aan waarom het gebruik van logaritmische herschalingen interessant is wanneer men getallen wil vergelijken die extreem van elkaar verschillen. Citroensap, zuiver water en huishoudammonia vallen op de $x$-as nauwelijks van elkaar te onderscheiden, maar worden op de $y$-as netjes los van elkaar geprojecteerd."
   ]
  },
  {
   "cell_type": "markdown",
   "metadata": {},
   "source": [
    "## T1.6- Goniometrische functies"
   ]
  },
  {
   "cell_type": "code",
   "execution_count": 99,
   "metadata": {},
   "outputs": [
    {
     "data": {
      "image/png": "[encoded data removed]",
      "text/plain": [
       "<Figure size 432x288 with 1 Axes>"
      ]
     },
     "metadata": {
      "needs_background": "light"
     },
     "output_type": "display_data"
    }
   ],
   "source": [
    "xwaarden=np.linspace(-1,10,200)\n",
    "\n",
    "   \n",
    "plt.plot(xwaarden,np.sin(xwaarden),label='$\\sin (x)$')\n",
    "plt.plot(xwaarden,np.cos(xwaarden),label='$\\cos (x)$')\n",
    "plt.xlabel('$x$')\n",
    "plt.ylabel('$y$')\n",
    "plt.ylim([-2,2])\n",
    "plt.legend()\n",
    "plt.axhline(y=0, linewidth=1, color='k')\n",
    "plt.axvline(x=0, linewidth=1, color='k')\n",
    "plt.grid()\n",
    "plt.xticks([0,np.pi,5,2*np.pi,3*np.pi,10],[0,r'$\\pi$',5,r'$2 \\pi$',r'$3 \\pi$',10])\n",
    "plt.show()"
   ]
  },
  {
   "cell_type": "code",
   "execution_count": 84,
   "metadata": {},
   "outputs": [
    {
     "data": {
      "text/plain": [
       "3.141592653589793"
      ]
     },
     "execution_count": 84,
     "metadata": {},
     "output_type": "execute_result"
    }
   ],
   "source": [
    "np.pi"
   ]
  },
  {
   "cell_type": "markdown",
   "metadata": {},
   "source": [
    " ## Referentie\n",
    " \n",
    " De tekst van dit hoofdstuk is deels gebaseerd op https://set.kuleuven.be/voorkennis/zomercursus/zomercursusZ"
   ]
  },
  {
   "cell_type": "code",
   "execution_count": null,
   "metadata": {},
   "outputs": [],
   "source": []
  }
 ],
 "metadata": {
  "kernelspec": {
   "display_name": "Python 3",
   "language": "python",
   "name": "python3"
  },
  "language_info": {
   "codemirror_mode": {
    "name": "ipython",
    "version": 3
   },
   "file_extension": ".py",
   "mimetype": "text/x-python",
   "name": "python",
   "nbconvert_exporter": "python",
   "pygments_lexer": "ipython3",
   "version": "3.7.4"
  }
 },
 "nbformat": 4,
 "nbformat_minor": 2
}
