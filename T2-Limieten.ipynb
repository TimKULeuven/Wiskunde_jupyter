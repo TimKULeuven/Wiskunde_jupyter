{
 "cells": [
  {
   "cell_type": "code",
   "execution_count": 2,
   "metadata": {},
   "outputs": [],
   "source": [
    "# Voer dit blok code uit door met de cursor in het blok te klikken, en vervolgens SHIFT+ENTER in te drukken.\n",
    "\n",
    "import numpy as np\n",
    "from matplotlib import pyplot as plt\n",
    "from scipy.integrate import odeint\n",
    "\n",
    "from IPython.display import HTML\n",
    "from ipywidgets.widgets import interact, IntSlider, FloatSlider, Layout\n",
    "\n",
    "from sympy.solvers import solve\n",
    "from sympy import Symbol\n",
    "\n",
    "import math\n",
    "\n",
    "%matplotlib inline\n",
    "\n",
    "style = {'description_width': '200px'}\n",
    "slider_layout = Layout(width='50%')"
   ]
  },
  {
   "cell_type": "markdown",
   "metadata": {},
   "source": [
    "# T2- Limieten"
   ]
  },
  {
   "cell_type": "markdown",
   "metadata": {},
   "source": [
    "## T2.1- Definitie"
   ]
  },
  {
   "cell_type": "markdown",
   "metadata": {},
   "source": [
    "Zij $f$ een functie, en $a$ en $c$ een getal, ofwel plus of min oneindig, genoteerd als $+\\infty$ of $-\\infty$. \n",
    "\tDan zeggen en schrijven we dat \n",
    "\n",
    "\\begin{align*}\n",
    "\t\\lim_{x\\to c}  f(x) = a & \\quad\\iff\\quad \\text{de limiet van $f$ als $x$ naar $c$ gaat is gelijk aan $a$} \\\\\n",
    "\t                   & \\quad\\iff\\quad \\text{als }x\\to c\\text{, dan } \t\t\t\t\t\t\t\t\tf(x) \\to a \\\\\n",
    "\t                   \\\\\n",
    "\t\\lim_{x \\underset < \\to c} f(x) = a & \\quad\\iff\\quad \\text{de linkerlimiet van $f$ als $x$ naar $c$ gaat is gelijk aan $a$} \\\\\n",
    "\t                   & \\quad\\iff\\quad \\text{de limiet van $f$ als $x$ langs links naar $c$ gaat is gelijk aan $a$} \\\\\n",
    "\t                   & \\quad\\iff\\quad \\text{als }x\\to c\\textbf{ langs links} \\text{ (dus $x<c$), dan } f(x) \\to a \\\\\n",
    "\t                   \\\\\n",
    "\t\\lim_{x \\underset > \\to c} f(x) = a & \\quad\\iff\\quad \\text{de rechterlimiet van $f$ als $x$ naar $c$ gaat is gelijk aan $a$} \\\\\n",
    "\t\t\t\t\t   & \\quad\\iff\\quad \\text{de limiet van $f$ als $x$ langs rechts naar $c$ gaat is gelijk aan $a$} \\\\\n",
    "\t\t\t\t\t   & \\quad\\iff\\quad \\text{als }x\\to c\\textbf{ langs rechts} \\text{ (dus $x>c$), dan }f(x) \\to a \n",
    "\\end{align*}"
   ]
  },
  {
   "cell_type": "markdown",
   "metadata": {},
   "source": [
    "## T2.2- Limieten berekenen"
   ]
  },
  {
   "cell_type": "markdown",
   "metadata": {},
   "source": [
    "### T2.2.1 Aflezen op basis van een grafiek"
   ]
  },
  {
   "cell_type": "markdown",
   "metadata": {},
   "source": [
    "Beschouw de functie $f(x)=1/x$, weergegeven op onderstaande figuur. We zullen voor deze functie enkele limieten berekenen. Dit betekent dat we $x$ naar enkele waarden $c$ zullen laten gaan, om dan te bekijken welke waarde $f(x)$ aanneemt. We kunnen hiertoe onderstaande grafiek gebruiken, in samenwerking met wat onze intuïtie zegt wanneer $x$ naar bepaalde waarden $c$ toe beweegt.\n",
    "\n",
    "<img src=\"figs/tikz/limieten/invx.png\" width=400 />\n",
    "\n",
    "Geef de waarde van volgende limieten:\n",
    "\n",
    "* $\\lim\\limits_{x \\to 2} \\dfrac{1}{x} = $\n",
    "* $\\lim\\limits_{x \\to +\\infty} \\dfrac{1}{x} = $\n",
    "* $\\lim\\limits_{x \\to -\\infty} \\dfrac{1}{x} = $\n",
    "* $\\lim\\limits_{x \\underset > \\to0} \\dfrac{1}{x} = $\n",
    "* $\\lim\\limits_{x \\underset < \\to0} \\dfrac{1}{x} = $\n",
    "* $\\lim\\limits_{x \\to 0} \\dfrac{1}{x} = $\n",
    "\n",
    "Antwoorden:\n",
    "\n",
    "* Wanneer $x\\to2$, dan gaat $\\dfrac{1}{x}\\to\\dfrac{1}{2}$. Dit lezen we ook af op de figuur.\n",
    "* Wanneer $x\\to +\\infty$, lijkt de figuur ons te vertellen dat $\\dfrac{1}{x}\\to 0$. We kunnen dit ook intuïtief begrijpen: wanneer we $1$ delen door een getal dat steeds groter wordt, zal de uitkomst van deze deling steeds kleiner worden. Dezelfde redenering gaat op wanneer $x\\to -\\infty$.\n",
    "* Vervolgens wordt ons gevraagd wat er met $\\dfrac{1}{x}$ gebeurt wanneer $x \\underset > \\to0$, of dus wanneer $x$ naar nul nadert langs rechts, waarbij dus steeds $x>0$ geldt. We kunnen ons voorstellen dat wanneer we $1$ delen door een steeds kleiner worden getal, de uitkomst steeds groter wordt. De figuur bevestigt inderdaad dat $\\lim\\limits_{x \\underset > \\to0} \\dfrac{1}{x} = +\\infty$. Wanneer $x$ nul langs links benadert, $x \\underset < \\to0$, kunnen we dezelfde redenering volgen, maar moeten we wel een minteken toevoegen, omdat we $1$ door een steeds kleiner wordend *negatief* getal delen! We vinden dus $\\lim\\limits_{x \\underset < \\to0} \\dfrac{1}{x} = -\\infty$.\n",
    "* Vervolgens wordt ons gevraagd $\\lim\\limits_{x \\to 0} \\dfrac{1}{x}$ te berekenen. Uit voorgaande discussie weten we echter dat we een andere uitkomst krijgen wanneer nul van links dan wel van rechts wordt benarderd. We zeggen daarom dat de limiet $\\lim\\limits_{x \\to 0} \\dfrac{1}{x}$ *niet bestaat*, omdat deze geen eenduidige uitkomst heeft, want $\\lim\\limits_{x \\underset > \\to0} \\dfrac{1}{x}  \\neq \\lim\\limits_{x \\underset < \\to0} \\dfrac{1}{x}$.\n",
    "\n",
    "Ter illustratie nog enkele limieten voor de functie $\\ln (x)$:\n",
    "\n",
    "<img src=\"figs/tikz/limieten/lnx.png\" width=400 />\n",
    "\n",
    "Geef de waarde van volgende limieten:\n",
    "\n",
    "* $\\lim\\limits_{x \\to 1} \\ln (x) = 0$\n",
    "* $\\lim\\limits_{x \\to e} \\ln (x) = 1$\n",
    "* $\\lim\\limits_{x \\to +\\infty} \\ln (x) = +\\infty$\n",
    "* $\\lim\\limits_{x \\to -\\infty} \\ln (x)$ bestaat niet, omdat $\\ln (x)$ niet bestaat voor $x<0$.\n",
    "* $\\lim\\limits_{x \\underset > \\to0} \\ln (x) = -\\infty$\n",
    "* $\\lim\\limits_{x \\underset < \\to0} \\ln (x)$ bestaat niet, omdat $\\ln (x)$ niet bestaat voor $x<0$.\n",
    "* $\\lim\\limits_{x \\to 0} \\ln (x)$ bestaat niet, omdat $\\lim\\limits_{x \\underset > \\to0} \\ln (x) \\neq \\lim\\limits_{x \\underset < \\to0} \\ln (x)$ "
   ]
  },
  {
   "cell_type": "markdown",
   "metadata": {},
   "source": [
    "### T2.2.2 Rekenregels voor limieten"
   ]
  },
  {
   "cell_type": "markdown",
   "metadata": {},
   "source": [
    "Om op basis van de gekende limieten voor eenvoudige functies, die we gemakkelijk van grafieken kunnen aflezen, de limieten te berekenen voor meer complexe, samengestelde functies, hebben we onderstaande rekenregels nodig.\n",
    "\n",
    "\n",
    "Zij $f$ en $g$ twee continue functies, waarbij we onderstellen dat de limieten $\\lim\\limits_{x \\to c} f(x)$ en $\\lim\\limits_{x \\to c} g(x)$ bestaan. Dan gelden volgende rekenregels, *tenzij ze een onbepaaldheid geven*: \n",
    "\n",
    "\\begin{align*}\n",
    "\t\\lim\\limits_{x \\to c} \\big(f(x) +g(x)\\big) & = \\lim\\limits_{x \\to c} f(x) + \\lim\\limits_{x \\to c} g(x)  \n",
    "\t\\\\% \\label{elim-som} \\\\\n",
    "\t\\lim\\limits_{x \\to c} \\big(f(x) -g(x)\\big) & = \\lim\\limits_{x \\to c} f(x) - \\lim\\limits_{x \\to c} g(x)  \n",
    "\t\\\\%\\label{elim-verschil}\\\\\n",
    "\t\\lim\\limits_{x \\to c} \\big(f(x)\\cdot g(x)\\big) & = \\lim\\limits_{x \\to c} f(x) \\cdot \\lim\\limits_{x \\to c} g(x)  \n",
    "\t\\\\% \\label{elim-product} \\\\\n",
    "\t%\n",
    "\t\\mbox{Als } \\lim\\limits_{x \\to c} g(x) \\neq 0: \\notag\\\\\n",
    "\t\\lim\\limits_{x \\to c} \\dfrac{f(x)}{g(x)} & = \\dfrac{\\lim\\limits_{x \\to c} f(x)}{\\lim\\limits_{x \\to c} g(x)}  \n",
    "\t\\\\\n",
    "\t\\end{align*}\n",
    "    \n",
    "De *onbepaaldheden* die ervoor kunnen zorgen dat bovenstaande rekenregels niet opgaan, zijn combinaties tussen $0$ en $\\infty$ die geen betekenis hebben. Deze zijn van de vorm:\n",
    "\n",
    "$$\n",
    "\\infty-\\infty, 0\\cdot \\infty, \\dfrac{0}{0}\\text{ en }\\dfrac{\\infty}{\\infty}.\n",
    "$$\n",
    "\n",
    "Deze vormen zijn onbepaald, omdat we verschillende 'groottes' van oneindig, of 'kleintes' van $0$, niet met elkaar kunnen vergelijken, en omdat we de 'kleinheid' van $0$ niet met de 'grootheid' van $\\infty$ kunnen vergelijken. Wanneer we een rekenregel willen toepassen, maar we vaststellen dat dit een onbepaaldheid zou opleveren, zijn er meestal trucjes te vinden om deze onbepaaldheid uit de weg te gaan.\n",
    "\n",
    "Laten we de rekenregels, en het voorkomen van onbepaaldheden, illustreren aan de hand van enkele voorbeelden:\n",
    "\n",
    "* $\\lim\\limits_{x \\underset > \\to  0}(\\frac{1}{x} +\n",
    "\t\\frac{1}{x^2}) = \\lim\\limits_{x \\underset > \\to  0} \\frac{1}{x} + \\lim\\limits_{x\n",
    "\t\t\\underset > \\to  0} \\frac{1}{x^2} = (+ \\infty) + (+ \\infty) = +\n",
    "\t\\infty$,\n",
    "    \n",
    "    waar we de rekenregel gebruikt hebben die stelt dat de limiet van een som gelijk is aan de som van de limieten, en tot $(+ \\infty) + (+ \\infty)$ kwamen. Dit is geen onbepaaldheid, want iets oneindig groot optellen bij iets oneindig groot, levert iets oneindig groot op.\n",
    "    \n",
    "* $ \\lim\\limits_{x \\rightarrow + \\infty} e^{-x} = \\lim\\limits_{x \\rightarrow + \\infty} \\dfrac{1}{e^{x}}=  \\dfrac{\\lim\\limits_{x \\rightarrow + \\infty} 1}{ \\lim\\limits_{x \\rightarrow + \\infty}e^{x}}= \\dfrac{1}{+\\infty} =0$,\n",
    "\n",
    "    waar we de rekenregel gebruikt hebben die stelt dat de limiet van een quotiënt gelijk is aan het quotiënt van de limieten, en we tot $\\dfrac{1}{+\\infty}$ kwamen, wat geen onbepaaldheid is.\n",
    "    \n",
    "* $\\lim\\limits_{x \\rightarrow + \\infty} (3x^2-4x+2)  \\stackrel{?}{=} \\lim\\limits_{x \\rightarrow + \\infty} 3x^2 - \\lim\\limits_{x \\rightarrow + \\infty} 4x + \\lim\\limits_{x \\rightarrow + \\infty} 2 = 3\\cdot(+\\infty) - 4 \\cdot (+\\infty) + 2 = \\infty - \\infty.$\n",
    "    \n",
    "    Oeps! We wilden de rekenregel gebruiken die stelt dat de limiet van een som gelijk is aan de som van de limieten, maar we kwamen een onbepaaldheid uit! De rekenregel mag niet gebruikt worden, misschien is $\\lim\\limits_{x \\rightarrow + \\infty} (3x^2-4x+2)  \\neq \\lim\\limits_{x \\rightarrow + \\infty} 3x^2 - \\lim\\limits_{x \\rightarrow + \\infty} 4x + \\lim\\limits_{x \\rightarrow + \\infty} 2$. De truc bestaat er hier uit om de term die het snelste groot wordt, zijnde $x^2$, voorop te zetten:\n",
    "    \n",
    "    $$\n",
    "    \\begin{align}\n",
    "    \\lim\\limits_{x \\rightarrow + \\infty} (3x^2-4x+2) &= \\lim\\limits_{x \\rightarrow + \\infty} x^2\\cdot\\left(3-\\dfrac{4}{x}+\\dfrac{2}{x^2}\\right)\\\\\n",
    "    &= \\lim\\limits_{x \\rightarrow + \\infty} x^2\\cdot\\lim\\limits_{x \\rightarrow + \\infty}\\left(3-\\dfrac{4}{x}+\\dfrac{2}{x^2}\\right)\\\\\n",
    "    &= \\lim\\limits_{x \\rightarrow + \\infty} x^2\\cdot\\left(\\lim\\limits_{x \\rightarrow + \\infty}3-\\lim\\limits_{x \\rightarrow + \\infty}\\dfrac{4}{x}+\\lim\\limits_{x \\rightarrow + \\infty}\\dfrac{2}{x^2}\\right)\\\\\n",
    "    &= +\\infty \\cdot\\left(3-0+0\\right)\\\\\n",
    "    &=+\\infty,\n",
    "    \\end{align}\n",
    "    $$\n",
    "    waar we eerst de rekenregel gebruikt hebben die stelt dat de limiet van een product gelijk is aan het product van de limieten, en daarna de rekenregel die stelt dat de limiet van een som gelijk is aan de som van de limieten. We zijn onderweg geen onbepaaldheden tegen gekomen, dus het was inderdaad toegestaan deze rekenregels te gebruiken!\n",
    "    \n",
    "* $\\lim\\limits_{x \\to 2} \\dfrac{x^2 - 4 }{x-2} \\stackrel{?}{=} \\dfrac{\\lim\\limits_{x \\to 2} x^2 - 4 }{\\lim\\limits_{x \\to 2} x-2} = \\dfrac{0}{0}$.\n",
    "    \n",
    "    Oeps, alweer een onbepaaldheid, we hebben illegaal gebruik gemaakt van een rekenregel. Laten we een truc proberen toepassen, om van de onbepaaldheid af te raken:\n",
    "    \n",
    "    $$\n",
    "    \\begin{align}\n",
    "    \\lim\\limits_{x \\to 2} \\dfrac{x^2 - 4 }{x-2} &= \\lim\\limits_{x \\to 2} \\dfrac{(x-2)(x+2)}{x-2},\\\\\n",
    "    &= \\lim\\limits_{x \\to 2} (x+2),\\\\\n",
    "    &= 4,\\\\\n",
    "    \\end{align}\n",
    "    $$\n",
    "    \n",
    "    waar we gebruik maakten van het feit dat $x^2 - 4 = (x-2)(x+2)$, omdat we dan $(x-2)$ uit teller en noemer kunnen schrappen, om tot $(x+2)$, waar we zonder zorgen de limiet van kunnen nemen."
   ]
  },
  {
   "cell_type": "markdown",
   "metadata": {},
   "source": [
    " ## Referentie\n",
    " \n",
    " De tekst van dit hoofdstuk is deels gebaseerd op https://set.kuleuven.be/voorkennis/zomercursus/zomercursusZ"
   ]
  },
  {
   "cell_type": "code",
   "execution_count": null,
   "metadata": {},
   "outputs": [],
   "source": []
  }
 ],
 "metadata": {
  "kernelspec": {
   "display_name": "Python 3",
   "language": "python",
   "name": "python3"
  },
  "language_info": {
   "codemirror_mode": {
    "name": "ipython",
    "version": 3
   },
   "file_extension": ".py",
   "mimetype": "text/x-python",
   "name": "python",
   "nbconvert_exporter": "python",
   "pygments_lexer": "ipython3",
   "version": "3.7.4"
  }
 },
 "nbformat": 4,
 "nbformat_minor": 2
}
