{
 "cells": [
  {
   "cell_type": "code",
   "execution_count": 23,
   "metadata": {},
   "outputs": [],
   "source": [
    "# Voer dit blok code uit door met de cursor in het blok te klikken, en vervolgens SHIFT+ENTER in te drukken.\n",
    "\n",
    "import numpy as np\n",
    "from matplotlib import pyplot as plt\n",
    "from scipy.integrate import odeint\n",
    "\n",
    "from IPython.display import HTML\n",
    "from ipywidgets.widgets import interact, IntSlider, FloatSlider, FloatLogSlider, Layout\n",
    "\n",
    "\n",
    "%matplotlib inline\n",
    "\n",
    "style = {'description_width': '200px'}\n",
    "slider_layout = Layout(width='50%')"
   ]
  },
  {
   "cell_type": "markdown",
   "metadata": {},
   "source": [
    "# T3 - Afgeleiden\n",
    "## T3.1 - Introductie"
   ]
  },
  {
   "cell_type": "markdown",
   "metadata": {},
   "source": [
    "Het begrip *afgeleide* komt frequent voor in allerlei wetenschappelijke en andere contexten. De techniek van afgeleiden laat toe om precies, efficiënt en in zeer uiteenlopende situaties *veranderingen* te bestuderen. \n",
    "\n",
    "Vele fenomenen zoals bewegingen, temperatuursverlopen, productievolumes, epidemies en hoogteprofielen van wielerwedstrijden kunnen beschreven worden als functies. *Afgeleiden* zeggen dan iets over de *veranderingen van de functiewaarden*. Hoe *verandert* de temperatuur, het geproduceerde volume, het aantal besmette personen als de tijd, de prijs of de sociale contacten veranderen?\n",
    "\n",
    "In deze context begrijpen we functies dikwijls als een verband tussen een 'onafhankelijke' variabele (de tijd, de prijs, de lockdown maatregelen) en de 'afhankelijke' variabele (de temperatuur, de hoeveelheid geproduceerde producten of het aantal besmette personen). In wiskundige taal noemen we de onafhankelijke variabele typisch $x$ (maar soms ook $t$ als het over tijd gaat, of $s$, of andere letters) en de afhankelijke grootheid is dan een functie die we typisch $f$ noemen (maar soms ook $T$ als het over temperatuur gaat, of $v$ en $a$ als het snelheden en versnellingen zijn).\n",
    "\n",
    "Afgeleiden geven informatie over de *verhouding* tussen *de verandering van de afhankelijke variabele* ten opzichte van *de verandering van de onafhankelijke variabele*. Als je de onafhankelijke variabele varieert, wat gebeurt er dan met de afhankelijke variabele? Stijgt die, of daalt die, en hoe snel of hoe traag gebeurt dat? \n",
    "Je kan hetzelfde ook begrijpen in termen van *gevoeligheid*: hoe gevoelig is de afhankelijke variabele voor een wijziging in de onafhankelijke variabele? "
   ]
  },
  {
   "cell_type": "markdown",
   "metadata": {},
   "source": [
    "## T3.2 -  Een inleidend voorbeeld"
   ]
  },
  {
   "cell_type": "markdown",
   "metadata": {},
   "source": [
    "We illustreren eerst aan de hand van een voorbeeld wat we bedoelen met *veranderingen* van functiewaarden, en *verhoudingen* tussen *de verandering van de afhankelijke variabele* ten opzichte van *de verandering van de onafhankelijke variabele*."
   ]
  },
  {
   "cell_type": "markdown",
   "metadata": {},
   "source": [
    "In een punt $a+h$ in de buurt van $a$ is de functiewaarde van $f$ gelijk aan $f(a+h)$.\n",
    "    We berekenen voor enkele steeds kleiner wordende $h$ telkens de functiewaarden in $a$ en in $a+h$ en verandering $f(a+h)-f(a)$ die hoort bij deze $h$.\n",
    "    Zoals te verwachten was, wordt de verandering $f(a+h)-f(a)$ ook erg klein zodra $h$ klein wordt. Maar het is erg interessant op te merken dat de *verhouding* $\\frac{f(a+h)-f(a)}{h}$ *niet* noodzakelijk klein wordt!\n",
    "    \n",
    "Laten we de functie $f(x) = x^2 + 1$ beschouwen, en bij $a=1$ en $a=3$ voor steeds kleiner wordende $h$ de verhouding $\\frac{f(a+h)-f(a)}{h}$ berekenen. De resultaten vinden we in onderstaande tabellen, en de verschillende punten en verhoudingen worden in bijhorende interactieve figuur nog eens afgebeeld. \n",
    "\n",
    "\n",
    "| a |   h   |  a+h  | f(a) | f(a+h)  | f(a+h)-f(a) |f(a+h)-f(a)/h   |\n",
    " | --- | --- | --- | --- | ---| --- | --- |\n",
    "\t\t|\t1 |   1   |   2   |  2  |   5     |      3      | 3       |\n",
    "\t\t|\t1 |  0.5  |  1.5  |  2  |  3.25  |    1.25     | 2.5      |\n",
    "\t\t|\t1 |  0.1  |  1.1  |  2  |  2.21  |    0.21     | 2.1      |\n",
    "\t\t|\t1 | 0.01  | 1.01  |  2  | 2.0201 |  0.00201   | 2.01      |\n",
    "\t\t|\t1 | 0.001 | 1.001 |  2  | 2.0020  |  0.00020   | 2.001     |\n",
    "        \n",
    "        \n",
    "        \n",
    " | a |   h   |  a+h  | f(a) | f(a+h)  | f(a+h)-f(a) |f(a+h)-f(a)/h   |\n",
    " | --- | --- | --- | --- | ---| --- | --- |\n",
    "\t\t\t|3 |   1   |   4   |  10  |   17    |      7     |            7    |\n",
    "\t\t\t|3 |  0.5  |  3.5  |  10  |  13.25  |    3.25    |           6.5   |\n",
    "\t\t\t|3 |  0.1  |  3.1  |  10  |  10.61  |    0.61    |           6.1   |\n",
    "\t\t\t|3 | 0.01  | 3.01  |  10  | 10.0601 |   0.0601   |          6.01   |\n",
    "\t\t\t|3 | 0.001 | 3.001 |  10  | 10.006  |  0.006001  |          6.001  |"
   ]
  },
  {
   "cell_type": "code",
   "execution_count": 40,
   "metadata": {},
   "outputs": [
    {
     "data": {
      "application/vnd.jupyter.widget-view+json": {
       "model_id": "30016e2ad9274cf98c2d36f9ecc1d898",
       "version_major": 2,
       "version_minor": 0
      },
      "text/plain": [
       "interactive(children=(IntSlider(value=1, description='a', layout=Layout(width='50%'), max=1, min=-1, style=Sli…"
      ]
     },
     "metadata": {},
     "output_type": "display_data"
    }
   ],
   "source": [
    "x = np.linspace(-1,2,100)\n",
    "\n",
    "\n",
    "\n",
    "def animatie(a,h):\n",
    "\n",
    "\n",
    "    def f(x):\n",
    "        return x**2+1\n",
    "\n",
    "    plt.plot(x, f(x), 'r',label='$f(x)=x^2+1$')\n",
    "\n",
    "    plt.plot([a,a+h], [f(a),f(a)], 'k')\n",
    "    plt.text(a+h/2, f(a)-0.2, 'h')\n",
    "\n",
    "    plt.plot([a+h,a+h], [f(a),f(a+h)], 'k')\n",
    "    plt.text(a+h+0.1,f(a)+(f(a+h)-f(a))/2, 'f(a+h)-f(a)')\n",
    "    \n",
    "    plt.plot([a,a+h], [f(a),f(a+h)], 'k')\n",
    "    \n",
    "    plt.plot([a], [f(a)], 'g',marker='o')\n",
    "    plt.text(a-0.4, f(a)-0.05, '(a,f(a))',color='g')\n",
    "    \n",
    "    plt.plot([a+h], [f(a+h)], 'g',marker='o')\n",
    "    plt.text(a+h-0.7, f(a+h)-0.05, '(a+h,f(a+h))',color='g')\n",
    "    \n",
    "\n",
    "    plt.title(r'$a={:.2f}$, $h={:.4f}$, $\\dfrac{{f(a+h) - f(a)}}{{h}} ={:.4f} $'.format(a,h,(f(a+h)-f(a))/h))\n",
    "    \n",
    "    plt.ylim([0,5])\n",
    "    plt.legend()\n",
    "\n",
    "    \n",
    "interact(animatie, h=FloatLogSlider(value=10,\n",
    "    base=10,\n",
    "    min=-3, # max exponent of base\n",
    "    max=0, # min exponent of base\n",
    "    step=0.25, # exponent step,\n",
    "                                 description='h', style=style, layout=slider_layout),\n",
    "        a=IntSlider(value=1,min=-1,max=1,step=1,description='a', style=style, layout=slider_layout));"
   ]
  },
  {
   "cell_type": "markdown",
   "metadata": {},
   "source": [
    " We stellen vast dat wanneer $h$ steeds kleiner wordt, of dus wanneer we de [limiet](./T2-Limieten.ipynb) $\\lim\\limits_{h\\to0}$ nemen, de verhouding $\\frac{f(a+h)-f(a)}{h}$ naar een bepaalde waarde convergeert. Deze waarde drukt uit hoe een kleine verandering van de onafhankelijke veranderlijke rond $a$ de waarde van $f$ beïnvloedt."
   ]
  },
  {
   "cell_type": "markdown",
   "metadata": {},
   "source": [
    "## T3.3 -  Definitie"
   ]
  },
  {
   "cell_type": "markdown",
   "metadata": {},
   "source": [
    "$\\require{tcolorbox}$\n",
    "We noemen een functie $f$ *afleidbaar* of *differentieerbaar* in een punt $a$ als de limiet \n",
    "\n",
    "$$\n",
    "\t\\lim_{h\\to0} \\dfrac{f(a+h)-f(a)}{h}\n",
    "$$\n",
    "\n",
    "bestaat.\n",
    "    \n",
    ">  ❗ In dat geval noemen we die limiet de **afgeleide van $f$ in $a$** en we noteren\n",
    "\t$$\n",
    "\tf'(a) \\equiv \\lim_{h\\to0} \\dfrac{f(a+h)-f(a)}{h}.\n",
    "\t$$\n",
    "    \n"
   ]
  },
  {
   "cell_type": "markdown",
   "metadata": {},
   "source": [
    "We berekenen nu als voorbeeld enkele afgeleiden van de eerder bestudeerde functie $f(x)=x^2+1$ rechtstreeks op basis van deze definitie. In de praktijk zal je deze afgeleiden echter altijd met rekenregels berekenen."
   ]
  },
  {
   "cell_type": "markdown",
   "metadata": {},
   "source": [
    "Bereken de afgeleide van $f(x) = x^2+1$ in het punt $a=3$:\n",
    "\n",
    "$$\n",
    "\\begin{align}\n",
    "f'(3) & = \\underset {h \\to  0} \\lim \\dfrac{f(3+h)-f(3)}{h} \\\\\n",
    "      & = \\underset {h \\to  0} \\lim \\dfrac{\\left((3+h)^2+1\\right)-(3^2+1)}{h} \\\\\n",
    "      & = \\underset {h \\to  0} \\lim \\dfrac{9+6h+h^2 + 1 - 9 -1}{h} \\\\\n",
    "      & = \\underset {h \\to  0} \\lim \\dfrac{6h+h^2}{h} = \\underset {h \\to  0} \\lim (6+h) = 6\n",
    "\\end{align}\n",
    "$$\n",
    "\n",
    "Bereken de afgeleide van $f(x) = x^2+1$ in een willekeurig punt $a$:\n",
    "\n",
    "$$\n",
    "\\begin{align}\n",
    "f'(a) & = \\underset {h \\to  0} \\lim \\dfrac{f(a+h)-f(a)}{h} \\\\\n",
    "      & = \\underset {h \\to  0} \\lim \\dfrac{(a+h)^2+1-(a^2+1)}{h} \\\\\n",
    "      & = \\underset {h \\to  0} \\lim \\dfrac{a^2+2ah+h^2 + 1 - a^2 -1}{h} \\\\\n",
    "      & = \\underset {h \\to  0} \\lim \\dfrac{2ah+h^2}{h} = \\underset {h \\to  0} \\lim (2a+h) = 2a\n",
    "\\end{align}\n",
    "$$\n",
    "\n",
    "In dit laatste voorbeeld hebben we de afgeleide van f in *elk* punt $a$ berekend. Op die manier verkrijgen we een nieuwe functie die we de afgeleide functie noemen: \n",
    "\n",
    "Voor een functie $f(x)$ definiëren we de **afgeleide functie van $f(x)$**, genoteerd als $f'(x)$ (ook als $\\dfrac{df}{dx}$ of $\\dfrac{d}{dx}f(x)$ of $D f(x)$ of $\\dot{f}$). Deze afgeleide functie, $f'(x)$, geeft in $x$ de waarde van de afgeleide van $f(x)$ in $x$. \n",
    "\n",
    "We hebben boven gezien dat voor willekeurige $a$, de afgeleide van $f(x)=x^2+1$ in $a$ gelijk is aan $2a$. De afgeleide functie is dus $f'(x)=2x$."
   ]
  },
  {
   "cell_type": "markdown",
   "metadata": {},
   "source": [
    "AFBEELDING VAN FUNCTIE EN AFGELEIDE FUNCTIE"
   ]
  },
  {
   "cell_type": "markdown",
   "metadata": {},
   "source": [
    "## T3.4 -  De raaklijn"
   ]
  },
  {
   "cell_type": "markdown",
   "metadata": {},
   "source": [
    "Bij het inleidend voorbeeld hebben we onderzocht hoe de coördinaten $(a,f(a))$ en $(a+h,f(a+h))$ zich tot elkaar verhouden. Laten we de vergelijking van de rechte onderzoeken die precies door deze coördinaten loopt. Dankzij [T1-Functies](./T1-Functies.ipynb) weten we dat deze rechte gegeven wordt door:\n",
    "\n",
    "$$\n",
    "y -f(a) = \\dfrac{f(a+h)-f(a)}{a+h-a} \\left( x - a \\right).\n",
    "$$\n",
    "\n",
    "Stel nu dat we $(a+h,f(a+h))$ opnieuw steeds dichter bij $(a,f(a))$ laten naderen, en dus de limiet $\\lim\\limits_{h\\to0}$ nemen, dan krijgen we:\n",
    "\n",
    "$$\n",
    "\\begin{align}\n",
    "&& \\lim_{h\\to0} \\left( y -f(a) \\right)&= \\lim_{h\\to0} \\left(\\dfrac{f(a+h)-f(a)}{h} \\left( x - a \\right) \\right),\\\\\n",
    "&\\Leftrightarrow&  y -f(a)&= \\lim_{h\\to0} \\left(\\dfrac{f(a+h)-f(a)}{h} \\right)\\cdot \\lim_{h\\to0} \\left( x - a  \\right),\\\\\n",
    "&\\Leftrightarrow&  y -f(a)&= \\lim_{h\\to0} \\left(\\dfrac{f(a+h)-f(a)}{h} \\right)\\left( x - a \\right),\\\\\n",
    "&\\Leftrightarrow&  y -f(a)&= f'(a) \\left( x - a \\right),\n",
    "\\end{align}\n",
    "$$\n",
    "\n",
    "waar we eerst gebruik maakten van de product-rekenregel voor [limieten](./T2-Limieten.ipynb), en vervolgens de definitie van een afgeleide herkenden."
   ]
  },
  {
   "cell_type": "code",
   "execution_count": 44,
   "metadata": {},
   "outputs": [
    {
     "data": {
      "application/vnd.jupyter.widget-view+json": {
       "model_id": "452cdef8502d4f6aa11941f9d385658c",
       "version_major": 2,
       "version_minor": 0
      },
      "text/plain": [
       "interactive(children=(FloatSlider(value=1.0, description='a', layout=Layout(width='50%'), max=1.0, min=-1.0, s…"
      ]
     },
     "metadata": {},
     "output_type": "display_data"
    }
   ],
   "source": [
    "x = np.linspace(-1,2,100)\n",
    "\n",
    "\n",
    "\n",
    "def animatie(a):\n",
    "\n",
    "\n",
    "    def f(x):\n",
    "        return x**2+1\n",
    "    \n",
    "    def rl(x):\n",
    "        return (2*a)*(x-a)+f(a)\n",
    "\n",
    "    plt.plot(x, f(x), 'r',label='$f(x)=x^2+1$')\n",
    "    plt.plot(x, rl(x), 'k',label=r'$y-{0} = {1}\\cdot(x-{2})$'.format(f(a),2*a,a))\n",
    "    \n",
    "    plt.plot([a], [f(a)], 'g',marker='o')\n",
    "    \n",
    "    \n",
    "    \n",
    "    plt.ylim([0,5])\n",
    "    plt.legend()\n",
    "\n",
    "    \n",
    "interact(animatie, \n",
    "        a=FloatSlider(value=1,min=-1,max=1,step=0.5, description='a', style=style, layout=slider_layout));"
   ]
  },
  {
   "cell_type": "markdown",
   "metadata": {},
   "source": [
    "De *afgeleide* in een punt is dus de *richtingscoëfficiënt* van de raaklijn aan de grafiek in dat punt (Zie voorbeeld \\ref{vb:helling_raaklijn}). De vergelijking van de raaklijn aan de grafiek van $f$ in het punt $(a,f(a))$ is dus\n",
    "\t\t$$\n",
    "\t\ty-f(a) = f'(a)(x-a)\n",
    "\t\t$$"
   ]
  },
  {
   "cell_type": "markdown",
   "metadata": {},
   "source": [
    "## T3.5 -  Rekenregels"
   ]
  },
  {
   "cell_type": "markdown",
   "metadata": {},
   "source": [
    "We kunnen steeds op bovenstaande manier voor eender welke functie de afgeleide functie berekenen, als ze bestaat, maar deze methode is erg omslachtig. Gelukkig bestaan er eenvoudige rekenregels die we op een functie kunnen toepassen om de afgeleide functie te verkrijgen. Het is niet de bedoeling dat je deze rekenregels vanbuiten kent. Indien er elders in deze cursus gebruik wordt gemaakt van een van deze regels, kun je ze hier even opsnorren.\n",
    "\n",
    "$$\n",
    "\\begin{align}\n",
    "&&\\dfrac{d}{dx} c  &=  0,&&\\text{ met $c$ een constante} \\\\\n",
    "&&\\dfrac{d}{dx}(x^r)   &=   rx^{r-1},&&\\text{ met $r$ een constante} \\\\\n",
    "\\\\\n",
    "&&\\dfrac{d}{dx}(c f)   &=   c\\dfrac{d}{dx}(f),&&\\text{ met $c$ een constante} \\\\\n",
    "&&\\dfrac{d}{dx}(f+g)   &=   \\dfrac{d}{dx}(f)+\\dfrac{d}{dx}(g)\\\\\n",
    "\\\\\n",
    "&\\text{afgeleiden van bijzondere functies:}\\\\\n",
    "&&\\dfrac{d}{dx}(e^x)   &=   e^x\\\\\n",
    "&&\\dfrac{d}{dx}(a^x)   &=   a^x \\ln(a),&&\\text{ met $a$ een constante} \\\\\n",
    "&&\\dfrac{d}{dx}(\\ln(x))   &=   \\dfrac{1}{x}\\\\\n",
    "&&\\dfrac{d}{dx}(\\log_a(x))   &=   \\dfrac{1}{x \\ln(a)},&&\\text{ met $a$ een constante} \\\\\n",
    "\\\\\n",
    "&&\\dfrac{d}{dx}(\\sin x)   &=   \\cos x\\\\\n",
    "&&\\dfrac{d}{dx}(\\cos x)   &=   -\\sin x\\\\\n",
    "\\\\\n",
    "&\\text{quotiënt- en productregels:}\\\\\n",
    "&&\\dfrac{d}{dx}(f\\cdot g)   &=   \\dfrac{d}{dx}(f)\\cdot g+f\\cdot \\dfrac{d}{dx}(g)\\\\\n",
    "&&\\dfrac{d}{dx}(\\dfrac{f}{g})   &=   \\dfrac{\\dfrac{d}{dx}(f)\\cdot g-f\\cdot \\dfrac{d}{dx}(g)}{g^2} \\\\\n",
    "\\\\\n",
    "&\\text{de kettingregel:}\\\\\n",
    "&&\\dfrac{d}{dx}(f(g(x)))&=f'(g(x))\\cdot \\dfrac{d}{dx}g(x)\n",
    "\\end{align}\n",
    "$$"
   ]
  },
  {
   "cell_type": "markdown",
   "metadata": {},
   "source": [
    "## T3.6 -   Enkele voorbeelden"
   ]
  },
  {
   "cell_type": "markdown",
   "metadata": {},
   "source": [
    "#### Positie, snelheid en versnelling"
   ]
  },
  {
   "cell_type": "markdown",
   "metadata": {},
   "source": [
    "#### Diffusie flux?"
   ]
  },
  {
   "cell_type": "markdown",
   "metadata": {},
   "source": [
    " ## Referentie\n",
    " \n",
    " De tekst van dit hoofdstuk is deels gebaseerd op https://set.kuleuven.be/voorkennis/zomercursus/zomercursusZ"
   ]
  },
  {
   "cell_type": "code",
   "execution_count": null,
   "metadata": {},
   "outputs": [],
   "source": []
  }
 ],
 "metadata": {
  "kernelspec": {
   "display_name": "Python 3",
   "language": "python",
   "name": "python3"
  },
  "language_info": {
   "codemirror_mode": {
    "name": "ipython",
    "version": 3
   },
   "file_extension": ".py",
   "mimetype": "text/x-python",
   "name": "python",
   "nbconvert_exporter": "python",
   "pygments_lexer": "ipython3",
   "version": "3.7.4"
  }
 },
 "nbformat": 4,
 "nbformat_minor": 2
}
