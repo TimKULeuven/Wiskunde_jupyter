{
 "cells": [
  {
   "cell_type": "code",
   "execution_count": 3,
   "metadata": {},
   "outputs": [],
   "source": [
    "# Voer dit blok code uit door met de cursor in het blok te klikken, en vervolgens SHIFT+ENTER in te drukken.\n",
    "\n",
    "import numpy as np\n",
    "from matplotlib import pyplot as plt\n",
    "from scipy.integrate import odeint\n",
    "\n",
    "from IPython.display import HTML\n",
    "from ipywidgets.widgets import interact, IntSlider, FloatSlider, FloatLogSlider, Layout\n",
    "\n",
    "\n",
    "%matplotlib inline\n",
    "\n",
    "style = {'description_width': '200px'}\n",
    "slider_layout = Layout(width='50%')"
   ]
  },
  {
   "cell_type": "markdown",
   "metadata": {},
   "source": [
    "# T4 - Integralen"
   ]
  },
  {
   "cell_type": "markdown",
   "metadata": {},
   "source": [
    "\n",
    "## T4.1 - De primitieve functie"
   ]
  },
  {
   "cell_type": "markdown",
   "metadata": {},
   "source": [
    "We leerden optellen en daarna aftrekken, vermenigvuldigen en daarna delen, we leerden exponentiële functies en daarna logaritmische functies kennen. Nu zullen we het proces van afgeleiden berekenen *omkeren*: we zoeken niet de afgeleide $f'(x)$ van een functie $f(x)$, we zoeken van welke functie $F(x)$ deze functie $f(x)$ de afgeleide *is*. Beschouwen we enkele inleidende voorbeelden:\n",
    "\n",
    "* Geef een functie $F(x)$ die als afgeleide $f(x) = x$ heeft.\n",
    "\n",
    "    De rekenregels voor [afgeleiden](./T3-Afgeleiden.ipynb) vertellen ons dat $\\dfrac{d}{dx}(x^r)=rx^{r-1}$. Indien we dus $F(x) = \\dfrac{1}{2}x^2$ kiezen, is inderdaad $\\dfrac{d}{dx}F(x) = \\dfrac{d}{dx}(\\dfrac{1}{2}x^2) = x = f(x)$.\n",
    "\n",
    "\n",
    "* Geef een functie $F(x)$ die als afgeleide $f(x) = e^x$ heeft.\n",
    "\n",
    "    De rekenregels voor [afgeleiden](./T3-Afgeleiden.ipynb) vertellen ons dat $\\dfrac{d}{dx}(e^x)=e^x$. Indien we dus $F(x) = e^x$ kiezen, is inderdaad $\\dfrac{d}{dx}F(x) = \\dfrac{d}{dx}(e^x) = e^x = f(x)$.\n",
    "    \n",
    "    \n",
    "    \n",
    "    \n",
    "We hebben een nieuwe naam nodig voor $F$, 'de functie waarvan de afgeleide $f$ is', en kiezen voor *primitieve*:\n",
    "\n",
    ">  ❗     Een **primitieve functie** van een functie $f$ is een functie $F$ waarvoor geldt dat\n",
    "    $$\n",
    "            F' = f.\n",
    "    $$"
   ]
  },
  {
   "cell_type": "markdown",
   "metadata": {},
   "source": [
    "\n",
    "## T4.2 - De onbepaalde integraal"
   ]
  },
  {
   "cell_type": "markdown",
   "metadata": {},
   "source": [
    "Stel vast dat $\\dfrac{d}{dx}(\\dfrac{1}{2}x^2+5) = \\dfrac{d}{dx}(\\dfrac{1}{2}x^2)+\\dfrac{d}{dx}(5) = \\dfrac{d}{dx}(\\dfrac{1}{2}x^2)$, omdat de afgeleide van een som gelijk is aan de som van de afgeleiden, en omdat de afgeleide van een constante gelijk is aan nul. Daarom is $F(x) = \\dfrac{1}{2}x^2+5$ dus ook een primitieve voor $f(x)=x$!. Inderdaad, op basis van de rekenregels voor [afgeleiden](./T3-Afgeleiden.ipynb) weten we dat $\\dfrac{d}{dx}(F(x)+c)=\\dfrac{d}{dx}F(x)$, wanneer $c$ constant is, en dus als $F(x)$ een primitieve functie is van $f(x)$, moet $F(x)+c$ dat ook zijn! Omdat er geen *unieke* primitieve functie is van $f$, spreken we over de *verzameling* van alle primitieve functies van $f$:\n",
    "\n",
    ">  ❗         De **onbepaalde integraal** van een functie $f$, genoteerd als $\\int f(x)\\;dx$, is de *verzameling van alle primitieve functies* van $f$, en deze wordt gegeven door:\n",
    "\t$$\n",
    "\t\\int f(x)\\;dx  \\equiv F(x) + c,\n",
    "\t$$\n",
    "\tmet $F$ een (willekeurige) primitieve functie van $f$, en $c$ een constante.\n",
    "\tWe noemen $f(x)$ de *integrand*, $x$ de *integratievariabele* en $c$ de *integratieconstante*. Het zoeken van $\\int f(x)\\;dx$ noemt men het *primitiveren* of *integreren* van $f(x)$.\n",
    "\n",
    "\n",
    "Hier worden de onbepaalde integralen van voorgaande voorbeelden gegeven:\n",
    "\n",
    "* $\\int x\\;dx = \\dfrac{1}{2}x^2+c$\n",
    "* $\\int e^x\\;dx = e^x + c$"
   ]
  },
  {
   "cell_type": "markdown",
   "metadata": {},
   "source": [
    "We zijn dit hoofdstuk gestart met de zoektocht naar *het omgekeerde* van afleiden. Onze zoektocht is bij deze beëindigd, want inderdaad, afleiden en integreren heffen elkaar op: als we een functie $f$ eerst afleiden en deze afgeleide dan integreren krijgen we (op een constante na) terug $f$: \n",
    "$$\n",
    "\\int f'(x) \\;dx = f(x) + c,\n",
    "$$ \n",
    "omdat $f$ een primitieve functie is van $f'$.\n",
    " \n",
    "Als we $f$ eerst integreren \n",
    "$$\n",
    "\\int f(x)\\;dx  = F(x) + c \\text{ met } F \\text{ een primitieve functie van } f,\n",
    "$$ \n",
    "en dan het resultaat weer afleiden, krijgen we terug $f$ :\n",
    "$$ \n",
    "\\left( \\int f(x)\\;dx \\right)' = ( F(x)+c)' =  F'(x) = f(x).\n",
    "$$"
   ]
  },
  {
   "cell_type": "markdown",
   "metadata": {},
   "source": [
    "## T4.3 - Het vinden van onbepaalde integralen\n",
    "\n",
    "We moeten nu een methode vinden om gegeven een functie $f(x)$, de primitieve, $F(x)$, te vinden, om zodoende de onbepaalde integraal te kunnen neerschrijven. We maken hiertoe eerst een lijst van veelgebruikte basisintegralen, die het *omgekeerde* zijn van de basisafgeleiden uit [T3-fgeleiden](./T3-Afgeleiden.ipynb). Meer ingewikkelde functies kunnen meestal geïntegreerd worden door deze basisintegralen samen te leggen met enkele rekenregels. Het is niet de bedoeling dat je deze basisintegralen en rekenregels vanbuiten kent. Indien er elders in deze cursus gebruik van wordt gemaakt, kun je ze hier even opsnorren.\n",
    "\n",
    "### T4.3.1 - Basisintegralen\n",
    "\n",
    "\n",
    "\n",
    "$$\n",
    "\\begin{align}\n",
    "\t\t\\int 0 \\;dx                     & = c                                &  \n",
    "\t\t\\int dx                             & = x + c                                       &  \\\\\n",
    "\t\t\\int x^r\\; dx                       & =   \\frac{1}{r+1}x^{r+1} + c, \\text{ met $r\\neq-1$ een constante} &  \n",
    "\t\t\\int \\frac{1}{x}\\;dx & = \\ln|x|+c & \\\\\n",
    "\t\t\\int e^x \\; dx                      & = e^x + c                                     &  \n",
    "\t\t\\int a^x\\;dx                         & = \\frac{a^x}{\\ln a} +c                        &  \\\\\n",
    "\t\t\\int \\sin x\\;dx                      & = -\\cos x + c                                 &  \n",
    "\t\t\\int \\cos x\\;dx                      & = \\sin x + c                                  &  \\\\\n",
    "\\end{align}\n",
    "$$\n",
    "\n",
    "### T4.3.2 - Rekenregels\n",
    "\n",
    "Hier zijn $f(x)$ en $g(x)$ functies, en $a$ en $b$ constanten.\n",
    "$$\n",
    "\\begin{align}\n",
    "\t\\int a f(x)\\;dx     &\t= a\\int f(x)\\;dx \\\\\n",
    "\t\\int( f(x)+g(x))\\;dx & =   \\int f(x)\\;dx +\\int g(x)\\;dx  \\\\\n",
    "\t\\int( af(x)+bg(x))\\;dx & =   a\\int f(x)\\;dx +b\\int g(x)\\;dx  \\\\\n",
    "\\end{align}\n",
    "$$\n",
    "\n",
    "Er zijn heel wat functies waarvan we de primitieve niet kunnen vinden op basis van deze rekenregels en basisintegralen. We moeten dan gebruik maken van *integratie door substitutie*, *partiële integratie*, of nog andere technieken. Deze liggen echter buiten het bestek van deze cursus."
   ]
  },
  {
   "cell_type": "markdown",
   "metadata": {},
   "source": [
    "## T4.4 - Bepaalde integralen\n",
    "\n",
    "### T4.4.1 - Definitie\n",
    "\n",
    "Voor een rechthoek met lengte $l=(b-a)$ en hoogte $h$ kent iedereen de formule voor de oppervlakte: $A=(b-a)\\cdot h$. De bepaalde integraal is in zekere zin een veralgemening van deze formule, waarbij de bovenzijde van de rechthoek niet meer recht is, maar gewoon een functie kan zijn. Om de oppervlakte onder een functie $h(x)$ te berekenen, kunnen we dan niet meer vermenigvuldigen met de vaste hoogte $h$, maar we moeten vermenigvuldigen met een *variërende hoogte* $h(x)$. We zouden hiertoe het interval $[a,b]$ kunnen opsplitsen in kleine intervallen, en op elk van deze kleine intervallen een rechthoek zetten die tot de functie $h(x)$ reikt, zodat we de oppervlakte onder $h(x)$ kunnen benaderen door alle oppervlaktes op deze kleine intervallen samen te tellen. Indien we deze intervallen oneindig klein maken, en $[a,b]$ dus opdelen in oneindig veel oneindig kleine intervallen, wordt deze benadering exact, en dit noemen we de *bepaalde integraal*.\n",
    "\n",
    "Dit wordt geïllustreerd in onderstaande figuur. Links hebben we de oppervlakte, $A$, van een klassieke rechthoek. In het midden proberen we de oppervlakte onder een functie $h(x)$ te benaderen door een aantal kleine rechthoeken onder de functie te tekenen, en de oppervlaktes van deze rechthoeken bij elkaar op te tellen om tot de oppervlakte onder $h(x)$ te komen. Rechts hebben we de oppervlakte onder $h(x)$ in oneindig kleine rechthoeken verdeeld, en de som van al deze rechthoeken kunnen we schrijven als de bepaalde integraal $\\int_a^b h(x) dx$.\n",
    "    \n",
    "<img src=\"figs/tikz/integralen/bepaaldeintegraal.png\" width=700 />\n",
    "\n",
    "\n",
    ">  ❗         Zij $f$ een positieve functie op een interval $[a,b\\,]$. \n",
    "\t\tDe **bepaalde integraal** van $f$ over het interval $[a,b\\,]$, genoteerd als\n",
    "\t$$\n",
    "\t\\int_a^b f(x)\\;dx,\n",
    "\t$$ \n",
    "\tis per definitie gelijk aan de *oppervlakte* van het gebied tussen de grafiek van $f$, de $x$-as en de verticale rechten $x=a$ en $x=b$.\n",
    "\t \tWe noemen $a$ en $b$ de *integratiegrenzen* en $[a,b]$ het *integratie-interval*, en we *integreren over* dat interval.\n",
    "        \n",
    "        \n",
    "Volgende belangrijke stelling zegt dat we de bepaalde integraal (dus een oppervlakte, of meer algemeen een oneindige-som-van-oneindig-kleine-dingen)  kunnen berekenen met behulp van de onbepaalde integraal.\n",
    "\n",
    "\n",
    ">  ❗     Zij $f$ een functie op een interval $[a,b]$ en $F$ een primitieve functie van $f$ (dus $\\int f(x)\\;dx=F(x)+c$). Dan geldt\n",
    "\t$$\n",
    "\t\t\\int_a^b f(x)\\;dx  \\quad = \\quad F(b)-F(a) \\quad \\quad \\equiv \\quad \\bigg[F(x) \\bigg]_a^b  \\equiv F(x)\\bigg|_a^b,\n",
    "\t$$\n",
    "\twaar $\\bigg[F(x) \\bigg]_a^b$ en $F(x)\\bigg|_a^b$ gewoon andere notaties zijn om $F(b)-F(a)$ te schrijven. Deze formule laat toe om het berekenen van een *bepaalde* integraal te reduceren tot het berekenen van de *onbepaalde* integraal, en dan de integratiegrenzen in te vullen.\n",
    "    \n",
    "\n",
    "Enkele voorbeelden:\n",
    "\n",
    "* Bereken de oppervlakte tussen de functie $f(x)=x$ en de x-as, tussen integratiegrenzen 0 en 1. \n",
    "\n",
    "    De bepaalde integraal $\\int_0^1 x\\;dx$ is per definitie gelijk aan de gevraagde oppervlakte. Deze integraal kunnen we berekenen door de primitieve $F(x)$ voor $f(x)=x$ te vinden, en vervolgens gebruik te maken van het feit dat \n",
    "    $$\n",
    "    \\int_0^1 x\\;dx = F(1)-F(0).\n",
    "    $$\n",
    "    Uit voorgaande voorbeelden weten we dat $F(x)=\\dfrac{1}{2}x^2$ een primitieve functie is voor $f(x)=x$. We vinden dus\n",
    "    $$\n",
    "    \\int_0^1 x\\;dx = F(1)-F(0) = \\dfrac{1}{2}\\cdot 1^2 - \\dfrac{1}{2}\\cdot 0^2 = \\dfrac{1}{2}.\n",
    "    $$\n",
    "    Deze oppervlakte wordt in onderstaande figuur in het groen aangeduid. Controleer of deze driehoek inderdaad oppervlakte $1/2$ heeft."
   ]
  },
  {
   "cell_type": "code",
   "execution_count": 15,
   "metadata": {},
   "outputs": [
    {
     "data": {
      "image/png": "[encoded data removed]",
      "text/plain": [
       "<Figure size 432x288 with 1 Axes>"
      ]
     },
     "metadata": {
      "needs_background": "light"
     },
     "output_type": "display_data"
    }
   ],
   "source": [
    "def f(x):\n",
    "    return x\n",
    "    \n",
    "xwaarden=np.linspace(-0.5,2,100)\n",
    "\n",
    "plt.plot(xwaarden,f(xwaarden),label='$f(x)=x$')\n",
    "plt.fill_between(np.linspace(0,1,100), 0, f(np.linspace(0,1,100)),facecolor='green',label='$\\int_0^1 x\\;dx$')\n",
    "\n",
    "plt.xlabel('$x$')\n",
    "plt.ylabel('$y$')\n",
    "plt.axhline(y=0, linewidth=1, color='k')\n",
    "plt.axvline(x=0, linewidth=1, color='k')\n",
    "plt.xlim([-0.5,2])\n",
    "plt.ylim([-0.5,2])\n",
    "plt.gca().set_aspect('equal')\n",
    "plt.grid()\n",
    "plt.legend()\n",
    "plt.show()"
   ]
  },
  {
   "cell_type": "markdown",
   "metadata": {},
   "source": [
    "* Bereken de oppervlakte tussen de functie $f(x)=e^x$ en de x-as, tussen integratiegrenzen 1 en 3. \n",
    "\n",
    "    De bepaalde integraal $\\int_1^3 e^x\\;dx$ is per definitie gelijk aan de gevraagde oppervlakte. Deze integraal kunnen we berekenen door de primitieve $F(x)$ voor $f(x)=e^x$ te vinden, en vervolgens gebruik te maken van het feit dat \n",
    "    $$\n",
    "    \\int_1^3 e^x\\;dx = F(3)-F(1).\n",
    "    $$\n",
    "    Uit voorgaande voorbeelden weten we dat $F(x)=e^x$ een primitieve functie is voor $f(x)=e^x$. We vinden dus\n",
    "    $$\n",
    "    \\int_1^3 e^x\\;dx = F(3)-F(1) =e^3 - e^1 = 17.3673.\n",
    "    $$\n",
    "    Deze oppervlakte wordt in onderstaande figuur in het groen aangeduid."
   ]
  },
  {
   "cell_type": "code",
   "execution_count": 20,
   "metadata": {},
   "outputs": [
    {
     "data": {
      "image/png": "[encoded data removed]",
      "text/plain": [
       "<Figure size 432x288 with 1 Axes>"
      ]
     },
     "metadata": {
      "needs_background": "light"
     },
     "output_type": "display_data"
    }
   ],
   "source": [
    "def f(x):\n",
    "    return np.exp(x)\n",
    "    \n",
    "xwaarden=np.linspace(-0.5,4,100)\n",
    "\n",
    "plt.plot(xwaarden,f(xwaarden),label='$f(x)=e^x$')\n",
    "plt.fill_between(np.linspace(1,3,100), 0, f(np.linspace(1,3,100)),facecolor='green',label='$\\int_1^3 e^x\\;dx$')\n",
    "\n",
    "plt.xlabel('$x$')\n",
    "plt.ylabel('$y$')\n",
    "plt.axhline(y=0, linewidth=1, color='k')\n",
    "plt.axvline(x=0, linewidth=1, color='k')\n",
    "plt.xlim([-0.5,4])\n",
    "plt.ylim([-0.5,30])\n",
    "plt.grid()\n",
    "plt.legend()\n",
    "plt.show()"
   ]
  },
  {
   "cell_type": "markdown",
   "metadata": {},
   "source": [
    "### T4.4.2 - Eigenschappen\n",
    "\n",
    "$$\n",
    "\t\\begin{align}\n",
    "\t\\int_a^a f(t)\\;dt & = 0  & \\text{(integreren over een leeg interval)}\\\\\n",
    "\t\\int_b^a f(t)\\;dt &  = - \\int_a^b f(t)\\;dt  = \\int_a^b (-f(t))\\;dt &\\text{(integreren in omgekeerde richting)}  \\\\\n",
    "\t\\int_a^b f(t)\\;dt &  = \\int_a^c f(t)\\;dt  + \\int_c^b f(t)\\;dt &\\text{(integratie-interval opsplitsen)} \\\\\t\n",
    "\t\\end{align}\n",
    "$$"
   ]
  },
  {
   "cell_type": "markdown",
   "metadata": {},
   "source": [
    "## T4.5 - Enkele praktische voorbeelden"
   ]
  },
  {
   "cell_type": "markdown",
   "metadata": {},
   "source": [
    "\n",
    "#### Afgelegde afstand\n",
    "\n",
    "#### AUC\n",
    "\n",
    "#### Productie\n"
   ]
  },
  {
   "cell_type": "markdown",
   "metadata": {},
   "source": [
    "## Georienteerde oppervlakte\n",
    "## Gemiddelden?"
   ]
  },
  {
   "cell_type": "markdown",
   "metadata": {},
   "source": [
    " ## Referentie\n",
    " \n",
    " De tekst van dit hoofdstuk is deels gebaseerd op https://set.kuleuven.be/voorkennis/zomercursus/zomercursusZ"
   ]
  },
  {
   "cell_type": "code",
   "execution_count": null,
   "metadata": {},
   "outputs": [],
   "source": []
  }
 ],
 "metadata": {
  "kernelspec": {
   "display_name": "Python 3",
   "language": "python",
   "name": "python3"
  },
  "language_info": {
   "codemirror_mode": {
    "name": "ipython",
    "version": 3
   },
   "file_extension": ".py",
   "mimetype": "text/x-python",
   "name": "python",
   "nbconvert_exporter": "python",
   "pygments_lexer": "ipython3",
   "version": "3.7.4"
  }
 },
 "nbformat": 4,
 "nbformat_minor": 2
}
