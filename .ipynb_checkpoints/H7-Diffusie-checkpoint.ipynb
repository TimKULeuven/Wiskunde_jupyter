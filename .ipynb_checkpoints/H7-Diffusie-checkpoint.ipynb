{
 "cells": [
  {
   "cell_type": "code",
   "execution_count": 30,
   "metadata": {},
   "outputs": [],
   "source": [
    "# Voer dit blok code uit door met de cursor in het blok te klikken, en vervolgens SHIFT+ENTER in te drukken.\n",
    "\n",
    "import numpy as np\n",
    "from matplotlib import pyplot as plt\n",
    "from scipy.integrate import odeint\n",
    "\n",
    "from IPython.display import HTML\n",
    "from ipywidgets.widgets import interact, IntSlider, FloatSlider, Layout\n",
    "\n",
    "from sympy.solvers import solve\n",
    "from sympy import Symbol\n",
    "\n",
    "import sklearn.linear_model as lm\n",
    "\n",
    "import math\n",
    "\n",
    "%matplotlib inline\n",
    "\n",
    "style = {'description_width': '200px'}\n",
    "slider_layout = Layout(width='50%')"
   ]
  },
  {
   "cell_type": "markdown",
   "metadata": {},
   "source": [
    "# H7 - Diffusie"
   ]
  },
  {
   "cell_type": "markdown",
   "metadata": {},
   "source": [
    "We verbeelden ons een druppel inkt in een glas water, en zien hoe de kleur zich verspreidt en verdunt, tot na verloop van tijd het glas met een uniform gekleurde vloeistof gevuld is. Op microscopische schaal zouden we zien dat de inktmoleculen, nadat we ze in het glas hebben losgelaten, willekeurig tegen de watermoleculen op beginnen te botsen, en door elkaar heen beginnen te vliegen. Al deze willekeurige bewegingen en botsingen zorgen ervoor dat de inktmoleculen, die in het begin nog bij elkaar samengepakt waren in een druppel, zich langzaamaan gelijkmatig verspreiden tussen de watermoleculen, waardoor we op macroscopische schaal een uniform gekleurde vloeistof te zien krijgen. \n",
    "\n",
    "Meer algemeen stellen we dat, wanneer de concentratie, $c\\,\\left[\\text{mol}\\,\\text{m}^{-3}\\right]$, van een stof ongelijkmatig verdeeld is over de vloeistof waarin ze is opgelost, er een massaflux zal ontstaan, die van gebieden met hoge concentratie naar gebieden met lage concentratie stroomt, opdat de concentratie overal gelijk kan worden. We trachten hieronder een intuïtieve redenering op te zetten, om uiteindelijk een wiskundig model te verkrijgen dat de gelijkmatige verspreiding van een stof in een oplossing beschrijft. Beself alvast dat we hier met een uitzonderlijke situatie geconfronteerd worden! De concentratie van de inkt in het water zal zowel afhankelijk zijn van de plaats in het water, $x$, en de tijd $t$. We werken hier dus (uitzonderlijk) met twee onafhankelijke veranderlijken, waar we voorheen telkens met één onafhankelijke veranderlijke werkten! "
   ]
  },
  {
   "cell_type": "markdown",
   "metadata": {},
   "source": [
    "## H7.1 - De wetten van Fick"
   ]
  },
  {
   "cell_type": "markdown",
   "metadata": {},
   "source": [
    "### H7.1.1 - De eerste wet van Fick"
   ]
  },
  {
   "cell_type": "markdown",
   "metadata": {},
   "source": [
    "Beschouwen we een buis, met doorsnede $A\\,[\\text{m}^2]$, waarin rode deeltjes zitten opgelost, die willekeurig horizontaal kunnen bewegen in de $x$-richting. Op onderstaande figuur wordt een greep uit deze rode deeltjes weergegeven, maar beeld je in dat het er in werkelijkheid veel meer zijn. \n",
    "\n",
    "\n",
    "<img src=\"figs/tikz/diffusie/fick2.png\" width=350 />\n",
    "\n",
    "We maken nu drie denkbeeldige doorsnedes in deze buis, hierboven in het groen weergegeven, op een zeer kleine afstand $h$ van elkaar. Op die manier krijgen we twee naburige hokjes van volume $A\\cdot h$. We schrijven dat het eerste hokje, dat zich ter hoogte van coördinaat $x$ bevindt, een aantal rode deeltjes $N(x)$ bevat, terwijl in het naburige hokje, dat zich ter hoogte van $x+h$ bevindt, $N(x+h)$ rode deeltjes zitten. \n",
    "\n",
    "Na een korte tijd, $\\tau\\,[\\text{s}]$, zullen alle rode deeltjes die zich daarnet nog in het linkerhok bevonden dit hok verlaten hebben. Omdat ze willekeurig bewegen, en dus ongeveer de helft van de deeltjes langs links en de andere helft langs rechts beweegt, zal het aantal rode deeltjes dat door de middelste denkbeeldige doorsnede heen bewogen is, gelijk zijn aan $\\dfrac{1}{2}N(x)$. In dezelfde korte tijd $\\tau$ zullen ook alle rode deeltjes in het rechterhok hun thuis verlaten hebben, en zullen om dezelfde redenen  $\\dfrac{1}{2}N(x+h)$ van deze deeltjes hiertoe door de middelste doorsnede heen bewogen zijn.\n",
    "\n",
    "Het netto aantal deeltjes dat gedurdende een periode $\\tau$ in de positieve $x$-richting door de middelste doorsnede is bewogen, wordt dus gegeven door $\\dfrac{1}{2}N(x) - \\dfrac{1}{2}N(x+h) = -\\dfrac{1}{2}\\left(N(x+h) - N(x) \\right)$. Daar de concentratie $c(x)$ in een hokje gegeven wordt door het aantal deeltjes in het hokje per volume van het hokje, kunnen we dit herschrijven als $-\\dfrac{A h }{2}\\left(c(x+h) - c(x) \\right)$. We zijn nu klaar om de flux, $J\\,[\\text{mol}\\,\\text{m}^{-2}\\,\\text{s}^{-1}]$, te definiëren, die het aantal deeltjes weergeeft dat per tijdseenheid door een bepaalde oppervlakte ter hoogte van $x$ passeert:\n",
    "\n",
    "$$\n",
    "J = -\\dfrac{\\dfrac{A h }{2}\\left(c(x+h) - c(x) \\right)}{A \\tau}  =-\\dfrac{h }{2 \\tau }\\left(c(x+h) - c(x) \\right) = -\\dfrac{h^2 }{2 \\tau }\\dfrac{\\left(c(x+h) - c(x) \\right)}{h} = -\\dfrac{h^2 }{2 \\tau } \\dfrac{\\partial c }{\\partial x}= -D \\dfrac{\\partial c }{\\partial x},\n",
    "$$\n",
    "\n",
    "waar we ervoor gezorgd hebben dat we, indien we $h$ oneindig klein nemen, de definitie van [een afgeleide](./T3-Afgeleiden.ipynb) konden herkennen, en waar de de *diffusieconstante* $D \\equiv \\dfrac{h^2 }{2 \\tau }\\,\\left[ \\text{m}^2\\text{s}^{-1}\\right]$ hebben gedefinieerd, een grootheid die aangeeft hoe snel een stof (hier de rode deeltjes) zich door een medium verspreidt. Bovenstaande uitdrukking wordt *de eerste wet van Fick* genoemd.\n",
    "\n",
    "Stel vast dat we hier de notatie $\\dfrac{\\partial c }{\\partial x}$ gebruiken, in plaats van de $\\dfrac{d c }{d x}$ die we gewoon zijn. De notatie met $\\partial$ wordt de partiële afgeleide genoemd, en deze wordt gebruikt voor afgeleiden van grootheden te nemen die potentieel van meerdere onafhankelijke veranderlijken afhankelijk zijn. Dadelijk zal namelijk duidelijk worden dat $c$ ook van de tijd afhankelijk is.\n",
    "\n",
    "\n",
    "FIGUUR VERDUIDELIJKING MIN ETC\n"
   ]
  },
  {
   "cell_type": "markdown",
   "metadata": {},
   "source": [
    "### H7.1.2 - De tweede wet van Fick\n",
    "\n"
   ]
  },
  {
   "cell_type": "markdown",
   "metadata": {},
   "source": [
    "We hebben nu wel een uitdrukking voor de zogenaamde flux, maar eigenlijk willen we een vergelijking die ons vertelt hoe de concentratie van de stof op een bepaalde plaats in de buis doorheen de tijd verandert, net zoals we in voorgaande hoofdstukken differentiaalvergelijkingen zochten die ons vertellen hoe bepaalde grootheden doorheen de tijd evolueren.\n",
    "\n",
    "We weten nu dat ter hoogte van de linkse doorsnede een flux $J(x)$ stroomt, en op dezelfde manier kunnen we beredeneren dat ter hoogte van de middelste doorsnede een flux $J(x+h)$ stroomt. Deze fluxen worden in het blauw weergegeven op onderstaande figuur. \n",
    "\n",
    "<img src=\"figs/tikz/diffusie/fick4.png\" width=350 />\n",
    "\n",
    "Beschouwen we het tijdsverloop van het aantal deeltjes dat zich in het linkse hokje bevindt. Daar de flux aangeeft hoeveel mol deeltjes er per tijdseenheid per oppervlakte in de positieve $x$-richting stroomt, stromen er in een tijd $\\tau$ precies $\\tau A J(x)$ deeltjes het hokje binnen, terwijl er $\\tau A J(x+h)$ deeltjes het hokje verlaten. Het verschil tussen het aantal deeltjes in het linker hokje op tijdstip $t$, genoteerd als $N(x,t)$, en het aantal op tijdstip $t+\\tau$, genoteerd als $N(x,t+\\tau)$, wordt dan gegeven door:\n",
    "\n",
    "$$\n",
    "N(x,t+\\tau) - N(x,t) = \\tau A J(x)-\\tau A J(x+h) = -\\tau A \\left( J(x+h) - J(x) \\right).\n",
    "$$\n",
    "\n",
    "We delen linker- en rechterlid door $\\tau A h$, omdat we dan de concentraties, $c(x,t) = \\dfrac{N(x,t)}{Ah}$, en we de afgeleiden $\\dfrac{\\partial c(x,t)}{\\partial t} \\equiv \\lim\\limits_{\\tau \\to 0} \\dfrac{c(x,t+\\tau) - c(x,t)}{\\tau}$ en $\\dfrac{\\partial J(x)}{\\partial x} \\equiv \\lim\\limits_{h \\to 0} \\dfrac{ J(x+h) - J(x)}{h}$ kunnen herkennen indien we $h$ en $\\tau$ klein laten worden:\n",
    "\n",
    "$$\n",
    "\\begin{align}\n",
    "&& \\dfrac{N(x,t+\\tau) - N(x,t)}{\\tau A h} &=-\\dfrac{\\tau A \\left( J(x+h) - J(x) \\right)}{\\tau A h},\\\\\n",
    "&\\Leftrightarrow& \\dfrac{c(x,t+\\tau) - c(x,t)}{\\tau} &=-\\dfrac{ J(x+h) - J(x)}{h},\\\\\n",
    "&\\Leftrightarrow& \\dfrac{\\partial c(x,t)}{\\partial t} &=-\\dfrac{\\partial J(x)}{\\partial x},\\\\\n",
    "&\\Leftrightarrow& \\dfrac{\\partial c(x,t)}{\\partial t} &=-\\dfrac{\\partial}{\\partial x}\\left( -D \\dfrac{\\partial c }{\\partial x} \\right).\n",
    "\\end{align}\n",
    "$$\n",
    "\n",
    "We gebruiken nu nog de eerste wet van Fick $J = -D \\dfrac{\\partial c }{\\partial x}$ uit vorige sectie, en de notatie voor het twee maal nemen van een afgeleide, $\\dfrac{d^2 f}{d x^2} \\equiv \\dfrac{\\partial}{\\partial x} \\left( \\dfrac{\\partial f}{\\partial x} \\right)$, en bekomen \n",
    "\n",
    "\n",
    ">  ❗ *de tweede wet van Fick*, ook wel de *diffusievergelijking* genoemd:\n",
    "\t$$\n",
    "    \\dfrac{\\partial c(x,t)}{\\partial t} =D \\dfrac{\\partial^2 c(x,t) }{\\partial x^2}\n",
    "    $$\n",
    "    \n",
    "Merk op dat, zoals aangekondigd en verwacht, de concentratie zowel afhankelijk kan zijn van de plaats in de buis, en de tijd. We noteren dit eenvoudig als $c(x,t)$, dus $c$ is afhankelijk van onafhankelijke veranderlijken $x$ en $t$. Dit betekent onmiddellijk dat we ook afgeleiden kunnen nemen naar beide onafhankelijke veranderlijken. Omdat er meerdere mogelijkheden zijn, maken we gebruik van de notatie voor partiële afgeleiden, $\\partial$. Een differentiaalvergelijking voor veranderlijken die afhankelijk zijn van meerdere onafhankelijke veranderlijken, wordt een *partiële differentiaalvergelijking* genoemd. We zien in deze cursus niet hoe we deze vergelijkingen kunnen oplossen, maar vragen wel aan de computer om ons enkele oplossingen te laten zien:"
   ]
  },
  {
   "cell_type": "code",
   "execution_count": 28,
   "metadata": {},
   "outputs": [
    {
     "ename": "NameError",
     "evalue": "name 'coefa' is not defined",
     "output_type": "error",
     "traceback": [
      "\u001b[1;31m---------------------------------------------------------------------------\u001b[0m",
      "\u001b[1;31mNameError\u001b[0m                                 Traceback (most recent call last)",
      "\u001b[1;32m<ipython-input-28-6a9ccce6934a>\u001b[0m in \u001b[0;36m<module>\u001b[1;34m\u001b[0m\n\u001b[0;32m     10\u001b[0m \u001b[1;33m\u001b[0m\u001b[0m\n\u001b[0;32m     11\u001b[0m \u001b[1;32mfor\u001b[0m \u001b[0mj\u001b[0m \u001b[1;32min\u001b[0m \u001b[0mrange\u001b[0m\u001b[1;33m(\u001b[0m\u001b[1;36m0\u001b[0m\u001b[1;33m,\u001b[0m \u001b[0mnx_step\u001b[0m\u001b[1;33m)\u001b[0m\u001b[1;33m:\u001b[0m\u001b[1;33m\u001b[0m\u001b[1;33m\u001b[0m\u001b[0m\n\u001b[1;32m---> 12\u001b[1;33m     \u001b[0mcoefa\u001b[0m\u001b[1;33m[\u001b[0m\u001b[0mj\u001b[0m\u001b[1;33m,\u001b[0m \u001b[1;33m(\u001b[0m\u001b[0mj\u001b[0m\u001b[1;33m-\u001b[0m\u001b[1;36m1\u001b[0m\u001b[1;33m)\u001b[0m\u001b[1;33m%\u001b[0m\u001b[0mnx_step\u001b[0m\u001b[1;33m]\u001b[0m \u001b[1;33m=\u001b[0m \u001b[1;33m-\u001b[0m\u001b[0mlamb\u001b[0m\u001b[1;33m\u001b[0m\u001b[1;33m\u001b[0m\u001b[0m\n\u001b[0m\u001b[0;32m     13\u001b[0m     \u001b[0mcoefa\u001b[0m\u001b[1;33m[\u001b[0m\u001b[0mj\u001b[0m\u001b[1;33m,\u001b[0m \u001b[1;33m(\u001b[0m\u001b[0mj\u001b[0m\u001b[1;33m)\u001b[0m\u001b[1;33m%\u001b[0m\u001b[0mnx_step\u001b[0m\u001b[1;33m]\u001b[0m \u001b[1;33m=\u001b[0m \u001b[1;36m2\u001b[0m\u001b[1;33m*\u001b[0m\u001b[0mlamb\u001b[0m \u001b[1;33m+\u001b[0m \u001b[1;36m2.\u001b[0m\u001b[1;33m\u001b[0m\u001b[1;33m\u001b[0m\u001b[0m\n\u001b[0;32m     14\u001b[0m     \u001b[0mcoefa\u001b[0m\u001b[1;33m[\u001b[0m\u001b[0mj\u001b[0m\u001b[1;33m,\u001b[0m \u001b[1;33m(\u001b[0m\u001b[0mj\u001b[0m\u001b[1;33m+\u001b[0m\u001b[1;36m1\u001b[0m\u001b[1;33m)\u001b[0m\u001b[1;33m%\u001b[0m\u001b[0mnx_step\u001b[0m\u001b[1;33m]\u001b[0m \u001b[1;33m=\u001b[0m \u001b[1;33m-\u001b[0m\u001b[0mlamb\u001b[0m\u001b[1;33m\u001b[0m\u001b[1;33m\u001b[0m\u001b[0m\n",
      "\u001b[1;31mNameError\u001b[0m: name 'coefa' is not defined"
     ]
    }
   ],
   "source": [
    "#———————————————–\n",
    "# populate the coefficient arrays\n",
    "#———————————————-\n",
    "from scipy.linalg import svd\n",
    "from scipy.linalg import inv\n",
    "\n",
    "nx_step=1\n",
    "nt_step=1\n",
    "lamb=1\n",
    "\n",
    "for j in range(0, nx_step):\n",
    "    coefa[j, (j-1)%nx_step] = -lamb\n",
    "    coefa[j, (j)%nx_step] = 2*lamb + 2.\n",
    "    coefa[j, (j+1)%nx_step] = -lamb\n",
    "#———————————————–\n",
    "lamb = -lamb\n",
    "for j in range(0, nx_step):\n",
    "    coefb[j, (j-1)%nx_step] = -lamb\n",
    "    coefb[j, (j)%nx_step] = 2*lamb + 2.\n",
    "    coefb[j, (j+1)%nx_step] = -lamb\n",
    "#———————————————–\n",
    "coefa = scipy.linalg.inv(coefa)         # inverse of A\n",
    "coef = numpy.dot(coefa, coefb)  \n",
    "coef = scipy.linalg.inv(coef)\n",
    "\n",
    "for i in range(1,nt_step):        #———– main loop ———\n",
    "\n",
    "    ans = scipy.linalg.solve(coef, uo)\n",
    "    uo = ans\n",
    "    plot(uoz,'k', ans,'r')\n",
    "    draw()\n",
    "    t[i] = t[i-1] + dt\n",
    "    print(dt*nt_step-t[i], '      ', ans.sum())\n",
    "    rho[:,i] = ans"
   ]
  },
  {
   "cell_type": "markdown",
   "metadata": {},
   "source": [
    "## H7.2 - Diffusie door membranen"
   ]
  },
  {
   "cell_type": "markdown",
   "metadata": {},
   "source": [
    "### H7.2.1 - De vereenvoudigde vergelijking\n",
    "\n",
    "In veel farmaceutische en biologische situaties kunnen we de diffusievergelijking sterk vereenvoudigen om een eenvoudiger model te bekomen. Vaak hebben we namelijk te maken met twee goed gemengde compartimenten, die van elkaar gescheiden zijn door een membraan waar bepaalde stoffen door kunnen diffunderen, bijvoorbeeld wanneer we het transport van farmaceutische moleculen door de coatings van medicinale reservoirsystemen, darmwanden en celmembranen bestuderen.\n",
    "\n",
    "In onderstaande figuur beschouwen we twee goed gemengde compartimenten, gescheiden door een membraan met dikte $h\\,\\left[\\text{m}\\right]$. De concentratie van een opgeloste stof, $c\\,\\left[\\text{mol}\\,\\text{m}^{-3}\\right]$, wordt aangeduid door middel van de rode lijn. \n",
    "\n",
    "* Welke onderstelling zorgt ervoor dat de concentratie overal in linker- en rechtercompartiment gelijk is?\n",
    "\n",
    "<img src=\"figs/tikz/diffusie/membraan1.png\" width=400 />\n",
    "\n",
    "We kunnen er gewoonlijk van uitgaan dat zich vrij snel een quasi stationaire toestand in het membraan instelt, waardoor de concentraties binnen het membraan traag variëren, en *binnen het membraan* dus min of meer geldt dat\n",
    "\t\n",
    "$$\n",
    "\t\\dfrac{\\partial c}{\\partial t} = 0 =D \\dfrac{\\partial^2 c}{\\partial x^2},\n",
    "$$\n",
    "\t\n",
    "waaruit volgt dat binnen het membraan $\\dfrac{\\partial c}{\\partial x}$ constant is, want de rekenregels voor [afgeleiden](./T3-Afgeleiden.ipynb) zeggen dat $\\dfrac{d}{dx}(a) = 0$ indien $a$ constant is. Inderdaad wordt in bovenstaande figuur het concentratieverloop in het membraan als een rechte weergegeven. Voor de flux, die uitdrukt hoeveel mol moleculen er per seconde per vierkante meter membraanoppervlakte verplaatst worden, geldt dan dat\n",
    "\t\n",
    "$$\n",
    "\tJ = - D \\dfrac{\\partial c}{\\partial x} = D \\dfrac{c_I-c_{II}}{h},\n",
    "$$\n",
    "\t\n",
    "want $-\\dfrac{c_I-c_{II}}{h}$ is inderdaad de richtingscoëfficiënt van de raaklijn aan deze rechte. Per kleine hoeveelheid tijd $\\tau$ worden dus $\\tau A D \\dfrac{c_I-c_{II}}{h}$ mol moleculen aan het linker compartiment onttrokken, en in het rechter compartiment achter gelaten, met $A\\,\\left[\\text{m}^2\\right]$ de oppervlakte van het membraan. De verandering van het aantal moleculen in het linkercompartiment na een tijdsinterval $\\tau$ wordt dus gegeven door:\n",
    "\n",
    "$$\n",
    "\\begin{align}\n",
    "&& V_1 c_1(t+\\tau) - V_1 c_1(t) &= \\tau A D \\dfrac{c_I-c_{II}}{h},\\\\\n",
    "&\\Leftrightarrow & V_1 \\left( c_1(t+\\tau) -  c_1(t)\\right) &= \\tau A D \\dfrac{c_I-c_{II}}{h},\\\\\n",
    "&\\Leftrightarrow & V_1 \\dfrac{ c_1(t+\\tau) -  c_1(t)}{\\tau} &=  A D \\dfrac{c_I-c_{II}}{h},\\\\\n",
    "&\\Leftrightarrow & V_1 \\dfrac{d c_1}{dt} &=  A D \\dfrac{c_I-c_{II}}{h},\\\\\n",
    "\\end{align}\n",
    "$$\n",
    "\n",
    "wanneer we $\\tau$ zeer klein laten  worden, en waar $V_1$ het volume van het linkercompartiment is.\n",
    "\n",
    "* Waarom is c_1 nu slechts afhankelijk van één onafhankelijke veranderlijke?\n",
    "\n",
    "Hetzelfde kunnen we doen voor de concentratie in het rechtercompartiment om te komen tot\n",
    "\t\n",
    "$$\n",
    "\t\\begin{align}\n",
    "\tV_1\\dfrac{d c_1 }{d t} &= - A D \\dfrac{c_I-c_{II}}{h},\\\\\n",
    "\tV_2\\dfrac{d c_2}{d t} &=  A D \\dfrac{c_I-c_{II}}{h},\n",
    "\t\\end{align}\n",
    "$$\n",
    "\n",
    "met $V_2$ het volume van het rechtercompartiment. Voorts zijn de concentraties $c_1$ en $c_2$ respecievelijk met $c_I$ en $c_{II}$ gerelateerd door de partitiecoëfficiënt, $K$, van het materiaal waaruit het membraan gemaakt werd. Een molecule kan namelijk relatief liever, of minder graag, in de vloeistof dan in het membraan zitten opgelost. De ratio van de concentraties aan de molecule in het membraan ten opzichte van in de vloeistof is vaak constant, en wordt de partitiecoëfficiënt genoemd:\n",
    "\t\n",
    "$$\n",
    "\tK = \\dfrac{c_I}{c_1} = \\dfrac{c_{II}}{c_2},\n",
    "$$\n",
    "\t\n",
    "wat we in vorig stelsel kunnen substitueren om aan\n",
    "\t\n",
    "$$\n",
    "\t\\begin{align}\n",
    "\t\\dfrac{d c_1}{d t} &= - \\dfrac{A P}{V_1 } \\left(c_1-c_{2}\\right),\\\\\n",
    "\t\\dfrac{d c_2}{d t} &=  \\dfrac{A P}{V_2 } \\left(c_1-c_{2}\\right),\n",
    "\t\\end{align}\n",
    "$$\n",
    "\t\n",
    "te komen, met $P \\equiv \\dfrac{D K}{h} \\,\\left[\\text{m}\\,\\text{s}^{-1}\\right]$ de permeabiliteitscoëfficiënt, en maat voor de snelheid waaraan een bepaald membraan een bepaalde stof doorlaat.\n",
    "\n",
    "### H7.2.2 - Een voorbeeld\n",
    "\n",
    "#### De Caco-2 permeabiliteitstest"
   ]
  },
  {
   "cell_type": "markdown",
   "metadata": {},
   "source": [
    "In een Caco-2 permeabiliteitstest worden menselijke colorectaal carcinoomcellen op een filter aangebracht, om daar tot een laag enterocyten te differentiëren. Deze cellaag wordt geplaatst tussen twee volumes water, en vormt zodoende een uitstekend laboratoriummodel voor de darmwand. Wanneer men in het bovenste volume een stof oplost, kan men nagaan hoe snel deze stof doorheen de cellaag naar het onderste volume diffundeert, en begrijpen hoe snel deze stof zich door de darmwand in het menselijk lichaam kan verspreiden.\n",
    "\n",
    "<img src=\"figs/tikz/diffusie/caco.png\" width=400 />\n",
    "\n",
    "In een specifieke proefopstelling bedraagt het bovenste volume $0.1\\,\\text{l}$, en daarin wordt een hoeveelheid propranolol, een bètablocker die bij de behandeling van hypertensie wordt gebruikt, opgelost. De oppervlakte van de cellaag bedraagt $2 \\,\\text{dm}^2$, en het onderste volume bedraagt $V_2 = 1\\,\\text{l}$. Men plant een experiment uit te voeren om de permeabiliteit van de cellaag voor propranolol te bepalen. Daar, zeker wanneer $V_2 >> V_1$, de concentratie in het onderste volume, $c_2$, in het begin van het experiment klein is ten opzichte van de concentratie in het bovenste volume, $c_1$, kan men $c_2 = 0$ onderstellen. Dit noopt tot het maken van een laatste vereenvoudiging: in het begin van het experiment kunnen we $\\dfrac{d c_1}{d t} = - \\dfrac{A P}{V_1} \\left(c_1-c_{2}\\right)$ met $c_2 \\approx 0$ combineren om te komen tot:\n",
    "\n",
    "$$\n",
    "\\dfrac{d c_1}{d t} = - \\dfrac{A P}{V_1 } c_1.\n",
    "$$\n",
    "\n",
    "Onderstaande figuur geeft de oplossing van het volledige model en het vereenvoudigde model, voor $V_1=0.1$, $A=2$, $c_1(0)=10^{-3}$, $c_2(0)=0$ en $P$ en $V_2$ variabel.\n",
    "\n",
    "* Waarom is de benadering beter wanneer $V_2 >> V_1$?\n",
    "* Kun je gemakkelijk $c_2$ schetsen?"
   ]
  },
  {
   "cell_type": "code",
   "execution_count": 60,
   "metadata": {},
   "outputs": [
    {
     "data": {
      "application/vnd.jupyter.widget-view+json": {
       "model_id": "7076cebd9c3e4f9c9467a03d163b2a06",
       "version_major": 2,
       "version_minor": 0
      },
      "text/plain": [
       "interactive(children=(FloatSlider(value=0.01, description='$P$', layout=Layout(width='50%'), max=0.02, min=0.0…"
      ]
     },
     "metadata": {},
     "output_type": "display_data"
    }
   ],
   "source": [
    "A=2    # dm^2\n",
    "V1=0.1 # l\n",
    "c10=10**(-3) # mol/l\n",
    "c20=0\n",
    "\n",
    "def animatie(P,V2):\n",
    "    def c1(t):        \n",
    "            return c10*np.exp(-A*P/V1*t)\n",
    "\n",
    "    def dxdt(x,t):\n",
    "            c1,c2 = x\n",
    "            dxdt=[-A*P/V1*(c1-c2),A*P/V2*(c1-c2)]\n",
    "            return dxdt\n",
    "\n",
    "\n",
    "\n",
    "    tijd = np.linspace(0,24,100)\n",
    "\n",
    "    oplossing = odeint(dxdt,[c10,c20],tijd)    \n",
    "\n",
    "\n",
    "    plt.plot(tijd, c1(tijd),'r-',label='eenvoudig')\n",
    "\n",
    "    plt.plot(tijd, oplossing[:,0],'k',label='volledig')\n",
    "\n",
    "    plt.ylim([0,0.001])\n",
    "    plt.legend()\n",
    "    plt.ylabel('$c_1$ [mol/l]')\n",
    "    plt.xlabel('t [h]')\n",
    "    plt.show()\n",
    "    \n",
    "interact(animatie\n",
    "        , P=FloatSlider(min=0.005, max=0.02, step=0.005, value=0.01, description='$P$', style=style, layout=slider_layout)\n",
    "        , V2=FloatSlider(min=1, max=10, step=1, value=2, description='$V_2$', style=style, layout=slider_layout));"
   ]
  },
  {
   "cell_type": "markdown",
   "metadata": {},
   "source": [
    "Men wenst de permeabiliteitscoëfficiënt, $P$, van de darmwand voor propranolol in te schatten. Hiertoe lost men een hoeveelheid propranolol op in het bovenste volume water van een Caco-2 permeabiliteitstest, en meet men elk uur de concentratie $c_1\\,\\left[ \\text{mol}\\,\\text{l}^{-1}\\right]$. De meetdata wordt gegeven in onderstaande tabel.\n",
    "\n",
    "| $t$ [h] | $c_1$ [mol l$^{-1}$] |\n",
    "| ----- | ------------------------------------------------------------------ |\n",
    "| 1 | 8.1674 x 10$^{-4}$ |\n",
    "| 2 | 6.8271 x 10$^{-4}$ |\n",
    "| 3 | 5.3592 x 10$^{-4}$ | \n",
    "| 4 | 4.5905 x 10$^{-4}$ |\n",
    "| 5 | 3.8504 x 10$^{-4}$ |\n",
    "\n",
    "We hebben meetdata aangaande $c_1$ doorheen de tijd, en willen nu ook een door het model gegeven uitdrukking voor $c_1$ doorheen de tijd, om mee te vergelijken. Deze bekomen we eenvoudig door de differentiaalvergelijking voor $\\dfrac{d c_1}{d t}$ [op te lossen](./T5-Differentiaalvergelijkingen.ipynb). We vinden:\n",
    "\n",
    "$$\n",
    "c_1(t) = c_1(0) e^{-\\dfrac{AP}{V_1}t},\n",
    "$$\n",
    "\n",
    "met $c_1(0)$ de initiële conditie. De parameters $A=2$ en $V_1=0.1$ zijn gekend, maar $P$ (en $c_1(0)$) niet, dus deze wensen we te schatten. Een dergelijke parameterschatting bestaat eruit die waarde voor $P$ te vinden, waarvoor het model zo goed mogelijk aan de werkelijkheid, dus de meetdata, aansluit. In onderstaande interactieve figuur wordt de experimentele data geplot, samen met $c_1(t)$. Door $P$ (en $c_1(0)$) te variëren, kunnen we op zoek gaan naar die parameterwaarden die het model zo dicht mogelijk bij de waarheid laten aansluiten."
   ]
  },
  {
   "cell_type": "code",
   "execution_count": 14,
   "metadata": {},
   "outputs": [
    {
     "data": {
      "application/vnd.jupyter.widget-view+json": {
       "model_id": "3ac32cd3a4484d2b9ba577ca9d9eb077",
       "version_major": 2,
       "version_minor": 0
      },
      "text/plain": [
       "interactive(children=(FloatSlider(value=0.02, description='$P$', layout=Layout(width='50%'), max=0.02, min=0.0…"
      ]
     },
     "metadata": {},
     "output_type": "display_data"
    }
   ],
   "source": [
    "A=2\n",
    "V1=0.1\n",
    "\n",
    "meettijdstippen=[1,2,3,4,5]\n",
    "gemetenc1=[8.1674*10**(-4),6.8271*10**(-4),5.3592*10**(-4),4.5905*10**(-4),3.8504*10**(-4)]\n",
    "\n",
    "\n",
    "\n",
    "\n",
    "\n",
    "def animatie(P,c10): \n",
    "    \n",
    "\n",
    "\n",
    "    def c1(t):        \n",
    "        return c10*np.exp(-A*P/V1*t)\n",
    "\n",
    "\n",
    "\n",
    "    tijd = np.linspace(0,12,100)\n",
    "\n",
    "    \n",
    "\n",
    "    plt.plot(meettijdstippen,gemetenc1,marker='*',linestyle='none',color='blue',label='data')\n",
    "    plt.plot(tijd, c1(tijd),'r-',label='model')\n",
    "    plt.legend(loc='upper right')\n",
    "    plt.xlabel('t [s]')\n",
    "    plt.ylabel('$c_p$ [mol/l]')\n",
    "    plt.ylim([0,0.001])\n",
    "    plt.show()\n",
    "    \n",
    "interact(animatie\n",
    "        , P=FloatSlider(min=0.005, max=0.02, step=0.005, value=0.02,  description='$P$', style=style, layout=slider_layout)\n",
    "        , c10=FloatSlider(min=0.5*10**(-3), max=1.5*10**(-3), step=0.25*10**(-3), value=10**(-3), description='$c_1(0)$', style=style, layout=slider_layout));"
   ]
  },
  {
   "cell_type": "markdown",
   "metadata": {},
   "source": [
    "Dat we op het zicht een soort schatting voor de parameter $P$ hebben bekomen is mooi, maar in de wetenschap bekomen we graag getallen die onze intuïtie of vaststellingen bevestigen. We wensen dus gebruik te maken van een wiskundige methode, die ons met zekerheid die waarde voor $P$ (en $c_1(0)$) geeft waarbij ons model het dichtst bij de metingen aansluit. \n",
    "\n",
    "Een [lineaire regressie](./T7-LineaireRegressie.ipynb) laat ons toe die rechte te vinden, die zo dicht mogelijk bij een set datapunten aansluit. Zodoende vinden we op basis van experimentele data een lineaire relatie tussen een onafhankelijke veranderlijke en een afhankelijke veranderlijke. Deze tool lijkt precies te doen wat we willen, *echter* het model leert ons dat de relatie tussen $c_1(t)$ en $t$ niet lineair is, maar exponentieel! Gelukkig kunnen we een bewerking toepassen op ons model, zodat we wel een lineaire relatie bekomen tussen $t$, en een getransformeerde vorm van $c_1(t)$. Deze bewerking bestaat eruit het [natuurlijk logaritme](./T1-Functies.ipynb) te nemen van het model. Inderdaad:\n",
    "\n",
    "$$\n",
    "\\begin{align}\n",
    "&& c_1(t) &= c_1(0) e^{-\\dfrac{AP}{V_1}t},\\\\\n",
    "&\\Leftrightarrow & \\ln \\left( c_1(t) \\right) &= \\ln \\left(  c_1(0) e^{-\\dfrac{AP}{V_1}t}\\right) ,\\\\\n",
    "&\\Leftrightarrow & \\ln \\left( c_1(t) \\right) &= \\ln \\left(  c_1(0) \\right) + \\ln \\left(e^{-\\dfrac{AP}{V_1}t}\\right) ,\\\\\n",
    "&\\Leftrightarrow & \\ln \\left( c_1(t) \\right) &= \\ln \\left(  c_1(0) \\right) -\\dfrac{AP}{V_1}t,\\\\\n",
    "\\end{align}\n",
    "$$\n",
    "\n",
    "en we bekwamen een lineair verband tussen $\\ln \\left( c_1(t) \\right)$ en $t$! We herkennen namelijk de vorm van een [lineaire functie](./T1-Functies.ipynb) $y=at+b$, met afhankelijke veranderlijke $y=\\ln \\left( c_1(t) \\right)$, onafhankelijke veranderlijke $t$, en constanten $a=-\\dfrac{AP}{V_1}$, de richtingscoëfficiënt, en $b=\\ln \\left(  c_1(0) \\right)$, het intercept. Indien we nu de meetdata transformeren, en de best passende rechte vinden die bij deze meetdata hoort, kunnen we op basis van de richtingscoëfficiënt en intercept van deze rechte, een schatting voor $P$ (en $c_1(0)$) vinden.\n",
    "\n",
    "We beginnen dus door het natuurlijk logaritme te nemen van de meetdata voor $c_1$, met een rekenmachine, of in Python:"
   ]
  },
  {
   "cell_type": "code",
   "execution_count": 12,
   "metadata": {},
   "outputs": [
    {
     "name": "stdout",
     "output_type": "stream",
     "text": [
      "-7.110189751206656\n"
     ]
    }
   ],
   "source": [
    "# Herinner je dat Python helaas een verwarrende notatie voor logaritmen gebuikt. Met np.log10() neemt men het Briggse logaritme,\n",
    "# dat wij als log zouden noteren, en met np.log() neemt men het natuurlijk logaritme, wat wij als ln zouden noteren.\n",
    "\n",
    "print(np.log(8.1674*10**(-4)))"
   ]
  },
  {
   "cell_type": "markdown",
   "metadata": {},
   "source": [
    "Men bekomt uiteindelijk\n",
    "\n",
    "| $t$ [h] | $\\ln c_1$ |\n",
    "| ----- | ------------------------------------------------------------------ |\n",
    "| 1 | -7.1102 |\n",
    "| 2 | -7.2894 |\n",
    "| 3 | -7.5315 | \n",
    "| 4 | -7.6864 |\n",
    "| 5 | -7.8622 |\n",
    "\n",
    "en omdat we daarnet uitvogelden dat volgens het model $\\ln \\left( c_1(t) \\right) = \\ln \\left(  c_1(0) \\right) -\\dfrac{AP}{V_1}t$, kunnen we verwachten een lineaire relatie te vinden tussen de tijd en $\\ln c_1$. Om dit visueel te bevestigen, herhalen we bovestaande interactieve figuur, maar nu geflankeerd door model en data na transformatie door nemen van het naturlijk logaritme."
   ]
  },
  {
   "cell_type": "code",
   "execution_count": 34,
   "metadata": {},
   "outputs": [
    {
     "data": {
      "application/vnd.jupyter.widget-view+json": {
       "model_id": "a7f8202edfba41f8a86ef88376ae3d10",
       "version_major": 2,
       "version_minor": 0
      },
      "text/plain": [
       "interactive(children=(FloatSlider(value=0.02, description='$P$', layout=Layout(width='50%'), max=0.02, min=0.0…"
      ]
     },
     "metadata": {},
     "output_type": "display_data"
    }
   ],
   "source": [
    "A=2\n",
    "V1=0.1\n",
    "\n",
    "meettijdstippen=[1,2,3,4,5]\n",
    "gemetenc1=[8.1674*10**(-4),6.8271*10**(-4),5.3592*10**(-4),4.5905*10**(-4),3.8504*10**(-4)]\n",
    "gemetenlnc1=[-7.1102,-7.2894,-7.5315,-7.6864,-7.8622]\n",
    "\n",
    "\n",
    "\n",
    "\n",
    "\n",
    "def animatie(P,c10): \n",
    "    \n",
    "\n",
    "\n",
    "    def c1(t):        \n",
    "        return c10*np.exp(-A*P/V1*t)\n",
    "    \n",
    "    def lnc1(t):        \n",
    "        return np.log(c10)-A*P/V1*t\n",
    "\n",
    "\n",
    "\n",
    "    tijd = np.linspace(0,12,100)\n",
    "\n",
    "    \n",
    "    fig, (ax1, ax2) = plt.subplots(1, 2)\n",
    "    ax1.plot(meettijdstippen,gemetenc1,marker='*',linestyle='none',color='blue',label='data')\n",
    "    ax1.plot(tijd, c1(tijd),'r-',label='model')\n",
    "    ax1.set_ylim(0,0.001)\n",
    "    ax1.set_xlabel('t [s]')\n",
    "    ax1.set_ylabel('$c_p$ [mol/l]')\n",
    "    ax1.legend(loc='upper right')\n",
    "    \n",
    "    \n",
    "    ax2.plot(meettijdstippen,gemetenlnc1,marker='*',linestyle='none',color='blue',label='data')\n",
    "    ax2.plot(tijd, lnc1(tijd),'r-',label='model')\n",
    "    ax2.set_ylim(-10,-6)\n",
    "    ax2.set_xlabel('t [s]')\n",
    "    ax2.set_ylabel('$\\ln c_p$')\n",
    "    ax2.legend(loc='upper right')\n",
    "\n",
    "    fig.tight_layout()\n",
    "    \n",
    "interact(animatie\n",
    "        , P=FloatSlider(min=0.005, max=0.02, step=0.005, value=0.02,  description='$P$', style=style, layout=slider_layout, readout_format='.3f')\n",
    "        , c10=FloatSlider(min=0.5*10**(-3), max=1.5*10**(-3), step=0.25*10**(-3), value=10**(-3), description='$c_1(0)$', style=style, layout=slider_layout, readout_format='.5f'));"
   ]
  },
  {
   "cell_type": "code",
   "execution_count": 38,
   "metadata": {},
   "outputs": [
    {
     "name": "stdout",
     "output_type": "stream",
     "text": [
      "[[-0.1901]]\n",
      "[-6.92564]\n"
     ]
    }
   ],
   "source": [
    "meettijdstippen=[1,2,3,4,5]\n",
    "gemetenlnc1=[-7.1102,-7.2894,-7.5315,-7.6864,-7.8622]\n",
    "\n",
    "reg = lm.LinearRegression().fit(np.array(meettijdstippen).reshape(-1, 1),np.array(gemetenlnc1).reshape(-1, 1))\n",
    "print(reg.coef_)\n",
    "print(reg.intercept_)"
   ]
  },
  {
   "cell_type": "markdown",
   "metadata": {},
   "source": [
    "Leggen we nu het resultaat van deze lineaire regressie,\n",
    "\n",
    "$$\n",
    "\\ln c_1 = -0.1901 t - 6.9256,\n",
    "$$\n",
    "\n",
    "naast het model,\n",
    "\n",
    "$$\n",
    " \\ln c_1 = -\\dfrac{AP}{V_1}t + \\ln c_1(0),\n",
    "$$\n",
    "\n",
    "dan stellen we vast dat\n",
    "\n",
    "$$\n",
    "\\begin{cases}\n",
    "-\\dfrac{AP}{V_1} &= -0.1901\\\\\n",
    "\\ln c_1(0) &= - 6.9256\n",
    "\\end{cases} \n",
    "\\Leftrightarrow \n",
    "\\begin{cases}\n",
    "P &= 0.1901 \\dfrac{V_1}{A} = 0.1901 \\dfrac{0.1}{2} = 0.009501,\\\\\n",
    "c_1(0) &= e^{- 6.9256} = 0.0009823.\n",
    "\\end{cases} \n",
    "$$\n",
    "\n",
    "De Caco-2 permeabiliteitstest leert ons dus dat de permeabiliteit van de darmwand voor propranolol $P = 0.009501 \\text{m}\\,\\text{s}^{-1}$ bedraagt."
   ]
  },
  {
   "cell_type": "markdown",
   "metadata": {},
   "source": [
    "## H7.3 - Actieve membraandiffusie"
   ]
  },
  {
   "cell_type": "code",
   "execution_count": null,
   "metadata": {},
   "outputs": [],
   "source": []
  }
 ],
 "metadata": {
  "kernelspec": {
   "display_name": "Python 3",
   "language": "python",
   "name": "python3"
  },
  "language_info": {
   "codemirror_mode": {
    "name": "ipython",
    "version": 3
   },
   "file_extension": ".py",
   "mimetype": "text/x-python",
   "name": "python",
   "nbconvert_exporter": "python",
   "pygments_lexer": "ipython3",
   "version": "3.7.4"
  }
 },
 "nbformat": 4,
 "nbformat_minor": 2
}
