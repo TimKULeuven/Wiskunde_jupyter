{
 "cells": [
  {
   "cell_type": "code",
   "execution_count": 6,
   "metadata": {},
   "outputs": [],
   "source": [
    "# Voer dit blok code uit door met de cursor in het blok te klikken, en vervolgens SHIFT+ENTER in te drukken.\n",
    "\n",
    "import numpy as np\n",
    "from matplotlib import pyplot as plt\n",
    "from scipy.integrate import odeint\n",
    "\n",
    "from IPython.display import HTML\n",
    "from ipywidgets.widgets import interact, IntSlider, FloatSlider, Layout\n",
    "\n",
    "import sklearn.linear_model as lm\n",
    "\n",
    "\n",
    "%matplotlib inline\n",
    "\n",
    "style = {'description_width': '200px'}\n",
    "slider_layout = Layout(width='50%')"
   ]
  },
  {
   "cell_type": "markdown",
   "metadata": {},
   "source": [
    "# Hoofdstuk 6- Het industrieel productieproces"
   ]
  },
  {
   "cell_type": "markdown",
   "metadata": {},
   "source": [
    "Klassiek maakt de farmaceutische industrie voor de industriële productie van een geneesmiddel gebruik van *batchprocessen*. Dit betekent dat elk deel van het productieproces (bijvoorbeeld de chemische productie van verschillende intermediairen, het opzuiveren van bepaalde componenten, het vermengen met hulpstoffen, het samendrukken tot tabletten) op een ander moment in de tijd gebeurt. Men voert dan in een reactor een deelproces uit, en verplaatst, wanneer dit deelproces volledig is afgerond, de inhoud van deze reactor naar een volgende reactor, waarin een volgend deelproces wordt uitgevoerd.\n",
    "\n",
    "De farmaceutische industrie kiest er vandaag steeds meer voor om continue productieprocessen te ontwikkelen, en zet zodoende de achtervolging op de chemische industrie in. Bij continue processen gebeurt het volledige productieproces in één continue lijn. De reagentia doorlopen dan ononderbroken een lange lijn met reactoren en pompen, om uiteindelijk als afgewerkt product uit het einde van de lijn te komen. In een dergelijk productieproces krijgt een reactor continu reagentia naar binnen gepompt, terwijl er terzelfdertijd reactieproducten uit de reactor gepompt worden om naar de volgende stap in het productieproces te vertrekken. \n",
    "\n",
    "Een continu productieproces heeft talrijke voordelen:\n",
    "* Er is minder downtime, omdat de reactoren niet moeten worden stilgelegd om het reactieproduct naar een andere reactor te verplaatsen. De productietijd kan hierdoor significant verlaagd worden.\n",
    "* De reactoren kunnen vaak kleiner gedimensioneerd worden, waardoor het volledige productieproces op een kleinere site kan worden uitgevoerd.\n",
    "* Het continu proces is flexibeler. Indien er iets meer vraag is, kan de lijn iets langer worden aangezet. De kans op een geneesmiddelentekort wordt hierdoor kleiner.\n",
    "* Het is eenvoudiger om met behulp van sensoren, modellen en computers het productieproces automatisch te controleren. De ruimte voor menselijke fouten wordt hierdoor kleiner.\n",
    "* Wanneer er iets misgaat, hoeft men niet altijd een volledige batch weg te gooien. Het automatisch controlesysteem kan beslissen om de tijdelijk gecontamineerde productiestroom even naar een afvalcontainer af te leiden."
   ]
  },
  {
   "cell_type": "markdown",
   "metadata": {},
   "source": [
    "## 6.1- Batch productie van edivoxetine"
   ]
  },
  {
   "cell_type": "markdown",
   "metadata": {},
   "source": [
    "MISSCHIEN INTERESSANT OM TER VERGELIJKING EN TER ILLUSTRATIE OOK BATCH VORM VOOR DEZE PRODUCTIE UIT TE WERKEN"
   ]
  },
  {
   "cell_type": "markdown",
   "metadata": {},
   "source": [
    "## 6.2- Continue productie van edivoxetine"
   ]
  },
  {
   "cell_type": "markdown",
   "metadata": {},
   "source": [
    "$$\n",
    "\\require{mhchem}\n",
    "$$\n",
    "Edivoxetine is een selectieve norepinephrine reuptake inhibitor, die onderzocht wordt als hulpmiddel bij de behandeling van depressie. Het geneesmiddel kan geproduceerd worden door eerst $\\ce{Mg}$ en 4-chloro-tetrahydropyran (4-Cl-THP) te combineren tot een zeer reactief Grignard-reactant, THP-MgCl. \n",
    "\n",
    "<img src=\"figs/tikz/reactor/reactie1A.png\" width=500 />\n",
    "\n",
    "Dit Grignard-reactant kan dan met een morpholine amide in contact komen, en tot een intermediair reageren. \n",
    "\n",
    "<img src=\"figs/tikz/reactor/reactie1B.png\" width=700 />\n",
    "\n",
    "In een laatste stap levert een quenching met azijnzuur edivoxetine op, dat uitkristalliseert en zodoende relatief gemakkelijk van het medium gescheiden kan worden.\n",
    "\n",
    "<img src=\"figs/tikz/reactor/reactie2.png\" width=700 />\n",
    "\n",
    "Men mag onderstellen dat al deze reacties de [wet der massawerking](./H2-Reactiekinetiek.ipynb) gehoorzamen.\n",
    "\n",
    "Er werd een continu productieproces voor edivoxetine ontwikkeld, waar een eerste reactor $\\ce{Mg}$, 4-Cl-THP en morpholine amide tot het intermediair combineert, en een tweede reactor de quenching met azijnzuur opgelost in water doorvoert. \n",
    "\n",
    "\n",
    "<img src=\"figs/tikz/reactor/reactor1.png\" width=500 />\n",
    "\n",
    "\n",
    "Er stroomt continu een oplossing met reactanten elke reactoren binnen, en terzelfdertijd wordt, aan hetzelfde debiet, inhoud uit de reactor gepompt, waarin zich (onder andere) reactieproduct bevindt. De reactoren worden goed gemengd, waardoor men hun inhoud als homogeen kan beschouwen. Een dergelijke reactor wordt een *continuous stirred-tank reactor* genoemd, vaak afgekort tot CSTR.\n",
    "\n"
   ]
  },
  {
   "cell_type": "markdown",
   "metadata": {},
   "source": [
    "### 6.2.1- Een reactor waarin niets gebeurt"
   ]
  },
  {
   "cell_type": "markdown",
   "metadata": {},
   "source": [
    "We wensen uiteindelijk te modelleren hoeveel intermediair er per uur uit de eerste tank stroomt. Laten we, om op te warmen, met een eenvoudiger probleem beginnen. Beschouw de eerste tank, maar we halen het magnesium eruit, zodat er enkel een volume $V\\,\\left[\\text{m}^3\\right]$ aan oplosmiddel, tolueen, in zit. Aan een debiet $Q\\,\\left[\\text{m}^3\\,\\text{h}^{-1}\\right]$ wordt 4-Cl-THP, opgelost in tolueen aan een concentratie $[\\ce{4-Cl-THP}]_{\\text{in}} \\,\\left[\\text{mol}\\,\\text{m}^{-3}\\right]$, in de tank gepompt. De 4-Cl-THP reageert niet, en blijft onveranderd in de tank zitten. Er is een tweede pomp die, aan eenzelfde debiet $Q$, de inhoud van de tank naar buiten pompt. In de reactor zal zich 4-Cl-THP bevinden aan een concentratie $[\\ce{4-Cl-THP}] \\,\\left[\\text{mol}\\,\\text{m}^{-3}\\right]$. Daar de tank als perfect gemengd kan worden beschouwd, en deze concentratie dus overal in de tank dezelfde is, zal de concentratie 4-Cl-THP die door de tweede pomp uit de tank wordt gehaald, ook $[\\ce{4-Cl-THP}]$ bedragen.\n",
    "\n",
    "<img src=\"figs/tikz/reactor/reactor2.png\" width=350 />\n",
    "\n",
    "\n",
    "Hoe verandert de concentratie 4-Cl-THP in de tank doorheen de tijd?\n",
    "\n",
    "Om een differentiaalvergelijking te bekomen die de concentratie van een stof in een recipiënt modelleert, stellen we een *molbalans* op, die bekijkt hoe de hoeveelheid mol van een bepaalde stof in het recipiënt verandert.\n",
    "\n",
    "<img src=\"figs/model_kinetiek.png\" width=300 />\n",
    "\n",
    "In dit geval vinden er geen chemische reacties plaats, en verandert de hoeveelheid mol 4-Cl-THP in de tank door de in- en uitgaande debieten. Per uur komt een volume tolueen $Q$ de reactor binnen, wat overeenstemt met een $Q [\\ce{4-Cl-THP}]_{\\text{in}}\\,\\left[\\text{mol}\\text{h}^{-1}\\right]$ mol 4-Cl-THP. Voorts wordt elk uur een hoeveelheid $Q [\\ce{4-Cl-THP}]\\,\\left[\\text{mol}\\text{h}^{-1}\\right]$ uit de reactor gepompt. De molbalans wordt gegeven door\n",
    "\n",
    "$$\n",
    "\\dfrac{d \\left(V[\\ce{4-Cl-THP}]\\right)}{ dt} = Q [\\ce{4-Cl-THP}]_{\\text{in}} - Q [\\ce{4-Cl-THP}],\n",
    "$$\n",
    "\n",
    "met $V[\\ce{4-Cl-THP}]\\,\\left[\\text{mol}\\right]$ de hoeveelheid mol die zich in de reactor bevindt. Omdat de debieten van de in- en uitgaande stromen gelijk zijn, blijft het volume, $V$, in de reactor constant. Deze constante kunnen we uit de differentiaal halen (Zie [rekenregels voor afgeleiden](./T3-Afgeleiden.ipynb), $\\dfrac{d \\left(c f(x) \\right)}{dx} = c \\dfrac{df(x)}{dx}$),\n",
    "\n",
    "$$\n",
    "\\begin{align}\n",
    "& &\\dfrac{d \\left(V[\\ce{4-Cl-THP}]\\right)}{ dt} &= Q [\\ce{4-Cl-THP}]_{\\text{in}} - Q [\\ce{4-Cl-THP}],\\\\\n",
    "&\\Leftrightarrow & V \\dfrac{d [\\ce{4-Cl-THP}]}{ dt} &= Q [\\ce{4-Cl-THP}]_{\\text{in}} - Q [\\ce{4-Cl-THP}],\\\\\n",
    "&\\Leftrightarrow & \\dfrac{d [\\ce{4-Cl-THP}]}{ dt} &= \\dfrac{Q}{V} [\\ce{4-Cl-THP}]_{\\text{in}} - \\dfrac{Q}{V} [\\ce{4-Cl-THP}],\\\\\n",
    "&\\Leftrightarrow & \\dfrac{d [\\ce{4-Cl-THP}]}{ dt} &= \\dfrac{Q}{V} \\left([\\ce{4-Cl-THP}]_{\\text{in}} - [\\ce{4-Cl-THP}]\\right).\n",
    "\\end{align}\n",
    "$$\n",
    "\n",
    "We vinden volgende [oplossing](./T5-Differentiaalvergelijkingen/T5-Differentiaalvergelijkingen.ipynb):\n",
    "\n",
    "$$\n",
    "[\\ce{4-Cl-THP}] = \\left([\\ce{4-Cl-THP}](0) - [\\ce{4-Cl-THP}]_{\\text{in}}\\right) e^{-\\dfrac{Q}{V}t} + [\\ce{4-Cl-THP}]_{\\text{in}},\n",
    "$$\n",
    "\n",
    "dewelke in onderstaande interactieve figuur wordt weergegeven."
   ]
  },
  {
   "cell_type": "code",
   "execution_count": 5,
   "metadata": {},
   "outputs": [
    {
     "data": {
      "application/vnd.jupyter.widget-view+json": {
       "model_id": "3ac9771a2d254ba7b678519d328a8be7",
       "version_major": 2,
       "version_minor": 0
      },
      "text/plain": [
       "interactive(children=(FloatSlider(value=0.5, description='[4-Cl-THP]$_{in}$', max=1.0), FloatSlider(value=0.0,…"
      ]
     },
     "metadata": {},
     "output_type": "display_data"
    }
   ],
   "source": [
    "tijdstippen= np.linspace(0,12,100)\n",
    "\n",
    "\n",
    "\n",
    "def animatie(thpin,thp0,Q,V):\n",
    "    \n",
    "    \n",
    "    def thp(t):\n",
    "        return (thp0-thpin)*np.exp(-Q/V*t)+thpin\n",
    "  \n",
    "\n",
    "\n",
    "    plt.ylim(0,1)\n",
    "    plt.plot(tijdstippen,thp(tijdstippen))\n",
    "    plt.xlabel('$t$ [h]')\n",
    "    plt.ylabel('[4-Cl-THP] [mol/m$^3$]')\n",
    "    plt.show()\n",
    "    \n",
    "\n",
    "    \n",
    "interact(animatie,thpin=FloatSlider(min=0, max=1, step=0.1, value=0.5, description='[4-Cl-THP]$_{in}$')\n",
    "        ,thp0=FloatSlider(min=0, max=1, step=0.1, value=0, description='[4-Cl-THP]$(0)$')\n",
    "        ,Q=FloatSlider(min=0.1, max=1, step=0.1, value=0.5, description='$Q$')\n",
    "        ,V=FloatSlider(min=1, max=5, step=1, value=1, description='$V$'));"
   ]
  },
  {
   "cell_type": "markdown",
   "metadata": {},
   "source": [
    "* Hoe verklaar je de invloed van de verschillende parameters op het verloop van de 4-Cl-THP concentratie?\n",
    "* Na verloop van tijd lijkt de concentratie telkens een constante waarde te bereiken. Welke waarde is dit? Hoe zouden we dit kunnen bevestigen aan de hand van [limieten](./T2-Limieten/T2-Limieten.ipynb)?\n",
    "\n",
    "\n",
    "Uiteindelijk wordt het tolueen, dat zich eerst in de tank bevond, volledig vervangen door een tolueen-oplossing met een concentratie $[\\ce{4-Cl-THP}]_{\\text{in}}$ aan 4-Cl-THP, waardoor de concentratie in de tank na verloop van tijd ook $[\\ce{4-Cl-THP}]_{\\text{in}}$ wordt. Dit proces duurt lager wanneer het volume $V$ in de tank groter is, of het debiet $Q$ waarmee de oplossing de tank binnen stroomt, kleiner.\n",
    "\n",
    "We kunnen dit bevestigen door de limiet $\\lim_{t \\rightarrow \\infty } [4−Cl−THP](t)$:\n",
    "\n",
    "$$\n",
    "\\begin{align}\n",
    "\\lim_{t \\rightarrow \\infty }  [\\ce{4-Cl-THP}] & = \\lim_{t \\rightarrow \\infty }  \\left( \\left([\\ce{4-Cl-THP}](0) - [\\ce{4-Cl-THP}]_{\\text{in}}\\right) e^{-\\dfrac{Q}{V}t} + [\\ce{4-Cl-THP}]_{\\text{in}} \\right),\\\\\n",
    "& =  [\\ce{4-Cl-THP}]_{\\text{in}}.\\\\\n",
    "\\end{align}\n",
    "$$"
   ]
  },
  {
   "cell_type": "markdown",
   "metadata": {},
   "source": [
    "### 6.2.2- Een reactor waarin intermediair gevormd wordt"
   ]
  },
  {
   "cell_type": "markdown",
   "metadata": {},
   "source": [
    "We beschouwen dezelfde reactor, maar nu wordt aan een debiet $Q\\,\\left[\\text{m}^3\\,\\text{h}^{-1}\\right]$ 4-Cl-THP en morpholine amide, opgelost in tolueen aan respectievelijke concentraties $[\\ce{4-Cl-THP}]_{\\text{in}} \\,\\left[\\text{mol}\\,\\text{m}^{-3}\\right]$ en $[\\text{amide}]_{\\text{in}} \\,\\left[\\text{mol}\\,\\text{m}^{-3}\\right]$, in de tank gepompt. Er is een tweede pomp die, aan eenzelfde debiet $Q$, de inhoud van de tank naar buiten pompt. In de reactor zullen nu wel chemische reacties plaatsvinden, en we zullen dus meerdere differentiaalvergelijkingen nodig hebben om de concentratie van de verschillende verbindingen te voorspellen. Het $\\ce{Mg}$, aanwezig aan een concentratie $[\\ce{Mg}] \\,\\left[\\text{mol}\\,\\text{m}^{-3}\\right]$, kan worden vastgehouden in de reactor, en wordt dus niet door de pomp uit de reactor gehaald. Bovendien is het in een danige overmaat aanwezig, dat de concentratie in de reactor als constant kan worden beschouwd.\n",
    "\n",
    "\n",
    "\n",
    "In de reactor zal zich 4-Cl-THP bevinden aan een concentratie $[\\ce{4-Cl-THP}] \\,\\left[\\text{mol}\\,\\text{m}^{-3}\\right]$, morpholine amide aan een concentratie $[\\text{amide}] \\,\\left[\\text{mol}\\,\\text{m}^{-3}\\right]$, maar ook nieuw gevormd intermediair, aan een concentratie $[\\text{intermediair}] \\,\\left[\\text{mol}\\,\\text{m}^{-3}\\right]$ en Grignard-reagentia, aan een concentratie $[\\text{THP-MgCl}] \\,\\left[\\text{mol}\\,\\text{m}^{-3}\\right]$. We gaan er opnieuw van uit dat de reactor perfect gemengd is, en dat de concentraties overal in de tank gelijk zijn, dus ook aan de ingang van de pomp die oplossing uit de reactor transporteert.\n",
    "\n",
    "<img src=\"figs/tikz/reactor/reactor3.png\" width=800 />\n",
    "\n",
    "Om de concentraties van de verschillende moleculen in de reactor te modelleren, moeten we, naast het werk van de pompen, ook rekening houden met twee reacties. De eerste reactie, waarvan er per kubieke meter per uur $r_1 = k_1 [\\ce{4-Cl-THP}][\\ce{Mg}]$ mol doorgaan, gebruikt een molecule $\\ce{Mg}$ en een molecule 4-chloro-tetrahydropyran om een molecule van het Grignard-reagent, THP-MgCl, te vormen. De tweede reactie, waarvan er per kubieke meter per uur $r_2 = k_2 [\\text{amide}][\\text{THP-MgCl}]$ mol doorgaan, gebruikt een molecule morpholine amide en een molecule THP-MgCl om een molecule intermediair te vormen.\n",
    "\n",
    "Op basis van deze informatie kunnen we nu differentiaalvergelijkingen opstellen die de concentraties $[\\ce{4-Cl-THP}]$, $[\\text{amide}]$, $[\\text{intermediair}]$ en $[\\text{THP-MgCl}]$ modelleren (de concentratie $[\\ce{Mg}]$ mogen we als constant beschouwen). Hoewel onze opdracht indrukwekkend oogt, bestaat deze gewoon uit het toepassen van dezelfde vertrouwde principes voor het opstellen van een molbalans.\n",
    "\n",
    "\n",
    "\n",
    "\n",
    "DE TEKST IS NOG WAT TE STROEF EN DE NOTATIE TE BOMBASTISCH, IK PAS DIT NOG AAN OPDAT DE STUDENTEN NIET GEDEMOTIVEERD ZOUDEN RAKEN\n",
    "\n",
    "$$\n",
    "\\begin{align}\n",
    "    \\dfrac{d [\\ce{4-Cl-THP}]}{dt} &= -k_1 [\\ce{4-Cl-THP}] [\\ce{Mg}] + \\dfrac{Q}{V} \\left( [\\ce{4-Cl-THP}]_{\\text{in}}  - [\\ce{4-Cl-THP}] \\right),\\\\\n",
    "    \\dfrac{d [\\text{THP-MgCl}]}{dt} &= k_1 [\\ce{4-Cl-THP}] [\\ce{Mg}] -k_2 [\\text{amide}][\\text{THP-MgCl}] - \\dfrac{Q}{V} [\\text{THP-MgCl}],\\\\\n",
    "    \\dfrac{d [\\text{amide}]}{dt} &= -k_2 [\\text{amide}][\\text{THP-MgCl}] + \\dfrac{Q}{V} \\left( [\\text{amide}]_{\\text{in}}  - [\\text{amide}] \\right),\\\\\n",
    "    \\dfrac{d [\\text{intermediair}]}{dt} &= k_2 [\\text{amide}][\\text{THP-MgCl}] - \\dfrac{Q}{V} [\\text{intermediair}].\\\\\n",
    "\\end{align}\n",
    "$$\n",
    "\n",
    "We zien ons opnieuw geconfronteerd met een stelsen differentiaalvergelijkingen waarvoor een analytische oplossing moeilijk te vinden is. Net als in, onder meer, [Hoofdstuk 3](./H3-Populatiemodellen.ipynb) maken we gebruik van numerieke oplossingsmethoden om een benaderende oplossing te vinden. \n",
    "\n",
    "Initiële condities, ks, Q, V, Mg, amidein,thpin MEEGEVEN!"
   ]
  },
  {
   "cell_type": "code",
   "execution_count": 23,
   "metadata": {},
   "outputs": [
    {
     "data": {
      "application/vnd.jupyter.widget-view+json": {
       "model_id": "c67bfb2858664d7c878b67aacf3798db",
       "version_major": 2,
       "version_minor": 0
      },
      "text/plain": [
       "interactive(children=(FloatSlider(value=0.05, description='[4-Cl-THP]$_{in}$', max=0.1, min=0.01, step=0.01), …"
      ]
     },
     "metadata": {},
     "output_type": "display_data"
    }
   ],
   "source": [
    "# Geven we eerst de parameterwaarden mee aan de computer\n",
    "\n",
    "k1=1\n",
    "k2=5\n",
    "\n",
    "#Q=0.01\n",
    "\n",
    "V=0.1\n",
    "\n",
    "Mg=1\n",
    "\n",
    "#amidein=0.01\n",
    "#thpin=0.01\n",
    "\n",
    "# En een aantal tijdstippen waarop we de  waarden voor de concentraties willen kennen.\n",
    "\n",
    "tijdstippen = np.linspace(0,2*24,100)\n",
    "\n",
    "# De initiële condities moeten ook meegegeven worden.\n",
    "\n",
    "thp0=0\n",
    "thpMgCl0=0\n",
    "amide0=0\n",
    "inter0=0\n",
    "\n",
    "\n",
    "init=[thp0,thpMgCl0,amide0,inter0]\n",
    "\n",
    "# We maken een interactieve figuur, waarop we de waarden voor Q, [4-Cl-THP]in en [amide]in kunnen variëren\n",
    "\n",
    "def animatie(thpin,amidein,Q):\n",
    "\n",
    "\n",
    "    # Om de numerieke oplossing aan Python te vragen, maken we gebruik van de ingebouwde Python-functie \"odeint\". De ingebouwde \n",
    "    # functie krijgt als argument onder meer een andere, door ons gebouwde, hulpfunctie mee, waarin de rechterleden van de\n",
    "    # (het stelsel van) differentiaalvergelijking(en) die we wensen op te lossen, gecodeerd zit.\n",
    "\n",
    "    # Deze hulpfunctie, die we hier 'dxdt' noemen, krijgt twee argumenten mee. Enerzijds een vector, 'x', met de waarden voor \n",
    "    # de variabelen waarvoor we een oplossing zoeken (zijnde 4-Cl-THP, THP-MgCl, amide en intermediair), op een bepaald tijdstip, \n",
    "    # 'tijd'.\n",
    "\n",
    "\n",
    "    def dxdt(x,tijd):\n",
    "            # We pakken de vector 'x' uit, en steken de waarden in de juiste variabelen.\n",
    "            thp,thpMgCl,amide,inter = x\n",
    "            # Vervolgens maken we een nieuwe vector, die berekent hoe de waarden voor elk van deze variabelen op het tijdstip\n",
    "            # 'tijd' verandert doorheen de tijd. We maken dus een vector met de rechterleden van het \n",
    "            # stelsel differentiaalvergelijkingen:\n",
    "            dxdt=[-k1*thp*Mg+Q/V*(thpin-thp),k1*thp*Mg-k2*amide*thpMgCl-Q/V*thpMgCl,-k2*amide*thpMgCl+Q/V*(amidein-amide),k2*amide*thpMgCl-Q/V*inter]\n",
    "            # Vervolgens geeft de functie de vector met de verandering van de waarden van de variabelen doorheen de tijd, op het\n",
    "            # tijdstip 'tijd', terug.\n",
    "            return dxdt\n",
    "\n",
    "\n",
    "    # Dan zijn we nu klaar om de Python-functie odeint te gebruiken. Zij heeft als argumenten de zelf gemaakte functie met de\n",
    "    # rechterleden van de differentiaalvergelijking(en) nodig, evenals de initiële condities, en de tijdstippen waarop we een\n",
    "    # numerieke oplossing willen bekomen:\n",
    "\n",
    "    oplossing = odeint(dxdt,init,tijdstippen)\n",
    "\n",
    "    # We hebben nu een numerieke oplossing.\n",
    "\n",
    "\n",
    "    # Laten we een figuur maken, waarop de waarden in de vier kolommen, in een verschillende kleur, uitgezet worden tegen de\n",
    "    # corresponderende tijdstippen. Hier moeten we nog een kleine verwarring overwinnen, want om de eerste kolom uit de tabel \n",
    "    # 'oplossing' te halen, moeten we 'oplossing[:,0]' gebruiken, voor de tweede kolom 'oplossing[:,1]' en zo voort. Python\n",
    "    # begint dus bij nul te tellen, in plaats van bij 1.\n",
    "\n",
    "    plt.plot(tijdstippen, oplossing[:,0],'g',label='4-Cl-THP') # 'g' staat voor green\n",
    "    plt.plot(tijdstippen, oplossing[:,1],'r',label='THP-MgCl')\n",
    "    plt.plot(tijdstippen, oplossing[:,2],'b',label='amide')\n",
    "    plt.plot(tijdstippen, oplossing[:,3],'k',label='intermediair')\n",
    "    plt.legend(loc='upper left') # We vragen om de legende in de linkerbovenhoek te plaatsen\n",
    "    plt.ylim(0,0.05)\n",
    "    plt.xlabel('t [h]')\n",
    "    plt.show()\n",
    "\n",
    "\n",
    "\n",
    "\n",
    "interact(animatie,\n",
    "         thpin=FloatSlider(min=0.01, max=0.1, step=0.01, value=0.05, description='[4-Cl-THP]$_{in}$')\n",
    "        ,amidein=FloatSlider(min=0.01, max=0.1, step=0.01, value=0.05, description='[amide]$_{in}$')\n",
    "        ,Q=FloatSlider(min=0.01, max=0.1, step=0.01, value=0.05, description='$Q$'));"
   ]
  },
  {
   "cell_type": "markdown",
   "metadata": {},
   "source": [
    "VRAGEN OVER OPTIMALISEREN:\n",
    "* Hoe impact parameterwaarden interpreteren?\n",
    "* Wat willen we optimaliseren? (amideproductie per tijdseenheid?, Yield?)\n",
    "* Hoe yield berekenen?\n",
    "* Hoe evenwicht, steady state, berekenen?\n",
    "* Hoeveel amide in een uur gevormd als het in steady state loopt? (Integraal)\n"
   ]
  },
  {
   "cell_type": "markdown",
   "metadata": {},
   "source": [
    "## 6.3- Warmteproductie in de reactor"
   ]
  },
  {
   "cell_type": "markdown",
   "metadata": {},
   "source": [
    "[Hoofdstuk 5](./H5-Warmte.ipynb) kan hier interessant geïllustreerd worden door de warmteproductie van bovenstaande exotherme reacties in de reactor te modelleren.\n",
    "\n",
    "Warmte levert temperatuursverandering:\n",
    "* Verlegt de k's (Zie arrhenius)\n",
    "* Mogelijk gevaar voor infrastructuur en veiligheid."
   ]
  },
  {
   "cell_type": "code",
   "execution_count": null,
   "metadata": {},
   "outputs": [],
   "source": []
  }
 ],
 "metadata": {
  "kernelspec": {
   "display_name": "Python 3",
   "language": "python",
   "name": "python3"
  },
  "language_info": {
   "codemirror_mode": {
    "name": "ipython",
    "version": 3
   },
   "file_extension": ".py",
   "mimetype": "text/x-python",
   "name": "python",
   "nbconvert_exporter": "python",
   "pygments_lexer": "ipython3",
   "version": "3.7.4"
  }
 },
 "nbformat": 4,
 "nbformat_minor": 2
}
