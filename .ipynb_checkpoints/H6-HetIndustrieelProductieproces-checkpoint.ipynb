{
 "cells": [
  {
   "cell_type": "code",
   "execution_count": 2,
   "metadata": {},
   "outputs": [],
   "source": [
    "# Voer dit blok code uit door met de cursor in het blok te klikken, en vervolgens SHIFT+ENTER in te drukken.\n",
    "\n",
    "import numpy as np\n",
    "from matplotlib import pyplot as plt\n",
    "from scipy.integrate import odeint\n",
    "\n",
    "from IPython.display import HTML\n",
    "from ipywidgets.widgets import interact, IntSlider, FloatSlider, Layout\n",
    "\n",
    "import sklearn.linear_model as lm\n",
    "\n",
    "\n",
    "%matplotlib inline\n",
    "\n",
    "style = {'description_width': '200px'}\n",
    "slider_layout = Layout(width='50%')"
   ]
  },
  {
   "cell_type": "markdown",
   "metadata": {},
   "source": [
    "# Hoofdstuk 6- Het industrieel productieproces"
   ]
  },
  {
   "cell_type": "markdown",
   "metadata": {},
   "source": [
    "Klassiek maakt de farmaceutische industrie voor de industriële productie van een geneesmiddel gebruik van *batchprocessen*. Dit betekent dat elk deel van het productieproces (bijvoorbeeld de chemische productie van verschillende intermediairen, het opzuiveren van bepaalde componenten, het vermengen met hulpstoffen, het samendrukken tot tabletten) op een ander moment in de tijd gebeurt. Men voert dan in een reactor een deelproces uit, en verplaatst, wanneer dit deelproces volledig is afgerond, de inhoud van deze reactor naar een volgende reactor, waarin een volgend deelproces wordt uitgevoerd.\n",
    "\n",
    "De farmaceutische industrie kiest er vandaag steeds meer voor om continue productieprocessen te ontwikkelen, en zet zodoende de achtervolging op de chemische industrie in. Bij continue processen gebeurt het volledige productieproces in één continue lijn. De reagentia doorlopen dan ononderbroken een lange lijn met reactoren en pompen, om uiteindelijk als afgewerkt product uit het einde van de lijn te komen. In een dergelijk productieproces krijgt een reactor continu reagentia naar binnen gepompt, terwijl er terzelfdertijd reactieproducten uit de reactor gepompt worden om naar de volgende stap in het productieproces te vertrekken. \n",
    "\n",
    "Een continu productieproces heeft talrijke voordelen:\n",
    "* Er is minder downtime, omdat de reactoren niet moeten worden stilgelegd om het reactieproduct naar een andere reactor te verplaatsen. De productietijd kan hierdoor significant verlaagd worden.\n",
    "* De reactoren kunnen vaak kleiner gedimensioneerd worden, waardoor het volledige productieproces op een kleinere site kan worden uitgevoerd.\n",
    "* Het continu proces is flexibeler. Indien er iets meer vraag is, kan de lijn iets langer worden aangezet. De kans op een geneesmiddelentekort wordt hierdoor kleiner.\n",
    "* Het is eenvoudiger om met behulp van sensoren, modellen en computers het productieproces automatisch te controleren. De ruimte voor menselijke fouten wordt hierdoor kleiner.\n",
    "* Wanneer er iets misgaat, hoeft men niet altijd een volledige batch weg te gooien. Het automatisch controlesysteem kan beslissen om de tijdelijk gecontamineerde productiestroom even naar een afvalcontainer af te leiden."
   ]
  },
  {
   "cell_type": "markdown",
   "metadata": {},
   "source": [
    "## 6.1- Batch productie van edivoxetine"
   ]
  },
  {
   "cell_type": "markdown",
   "metadata": {},
   "source": [
    "MISSCHIEN INTERESSANT OM TER VERGELIJKING EN TER ILLUSTRATIE OOK BATCH VORM VOOR DEZE PRODUCTIE UIT TE WERKEN"
   ]
  },
  {
   "cell_type": "markdown",
   "metadata": {},
   "source": [
    "## 6.2- Continue productie van edivoxetine"
   ]
  },
  {
   "cell_type": "markdown",
   "metadata": {},
   "source": [
    "$$\n",
    "\\require{mhchem}\n",
    "$$\n",
    "Edivoxetine is een selectieve norepinephrine reuptake inhibitor, die onderzocht wordt als hulpmiddel bij de behandeling van depressie. Het geneesmiddel kan geproduceerd worden door eerst $\\ce{Mg}$ en 4-chloro-tetrahydropyran (4-Cl-THP) te combineren tot een zeer reactief Grignard-reactant, THP-MgCl. \n",
    "\n",
    "<img src=\"figs/tikz/reactor/reactie1A.png\" width=500 />\n",
    "\n",
    "Dit Grignard-reactant kan dan met een morpholine amide in contact komen, en tot een intermediair reageren. \n",
    "\n",
    "<img src=\"figs/tikz/reactor/reactie1B.png\" width=700 />\n",
    "\n",
    "In een laatste stap levert een quenching met azijnzuur edivoxetine op, dat uitkristalliseert en zodoende relatief gemakkelijk van het medium gescheiden kan worden.\n",
    "\n",
    "<img src=\"figs/tikz/reactor/reactie2.png\" width=700 />\n",
    "\n",
    "Men mag onderstellen dat al deze reacties de [wet der massawerking](./H2-Reactiekinetiek.ipynb) gehoorzamen.\n",
    "\n",
    "Er werd een continu productieproces voor edivoxetine ontwikkeld, waar een eerste reactor $\\ce{Mg}$, 4-Cl-THP en morpholine amide tot het intermediair combineert, en een tweede reactor de quenching met azijnzuur opgelost in water doorvoert. \n",
    "\n",
    "\n",
    "<img src=\"figs/tikz/reactor/reactor1.png\" width=500 />\n",
    "\n",
    "\n",
    "Er stroomt continu een oplossing met reactanten elke reactoren binnen, en terzelfdertijd wordt, aan hetzelfde debiet, inhoud uit de reactor gepompt, waarin zich (onder andere) reactieproduct bevindt. De reactoren worden goed gemengd, waardoor men hun inhoud als homogeen kan beschouwen. Een dergelijke reactor wordt een *continuous stirred-tank reactor* genoemd, vaak afgekort tot CSTR.\n",
    "\n"
   ]
  },
  {
   "cell_type": "markdown",
   "metadata": {},
   "source": [
    "### 6.2.1- Een reactor waarin niets gebeurt"
   ]
  },
  {
   "cell_type": "markdown",
   "metadata": {},
   "source": [
    "We wensen uiteindelijk te modelleren hoeveel intermediair er per uur uit de eerste tank stroomt. Laten we, om op te warmen, met een eenvoudiger probleem beginnen. Beschouw de eerste tank, maar we halen het magnesium eruit, zodat er enkel een volume $V\\,\\left[\\text{l}\\right]$ aan oplosmiddel, tolueen, in zit. Aan een debiet $Q\\,\\left[\\text{l}\\,\\text{h}^{-1}\\right]$ wordt 4-Cl-THP, opgelost in tolueen aan een concentratie $[\\ce{4-Cl-THP}]_{\\text{in}} \\,\\left[\\text{mol}\\,\\text{l}^{-1}\\right]$, in de tank gepompt. De 4-Cl-THP reageert niet, en blijft onveranderd in de tank zitten. Er is een tweede pomp die, aan eenzelfde debiet $Q$, de inhoud van de tank naar buiten pompt. In de reactor zal zich 4-Cl-THP bevinden aan een concentratie $[\\ce{4-Cl-THP}] \\,\\left[\\text{mol}\\,\\text{l}^{-1}\\right]$. Daar de tank als perfect gemengd kan worden beschouwd, en deze concentratie dus overal in de tank dezelfde is, zal de concentratie 4-Cl-THP die door de tweede pomp uit de tank wordt gehaald, ook $[\\ce{4-Cl-THP}]$ bedragen.\n",
    "\n",
    "<img src=\"figs/tikz/reactor/reactor2.png\" width=350 />\n",
    "\n",
    "\n",
    "Hoe verandert de concentratie 4-Cl-THP in de tank doorheen de tijd?\n",
    "\n",
    "Om een differentiaalvergelijking te bekomen die de concentratie van een stof in een recipiënt modelleert, stellen we een *molbalans* op, die bekijkt hoe de hoeveelheid mol van een bepaalde stof in het recipiënt verandert.\n",
    "\n",
    "<img src=\"figs/model_kinetiek.png\" width=300 />\n",
    "\n",
    "In dit geval vinden er geen chemische reacties plaats, en verandert de hoeveelheid mol 4-Cl-THP in de tank door de in- en uitgaande debieten. Per uur komt een volume tolueen $Q$ de reactor binnen, wat overeenstemt met een $Q [\\ce{4-Cl-THP}]_{\\text{in}}\\,\\left[\\text{mol}\\text{h}^{-1}\\right]$ mol 4-Cl-THP. Voorts wordt elk uur een hoeveelheid $Q [\\ce{4-Cl-THP}]\\,\\left[\\text{mol}\\text{h}^{-1}\\right]$ uit de reactor gepompt. De molbalans wordt gegeven door\n",
    "\n",
    "$$\n",
    "\\dfrac{d \\left(V[\\ce{4-Cl-THP}]\\right)}{ dt} = Q [\\ce{4-Cl-THP}]_{\\text{in}} - Q [\\ce{4-Cl-THP}],\n",
    "$$\n",
    "\n",
    "met $V[\\ce{4-Cl-THP}]\\,\\left[\\text{mol}\\right]$ de hoeveelheid mol die zich in de reactor bevindt. Omdat de debieten van de in- en uitgaande stromen gelijk zijn, blijft het volume, $V$, in de reactor constant. Deze constante kunnen we uit de differentiaal halen (Zie [rekenregels voor afgeleiden](./T3-Afgeleiden.ipynb), $\\dfrac{d \\left(c f(x) \\right)}{dx} = c \\dfrac{df(x)}{dx}$),\n",
    "\n",
    "$$\n",
    "\\begin{align}\n",
    "& &\\dfrac{d \\left(V[\\ce{4-Cl-THP}]\\right)}{ dt} &= Q [\\ce{4-Cl-THP}]_{\\text{in}} - Q [\\ce{4-Cl-THP}],\\\\\n",
    "&\\Leftrightarrow & V \\dfrac{d [\\ce{4-Cl-THP}]}{ dt} &= Q [\\ce{4-Cl-THP}]_{\\text{in}} - Q [\\ce{4-Cl-THP}],\\\\\n",
    "&\\Leftrightarrow & \\dfrac{d [\\ce{4-Cl-THP}]}{ dt} &= \\dfrac{Q}{V} [\\ce{4-Cl-THP}]_{\\text{in}} - \\dfrac{Q}{V} [\\ce{4-Cl-THP}],\\\\\n",
    "&\\Leftrightarrow & \\dfrac{d [\\ce{4-Cl-THP}]}{ dt} &= \\dfrac{Q}{V} \\left([\\ce{4-Cl-THP}]_{\\text{in}} - [\\ce{4-Cl-THP}]\\right).\n",
    "\\end{align}\n",
    "$$\n",
    "\n",
    "We vinden volgende [oplossing](./T5-Differentiaalvergelijkingen/T5-Differentiaalvergelijkingen.ipynb):\n",
    "\n",
    "$$\n",
    "[\\ce{4-Cl-THP}] = \\left([\\ce{4-Cl-THP}](0) - [\\ce{4-Cl-THP}]_{\\text{in}}\\right) e^{-\\dfrac{Q}{V}t} + [\\ce{4-Cl-THP}]_{\\text{in}},\n",
    "$$\n",
    "\n",
    "dewelke in onderstaande interactieve figuur wordt weergegeven."
   ]
  },
  {
   "cell_type": "code",
   "execution_count": 19,
   "metadata": {},
   "outputs": [
    {
     "data": {
      "application/vnd.jupyter.widget-view+json": {
       "model_id": "5501c7422fc24e2db987d0b1675f75eb",
       "version_major": 2,
       "version_minor": 0
      },
      "text/plain": [
       "interactive(children=(FloatSlider(value=0.5, description='[4-Cl-THP]$_{in}$', max=1.0), FloatSlider(value=0.0,…"
      ]
     },
     "metadata": {},
     "output_type": "display_data"
    }
   ],
   "source": [
    "tijdstippen= np.linspace(0,12,100)\n",
    "\n",
    "\n",
    "\n",
    "def animatie(thpin,thp0,Q,V):\n",
    "    \n",
    "    \n",
    "    def thp(t):\n",
    "        return (thp0-thpin)*np.exp(-Q/V*t)+thpin\n",
    "  \n",
    "\n",
    "\n",
    "    plt.ylim(0,1)\n",
    "    plt.plot(tijdstippen,thp(tijdstippen))\n",
    "    plt.xlabel('$t$ [h]')\n",
    "    plt.ylabel('[4-Cl-THP] [mol/l]')\n",
    "    plt.show()\n",
    "    \n",
    "\n",
    "    \n",
    "interact(animatie,thpin=FloatSlider(min=0, max=1, step=0.1, value=0.5, description='[4-Cl-THP]$_{in}$')\n",
    "        ,thp0=FloatSlider(min=0, max=1, step=0.1, value=0, description='[4-Cl-THP]$(0)$')\n",
    "        ,Q=FloatSlider(min=0.1, max=1, step=0.1, value=0.5, description='$Q$')\n",
    "        ,V=FloatSlider(min=1, max=5, step=1, value=1, description='$V$'));"
   ]
  },
  {
   "cell_type": "markdown",
   "metadata": {},
   "source": [
    "* Hoe verklaar je de invloed van de verschillende parameters op het verloop van de 4-Cl-THP concentratie?\n",
    "* Na verloop van tijd lijkt de concentratie telkens een constante waarde te bereiken. Welke waarde is dit? Hoe zouden we dit kunnen bevestigen aan de hand van [limieten](./T2-Limieten/T2-Limieten.ipynb)?\n",
    "\n",
    "\n",
    "Uiteindelijk wordt het tolueen, dat zich eerst in de tank bevond, volledig vervangen door een tolueen-oplossing met een concentratie $[\\ce{4-Cl-THP}]_{\\text{in}}$ aan 4-Cl-THP, waardoor de concentratie in de tank na verloop van tijd ook $[\\ce{4-Cl-THP}]_{\\text{in}}$ wordt. Dit proces duurt lager wanneer het volume $V$ in de tank groter is, of het debiet $Q$ waarmee de oplossing de tank binnen stroomt, kleiner.\n",
    "\n",
    "We kunnen dit bevestigen door de limiet $\\lim_{t \\rightarrow \\infty } [4−Cl−THP](t)$:\n",
    "\n",
    "$$\n",
    "\\begin{align}\n",
    "\\lim_{t \\rightarrow \\infty }  [\\ce{4-Cl-THP}] & = \\lim_{t \\rightarrow \\infty }  \\left( \\left([\\ce{4-Cl-THP}](0) - [\\ce{4-Cl-THP}]_{\\text{in}}\\right) e^{-\\dfrac{Q}{V}t} + [\\ce{4-Cl-THP}]_{\\text{in}} \\right),\\\\\n",
    "& =  [\\ce{4-Cl-THP}]_{\\text{in}}.\\\\\n",
    "\\end{align}\n",
    "$$"
   ]
  },
  {
   "cell_type": "markdown",
   "metadata": {},
   "source": [
    "### 6.2.2- Een reactor waarin intermediair gevormd wordt"
   ]
  },
  {
   "cell_type": "markdown",
   "metadata": {},
   "source": [
    "We beschouwen dezelfde reactor, maar nu wordt aan een debiet $Q\\,\\left[\\text{l}\\,\\text{h}^{-1}\\right]$ 4-Cl-THP en morpholine amide, opgelost in tolueen aan respectievelijke concentraties $[\\ce{4-Cl-THP}]_{\\text{in}} \\,\\left[\\text{mol}\\,\\text{l}^{-1}\\right]$ en $[\\text{amide}]_{\\text{in}} \\,\\left[\\text{mol}\\,\\text{l}^{-1}\\right]$, in de tank gepompt. Er is een tweede pomp die, aan eenzelfde debiet $Q$, de inhoud van de tank naar buiten pompt. In de reactor zullen nu wel chemische reacties plaatsvinden, en we zullen dus meerdere differentiaalvergelijkingen nodig hebben om de concentratie van de verschillende verbindingen te voorspellen. Het $\\ce{Mg}$, aanwezig aan een concentratie $[\\ce{Mg}] \\,\\left[\\text{mol}\\,\\text{l}^{-1}\\right]$, kan worden vastgehouden in de reactor, en wordt dus niet door de pomp uit de reactor gehaald. Bovendien is het in een danige overmaat aanwezig, dat de concentratie in de reactor als constant kan worden beschouwd.\n",
    "\n",
    "\n",
    "\n",
    "In de reactor zal zich 4-Cl-THP bevinden aan een concentratie $[\\ce{4-Cl-THP}] \\,\\left[\\text{mol}\\,\\text{l}^{-1}\\right]$, morpholine amide aan een concentratie $[\\text{amide}] \\,\\left[\\text{mol}\\,\\text{l}^{-1}\\right]$, maar ook nieuw gevormd intermediair, aan een concentratie $[\\text{intermediair}] \\,\\left[\\text{mol}\\,\\text{l}^{-1}\\right]$ en Grignard-reagentia, aan een concentratie $[\\text{THP-MgCl}] \\,\\left[\\text{mol}\\,\\text{l}^{-1}\\right]$. We gaan er opnieuw van uit dat de reactor perfect gemengd is, en dat de concentraties overal in de tank gelijk zijn, dus ook aan de ingang van de pomp die oplossing uit de reactor transporteert.\n",
    "\n",
    "<img src=\"figs/tikz/reactor/reactor3.png\" width=800 />\n",
    "\n",
    "Om de concentraties van de verschillende moleculen in de reactor te modelleren, moeten we, naast het werk van de pompen, ook rekening houden met twee reacties. De eerste reactie, waarvan er per kubieke meter per uur $r_1 = k_1 [\\ce{4-Cl-THP}][\\ce{Mg}]$ mol doorgaan, gebruikt een molecule $\\ce{Mg}$ en een molecule 4-chloro-tetrahydropyran om een molecule van het Grignard-reagent, THP-MgCl, te vormen. De tweede reactie, waarvan er per kubieke meter per uur $r_2 = k_2 [\\text{amide}][\\text{THP-MgCl}]$ mol doorgaan, gebruikt een molecule morpholine amide en een molecule THP-MgCl om een molecule intermediair te vormen.\n",
    "\n",
    "Op basis van deze informatie kunnen we nu differentiaalvergelijkingen opstellen die de concentraties $[\\ce{4-Cl-THP}]$, $[\\text{amide}]$, $[\\text{intermediair}]$ en $[\\text{THP-MgCl}]$ modelleren (de concentratie $[\\ce{Mg}]$ mogen we als constant beschouwen). Hoewel onze opdracht indrukwekkend oogt, bestaat deze gewoon uit het toepassen van dezelfde vertrouwde principes voor het opstellen van een molbalans.\n",
    "\n",
    "\n",
    "\n",
    "\n",
    "DE TEKST IS NOG WAT TE STROEF EN DE NOTATIE TE BOMBASTISCH, IK PAS DIT NOG AAN OPDAT DE STUDENTEN NIET GEDEMOTIVEERD ZOUDEN RAKEN\n",
    "\n",
    "$$\n",
    "\\begin{align}\n",
    "    \\dfrac{d [\\ce{4-Cl-THP}]}{dt} &= -k_1 [\\ce{4-Cl-THP}] [\\ce{Mg}] + \\dfrac{Q}{V} \\left( [\\ce{4-Cl-THP}]_{\\text{in}}  - [\\ce{4-Cl-THP}] \\right),\\\\\n",
    "    \\dfrac{d [\\text{THP-MgCl}]}{dt} &= k_1 [\\ce{4-Cl-THP}] [\\ce{Mg}] -k_2 [\\text{amide}][\\text{THP-MgCl}] - \\dfrac{Q}{V} [\\text{THP-MgCl}],\\\\\n",
    "    \\dfrac{d [\\text{amide}]}{dt} &= -k_2 [\\text{amide}][\\text{THP-MgCl}] + \\dfrac{Q}{V} \\left( [\\text{amide}]_{\\text{in}}  - [\\text{amide}] \\right),\\\\\n",
    "    \\dfrac{d [\\text{intermediair}]}{dt} &= k_2 [\\text{amide}][\\text{THP-MgCl}] - \\dfrac{Q}{V} [\\text{intermediair}].\\\\\n",
    "\\end{align}\n",
    "$$\n",
    "\n",
    "We zien ons opnieuw geconfronteerd met een stelsen differentiaalvergelijkingen waarvoor een analytische oplossing moeilijk te vinden is. Net als in, onder meer, [Hoofdstuk 3](./H3-Populatiemodellen.ipynb) maken we gebruik van numerieke oplossingsmethoden om een benaderende oplossing te vinden. \n",
    "\n",
    "Beschouwen we een proefopstelling waarin een laboratorium-reactor gevuld wordt met $V=1\\,\\text{l}$ tolueen, waarin $[\\ce{Mg}] =1 \\,\\text{mol}\\,\\text{l}^{-1}$ zit opgelost. Via een pomp wordt aan debiet $Q$ een stroom met $[\\text{amide}]_{\\text{in}}$ en $[\\ce{4-Cl-THP}]_{\\text{in}}$ aan de reactor toegevoegd, terwijl aan eenzelfde debiet de inhoud van de reactor naar buiten wordt gepompt. Uit experimentele data blijkt dat $k_1 = 9.87\\,\\text{l}\\,\\text{mol}^{-1}\\text{h}^{-1}$ en $k_2 = 151.2 \\,\\text{l}\\,\\text{mol}^{-1}\\text{h}^{-1}$."
   ]
  },
  {
   "cell_type": "code",
   "execution_count": 26,
   "metadata": {},
   "outputs": [
    {
     "data": {
      "application/vnd.jupyter.widget-view+json": {
       "model_id": "40a977f64a7e472c8af1295b977b5fb5",
       "version_major": 2,
       "version_minor": 0
      },
      "text/plain": [
       "interactive(children=(FloatSlider(value=0.05, description='[4-Cl-THP]$_{in}$', max=0.1, min=0.01, step=0.01), …"
      ]
     },
     "metadata": {},
     "output_type": "display_data"
    }
   ],
   "source": [
    "# Geven we eerst de parameterwaarden mee aan de computer\n",
    "\n",
    "k1=9.87\n",
    "k2=151.2\n",
    "\n",
    "V=1\n",
    "\n",
    "Mg=1\n",
    "\n",
    "\n",
    "# En een aantal tijdstippen waarop we de  waarden voor de concentraties willen kennen.\n",
    "\n",
    "tijdstippen = np.linspace(0,24,100)\n",
    "\n",
    "# De initiële condities moeten ook meegegeven worden.\n",
    "\n",
    "thp0=0\n",
    "thpMgCl0=0\n",
    "amide0=0\n",
    "inter0=0\n",
    "\n",
    "\n",
    "init=[thp0,thpMgCl0,amide0,inter0]\n",
    "\n",
    "# We maken een interactieve figuur, waarop we de waarden voor Q, [4-Cl-THP]in en [amide]in kunnen variëren\n",
    "\n",
    "def animatie(thpin,amidein,Q):\n",
    "\n",
    "\n",
    "    # Om de numerieke oplossing aan Python te vragen, maken we gebruik van de ingebouwde Python-functie \"odeint\". De ingebouwde \n",
    "    # functie krijgt als argument onder meer een andere, door ons gebouwde, hulpfunctie mee, waarin de rechterleden van de\n",
    "    # (het stelsel van) differentiaalvergelijking(en) die we wensen op te lossen, gecodeerd zit.\n",
    "\n",
    "    # Deze hulpfunctie, die we hier 'dxdt' noemen, krijgt twee argumenten mee. Enerzijds een vector, 'x', met de waarden voor \n",
    "    # de variabelen waarvoor we een oplossing zoeken (zijnde 4-Cl-THP, THP-MgCl, amide en intermediair), op een bepaald tijdstip, \n",
    "    # 'tijd'.\n",
    "\n",
    "\n",
    "    def dxdt(x,tijd):\n",
    "            # We pakken de vector 'x' uit, en steken de waarden in de juiste variabelen.\n",
    "            thp,thpMgCl,amide,inter = x\n",
    "            # Vervolgens maken we een nieuwe vector, die berekent hoe de waarden voor elk van deze variabelen op het tijdstip\n",
    "            # 'tijd' verandert doorheen de tijd. We maken dus een vector met de rechterleden van het \n",
    "            # stelsel differentiaalvergelijkingen:\n",
    "            dxdt=[-k1*thp*Mg+Q/V*(thpin-thp),k1*thp*Mg-k2*amide*thpMgCl-Q/V*thpMgCl,-k2*amide*thpMgCl+Q/V*(amidein-amide),k2*amide*thpMgCl-Q/V*inter]\n",
    "            # Vervolgens geeft de functie de vector met de verandering van de waarden van de variabelen doorheen de tijd, op het\n",
    "            # tijdstip 'tijd', terug.\n",
    "            return dxdt\n",
    "\n",
    "\n",
    "    # Dan zijn we nu klaar om de Python-functie odeint te gebruiken. Zij heeft als argumenten de zelf gemaakte functie met de\n",
    "    # rechterleden van de differentiaalvergelijking(en) nodig, evenals de initiële condities, en de tijdstippen waarop we een\n",
    "    # numerieke oplossing willen bekomen:\n",
    "\n",
    "    oplossing = odeint(dxdt,init,tijdstippen)\n",
    "\n",
    "    # We hebben nu een numerieke oplossing.\n",
    "\n",
    "\n",
    "    # Laten we een figuur maken, waarop de waarden in de vier kolommen, in een verschillende kleur, uitgezet worden tegen de\n",
    "    # corresponderende tijdstippen. Hier moeten we nog een kleine verwarring overwinnen, want om de eerste kolom uit de tabel \n",
    "    # 'oplossing' te halen, moeten we 'oplossing[:,0]' gebruiken, voor de tweede kolom 'oplossing[:,1]' en zo voort. Python\n",
    "    # begint dus bij nul te tellen, in plaats van bij 1.\n",
    "\n",
    "    plt.plot(tijdstippen, oplossing[:,0],'g',label='4-Cl-THP') # 'g' staat voor green\n",
    "    plt.plot(tijdstippen, oplossing[:,1],'r',label='THP-MgCl')\n",
    "    plt.plot(tijdstippen, oplossing[:,2],'b',label='amide')\n",
    "    plt.plot(tijdstippen, oplossing[:,3],'k',label='intermediair')\n",
    "    plt.legend(loc='upper left') # We vragen om de legende in de linkerbovenhoek te plaatsen\n",
    "    plt.ylim(0,0.05)\n",
    "    plt.xlabel('t [h]')\n",
    "    plt.show()\n",
    "\n",
    "\n",
    "\n",
    "\n",
    "interact(animatie,\n",
    "         thpin=FloatSlider(min=0.01, max=0.1, step=0.01, value=0.05, description='[4-Cl-THP]$_{in}$')\n",
    "        ,amidein=FloatSlider(min=0.01, max=0.1, step=0.01, value=0.05, description='[amide]$_{in}$')\n",
    "        ,Q=FloatSlider(min=0.1, max=1, step=0.1, value=0.5, description='$Q$'));"
   ]
  },
  {
   "cell_type": "markdown",
   "metadata": {},
   "source": [
    "Na een korte overgangsperiode bereikt onze reactor een evenwicht, ook wel als *steady-state* aangeduid. Aan constante snelheid blijft er 4-Cl-THP en morpholine amide de tank binnen stromen, en deze reagentia worden vermengd in de tank, gaan reageren, en terzelfdertijd wordt het resulterende mengsel aan reagentia en reactieproducten uit de tank gepompt. In het continu productieproces wordt deze steady-state aangehouden, en wordt dus continu reactieproduct geoogst."
   ]
  },
  {
   "cell_type": "markdown",
   "metadata": {},
   "source": [
    "### 6.2.3- Optimalisatie van het continu productieproces"
   ]
  },
  {
   "cell_type": "markdown",
   "metadata": {},
   "source": [
    "Bovenstaande interactieve figuur illustreert hoe we als controle-ingenieur de concentraties van de verschillende moleculen in de tank kunnen beïnvloeden door enkele operationele parameters, zoals het debiet en de samenstelling van de binnenkomende stroom reagentia, aan te passen. We kunnen nu het continu productieproces optimaliseren door deze parameters in ons voordeel te kiezen. \n",
    "\n",
    "\n",
    "* Hoe moeten we de impact van een verhoogd debiet, $Q$, op de steady-state concentratie aan intermediair interpreteren?\n",
    "\n",
    "Wanneer het debiet laag is, blijven de verschillende moleculen gemiddeld langer in de tank. We spreken van een hogere *verblijftijd*. De verblijftijd, $\\tau\\,\\left[\\text{h}\\right]$, kan berekend worden als $\\tau = V/Q$. Deze maat geeft aan hoe lang het de pompen kost om een volume gelijk aan de inhoud van de tank, $V$, te verplaatsen, en vertelt ons hoe lang een molecule gemiddeld in de tank verblijft. We zeggen gemiddeld, omdat het natuurlijk mogelijk is dat een bepaalde molecule erg lang uit de klauwen van de uitgaande pomp blijft, terwijl anderen toevallig net zeer snel weer uit de reactor gehaald kunnen worden, en dus minder lang de kans kregen om in de reactor te reageren.\n",
    "\n",
    "Als $Q$ laag is, wordt $\\tau = V/Q$ hoog, en verblijven de moleculen gemiddeld langer in de dank. Ze krijgen daardoor langer de kans om te reageren, en uiteindelijk intermediair te vormen. We stellen vast dat als $Q$ laag is, er een steady-state met een hoge concentratie aan intermediair ontstaat. Wanneer $Q$ hoger wordt, daalt de concentratie intermediair, terwijl er meer ongebruikt morpholine amide uit de tank zal worden gepompt.\n",
    "\n",
    "* Als controle-ingenieur zien we ons hier onmiddellijk geconfronteerd met een interessant objectief voor onze optimalisatie. Stel dat morpholine amide erg duur is, en dat ongebruikt morpholine amide dat uit de reactor stroomt niet gerecupereerd kan worden. Kies je dan voor een hoog of voor een laag debiet?\n",
    "\n",
    "Indien het zeer belangrijk is om spaarzaam met het morpholine amide om te gaan, kunnen we voor een laag debiet kiezen. Dit optimalisatie objectief wordt meer concreet gedefinieerd als een *yield*. Een yield vertelt ons hoeveel mol product we produceren, ten opzichte van de hoeveelheid verbruikt reagent. Uit onze reactor komt, per seconde, $\\left[\\text{intermediair}\\right]Q$ mol intermediair, terwijl we $\\left[\\text{amide}\\right]_{\\text{in}}Q$ mol morpholine amide per seconde in de reactor pompen, die ofwel een reactie aangaat, ofwel onrecupereerbaar uit de reactor wordt gepompt en verloren gaat. De yield wordt dan gedefinieerd als\n",
    "\n",
    "$$\n",
    "    Y = \\dfrac{\\left[\\text{intermediair}\\right]Q}{\\left[\\text{amide}\\right]_{\\text{in}}Q}= \\dfrac{\\left[\\text{intermediair}\\right]}{\\left[\\text{amide}\\right]_{\\text{in}}}.\n",
    "$$\n",
    "\n",
    "Met behulp van bovenstaande interactieve figuur kunnen we nagaan dat een lager debiet de yield verhoogt.\n",
    "\n",
    "Laten we dit nog beter in kaart brengen, door een figuur te maken die de yield bij steady-state uitzet tegen het gekozen debiet. We zullen de computer vragen bij verschillende waarden voor $Q$ een oplossing van de differentiaalvergelijkingen te berekenen. We zullen deze oplossingen ver in de tijd laten lopen, zodat we zeker dichtbij de steady-state zitten, en dan de waarde voor $\\left[\\text{intermediair}\\right]$ op het laatste tijdstip nemen om de yield te berekenen. Hiertoe leggen we vast dat $\\left[\\text{amide}\\right]_{\\text{in}} = \\left[\\ce{4-Cl-THP}\\right]_{\\text{in}} = 0.05$, al zouden we dit computerexperiment natuurlijk bij eender welke waarden voor $\\left[\\text{amide}\\right]_{\\text{in}}$ en $\\left[\\ce{4-Cl-THP}\\right]_{\\text{in}}$ kunnen herhalen."
   ]
  },
  {
   "cell_type": "code",
   "execution_count": 47,
   "metadata": {},
   "outputs": [
    {
     "data": {
      "image/png": "[encoded data removed]",
      "text/plain": [
       "<Figure size 432x288 with 1 Axes>"
      ]
     },
     "metadata": {
      "needs_background": "light"
     },
     "output_type": "display_data"
    }
   ],
   "source": [
    "# Ingeven van de parameterwaarden\n",
    "\n",
    "k1=9.87\n",
    "k2=151.2\n",
    "\n",
    "V=1\n",
    "\n",
    "Mg=1\n",
    "\n",
    "thpin=0.05\n",
    "amidein=0.05\n",
    "\n",
    "\n",
    "# We kiezen tijdstippen om de oplossing over te berekenen, en kiezen het eindtijdstip groot, opdat de reactor zich tegen dat \n",
    "# tijdstip zeker ongeveer in de steady-state bevindt.\n",
    "\n",
    "tijdstippen = np.linspace(0,100,100)\n",
    "\n",
    "# De initiële condities\n",
    "\n",
    "thp0=0\n",
    "thpMgCl0=0\n",
    "amide0=0\n",
    "inter0=0\n",
    "\n",
    "\n",
    "init=[thp0,thpMgCl0,amide0,inter0]\n",
    "\n",
    "\n",
    "# Definiëren van het model\n",
    "\n",
    "def dxdt(x,tijd):\n",
    "    # We pakken de vector 'x' uit, en steken de waarden in de juiste variabelen.\n",
    "    thp,thpMgCl,amide,inter = x\n",
    "    # Vervolgens maken we een nieuwe vector, die berekent hoe de waarden voor elk van deze variabelen op het tijdstip\n",
    "    # 'tijd' verandert doorheen de tijd. We maken dus een vector met de rechterleden van het \n",
    "    # stelsel differentiaalvergelijkingen:\n",
    "    dxdt=[-k1*thp*Mg+Q/V*(thpin-thp),k1*thp*Mg-k2*amide*thpMgCl-Q/V*thpMgCl,-k2*amide*thpMgCl+Q/V*(amidein-amide),k2*amide*thpMgCl-Q/V*inter]\n",
    "    # Vervolgens geeft de functie de vector met de verandering van de waarden van de variabelen doorheen de tijd, op het\n",
    "    # tijdstip 'tijd', terug.\n",
    "    return dxdt\n",
    "\n",
    "   \n",
    "\n",
    "# We maken een vector met waarden voor Q waarbij we de yield in steady-state willen laten berekenen. We nemen 30 waarden voor \n",
    "# Q, tussen 0.1 en 20.\n",
    "\n",
    "Qs =  np.linspace(0.1,20,30)\n",
    "\n",
    "\n",
    "# Als we straks voor elke Q in \"Qs\" het model evalueren en de yield berekenen, willen we de waarde voor de yield ergens opslaan.\n",
    "# Daarom maken we een nieuwe vector \"ys\", die dezelfde lengte heeft als \"Qs\". Straks zullen we de bekomen yields telkens\n",
    "# opslaan op een andere plaats in de vector \"ys\".\n",
    "\n",
    "# De inhoud van de vector \"ys\" maakt voorlopig dus nog niet uit, omdat we de inhoud straks toch overschrijven met de \n",
    "# berekende yields. We kiezen hier voor een vector met nullen, via het Python-commando np.zeros(aantal), dat een vector met\n",
    "# een \"aantal\" nullen in maakt: bijvoorbeeld np.zeros(4)=[0,0,0,0]. Dit \"aantal\" moet gelijk zijn aan het aantal elementen in \"Qs\". \n",
    "# Het aantal elementen in \"Qs\" krijgen we via de Python-functie np.size(vector), die het aantal elementen in \"vector\" \n",
    "# terug geeft: bijvoorbeeld np.size([5,6,10])=3\n",
    "\n",
    "ys =  np.zeros(np.size(Qs))\n",
    "\n",
    "# De Python-functie range(einde) maakt een vector met oplopende getallen die begint bij 0 en eindigt bij \"einde\"-1: \n",
    "# bijvoorbeeld range(4)=[0,1,2,3]. Vervolgens maken we een for lus, die beurt voor beurt de variabele \"i\" alle waarden in\n",
    "# range(np.size(Qs)) laat aannemen\n",
    "\n",
    "for i in range(np.size(Qs)):\n",
    "    # Vervolgens laten we het debiet Q de \"i\"-de waarde in de vector met debieten Qs aannemen\n",
    "    Q = Qs[i]\n",
    "    # We berekenen de oplossing bij deze waarde voor Q\n",
    "    oplossing = odeint(dxdt,init,tijdstippen)\n",
    "    # We nemen de \"-1\"-ste waarde (dit betekent de laatste waarde) uit de 4-de kolom (maar python telt vanaf 0, dus we\n",
    "    # schrijven 3), want in deze kolom zitten de waarden voor de 4-de variabele, de concentratie intermediair.\n",
    "    intermediairEind = oplossing[-1,3]\n",
    "    # We berekenen de yield in steady-state bij deze Q, door de waarde voor de concentratie van het intermediair te delen\n",
    "    # door de hoeveelheid morpholine amide die de reactor in stroomt. De bekomen yield slaan we op in de \"i\"-de plaats\n",
    "    # in de vector ys.\n",
    "    ys[i] = intermediairEind/amidein\n",
    "    \n",
    "# vervolgens maken we een figuur, waarin we voor elk debiet de corresponderende yield uitzetten.  \n",
    "plt.plot(Qs,ys)\n",
    "plt.xlabel('Q [l/h]')\n",
    "plt.ylabel('Y')\n",
    "plt.show()"
   ]
  },
  {
   "cell_type": "markdown",
   "metadata": {},
   "source": [
    "We stellen vast dat de yield het hoogste is wanneer het debiet het laagste is, en we dus het meest efficiënt gebruik maken van morpholine amine door het debiet zo klein mogelijk te maken.\n",
    "\n",
    "* Er ontstaat echter een nieuw probleem wanneer we, om aan bovenstaande conclusie tegemoet te komen, het debiet zeer laag instellen! We hebben de reactor ontworpen met als doel intermediair te produceren. Hoeveel intermediair stroomt er per uur uit de reactor?\n",
    "\n",
    "De hoeveelheid mol intermediair dat per uur uit de reactor stroomt, wordt gegeven door $\\left[ \\text{intermediair} \\right] Q$. Wanneer we $Q$ dus heel laag instellen, komt er per uur maar weinig intermediair uit de reactor te voorschijn, wat niet efficiënt is!\n",
    "\n",
    "Laten we opnieuw een figuur maken, die voor verschillende debieten uitzet hoeveel mol intermediair er per uur uit de reactor stroomt.\n"
   ]
  },
  {
   "cell_type": "code",
   "execution_count": 54,
   "metadata": {},
   "outputs": [
    {
     "data": {
      "image/png": "[encoded data removed]",
      "text/plain": [
       "<Figure size 432x288 with 1 Axes>"
      ]
     },
     "metadata": {
      "needs_background": "light"
     },
     "output_type": "display_data"
    }
   ],
   "source": [
    "# Ingeven van de parameterwaarden\n",
    "\n",
    "k1=9.87\n",
    "k2=151.2\n",
    "\n",
    "V=1\n",
    "\n",
    "Mg=1\n",
    "\n",
    "thpin=0.05\n",
    "amidein=0.05\n",
    "\n",
    "\n",
    "# We kiezen tijdstippen om de oplossing over te berekenen, en kiezen het eindtijdstip groot, opdat de reactor zich tegen dat \n",
    "# tijdstip zeker ongeveer in de steady-state bevindt.\n",
    "\n",
    "tijdstippen = np.linspace(0,100,100)\n",
    "\n",
    "# De initiële condities\n",
    "\n",
    "thp0=0\n",
    "thpMgCl0=0\n",
    "amide0=0\n",
    "inter0=0\n",
    "\n",
    "\n",
    "init=[thp0,thpMgCl0,amide0,inter0]\n",
    "\n",
    "\n",
    "# Definiëren van het model\n",
    "\n",
    "def dxdt(x,tijd):\n",
    "    # We pakken de vector 'x' uit, en steken de waarden in de juiste variabelen.\n",
    "    thp,thpMgCl,amide,inter = x\n",
    "    # Vervolgens maken we een nieuwe vector, die berekent hoe de waarden voor elk van deze variabelen op het tijdstip\n",
    "    # 'tijd' verandert doorheen de tijd. We maken dus een vector met de rechterleden van het \n",
    "    # stelsel differentiaalvergelijkingen:\n",
    "    dxdt=[-k1*thp*Mg+Q/V*(thpin-thp),k1*thp*Mg-k2*amide*thpMgCl-Q/V*thpMgCl,-k2*amide*thpMgCl+Q/V*(amidein-amide),k2*amide*thpMgCl-Q/V*inter]\n",
    "    # Vervolgens geeft de functie de vector met de verandering van de waarden van de variabelen doorheen de tijd, op het\n",
    "    # tijdstip 'tijd', terug.\n",
    "    return dxdt\n",
    "\n",
    "   \n",
    "\n",
    "# We maken een vector met waarden voor Q waarbij we de yield in steady-state willen laten berekenen. We nemen 30 waarden voor \n",
    "# Q, tussen 0.1 en 20.\n",
    "\n",
    "Qs =  np.linspace(0.1,20,30)\n",
    "\n",
    "\n",
    "# Als we straks voor elke Q in \"Qs\" het model evalueren en berekenen hoeveel intermediair per uur uit de reactor stroomt, \n",
    "# willen we de waarde voor de yield ergens opslaan.\n",
    "# Daarom maken we een nieuwe vector \"ints\", die dezelfde lengte heeft als \"Qs\". Straks zullen we de bekomen intermediair per\n",
    "# uur telkens opslaan op een andere plaats in de vector \"ints\".\n",
    "\n",
    "# De inhoud van de vector \"ints\" maakt voorlopig dus nog niet uit, omdat we de inhoud straks toch overschrijven met de \n",
    "# berekende intermediair per uur. We kiezen hier voor een vector met nullen, via het Python-commando np.zeros(aantal),\n",
    "# dat een vector met een \"aantal\" nullen in maakt: bijvoorbeeld np.zeros(4)=[0,0,0,0]. Dit \"aantal\" moet gelijk zijn aan \n",
    "# het aantal elementen in \"Qs\". Het aantal elementen in \"Qs\" krijgen we via de Python-functie np.size(vector), die het \n",
    "# aantal elementen in \"vector\" terug geeft: bijvoorbeeld np.size([5,33,10])=3\n",
    "\n",
    "ints =  np.zeros(np.size(Qs))\n",
    "\n",
    "# De Python-functie range(einde) maakt een vector met oplopende getallen die begint bij 0 en eindigt bij \"einde\"-1: \n",
    "# bijvoorbeeld range(4)=[0,1,2,3]. Vervolgens maken we een for-lus, die beurt voor beurt de variabele \"i\" alle waarden in\n",
    "# range(np.size(Qs)) laat aannemen\n",
    "\n",
    "for i in range(np.size(Qs)):\n",
    "    # Vervolgens laten we het debiet Q de \"i\"-de waarde in de vector met debieten Qs aannemen\n",
    "    Q = Qs[i]\n",
    "    # We berekenen de oplossing bij deze waarde voor Q\n",
    "    oplossing = odeint(dxdt,init,tijdstippen)\n",
    "    # We nemen de \"-1\"-ste waarde (dit betekent de laatste waarde) uit de 4-de kolom (maar python telt vanaf 0, dus we\n",
    "    # schrijven 3), want in deze kolom zitten de waarden voor de 4-de variabele, de concentratie intermediair.\n",
    "    intermediairEind = oplossing[-1,3]\n",
    "    # We berekenen de intermediair per uur die de reactor verlaat bij deze Q, en slaan het resultaat op op de \"i\"-de plaats\n",
    "    # in de vector ints.\n",
    "    ints[i] = intermediairEind*Q\n",
    "\n",
    "# vervolgens maken we een figuur, waarin we voor elk debiet de corresponderende yield uitzetten.  \n",
    "plt.plot(Qs,ints)\n",
    "plt.xlabel('Q [l/h]')\n",
    "plt.ylabel('[intermediair] Q    [mol/h]')\n",
    "plt.show()"
   ]
  },
  {
   "cell_type": "markdown",
   "metadata": {},
   "source": [
    "Deze figuur laat zien dat de hoevelheid intermediair die per uur de reactor verlaat het grootst wordt bij debieten van $Q \\approx 10$! Hierbij zal echter veel morpholine amide verbruikt worden, omdat de yield hier zeer laag is, zoals uit ons voorgaand onderzoek bleek. Als controle-ingenieur moeten we hier dus een afweging maken, en rekening houden met verschillende kosten, zoals de prijs van morpholine amine, en de kost om de reactor draaiende te houden (want de reactor moet langer draaien om dezelfde hoeveelheid intermediair te produceren bij lager debiet). \n",
    "\n",
    "Uit deze verkennende studie van een optimalisatieprobleem blijkt reeds dat de dingen erg ingewikkeld kunnen worden, en dat er verschillende optimalisatie objectieven kunnen zijn die elk wat anders willen. Wat hier vooral opvalt, is de hulpvaardigheid van onze modellen! Stel je voor dat we bovenstaande figuren niet met behulp van een model en een computer konden maken, maar voor al die verschillende debieten werkelijk een experiment moesten opstellen, en de concentraties na hondert uur moesten gaan meten! \n",
    "\n",
    "Natuurlijk houden we in het achterhoofd dat ons model maar een benadering van de werkelijkheid is. We moeten, eens we op basis van de computer optimale settings voor de reactor hebben gevonden, echte experimenten gaan opzetten om de resultaten te bevestigen of ontkrachten. Maar de computer, en de modellen, helpen wel om bepaalde scenarios uit te sluiten, en andere naar voor te schuiven als potentieel interessante kandidaat-settings."
   ]
  },
  {
   "cell_type": "markdown",
   "metadata": {},
   "source": [
    "? ? Hoeveel intermediar in twee uur gevormd als het in steady state loopt? (Integraal) Hoe visueel weergeven?"
   ]
  },
  {
   "cell_type": "markdown",
   "metadata": {},
   "source": [
    "## 6.3- Warmteproductie in de reactor"
   ]
  },
  {
   "cell_type": "markdown",
   "metadata": {},
   "source": [
    "[Hoofdstuk 5](./H5-Warmte.ipynb) kan hier interessant geïllustreerd worden door de warmteproductie van bovenstaande exotherme reacties in de reactor te modelleren.\n",
    "\n",
    "Warmte levert temperatuursverandering:\n",
    "* Verlegt de k's (Zie arrhenius)\n",
    "* Mogelijk gevaar voor infrastructuur en veiligheid."
   ]
  },
  {
   "cell_type": "code",
   "execution_count": null,
   "metadata": {},
   "outputs": [],
   "source": []
  }
 ],
 "metadata": {
  "kernelspec": {
   "display_name": "Python 3",
   "language": "python",
   "name": "python3"
  },
  "language_info": {
   "codemirror_mode": {
    "name": "ipython",
    "version": 3
   },
   "file_extension": ".py",
   "mimetype": "text/x-python",
   "name": "python",
   "nbconvert_exporter": "python",
   "pygments_lexer": "ipython3",
   "version": "3.7.4"
  }
 },
 "nbformat": 4,
 "nbformat_minor": 2
}
