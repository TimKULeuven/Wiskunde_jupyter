{
 "cells": [
  {
   "cell_type": "code",
   "execution_count": 1,
   "metadata": {},
   "outputs": [],
   "source": [
    "# Voer dit blok code uit door met de cursor in het blok te klikken, en vervolgens SHIFT+ENTER in te drukken.\n",
    "\n",
    "import numpy as np\n",
    "from matplotlib import pyplot as plt\n",
    "from scipy.integrate import odeint\n",
    "\n",
    "from IPython.display import HTML\n",
    "from ipywidgets.widgets import interact, IntSlider, FloatSlider, Layout\n",
    "\n",
    "import sklearn.linear_model as lm\n",
    "\n",
    "\n",
    "%matplotlib inline\n",
    "\n",
    "style = {'description_width': '200px'}\n",
    "slider_layout = Layout(width='50%')"
   ]
  },
  {
   "cell_type": "markdown",
   "metadata": {},
   "source": [
    "# Hoofdstuk 3 - Populatiemodellen"
   ]
  },
  {
   "cell_type": "markdown",
   "metadata": {},
   "source": [
    "Beschouwen we een populatie organismen binnen een systeem, dan kan het aantal organismen binnen de systeemgrenzen vermeerderen of verminderen door immigratie, emigratie, of door geboorte en sterfte van individuen.\n",
    "\n",
    "<img src=\"figs/model_popu.png\" width=300 />\n",
    "\n",
    "Geboorte en sterfte binnen een populatie kunnen gemodelleerd worden met behulp van de intrinsieke geboorte-, $b\\,[\\text{d}^{-1}]$, en sterftecoëfficiënt, $d\\,[\\text{d}^{-1}]$, dewelke respectievelijk het verwachte aantal nakomelingen dat een individu per dag baart weergeeft, en de verwachte kans per dag dat een bepaald individu sterft. Men kan het inverse van deze parameters, $1/d\\,[\\text{d}]$ en $1/b\\,[\\text{d}]$, respectievelijk ook interpreteren als de levensverwachting van een individu, en de verwachte tijd tussen twee succesvolle zwangerschappen van een individu.\n",
    "\t\n",
    "Beschouwen we dan een systeem waarin een populatie van $N$ individuen huist, dan wordt het verwachte aantal nakomelingen per dag voor de hele populatie gegeven door $b N$, terwijl het verwachte aantal sterfgevallen per dag door $d N$. Dit stelt ons dan in staat om de populatie binnen een systeem waarin geen migratie plaatsvindt, te modelleren door\n",
    "\t\n",
    "$$\n",
    "\t\\dfrac{d N}{d t} = b N - d N = (b-d) N = r N, \\label{eq:modelPop}\n",
    "$$\n",
    "\t\n",
    "waar $r\\equiv b-d\\,[\\text{d}^{-1}]$ ook wel de intrinsieke groeisnelheid wordt genoemd."
   ]
  },
  {
   "cell_type": "markdown",
   "metadata": {},
   "source": [
    "## 3.1- De mediterraanse fruitvlieg "
   ]
  },
  {
   "cell_type": "markdown",
   "metadata": {},
   "source": [
    "Beschouwen we de mediterraanse fruitvlieg, *Ceratitis capitata*. In een laboratorium worden 20 van deze vliegen in een afgesloten omgeving met appels als voedingsbron geplaatst. Men meet een geboortecoëfficiënt $b=0.118$, en een sterftecoëfficiënt $d=0.039$. Stel een model op dat de evolutie van de populatiegrootte doorheen de tijd modelleert.\n",
    "\n",
    "De intrinsieke groeisnelheid wordt gegeven door $r\\equiv b-d = 0.118-0.039 = 0.079$. Lossen we nu het model,\n",
    "\n",
    "$$\n",
    "\\dfrac{d N}{d t} = r N,\n",
    "$$\n",
    "\n",
    "op met de initiële conditie $N(0) = 20$, dan vinden we\n",
    "\n",
    "\n",
    "$$\n",
    "\\begin{align}\n",
    "\\dfrac{d N}{d t} &= r N,\\\\\n",
    "\\dfrac{d N}{N} &= r dt,\\\\\n",
    "\\int_{N(0)}^{N(t)} \\dfrac{d N}{N} &= \\int_{0}^{t} r dt,\\\\\n",
    "\\left[\\ln(N)\\right]_{N(0)}^{N(t)} &= \\left[r t\\right]_{0}^{t},\\\\\n",
    "\\ln(N)-\\ln(N(0)) &= rt,\\\\\n",
    "\\ln(N) &= rt + \\ln(N(0)),\\\\\n",
    "N &= e^{rt + \\ln(N(0))},\\\\\n",
    "N &= N(0)e^{rt},\\\\\n",
    "\\end{align}\n",
    "$$\n",
    "\n",
    "met $N(0) = 20$ en $r= 0.079$. Deze oplossing wordt gegeven in onderstaande figuur."
   ]
  },
  {
   "cell_type": "code",
   "execution_count": null,
   "metadata": {},
   "outputs": [],
   "source": [
    "# We maken een interactieve figuur, waarop k wordt uitgezet ten opzichte van T, en waar we de parameters A en E_a kunnen\n",
    "# aanpassen met behulp van sliders\n",
    "\n",
    "# We geven alvast de gasconstante mee\n",
    "\n",
    "R = 8.314 \n",
    "\n",
    "# En maken een vector met temperaturen waarbij we k telkens willen uittekenen. Laten we 100 waarden tussen 200 en 400\n",
    "# kelvin kiezen.\n",
    "\n",
    "temperaturen= np.linspace(200,400,100)\n",
    "\n",
    "\n",
    "# De animatie functie neemt A en Ea als argument\n",
    "\n",
    "def animatie(A,Ea):\n",
    "    \n",
    "    \n",
    "    # we steken de functie voor k in Python. Als argument neemt zij de temperatuur T.\n",
    "    def k(T):\n",
    "        return A*np.exp(-Ea/(R*T))\n",
    "  \n",
    "    # Evalueren we k(T) bij onze vector met temperaturen.\n",
    "    \n",
    "    plt.plot(temperaturen,k(temperaturen))\n",
    "    \n",
    "\n",
    "    #plt.ylim(0,30)\n",
    "    \n",
    "    plt.xlabel('$T$ [K]')\n",
    "    plt.ylabel('$k$')\n",
    "    plt.show()\n",
    "    \n",
    "    \n",
    "# We gebruiken nu de ingebouwde Python-functie interact, die ons toelaat te interageren met onze functie \"animatie\", door\n",
    "# door sliders aan te maken.\n",
    "    \n",
    "interact(animatie,A=FloatSlider(min=10000, max=100000, step=10000, value=50000, description='$A$', layout=slider_layout)\n",
    "        , Ea=FloatSlider(min=10, max=40,step=5, value=20, description='$E_a$', layout=slider_layout));"
   ]
  },
  {
   "cell_type": "markdown",
   "metadata": {},
   "source": [
    "## 3.2- Ziekteverspreidingsmodellen"
   ]
  },
  {
   "cell_type": "markdown",
   "metadata": {},
   "source": [
    "### 3.2.1- Het SIR-model"
   ]
  },
  {
   "cell_type": "markdown",
   "metadata": {},
   "source": [
    "GAMMA INVERSE VAN HOE LANG JE ZIEK BENT\n",
    "\n",
    "S+I+R=N\n",
    "\n",
    "beta/N in vergelijking werken!\n",
    "\n",
    "Wanneer er een epidemie uitbreekt, is het belangrijk een wiskundig model op te stellen dat de verspreiding van de epidemie doorheen de tijd beschrijft. Een dergelijk model laat ons namelijk toe te voorspellen hoe hard de epidemie zal toeslaan, en hoe eventuele maatregelen het verloop van de epidemie zouden kunnen beïnvloeden.\n",
    "\n",
    "\n",
    "Het SIR-model is een erg populair ziekteverspreidingsmodel. Hier wordt een populatie, die uit $N$ personen bestaat, opgedeeld in een *Susceptible* (vatbare) groep, bestaande uit $S$ personen, een *Infected* (geïnfecteerde) groep, bestaande uit $I$ personen, en een *Resistant* (resistente) groep, bestaande uit $R$ personen. Om het model eenvoudig te houden, neemt men aan dat in de beschouwde tijdsperiode de populatie nauwelijks varieert door toedoen van migratie, geboorte of sterfte, en $N$ dus constant kan beschouwd worden.\n",
    "\n",
    "<img src=\"figs/model_sir.png\" width=500 />\n",
    "\t\n",
    "Een vatbaar persoon kan nu geïnfecteerd worden na contact met een geïnfecteerd persoon. Het aantal contacten tussen vatbare en geïnfecteerde personen is evenredig met hun aantal, dus $I S$, en een parameter $\\beta\\, \\left[\\text{d}^{-1}\\right]$, die het gemiddeld aantal contacten per persoon uitdrukt, vermenigvuldigd met de kans op besmetting wanneer een vatbaar en geïnfecteerd persoon contact hebben (stel vast dat je hier, net als in [Hoofdstuk 2 - Reactiekinetiek](./H2-Reactiekinetiek), de wet der massawerking kan ontwaren). \n",
    "\t\n",
    "Op een gegeven moment kan een geïnfecteerd persoon resistent worden, en in de $R$ groep terecht komen. De verandering van $R$ doorheen de tijd is evenredig met het aantal geïnfecteerde personen, $I$, en de snelheid waarmee men van geïnfecteerd naar $R$ over gaat, $\\gamma \\, \\left[\\text{d}^{-1}\\right]$.\n",
    "\t\n",
    "Modelleer met behulp van een stelsel differentiaalvergelijkingen de evolutie van het aantal vatbare, geïnfecteerde en resistente personen doorheen de tijd.\n",
    "\t\n",
    "Een persoon kan enkel uit de vatbare groep verwijderd worden door een besmetting, wat aan een snelheid $\\beta I S$ gebeurt. De verandering van het aantal vatbare personen doorheen de tijd wordt dan gegeven door\n",
    "\t\n",
    "$$\n",
    "\t\\dfrac{d S}{d t} = - \\beta I S,\n",
    "$$\n",
    "\t\n",
    "waar we vaststellen dat linker- en rechterlid inderdaad in eenheden $\\text{d}^{-1}$ staan. \n",
    "\t\n",
    "Na besmetting komen deze personen in de geïnfecteerde groep terecht, terwijl geïnfecteerde personen de groep kunnen verlaten door resistent te worden, wat aan een snelheid $\\gamma I$ gebeurt. We vinden dus\n",
    "\t\n",
    "$$\n",
    "\t\\dfrac{d I}{d t} =  \\beta I S - \\gamma I.\n",
    "$$\n",
    "\t\n",
    "De resistente groep wordt dus aangedikt aan een snelheid $\\gamma I$, wat tot volgende vergelijking leidt:\n",
    "\t\n",
    "$$\n",
    "\t\\dfrac{d R}{d t} =  \\gamma I.\n",
    "$$\n",
    "\n",
    "In onderstaande tabel worden de waarden voor $\\beta$ en $\\gamma$ voor enkele gekende ziekten weergegeven. Men moet er hier echter rekening mee houden dat dezelfde ziekte verschillende waarden voor $\\beta$ en $\\gamma$ kan opleveren, afhankelijk van de plaats waar de epidemie bestudeerd wordt. Men kan zich voorstellen dat $\\beta$ kleiner is in dunbevolkt gebied, en dat $\\gamma$ groter is op plaatsen met een goede gezondheidszorg. De waarden in onderstaande tabel zijn dus slechts geldig onder de omstandigheden waarin ze bekomen werden.\n",
    "\n",
    "\n",
    "\n",
    "| Ziekte | $\\beta$ [d$^{-1}$] | $\\gamma$ [d$^{-1}$] |\n",
    "| --- | --- | --- | \n",
    "| Waterpokken | 0.295 |0.284 |\n",
    "| Poliomyelitis | 0.873 |0.062 |\n",
    "| Influenza A/H1N1 | 0.394 | 0.295 |\n",
    "| Ebola | 0.211 | 0.109 |"
   ]
  },
  {
   "cell_type": "markdown",
   "metadata": {},
   "source": [
    "### 3.2.2- Numerieke oplossingen"
   ]
  },
  {
   "cell_type": "markdown",
   "metadata": {},
   "source": [
    "We weten hoe eenvoudige [differentiaalvergelijkingen](./T5-Differentiaalvergelijkingen/T5-Differentiaalvergelijkingen.ipynb) worden opgelost, maar zien ons hier geconfronteerd met een stelsel,\n",
    "\n",
    "$$\n",
    "\\begin{cases}\n",
    "      & \\dfrac{d S}{d t} = - \\beta I S,\\\\\n",
    "      & \\dfrac{d I}{d t} =  \\beta I S - \\gamma I,\\\\\n",
    "      & \\dfrac{d R}{d t} =  \\gamma I,\n",
    "    \\end{cases} \n",
    "$$\n",
    "\n",
    "waar allerlei interacties aan het werk zijn, en de waarde van bijvoorbeeld $I$ op een bepaald tijdstip, ook impact heeft op de verandering van $S$ in de toekomst. Er blijkt dat, hoewel modellen opstellen meestal een haalbare opdracht is, het oplossen van die modellen, die differentiaalvergelijkingen, vaak een onmogelijke taak is. Voor de meeste differentiaalvergelijkingen bestaat er geen hoop om ooit een exacte oplossing te bekomen, zelfs met behulp van de meest indrukwekkende toekomstige technologische of wiskundige ontwikkelingen. Is het idee van modelleren dan niet waardeloos, als we wel een model kunnen opstellen, maar niet moeten verwachten ooit de oplossing, en dus de voorspelling die het model doet, te kennen? Nee, omdat we, gebruik makend van computerkracht, goede numerieke *benaderingen* kunnen vinden van de werkelijke oplossing die we nooit zullen kennen. Deze oplossingen worden numeriek genoemd, omdat de computer ons als \"oplossing\" een tabel met getallen terug geeft, waarin de (benaderde) waarden voor $S$, $I$, en $R$ staan, op een reeks vooraf geselecteerde tijdstippen. Bemerk hier het verschil met het eenvoudige model voor de mediterraanse fruitvlieg, waarvoor we wel in staat waren de *analytische* oplossing $N = N(0)e^{rt}$ te vinden. Deze oplossing is exact juist, en kan steeds op eender welk tijdstip geëvalueerd worden door een waarde voor $t$ in te vullen.\n",
    "\n",
    "De algoritmes die de computer de nodige instructies geven om tot een goede numerieke oplossing te komen, zitten allemaal voorgeprogrammeerd in Python. Laten we een simulatie doen van een Ebola-epidemie, in een denkbeeldig land met $N=10^6$ inwoners, met behulp van de parameterwaarden uit bovenstaande tabel. Stel dat er initieel 100 mensen geïnfecteerd zijn, en er nog niemand resistent is."
   ]
  },
  {
   "cell_type": "code",
   "execution_count": 42,
   "metadata": {},
   "outputs": [
    {
     "data": {
      "image/png": "[encoded data removed]",
      "text/plain": [
       "<Figure size 432x288 with 1 Axes>"
      ]
     },
     "metadata": {
      "needs_background": "light"
     },
     "output_type": "display_data"
    }
   ],
   "source": [
    "# Geven we eerst de parameterwaarden mee aan de computer\n",
    "\n",
    "N=1000000\n",
    "beta=0.211\n",
    "gamma=0.109\n",
    "\n",
    "# En een aantal tijdstippen waarop we de (benaderde) waarden voor de variabelen S, I en R willen kennen.\n",
    "\n",
    "tijdstippen = np.linspace(0,200,100)\n",
    "\n",
    "# De initiële condities moeten ook meegegeven worden. We gebruiken hiervoor een vector met de waarden voor [S(0),I(0),R(0)]\n",
    "\n",
    "init=[N-100,100,0]\n",
    "\n",
    "# (hier is S(0)=N-I(0)-R(0)=N-100-0, omdat N=S(t)+I(t)+R(t))\n",
    "\n",
    "# Om de numerieke oplossing aan Python te vragen, maken we gebruik van de ingebouwde Python-functie \"odeint\". De ingebouwde \n",
    "# functie krijgt als argument onder meer een andere, door ons gebouwde, hulpfunctie mee, waarin de rechterleden van de\n",
    "# (het stelsel van) differentiaalvergelijking(en) die we wensen op te lossen, gecodeerd zit.\n",
    "\n",
    "# Deze hulpfunctie, die we hier 'dxdt' noemen, krijgt twee argumenten mee. Enerzijds een vector, 'x', met de waarden voor \n",
    "# de variabelen waarvoor we een oplossing zoeken (zijnde S, I en R), op een bepaald tijdstip, 'tijd'.\n",
    "\n",
    "def dxdt(x,tijd):\n",
    "        # We pakken de vector 'x', die hier drie waarden bevat (de waarde voor S op tijdstip 'tijd', de waarde voor I op \n",
    "        # tijdstip 'tijd', en de waarde voor R op tijdstip 'tijd') uit, en steken de waarden in de juiste variabelen.\n",
    "        S,I,R = x\n",
    "        # Vervolgens maken we een nieuwe vector, die berekent hoe de waarden voor elk van deze variabelen op het tijdstip\n",
    "        # 'tijd' verandert doorheen de tijd. We maken dus een vector met [dS/dt, dI/dt, dR/dt], door de rechterleden van het \n",
    "        # stelsel differentiaalvergelijkingen in te voeren:\n",
    "        dxdt=[-beta/N*I*S,beta/N*I*S-gamma*I,gamma*I]\n",
    "        # Vervolgens geeft de functie de vector met de verandering van de waarden van de variabelen doorheen de tijd, op het\n",
    "        # tijdstip 'tijd', terug.\n",
    "        return dxdt\n",
    "    \n",
    "    \n",
    "# Dan zijn we nu klaar om de Python-functie odeint te gebruiken. Zij heeft als argumenten de zelf gemaakte functie met de\n",
    "# rechterleden van de differentiaalvergelijking(en) nodig, evenals de initiële condities, en de tijdstippen waarop we een\n",
    "# numerieke oplossing willen bekomen:\n",
    "\n",
    "oplossing = odeint(dxdt,init,tijdstippen)\n",
    "    \n",
    "# We hebben nu een numerieke oplossing. Een tabel met, op elk tijdstip in de vector 'tijdstippen', de numerieke waarde voor \n",
    "# S, I en R. Indien gewenst, kan je deze even naar het scherm laten uitprinten:\n",
    "\n",
    "#print(oplossing)\n",
    "\n",
    "\n",
    "# Laten we een figuur maken, waarop de waarden in de drie kolommen, in een verschillende kleur, uitgezet worden tegen de\n",
    "# corresponderende tijdstippen. Hier moeten we nog een kleine verwarring overwinnen, want om de eerste kolom uit de tabel \n",
    "# 'oplossing' te halen, moeten we 'oplossing[:,0]' gebruiken, voor de tweede kolom 'oplossing[:,1]' en zo voort. Python\n",
    "# begint dus bij nul te tellen, in plaats van bij 1.\n",
    "\n",
    "\n",
    "plt.plot(tijdstippen, oplossing[:,0],'g',label='S') # 'g' staat voor green\n",
    "plt.plot(tijdstippen, oplossing[:,1],'r',label='I')\n",
    "plt.plot(tijdstippen, oplossing[:,2],'b',label='R')\n",
    "plt.legend(loc='upper left') # We vragen om de legende in de linkerbovenhoek te plaatsen\n",
    "plt.ylim(0,N)\n",
    "plt.xlabel('t [d]')\n",
    "plt.title('Het verloop van een Ebola epidemie, bij $β=0.211$ en $γ=0.109$')\n",
    "plt.show()\n"
   ]
  },
  {
   "cell_type": "markdown",
   "metadata": {},
   "source": [
    "ENKELE VRAGEN BIJ INTERPRETATIE VOORGAANDE FIGUUR (blijft altijd N, trage aanzet,)\n",
    "\n",
    "Laten we een interactieve figuur maken, die ons toelaat de de impact van parameterwaarden $\\beta$ en $\\gamma$ te onderzoeken. We behouden $N=1000000$ en $R(0)=0$, maar staan toe dat de andere waarden gevarieerd kunnen worden."
   ]
  },
  {
   "cell_type": "code",
   "execution_count": 47,
   "metadata": {},
   "outputs": [
    {
     "data": {
      "application/vnd.jupyter.widget-view+json": {
       "model_id": "4668d3e5834744b2b7ee5999a8f98701",
       "version_major": 2,
       "version_minor": 0
      },
      "text/plain": [
       "interactive(children=(FloatSlider(value=0.5, description='$β$', layout=Layout(width='50%'), max=1.0, min=0.2, …"
      ]
     },
     "metadata": {},
     "output_type": "display_data"
    }
   ],
   "source": [
    "N=1000000\n",
    "tijdstippen = np.linspace(0,200,100)\n",
    "\n",
    "# We maken een 'animatie' functie, die ons toelaat beta, gamma en I(0) te variëren met een slider.\n",
    "\n",
    "def animatie(beta,gamma,I0): \n",
    "    \n",
    "    # Binnen de 'animatie' functie herhalen we wat we hierboven gedaan hebben. We berekenen op basis van gamma, beta en I(0)\n",
    "    # een numerieke oplossing voor de variabelen S, I en R.\n",
    "    \n",
    "    init=[N-I0,I0,0]            \n",
    "\n",
    "\n",
    "    def dxdt(x,tijd):   \n",
    "        S,I,R = x\n",
    "        dxdt=[-beta/N*I*S,beta/N*I*S-gamma*I,gamma*I]\n",
    "        return dxdt\n",
    "\n",
    "\n",
    "    oplossing = odeint(dxdt,init,tijdstippen)\n",
    "\n",
    "\n",
    "    \n",
    "    plt.plot(tijdstippen, oplossing[:,0],'g',label='S') # 'g' staat voor green\n",
    "    plt.plot(tijdstippen, oplossing[:,1],'r',label='I')\n",
    "    plt.plot(tijdstippen, oplossing[:,2],'b',label='R')\n",
    "    plt.legend(loc='upper left') # We vragen om de legende in de linkerbovenhoek te plaatsen\n",
    "    plt.ylim(0,N)\n",
    "    plt.xlabel('t [d]')\n",
    "    plt.show()\n",
    "\n",
    "    \n",
    "interact(animatie\n",
    "        , beta=FloatSlider(min=0.2, max=1, step=0.1, value=0.5, description='$β$', style=style, layout=slider_layout)\n",
    "        , gamma=FloatSlider(min=0.05, max=0.3, step=0.05, value=0.2, description='$γ$', style=style, layout=slider_layout)\n",
    "        , I0=FloatSlider(min=100, max=1000, step=100, value=200, description='$I(0)$', style=style, layout=slider_layout));"
   ]
  },
  {
   "cell_type": "markdown",
   "metadata": {},
   "source": [
    "* Hoe moeten we de impact van $\\beta$, $\\gamma$ en $I(0)$ op het verloop van de epidemie interpreteren?\n",
    "* Tijdens de COVID-19 pandemie werden social distancing maatregelen opgelegd. Welke parameterwaarde wordt hierdoor beïnvloed?\n",
    "* Op basis van modellen vermoedde men dat deze maatregelen een *flatten the curve*-effect zouden veroorzaken, en dat deden ze ook. Is dit inderdaad wat we zien op basis van ons SIR-model?\n",
    "* Men heeft tijdens de COVID-19 pandemie, bij momenten, geprobeerd om veel te testen, opdat mensen die geïnfecteerd zijn hiervan snel op de hoogte kunnen worden gesteld, en zich tijdelijk uit de maatschappij zouden kunnen terugtrekken. Hoe beïnvloedt dit ons model?\n",
    "\n",
    "Wanneer het aantal contacten tussen mensen, en dus de parameter $\\beta$, kleiner wordt, verspreidt de ziekte zich langzamer. Bovendien worden er in totaal minder mensen ziek, wat we vaststellen door het aantal vatbare mensen te beschouwen wanneer de epidemie voorbij is. Men stelt vast dat de curve die het aantal zieke (geïnfecteerde) mensen voorstelt, uitgesmeerd wordt indien $\\beta$ verkleint. De hoogte van de piek wordt kleiner, en de druk op de gezondheidszorg verlaagt.\n",
    "\n",
    "De inverse van $\\gamma$ geeft aan hoe lang mensen ziek en besmettelijk blijven. Hoe groter $1/\\gamma$, en dus hoe kleiner $\\gamma$, hoe meer tijd geïnfecteerde mensen hebben om vatbare personen te besmetten. Wanneer $\\gamma$ klein is, zien we dat de epidemie zich zeer snel verspreidt. Indien we er in slagen geïnfecteerde mensen snel in te lichten over hun infectie, en ze aan kunnen raden tijdelijk in zelf-isolatie te gaan, zouden we ons model kunnen aanpassen zodat $\\gamma$ groter wordt, omdat de tijd die geïnfecteerde mensen hebben om vatbare mensen te besmetten, korter wordt.\n",
    "\n",
    "INITIELE CONDITIE WEG?"
   ]
  },
  {
   "cell_type": "markdown",
   "metadata": {},
   "source": [
    "### 3.2.3- COVID-19"
   ]
  },
  {
   "cell_type": "markdown",
   "metadata": {},
   "source": [
    "INITIELE CONDITIE?\n",
    "\n",
    "Laten we de COVID-19 epidemie in België ($N=11476279$) beschouwen. Initieel was er over het virus weinig geweten. Om modellen prognoses te kunnen laten maken, en de impact van eventuele maatregelen te kunnen gaan voorspellen, was het essentieel om snel, op basis van metingen, de parameters $\\gamma$ en $\\beta$ te schatten.\n",
    "\n",
    "In onderstaand blok code worden het aantal geïnfecteerde en resistente mensen, tussen 6 maart en 5 april 2020, in België, gerapporteerd. We zetten deze data uit, en leggen er een interactief SIR-model op, zodat we, op het zicht, de waarden voor $\\gamma$ en $\\beta$ kunnen schatten die het best bij de metingen aansluiten."
   ]
  },
  {
   "cell_type": "code",
   "execution_count": 50,
   "metadata": {},
   "outputs": [
    {
     "data": {
      "application/vnd.jupyter.widget-view+json": {
       "model_id": "b47d5c2737d1460d814e337cec48dee8",
       "version_major": 2,
       "version_minor": 0
      },
      "text/plain": [
       "interactive(children=(FloatSlider(value=0.2, description='$β$', layout=Layout(width='50%'), max=0.3, min=0.1, …"
      ]
     },
     "metadata": {},
     "output_type": "display_data"
    }
   ],
   "source": [
    "N=11476279\n",
    "\n",
    "meettijdstippen=[1,2,3,4,5,6,7,8,9,10,11,12,13,14,15,16,17,18,19,20,21,22,23,24,25,26,27,28,29,30,31]\n",
    "gemetenI=[108,168,199,238,266,310,310,555,684,881,1052,1232,1441,1743,2189,2485,3063,3392,3686,4212,5340,6137,7718,9046,9859,10374,11004,11842,12755,13901,14493]\n",
    "gemetenR=[1,1,1,1,1,4,4,4,5,5,6,11,45,52,68,330,338,351,583,725,895,1147,1416,1790,2040,2401,2960,3506,4015,4530,5198]\n",
    "\n",
    "\n",
    "\n",
    "def animatie(beta,gamma,I0): \n",
    "    \n",
    "    init=[N-I0,I0,0]            #initiële condities in vector formaat\n",
    "\n",
    "\n",
    "\n",
    "\n",
    "    def dXdt(x,tijd):              #functie die de afgeleiden berekend voor de toestanden x=[a,e,ae,s] op een tijdstip tijd\n",
    "        S,I,R = x\n",
    "        dxdt=[-beta/N*I*S,beta/N*I*S-gamma*I,gamma*I]\n",
    "        return dxdt\n",
    "\n",
    "\n",
    "\n",
    "    tijd = np.linspace(0,31,100)   #tijdstippen waarop we de toestanden willen berekenen, tijd=[0,0.1,0.2,...,10]\n",
    "\n",
    "    oplossing = odeint(dXdt,init,tijd) #de functie odeint berekent de numerieke benadering van de analytische oplossing, \n",
    "                                       #voor initiële condities init, op de tijdstippen tijd.\n",
    "\n",
    "\n",
    "    plt.plot(meettijdstippen,gemetenI,marker='*',linestyle='none',color='red',label='I data')\n",
    "    plt.plot(meettijdstippen,gemetenR,marker='*',linestyle='none',color='blue',label='R data')\n",
    "    plt.plot(tijd, oplossing[:,1],'r-',label='I')\n",
    "    plt.plot(tijd, oplossing[:,2],'b-',label='R')\n",
    "    plt.legend(loc='upper left')\n",
    "    plt.ylim(0,15000)\n",
    "    plt.xlabel('t [d]')\n",
    "    plt.show()\n",
    "    \n",
    "interact(animatie\n",
    "        , beta=FloatSlider(min=0.1, max=0.3, step=0.05, value=0.2, description='$β$', style=style, layout=slider_layout)\n",
    "        , gamma=FloatSlider(min=0.01, max=0.04, step=0.005, value=0.02, description='$γ$', style=style, layout=slider_layout)\n",
    "        , I0=FloatSlider(min=100, max=1000, step=100, value=200, description='$I(0)$', style=style, layout=slider_layout));"
   ]
  },
  {
   "cell_type": "code",
   "execution_count": 51,
   "metadata": {},
   "outputs": [
    {
     "data": {
      "image/png": "[encoded data removed]",
      "text/plain": [
       "<Figure size 432x288 with 1 Axes>"
      ]
     },
     "metadata": {
      "needs_background": "light"
     },
     "output_type": "display_data"
    }
   ],
   "source": [
    "N=11476279\n",
    "\n",
    "beta=0.228756669307\n",
    "gamma=0.03458\n",
    "\n",
    "I0=108\n",
    "R0=1\n",
    "\n",
    "meettijdstippen=[1,2,3,4,5,6,7,8,9,10,11,12,13,14,15,16,17,18,19,20,21,22,23,24,25,26,27,28,29,30,31]\n",
    "gemetenI=[108,168,199,238,266,310,310,555,684,881,1052,1232,1441,1743,2189,2485,3063,3392,3686,4212,5340,6137,7718,9046,9859,10374,11004,11842,12755,13901,14493]\n",
    "gemetenR=[1,1,1,1,1,4,4,4,5,5,6,11,45,52,68,330,338,351,583,725,895,1147,1416,1790,2040,2401,2960,3506,4015,4530,5198]\n",
    "\n",
    "init=[N-I0-R0,I0,R0]            #initiële condities in vector formaat\n",
    "\n",
    "\n",
    "\n",
    "\n",
    "def dXdt(x,tijd):              #functie die de afgeleiden berekend voor de toestanden x=[a,e,ae,s] op een tijdstip tijd\n",
    "    S,I,R = x\n",
    "    dxdt=[-beta/N*I*S,beta/N*I*S-gamma*I,gamma*I]\n",
    "    return dxdt\n",
    "\n",
    "\n",
    "\n",
    "tijd = np.linspace(0,31,100)   #tijdstippen waarop we de toestanden willen berekenen, tijd=[0,0.1,0.2,...,10]\n",
    "\n",
    "oplossing = odeint(dXdt,init,tijd) #de functie odeint berekent de numerieke benadering van de analytische oplossing, \n",
    "                                       #voor initiële condities init, op de tijdstippen tijd.\n",
    "\n",
    "\n",
    "plt.plot(meettijdstippen,gemetenI,marker='*',linestyle='none',color='red',label='I data')\n",
    "plt.plot(meettijdstippen,gemetenR,marker='*',linestyle='none',color='blue',label='R data')\n",
    "plt.plot(tijd, oplossing[:,1],'r-',label='I')\n",
    "plt.plot(tijd, oplossing[:,2],'b-',label='R')\n",
    "plt.legend(loc='upper left')\n",
    "plt.ylim(0,15000)\n",
    "plt.xlabel('t [d]')\n",
    "plt.show()"
   ]
  },
  {
   "cell_type": "code",
   "execution_count": null,
   "metadata": {},
   "outputs": [],
   "source": []
  }
 ],
 "metadata": {
  "kernelspec": {
   "display_name": "Python 3",
   "language": "python",
   "name": "python3"
  },
  "language_info": {
   "codemirror_mode": {
    "name": "ipython",
    "version": 3
   },
   "file_extension": ".py",
   "mimetype": "text/x-python",
   "name": "python",
   "nbconvert_exporter": "python",
   "pygments_lexer": "ipython3",
   "version": "3.7.4"
  }
 },
 "nbformat": 4,
 "nbformat_minor": 2
}
